{
 "cells": [
  {
   "cell_type": "markdown",
   "id": "57bd7c26",
   "metadata": {},
   "source": [
    "### File Handling in Python\n",
    "* File can be accessed from a python for reading the data from a file and writting the data into a file.\n",
    "\n",
    "#### Opening a file in python\n",
    "* open() function returns a file object using which other file operations like reading, writting and closing the file are done.\n",
    "* Syntax: file_object = open(file_name_path, [, access_mode])\n",
    "  Where, file_name_path - Path of the file to be opened\n",
    "  access+mode - Mode in which the file has to be opened which is optional, if not specified default value will be read.\n",
    "  file_object - Object returned by open method which is used for further file operations\n",
    " \n",
    "* **Access_mode:**\n",
    "1. r - Specified file is opened in read mode, if the file exists. O.w. if the file does not exist it will throw an error.\n",
    "2. w - Specified file is opened in write mode, if the file exists.then the content in the file is truncated o.w. if the file does not exist it will create a new file and open it for writting.\n",
    "3. a - Specified file is opened in write mode, if the file exists.then the content in the file is preserved. o.w. if the file does not exist it will create a new file and open it for appending.\n",
    "4. r+ - read and write\n",
    "5. w+ - write and read (overwrites existing or create new one)\n",
    "\n",
    "* Ex: file = open(\"data.txt\",\"r\")\n",
    "\n",
    "#### Closing a file\n",
    "* close() function closes a file\n",
    "* Syntax: file_object.close()\n",
    "* Ex: file.close()\n",
    "\n",
    "#### Reading a single line:\n",
    "* Python provides readline() function to read the single line from the file at a time. \n",
    "* When the end of file reached it returns an empty string.\n",
    "* Syntax: var_name = file_object.readline()\n",
    "* Example:"
   ]
  },
  {
   "cell_type": "code",
   "execution_count": 1,
   "id": "3c04729a",
   "metadata": {},
   "outputs": [
    {
     "name": "stdout",
     "output_type": "stream",
     "text": [
      "this is first line \n",
      " you are reading a second line \n",
      " now you are reading the third line "
     ]
    }
   ],
   "source": [
    "file = open(\"data.txt\",\"w\") #file created\n",
    "file.write(\"this is first line \\nyou are reading a second line \\nnow you are reading the third line\") #data inserted\n",
    "file = open(\"data.txt\",\"r\") #file in read mode only\n",
    "line1 = file.readline() #data readed line by line\n",
    "print(line1,end=' ')\n",
    "line2 = file.readline()\n",
    "print(line2,end=' ')\n",
    "line3 = file.readline()\n",
    "print(line3,end=' ')\n",
    "file.close() # file closed"
   ]
  },
  {
   "cell_type": "code",
   "execution_count": 2,
   "id": "a84fbbee",
   "metadata": {},
   "outputs": [
    {
     "data": {
      "text/plain": [
       "'this is first line \\nyou are reading a second line \\nnow you are reading the third line'"
      ]
     },
     "execution_count": 2,
     "metadata": {},
     "output_type": "execute_result"
    }
   ],
   "source": [
    "file1 = open(\"data.txt\",\"r\")\n",
    "file1.read()"
   ]
  },
  {
   "cell_type": "code",
   "execution_count": 3,
   "id": "8bce9ce5",
   "metadata": {},
   "outputs": [
    {
     "data": {
      "text/plain": [
       "''"
      ]
     },
     "execution_count": 3,
     "metadata": {},
     "output_type": "execute_result"
    }
   ],
   "source": [
    "file1.read()"
   ]
  },
  {
   "cell_type": "markdown",
   "id": "c9dd1d11",
   "metadata": {},
   "source": [
    "### To avoid this use .seek(0) method to return cursor to start position"
   ]
  },
  {
   "cell_type": "code",
   "execution_count": 7,
   "id": "eddb15b7",
   "metadata": {},
   "outputs": [
    {
     "data": {
      "text/plain": [
       "0"
      ]
     },
     "execution_count": 7,
     "metadata": {},
     "output_type": "execute_result"
    }
   ],
   "source": [
    "file1.seek(0)"
   ]
  },
  {
   "cell_type": "code",
   "execution_count": 5,
   "id": "0ebe3a66",
   "metadata": {},
   "outputs": [
    {
     "data": {
      "text/plain": [
       "'this is first line \\nyou are reading a second line \\nnow you are reading the third line'"
      ]
     },
     "execution_count": 5,
     "metadata": {},
     "output_type": "execute_result"
    }
   ],
   "source": [
    "file1.read()"
   ]
  },
  {
   "cell_type": "code",
   "execution_count": 8,
   "id": "d6d9c1ca",
   "metadata": {},
   "outputs": [
    {
     "data": {
      "text/plain": [
       "['this is first line \\n',\n",
       " 'you are reading a second line \\n',\n",
       " 'now you are reading the third line']"
      ]
     },
     "execution_count": 8,
     "metadata": {},
     "output_type": "execute_result"
    }
   ],
   "source": [
    "file1.readlines()"
   ]
  },
  {
   "cell_type": "code",
   "execution_count": 9,
   "id": "fecd713a",
   "metadata": {},
   "outputs": [],
   "source": [
    "file1.close()"
   ]
  },
  {
   "cell_type": "markdown",
   "id": "02b5ff01",
   "metadata": {},
   "source": [
    "#### reading the content of a file into a string:\n",
    "* Python provides read(size) function to read the specified size(number) of characters from the file as a string into a variable.\n",
    "* if not specified then entire content of file is read as string into a variable.\n",
    "* Syntax: var_name = file_object.read(size)\n"
   ]
  },
  {
   "cell_type": "code",
   "execution_count": 10,
   "id": "95b5eb8b",
   "metadata": {},
   "outputs": [
    {
     "name": "stdout",
     "output_type": "stream",
     "text": [
      "----------------Output with specified size----------------\n",
      "this is fi\n",
      "----------------Output without specifying size---------------------\n",
      "this is first line \n",
      "you are reading a second line \n",
      "now you are reading the third line\n"
     ]
    }
   ],
   "source": [
    "print(\"----------------Output with specified size----------------\")\n",
    "file = open(\"data.txt\",\"r\")\n",
    "data = file.read(10)\n",
    "print(data)\n",
    "file.close()\n",
    "\n",
    "print(\"----------------Output without specifying size---------------------\")\n",
    "file = open(\"data.txt\",\"r\")\n",
    "data = file.read()\n",
    "print(data)\n",
    "file.close()"
   ]
  },
  {
   "cell_type": "markdown",
   "id": "2c55194b",
   "metadata": {},
   "source": [
    "#### To avoid closing of file"
   ]
  },
  {
   "cell_type": "code",
   "execution_count": 12,
   "id": "9cbeb7c1",
   "metadata": {},
   "outputs": [
    {
     "data": {
      "text/plain": [
       "'this is first line \\nyou are reading a second line \\nnow you are reading the third line'"
      ]
     },
     "execution_count": 12,
     "metadata": {},
     "output_type": "execute_result"
    }
   ],
   "source": [
    "with open(\"data.txt\",\"r\") as my_file:\n",
    "    content = my_file.read()\n",
    "\n",
    "content"
   ]
  },
  {
   "cell_type": "markdown",
   "id": "8507b80c",
   "metadata": {},
   "source": [
    "### writting file"
   ]
  },
  {
   "cell_type": "code",
   "execution_count": 14,
   "id": "0337e3af",
   "metadata": {},
   "outputs": [
    {
     "data": {
      "text/plain": [
       "'this is first line \\nyou are reading a second line \\nnow you are reading the third lineThis is 4th lineThis is 4th line'"
      ]
     },
     "execution_count": 14,
     "metadata": {},
     "output_type": "execute_result"
    }
   ],
   "source": [
    "with open(\"data.txt\",\"a\") as file2:\n",
    "    file2.write(\"This is 4th line\")\n",
    "\n",
    "with open(\"data.txt\",\"r\") as file3:\n",
    "    cont = file3.read()\n",
    "    \n",
    "cont"
   ]
  },
  {
   "cell_type": "code",
   "execution_count": null,
   "id": "29e80346",
   "metadata": {},
   "outputs": [],
   "source": []
  }
 ],
 "metadata": {
  "kernelspec": {
   "display_name": "Python 3 (ipykernel)",
   "language": "python",
   "name": "python3"
  },
  "language_info": {
   "codemirror_mode": {
    "name": "ipython",
    "version": 3
   },
   "file_extension": ".py",
   "mimetype": "text/x-python",
   "name": "python",
   "nbconvert_exporter": "python",
   "pygments_lexer": "ipython3",
   "version": "3.9.12"
  }
 },
 "nbformat": 4,
 "nbformat_minor": 5
}
