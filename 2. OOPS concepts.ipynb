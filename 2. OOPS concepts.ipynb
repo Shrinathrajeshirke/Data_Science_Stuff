{
 "cells": [
  {
   "cell_type": "markdown",
   "id": "1b1aa29a",
   "metadata": {},
   "source": [
    "## OOPS concepts in python\n",
    "* Class\n",
    "* Objects\n",
    "* Polymorphism\n",
    "* Encapsulation\n",
    "* Inheritance\n",
    "* Data abstraction"
   ]
  },
  {
   "cell_type": "markdown",
   "id": "95bb41b5",
   "metadata": {},
   "source": [
    "#### Class\n",
    "\n",
    "A class is a collection of objects. A class contains the blueprints or the prototype from which the objects are being created.\n",
    "\n",
    "* Classes are created by keyword class.\n",
    "* Attributes are the variables that belong to a class.\n",
    "* Attributes are always public and can be accessed using the dot (.) operator. Eg.: Myclass.Myattribute\n",
    "\n",
    "* Syntax:\n",
    "\n",
    "class ClassName: \\\n",
    ">    statement 1 \\\n",
    ">    statement 2 \\\n",
    ">    . \\\n",
    ">    . \\\n",
    ">    . "
   ]
  },
  {
   "cell_type": "code",
   "execution_count": 1,
   "id": "acf5fb75",
   "metadata": {},
   "outputs": [],
   "source": [
    "# null class\n",
    "class dog:\n",
    "    pass"
   ]
  },
  {
   "cell_type": "markdown",
   "id": "def2ab4e",
   "metadata": {},
   "source": [
    "#### Objects\n",
    "\n",
    "The object is an entity that has a state and behavior associated with it.\n",
    "\n",
    "An object consists of: \n",
    "\n",
    "* State: It is represented by the attributes of an object. It also reflects the properties of an object. (what action object is performing like sleeping, talking, etc.)\n",
    "* Behavior: It is represented by the methods of an object. It also reflects the response of an object to other objects. (properties or characteristics like color, shape, etc.)\n",
    "* Identity: It gives a unique name to an object and enables one object to interact with other objects. (name)"
   ]
  },
  {
   "cell_type": "code",
   "execution_count": 2,
   "id": "dd85d51a",
   "metadata": {},
   "outputs": [],
   "source": [
    "#creating an object\n",
    "obj = dog()"
   ]
  },
  {
   "cell_type": "markdown",
   "id": "02395233",
   "metadata": {},
   "source": [
    "#### The Python self  \n",
    "\n",
    "1. Class methods must have an extra first parameter in the method definition. We do not give a value for this parameter when we call the method, Python provides it\n",
    "2. If we have a method that takes no arguments, then we still have to have one argument.\n",
    "\n",
    "#### The Python __init__ Method \n",
    "\n",
    "The __init__ method is similar to constructors in C++ and Java. It is run as soon as an object of a class is instantiated. The method is useful to do any initialization you want to do with your object."
   ]
  },
  {
   "cell_type": "code",
   "execution_count": 3,
   "id": "b86b4d61",
   "metadata": {},
   "outputs": [
    {
     "name": "stdout",
     "output_type": "stream",
     "text": [
      "Roger\n",
      "14\n",
      "woof!\n"
     ]
    }
   ],
   "source": [
    "class dog:\n",
    "    def __init__(self,name,age):\n",
    "        self.name = name\n",
    "        self.age = age\n",
    "        \n",
    "    def bark(self):\n",
    "        print(\"woof!\")\n",
    "    \n",
    "roger = dog(\"Roger\",14)\n",
    "print(roger.name)\n",
    "print(roger.age)\n",
    "\n",
    "roger.bark()"
   ]
  },
  {
   "cell_type": "markdown",
   "id": "823fdeb6",
   "metadata": {},
   "source": [
    "#### Python Inheritance\n",
    "\n",
    "Inheritance is the capability of one class to derive or inherit the properties from another class. The class that derives properties is called the derived class or child class and the class from which the properties are being derived is called the base class or parent class. The benefits of inheritance are:\n",
    "\n",
    "1. It represents real-world relationships well.\n",
    "2. It provides the reusability of a code. We don’t have to write the same code again and again. Also, it allows us to add more features to a class without modifying it.\n",
    "3. It is transitive in nature, which means that if class B inherits from another class A, then all the subclasses of B would automatically inherit from class A.\n",
    "\n",
    "**Types of Inheritance**\n",
    "\n",
    "1. Single Inheritance: Single-level inheritance enables a derived class to inherit characteristics from a single-parent class.\n",
    "2. Multilevel Inheritance: Multi-level inheritance enables a derived class to inherit properties from an immediate parent class which in turn inherits properties from his parent class. \n",
    "3. Hierarchical Inheritance: Hierarchical-level inheritance enables more than one derived class to inherit properties from a parent class.\n",
    "4. Multiple Inheritance: Multiple-level inheritance enables one derived class to inherit properties from more than one base class."
   ]
  },
  {
   "cell_type": "code",
   "execution_count": 4,
   "id": "c847e04b",
   "metadata": {},
   "outputs": [
    {
     "name": "stdout",
     "output_type": "stream",
     "text": [
      "Roger\n",
      "14\n",
      "woof!\n",
      "walking................\n"
     ]
    }
   ],
   "source": [
    "class animal:\n",
    "    def walk(self):\n",
    "        print(\"walking................\")\n",
    "\n",
    "class dog(animal):\n",
    "    def __init__(self,name,age):\n",
    "        self.name = name\n",
    "        self.age = age\n",
    "        \n",
    "    def bark(self):\n",
    "        print(\"woof!\")\n",
    "    \n",
    "roger = dog(\"Roger\",14)\n",
    "print(roger.name)\n",
    "print(roger.age)\n",
    "\n",
    "roger.bark()\n",
    "roger.walk()"
   ]
  },
  {
   "cell_type": "markdown",
   "id": "f13889c9",
   "metadata": {},
   "source": [
    "## Polymorphism\n",
    "\n",
    "We've learned that while functions can take in different arguments, methods belong to the objects they act on. In Python, *polymorphism* refers to the way in which different object classes can share the same method name, and those methods can be called from the same place even though a variety of different objects might be passed in. The best way to explain this is by example:"
   ]
  },
  {
   "cell_type": "code",
   "execution_count": 1,
   "id": "59adbe7c",
   "metadata": {},
   "outputs": [
    {
     "name": "stdout",
     "output_type": "stream",
     "text": [
      "Niko says Woof!\n",
      "Felix says Meow!\n"
     ]
    }
   ],
   "source": [
    "class Dog:\n",
    "    def __init__(self, name):\n",
    "        self.name = name\n",
    "\n",
    "    def speak(self):\n",
    "        return self.name+' says Woof!'\n",
    "    \n",
    "class Cat:\n",
    "    def __init__(self, name):\n",
    "        self.name = name\n",
    "\n",
    "    def speak(self):\n",
    "        return self.name+' says Meow!' \n",
    "    \n",
    "niko = Dog('Niko')\n",
    "felix = Cat('Felix')\n",
    "\n",
    "print(niko.speak())\n",
    "print(felix.speak())"
   ]
  },
  {
   "cell_type": "code",
   "execution_count": null,
   "id": "7113ecea",
   "metadata": {},
   "outputs": [],
   "source": []
  }
 ],
 "metadata": {
  "kernelspec": {
   "display_name": "Python 3 (ipykernel)",
   "language": "python",
   "name": "python3"
  },
  "language_info": {
   "codemirror_mode": {
    "name": "ipython",
    "version": 3
   },
   "file_extension": ".py",
   "mimetype": "text/x-python",
   "name": "python",
   "nbconvert_exporter": "python",
   "pygments_lexer": "ipython3",
   "version": "3.9.12"
  }
 },
 "nbformat": 4,
 "nbformat_minor": 5
}
