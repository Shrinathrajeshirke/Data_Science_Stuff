{
 "cells": [
  {
   "cell_type": "markdown",
   "id": "41a6703a",
   "metadata": {},
   "source": [
    "### Linear Algebra\n",
    "\n",
    "* Linear Algebra is the any entity that includes any non-numerical entities like x: ex - 2x + 5\n",
    "* Solving for unknowns within system of linear equations\n",
    "* There are only 3 types of solutions in LA - one, no and infinite \n",
    "* In given system of equations:\n",
    "1. There could be many equations\n",
    "2. There could be many unknowns in each equations\n",
    "* Applications:\n",
    "1. Solving for unknows in ML and DL\n",
    "2. Reducing dimenionality (PCA - Principal Component Analysis)\n",
    "3. Ranking results with eignevectors\n",
    "4. Recommmendors (SVD i.e. singular value decomposition)\n",
    "5. NLP (SVD, Matrix factorization)\n",
    "    1. Topic modelling\n",
    "    2. Symmentic analysis"
   ]
  },
  {
   "cell_type": "markdown",
   "id": "7e022ecd",
   "metadata": {},
   "source": [
    "### Graphical representation of linear equations"
   ]
  },
  {
   "cell_type": "code",
   "execution_count": 1,
   "id": "e1180e34",
   "metadata": {},
   "outputs": [
    {
     "name": "stdout",
     "output_type": "stream",
     "text": [
      "importing libraries\n",
      "done\n"
     ]
    }
   ],
   "source": [
    "print(\"importing libraries\")\n",
    "import numpy as np\n",
    "import matplotlib.pyplot as plt\n",
    "print(\"done\")"
   ]
  },
  {
   "cell_type": "code",
   "execution_count": 2,
   "id": "b5973b93",
   "metadata": {},
   "outputs": [],
   "source": [
    "t = np.linspace(0,40,1000) "
   ]
  },
  {
   "cell_type": "markdown",
   "id": "65b49022",
   "metadata": {},
   "source": [
    "Distance travelled by robber: d = 2.5t"
   ]
  },
  {
   "cell_type": "code",
   "execution_count": 3,
   "id": "23858545",
   "metadata": {},
   "outputs": [],
   "source": [
    "d_r = 2.5*t"
   ]
  },
  {
   "cell_type": "markdown",
   "id": "0a5b11fd",
   "metadata": {},
   "source": [
    "Distance travelled by sheriff: d = 3(t-5)"
   ]
  },
  {
   "cell_type": "code",
   "execution_count": 4,
   "id": "0111c07a",
   "metadata": {},
   "outputs": [],
   "source": [
    "d_s = 3*(t-5)"
   ]
  },
  {
   "cell_type": "code",
   "execution_count": 5,
   "id": "f8baf210",
   "metadata": {
    "scrolled": true
   },
   "outputs": [
    {
     "data": {
      "image/png": "[encoded data removed]",
      "text/plain": [
       "<Figure size 432x288 with 1 Axes>"
      ]
     },
     "metadata": {
      "needs_background": "light"
     },
     "output_type": "display_data"
    }
   ],
   "source": [
    "fig, ax = plt.subplots()\n",
    "plt.title('A Bank Robber Caught')\n",
    "plt.xlabel('time (in minutes)')\n",
    "plt.ylabel('distance (in km)')\n",
    "ax.set_xlim([0, 40])\n",
    "ax.set_ylim([0, 100])\n",
    "ax.plot(t, d_r, c='green')\n",
    "ax.plot(t, d_s, c='brown')\n",
    "plt.axvline(x=30, color='purple', linestyle='--')\n",
    "_ = plt.axhline(y=75, color='purple', linestyle='--')"
   ]
  },
  {
   "cell_type": "markdown",
   "id": "29295fdc",
   "metadata": {},
   "source": [
    "#### Tensors\n",
    "\n",
    "ML generalization of vectors and matrices to any number of dimensions\n",
    "\n",
    "1. Scalars - 0 dimension -- Only magnitude\n",
    "2. Vectors - 1 dimension -- Array\n",
    "3. Matrix - 2 dimensions -- flat table, square\n",
    "4. 3-tensor - 3 dimensions - 3D table, cube\n",
    "5. n-tensor - n dimensiona - higher dimensions"
   ]
  },
  {
   "cell_type": "markdown",
   "id": "af97589d",
   "metadata": {},
   "source": [
    "## Scalar\n",
    "\n",
    "* No dimension\n",
    "* single number\n",
    "* Denoted in lowercase, italics ex: x"
   ]
  },
  {
   "cell_type": "code",
   "execution_count": 6,
   "id": "b2b623fc",
   "metadata": {},
   "outputs": [
    {
     "name": "stdout",
     "output_type": "stream",
     "text": [
      "50\n",
      "1.96e+30\n",
      "5\n"
     ]
    }
   ],
   "source": [
    "#define few scalars\n",
    "number_of_units = 50\n",
    "mass_of_sun = 1.96e30\n",
    "lenth_of_wire = 5\n",
    "print(number_of_units)\n",
    "print(mass_of_sun)\n",
    "print(lenth_of_wire)"
   ]
  },
  {
   "cell_type": "markdown",
   "id": "f41b42a7",
   "metadata": {},
   "source": [
    "#### Scalars in  PyTorch\n",
    "\n",
    "* Pytorch tensors are designed to be pythonic i.e. to feel and behave like NumPy arrays\n",
    "* The advantage of PyTorch tensors relative to NumPy arrays is that they easily be used for operations on GPU.\n",
    "* Documentation on PyTorch tensors, including available data types, is [here](https://pytorch.org/docs/stable/tensors.html)"
   ]
  },
  {
   "cell_type": "code",
   "execution_count": 7,
   "id": "aae2c497",
   "metadata": {},
   "outputs": [
    {
     "name": "stdout",
     "output_type": "stream",
     "text": [
      "tensor(25)\n",
      "torch.Size([])\n",
      "tensor(25., dtype=torch.float16)\n"
     ]
    }
   ],
   "source": [
    "import torch\n",
    "\n",
    "x_pt = torch.tensor(25)\n",
    "print(x_pt)\n",
    "print(x_pt.shape)\n",
    "\n",
    "x1_pt = torch.tensor(25, dtype=torch.float16)\n",
    "print(x1_pt)"
   ]
  },
  {
   "cell_type": "markdown",
   "id": "9384f367",
   "metadata": {},
   "source": [
    "#### Scalars in TensorFlow\n",
    "\n",
    "* info about tensorflow click [here](https://www.tensorflow.org/guide/tensor)\n",
    "* Tensors are created with wrapper\n",
    "1. tf.variable\n",
    "2. tf.constant\n",
    "3. tf.placeholder\n",
    "4. tf.sparseTensor\n",
    "\n",
    "* As with TF tensors, in PyTorch we can similarly perform operations, and we can easily convert to and from NumPy arrays\n",
    "\n",
    "Also, a full list of tensor data types is available [here](https://www.tensorflow.org/api_docs/python/tf/dtypes/DType)."
   ]
  },
  {
   "cell_type": "markdown",
   "id": "96abf356",
   "metadata": {},
   "source": [
    "## Vectors\n",
    "\n",
    "* Vectors represents __point__ in space\n",
    "\n",
    "* vectors are one dimensional array\n",
    "* denoted in lowercase\n",
    "* arranged in order so we can access using index\n",
    "* Representing a point in space:\n",
    "1. Vector of length two represents location in 2D matrix\n",
    "2. Vector of length three represents location in 3D cube\n",
    "3. Vector of length n represents location in n-dimensional space"
   ]
  },
  {
   "cell_type": "code",
   "execution_count": 8,
   "id": "2007826a",
   "metadata": {},
   "outputs": [
    {
     "name": "stdout",
     "output_type": "stream",
     "text": [
      "A column vector:  [[4]\n",
      " [3]]\n",
      "Shape of vector:  (2, 1)\n"
     ]
    }
   ],
   "source": [
    "#importing required numpy library\n",
    "import numpy as np\n",
    "\n",
    "#creating a column vector with 2 rows and 1 column \n",
    "col_vec = np.array([[4],[3]])\n",
    "print(\"A column vector: \",col_vec)\n",
    "\n",
    "#printing the shape of vector\n",
    "print(\"Shape of vector: \",col_vec.shape)"
   ]
  },
  {
   "cell_type": "code",
   "execution_count": 9,
   "id": "23304213",
   "metadata": {},
   "outputs": [
    {
     "name": "stdout",
     "output_type": "stream",
     "text": [
      "A row vector:  [[4 3]]\n",
      "Shape of vector:  (2, 1)\n"
     ]
    }
   ],
   "source": [
    "#creating a row vector with 1 row and 2 columns\n",
    "row_vec = np.array([[4,3]])\n",
    "print(\"A row vector: \",row_vec)\n",
    "\n",
    "#printing the shape of vector\n",
    "print(\"Shape of vector: \",col_vec.shape)"
   ]
  },
  {
   "cell_type": "code",
   "execution_count": 10,
   "id": "55f5997c",
   "metadata": {},
   "outputs": [
    {
     "name": "stdout",
     "output_type": "stream",
     "text": [
      "A zero vector:  [[0 0 0]]\n",
      "[0. 0. 0.]\n",
      "[[0.]\n",
      " [0.]\n",
      " [0.]]\n"
     ]
    }
   ],
   "source": [
    "#creating a zero vector of dimension of 3 using np.array()\n",
    "zero_vec1 = np.array([[0,0,0]])\n",
    "print(\"A zero vector: \",zero_vec1)\n",
    "\n",
    "#creating a zero vector of dimension of 3 using np.zeros()\n",
    "zero_vec2 = np.zeros(3)\n",
    "print(zero_vec2)\n",
    "\n",
    "#illustrating a zero column vector of dimension 3 using np.zeros() function with reshape() function to change the dimensions\n",
    "zero_vec3 = np.zeros(3).reshape(3,-1)\n",
    "print(zero_vec3)"
   ]
  },
  {
   "cell_type": "code",
   "execution_count": 11,
   "id": "099117ef",
   "metadata": {},
   "outputs": [
    {
     "name": "stdout",
     "output_type": "stream",
     "text": [
      "A one vector:  [[1 1 1]]\n",
      "[1. 1. 1.]\n",
      "[[1.]\n",
      " [1.]\n",
      " [1.]]\n"
     ]
    }
   ],
   "source": [
    "#creating a one vector of dimension of 3 using np.array()\n",
    "one_vec1 = np.array([[1,1,1]])\n",
    "print(\"A one vector: \",one_vec1)\n",
    "\n",
    "#creating a one vector of dimension of 3 using np.ones()\n",
    "one_vec2 = np.ones(3)\n",
    "print(one_vec2)\n",
    "\n",
    "#illustrating a one column vector of dimension 3 using np.ones() function with reshape() function to change the dimensions\n",
    "one_vec3 = np.ones(3).reshape(3,-1)\n",
    "print(one_vec3)\n"
   ]
  },
  {
   "cell_type": "code",
   "execution_count": 12,
   "id": "a09ee608",
   "metadata": {
    "scrolled": false
   },
   "outputs": [
    {
     "name": "stdout",
     "output_type": "stream",
     "text": [
      "The vector:  [[ 4]\n",
      " [-1]\n",
      " [ 3]]\n",
      "\n",
      "Element at position 1=  [-1]\n",
      "It measures Euclidean distance from Origin\n",
      "It represents length of vector from origin in respective units\n",
      "\n",
      "Magnitude of the vector =  5.0990195135927845\n"
     ]
    }
   ],
   "source": [
    "vector = np.array([[4],[-1],[3]])\n",
    "print(\"The vector: \",vector)\n",
    "\n",
    "#Addressing a value of vector by index\n",
    "print(\"\\nElement at position 1= \",vector[1])\n",
    "\n",
    "#Magnitude of vector using np.linalg.norm() function\n",
    "print(\"It measures Euclidean distance from Origin\")\n",
    "print(\"It represents length of vector from origin in respective units\")\n",
    "print(\"\\nMagnitude of the vector = \",np.linalg.norm(vector))"
   ]
  },
  {
   "cell_type": "markdown",
   "id": "7b87f2ad",
   "metadata": {},
   "source": [
    "### Norms used to regularise objective functions"
   ]
  },
  {
   "cell_type": "markdown",
   "id": "654ad989",
   "metadata": {},
   "source": [
    "### Other norms\n",
    "\n",
    "#### L1 norm \n",
    "l1 = sum |xi|\n",
    "* Varies linearly at all locations whether it is near or far from origin\n",
    "* Used when the difference between zero and non-zero is the key\n",
    "\n",
    "#### L2-square norm\n",
    "l2_2 = sum xi**2\n",
    "* Computationally cheaper to user than L2-norm because:\n",
    "    1. squared L2 norms equals xTx \n",
    "    2. Derivative (Used to train many ML algo) of element requires that element alone, whereas L2 norm requires x vector\n",
    "* Downside is it grows slowly near origin so can't be used if distinguishing between zero and near-zero is imp\n",
    "\n",
    "#### Max norm\n",
    "ln = max |xi|\n",
    "* Returns the absolute value of largest-magnitude element\n",
    "\n",
    "#### Generalised Lp form\n",
    "lp = (sum |xi|^p)^1/p"
   ]
  },
  {
   "cell_type": "code",
   "execution_count": 13,
   "id": "afdffad7",
   "metadata": {},
   "outputs": [
    {
     "name": "stdout",
     "output_type": "stream",
     "text": [
      "Unit vector\n",
      "Unit vecor is a vector with unit norm i.e. ||x|| = 1\n",
      "1.0\n"
     ]
    }
   ],
   "source": [
    "print(\"Unit vector\")\n",
    "print(\"Unit vecor is a vector with unit norm i.e. ||x|| = 1\")\n",
    "\n",
    "vec4 = np.array([1,0,0])\n",
    "print(np.linalg.norm(vec4))"
   ]
  },
  {
   "cell_type": "code",
   "execution_count": 14,
   "id": "f6c208fb",
   "metadata": {},
   "outputs": [
    {
     "name": "stdout",
     "output_type": "stream",
     "text": [
      "(1, 4)\n",
      "[[1]\n",
      " [2]\n",
      " [3]\n",
      " [4]]\n",
      "(4, 1)\n"
     ]
    }
   ],
   "source": [
    "#row to column vector -- Transpose of vector\n",
    "vec1 = np.array([[1,2,3,4]])\n",
    "print(vec1.shape)\n",
    "vec2 = vec1.T\n",
    "print(vec2)\n",
    "print(vec2.shape)"
   ]
  },
  {
   "cell_type": "markdown",
   "id": "7d432505",
   "metadata": {},
   "source": [
    "#### Types of vectors\n",
    "\n",
    "**1. Basis vectors**\n",
    "* Can be scaled to represent any vector in a given vector space\n",
    "* Typicaaly use unit vectors along axes of vector space\n",
    "\n",
    "\n",
    "**2. Orthogonal vectors**\n",
    "* Sets of vectos are orthogonal if xTy = 0\n",
    "* Are at 90 degree to each other\n",
    "* n-dimensional space has max n mutually orthogonal vectors (asssuming non-zero norms)\n",
    "* **Orthonormal vectors** are special case of orthogonal vectors and all have unit norm ex: basis vectors\n"
   ]
  },
  {
   "cell_type": "markdown",
   "id": "38549a96",
   "metadata": {},
   "source": [
    "## Matrix"
   ]
  },
  {
   "cell_type": "code",
   "execution_count": 15,
   "id": "a2afb7a1",
   "metadata": {},
   "outputs": [
    {
     "name": "stdout",
     "output_type": "stream",
     "text": [
      "2 by 2 matrix\n",
      " [[2 2]\n",
      " [2 2]] \n",
      "shape of matrix:  (2, 2)\n",
      "3 by 3 matrix\n",
      " [[3 3 3]\n",
      " [3 3 3]\n",
      " [3 3 3]] \n",
      "shape of matrix:  (3, 3)\n",
      "Element of matrix A at index position [2,1] is 6\n",
      "[[1 3 5]\n",
      " [2 4 6]] \n",
      "shape of matrix:  (3, 2) \n",
      "shape of transpose matrix:  (2, 3)\n",
      "first row [1 2]\n",
      "first column [1 3 5]\n"
     ]
    }
   ],
   "source": [
    "#creating matrices of various dimension\n",
    "matrix_2_2 = np.array([[2,2],\n",
    "                      [2,2]])\n",
    "\n",
    "matrix_3_3 = np.array([[3,3,3],\n",
    "                      [3,3,3],\n",
    "                      [3,3,3]])\n",
    "\n",
    "#printing of the matrix and its dimensions\n",
    "print(\"2 by 2 matrix\\n\",matrix_2_2,\"\\nshape of matrix: \",matrix_2_2.shape)\n",
    "print(\"3 by 3 matrix\\n\",matrix_3_3,\"\\nshape of matrix: \",matrix_3_3.shape)\n",
    "\n",
    "#creating a 3 by 2 matrix\n",
    "matrix_3_2 = np.array([[1,2],\n",
    "                       [3,4],\n",
    "                       [5,6]])\n",
    "\n",
    "#selecting an element at row index 2 and column index 1\n",
    "print(\"Element of matrix A at index position [2,1] is\",matrix_3_2[2,1])\n",
    "\n",
    "#Transpose of matrix\n",
    "print(np.transpose(matrix_3_2),\"\\nshape of matrix: \",matrix_3_2.shape,\"\\nshape of transpose matrix: \",\n",
    "      np.transpose(matrix_3_2).shape)\n",
    "\n",
    "#first row of matrix\n",
    "print(\"first row\",matrix_3_2[0,:])\n",
    "\n",
    "#first column of matrix\n",
    "print(\"first column\",matrix_3_2[:,0])"
   ]
  },
  {
   "cell_type": "markdown",
   "id": "28f3e5ab",
   "metadata": {},
   "source": [
    "## Types of matrices\n",
    "### 1. Diagonal matrix\n",
    "\n",
    "* Inversion of diagonal matrix: diag(x)^-1 = diag[1/x1,1/x2,..,1/xn]^T\n",
    "* if any element is 0 in diag mtx, then inverse doesn't exist since cat't divide by 0."
   ]
  },
  {
   "cell_type": "code",
   "execution_count": 16,
   "id": "947af55b",
   "metadata": {},
   "outputs": [
    {
     "name": "stdout",
     "output_type": "stream",
     "text": [
      "[[1 0 0]\n",
      " [0 3 0]\n",
      " [0 0 2]]\n",
      "[[1 0 0]\n",
      " [0 3 0]\n",
      " [0 0 5]]\n"
     ]
    }
   ],
   "source": [
    "#Creating a diagonal matrix with diagonal elements (1,3,2)\n",
    "diagonal_matrix = np.diag((1,3,2))\n",
    "print(diagonal_matrix)\n",
    "\n",
    "#creating a diagonal matrix with a range of values\n",
    "matrix_range = np.diag(np.arange(1,6,2))\n",
    "print(matrix_range)"
   ]
  },
  {
   "cell_type": "markdown",
   "id": "a304656b",
   "metadata": {},
   "source": [
    "### 2. identity matrix"
   ]
  },
  {
   "cell_type": "code",
   "execution_count": 17,
   "id": "4254b8a7",
   "metadata": {},
   "outputs": [
    {
     "name": "stdout",
     "output_type": "stream",
     "text": [
      "identity_matrix 1 [[1. 0.]\n",
      " [0. 1.]]\n",
      "identity matrix 2 [[1. 0. 0.]\n",
      " [0. 1. 0.]\n",
      " [0. 0. 1.]]\n"
     ]
    }
   ],
   "source": [
    "#creating an identity matrix of order 2 using np.identity() function\n",
    "identity_matrix_1 = np.identity(2)\n",
    "print(\"identity_matrix 1\", identity_matrix_1)\n",
    "\n",
    "#creating an identity matrix of order 3 using np.eye() function\n",
    "identity_matrix_2 = np.eye(3)\n",
    "print(\"identity matrix 2\", identity_matrix_2)"
   ]
  },
  {
   "cell_type": "markdown",
   "id": "a9345733",
   "metadata": {},
   "source": [
    "### 3. Symmetric matrix"
   ]
  },
  {
   "cell_type": "code",
   "execution_count": 18,
   "id": "0aa8f747",
   "metadata": {},
   "outputs": [
    {
     "name": "stdout",
     "output_type": "stream",
     "text": [
      "A:\n",
      " [[2 3 1]\n",
      " [3 4 1]\n",
      " [4 5 6]]\n",
      "Transpose of matrix A:\n",
      " [[2 3 4]\n",
      " [3 4 5]\n",
      " [1 1 6]]\n",
      "False\n"
     ]
    }
   ],
   "source": [
    "A = np.array([[2,3,1],\n",
    "              [3,4,1],\n",
    "              [4,5,6]])\n",
    "print(\"A:\\n\",A)\n",
    "\n",
    "#Finding the transpose of matrix\n",
    "transposed_matrix = A.transpose()\n",
    "print(\"Transpose of matrix A:\\n\", transposed_matrix)\n",
    "\n",
    "#comparing each elements of both matrices\n",
    "comparision = (A == transposed_matrix)\n",
    "\n",
    "#checking if all the elements in the matrix comparsion is true\n",
    "equal_arrays = comparision.all()\n",
    "print(equal_arrays)"
   ]
  },
  {
   "cell_type": "markdown",
   "id": "10ceae26",
   "metadata": {},
   "source": [
    "### 4. Triangular matrix"
   ]
  },
  {
   "cell_type": "code",
   "execution_count": 19,
   "id": "461bb73e",
   "metadata": {},
   "outputs": [
    {
     "name": "stdout",
     "output_type": "stream",
     "text": [
      "lower triangular matrix:\n",
      "  [[1 0 0]\n",
      " [4 5 0]\n",
      " [7 8 9]]\n"
     ]
    }
   ],
   "source": [
    "#Creating a lower triangular matrix\n",
    "lower_triangular_matrix = np.tril([[1,2,3],\n",
    "                                   [4,5,6],\n",
    "                                   [7,8,9]])\n",
    "\n",
    "print(\"lower triangular matrix:\\n \", lower_triangular_matrix)"
   ]
  },
  {
   "cell_type": "code",
   "execution_count": 20,
   "id": "1b9f710d",
   "metadata": {},
   "outputs": [
    {
     "name": "stdout",
     "output_type": "stream",
     "text": [
      "upper triangular matrix:\n",
      "  [[1 2 3]\n",
      " [0 5 6]\n",
      " [0 0 9]]\n"
     ]
    }
   ],
   "source": [
    "#Creating a upper triangular matrix\n",
    "upper_triangular_matrix = np.triu([[1,2,3],\n",
    "                                   [4,5,6],\n",
    "                                   [7,8,9]])\n",
    "\n",
    "print(\"upper triangular matrix:\\n \", upper_triangular_matrix)"
   ]
  },
  {
   "cell_type": "markdown",
   "id": "232138b9",
   "metadata": {},
   "source": [
    "#### Matrix reduction\n",
    "\n",
    "Calculating the sum across all elements of a tensor is common example of reduction."
   ]
  },
  {
   "cell_type": "code",
   "execution_count": 21,
   "id": "20ea910d",
   "metadata": {},
   "outputs": [
    {
     "data": {
      "text/plain": [
       "29"
      ]
     },
     "execution_count": 21,
     "metadata": {},
     "output_type": "execute_result"
    }
   ],
   "source": [
    "A.sum()"
   ]
  },
  {
   "cell_type": "code",
   "execution_count": 22,
   "id": "461102b9",
   "metadata": {},
   "outputs": [
    {
     "name": "stdout",
     "output_type": "stream",
     "text": [
      "sum along rows\n"
     ]
    },
    {
     "data": {
      "text/plain": [
       "array([ 9, 12,  8])"
      ]
     },
     "execution_count": 22,
     "metadata": {},
     "output_type": "execute_result"
    }
   ],
   "source": [
    "print(\"sum along rows\")\n",
    "A.sum(axis=0)"
   ]
  },
  {
   "cell_type": "code",
   "execution_count": 23,
   "id": "f5b77340",
   "metadata": {},
   "outputs": [
    {
     "name": "stdout",
     "output_type": "stream",
     "text": [
      "sum along columns\n"
     ]
    },
    {
     "data": {
      "text/plain": [
       "array([ 6,  8, 15])"
      ]
     },
     "execution_count": 23,
     "metadata": {},
     "output_type": "execute_result"
    }
   ],
   "source": [
    "print(\"sum along columns\")\n",
    "A.sum(axis=1)"
   ]
  },
  {
   "cell_type": "markdown",
   "id": "f8df64f9",
   "metadata": {},
   "source": [
    "Many other operations are used for reduction like: \n",
    "1. product\n",
    "2. max\n",
    "3. min\n",
    "4. mean"
   ]
  },
  {
   "cell_type": "markdown",
   "id": "97e24eab",
   "metadata": {},
   "source": [
    "## Operators over vectors"
   ]
  },
  {
   "cell_type": "markdown",
   "id": "50963755",
   "metadata": {},
   "source": [
    "**Adding or multiplying a scalar to vector or matrix applies operation to all elements and tensor shape is retained:**"
   ]
  },
  {
   "cell_type": "code",
   "execution_count": 24,
   "id": "b8009307",
   "metadata": {},
   "outputs": [
    {
     "data": {
      "text/plain": [
       "array([[0, 1],\n",
       "       [1, 2]], dtype=int32)"
      ]
     },
     "execution_count": 24,
     "metadata": {},
     "output_type": "execute_result"
    }
   ],
   "source": [
    "mat5 = np.array([[1,2],\n",
    "                [3,4]])\n",
    "\n",
    "mat5//2"
   ]
  },
  {
   "cell_type": "markdown",
   "id": "6f85ba85",
   "metadata": {},
   "source": [
    "### 1. Vector addition\n",
    "* **Hadmard product** - Two vectors can be added if both of them are of the same dimension."
   ]
  },
  {
   "cell_type": "code",
   "execution_count": 25,
   "id": "47486e3c",
   "metadata": {},
   "outputs": [
    {
     "name": "stdout",
     "output_type": "stream",
     "text": [
      "1st vector:  [[ 2 -1  1]]\n",
      "2nd vector:  [[3 2 5]]\n",
      "Addition vector:  [[5 1 6]]\n"
     ]
    }
   ],
   "source": [
    "#create 2 vectors\n",
    "vec_1 = np.array([[2,-1,1]])\n",
    "vec_2 = np.array([[3,2,5]])\n",
    "\n",
    "print(\"1st vector: \", vec_1)\n",
    "print(\"2nd vector: \",vec_2)\n",
    "\n",
    "#Addition of the vectors using the function np.add()\n",
    "result = np.add(vec_1,vec_2)\n",
    "print(\"Addition vector: \",result)"
   ]
  },
  {
   "cell_type": "markdown",
   "id": "419710b6",
   "metadata": {},
   "source": [
    "### 2. Matrix addition\n",
    "* **Hadmard Product** - Addition of two matrices is possible if both matrices are of the same dimension"
   ]
  },
  {
   "cell_type": "code",
   "execution_count": 26,
   "id": "9783b62c",
   "metadata": {},
   "outputs": [
    {
     "name": "stdout",
     "output_type": "stream",
     "text": [
      "First Matrix:  [[1 2]\n",
      " [3 4]]\n",
      "Second Matrix:  [[5 6]\n",
      " [7 8]]\n",
      "Result matrix:  [[ 6  8]\n",
      " [10 12]]\n"
     ]
    }
   ],
   "source": [
    "#create two matrices\n",
    "mat_1 = np.array([[1,2],\n",
    "                  [3,4]])\n",
    "mat_2 = np.array([[5,6],\n",
    "                  [7,8]])\n",
    "\n",
    "print(\"First Matrix: \", mat_1)\n",
    "print(\"Second Matrix: \", mat_2)\n",
    "\n",
    "#Addition of the matrices using np.add() function\n",
    "result_mat = np.add(mat_1,mat_2)\n",
    "print(\"Result matrix: \", result_mat)"
   ]
  },
  {
   "cell_type": "markdown",
   "id": "6b1f1df5",
   "metadata": {},
   "source": [
    "### 3. Scalar vector multiplication"
   ]
  },
  {
   "cell_type": "code",
   "execution_count": 27,
   "id": "db57f334",
   "metadata": {},
   "outputs": [
    {
     "name": "stdout",
     "output_type": "stream",
     "text": [
      "Vector:  [[1 2 3]] \n",
      "Scalar:  4 \n",
      "Multiplication vector:  [[ 4  8 12]]\n"
     ]
    }
   ],
   "source": [
    "#Defining a vector and a scalar\n",
    "v = np.array([[1,2,3]])\n",
    "s = 4\n",
    "\n",
    "#Scalar Vector multiplication\n",
    "vector_mult = v*s\n",
    "\n",
    "print(\"Vector: \", v, \"\\nScalar: \", s,\"\\nMultiplication vector: \",vector_mult)"
   ]
  },
  {
   "cell_type": "markdown",
   "id": "9914a89d",
   "metadata": {},
   "source": [
    "### 4. Scalar Matrix multiplication"
   ]
  },
  {
   "cell_type": "code",
   "execution_count": 28,
   "id": "b1f166e1",
   "metadata": {},
   "outputs": [
    {
     "name": "stdout",
     "output_type": "stream",
     "text": [
      "Matrix:  [[1 2 3]\n",
      " [4 5 6]] \n",
      "Scalar:  4 \n",
      "Multiplication matrix:  [[ 4  8 12]\n",
      " [16 20 24]]\n"
     ]
    }
   ],
   "source": [
    "#Defining a vector and a scalar\n",
    "m = np.array([[1,2,3],\n",
    "              [4,5,6]])\n",
    "s = 4\n",
    "\n",
    "#Scalar Vector multiplication\n",
    "mtr_mult = m*s\n",
    "\n",
    "print(\"Matrix: \", m, \"\\nScalar: \", s,\"\\nMultiplication matrix: \",mtr_mult)"
   ]
  },
  {
   "cell_type": "markdown",
   "id": "a48abe63",
   "metadata": {},
   "source": [
    "### 5. Inner product\n",
    "* It is also known as dot product\n",
    "* There are n individual multiplications and (n-1) additions in the computation of inner product\n",
    "* The inner product is commutative in nature --> v1.v2 = v2.v1\n",
    "* The dot product of identical vectors is square of the magnitude of the vector"
   ]
  },
  {
   "cell_type": "code",
   "execution_count": 29,
   "id": "f93d295b",
   "metadata": {},
   "outputs": [
    {
     "name": "stdout",
     "output_type": "stream",
     "text": [
      "inner product:  [[10]]\n",
      "Multi Dimension matrix [[ 0  1  2  3]\n",
      " [ 4  5  6  7]\n",
      " [ 8  9 10 11]]\n",
      "One-dimension matrix [0 1 2 3]\n",
      "Inner product of multidimension matrix [14 38 62]\n"
     ]
    }
   ],
   "source": [
    "matr_1 = np.array([[1,2,3]])\n",
    "matr_2 = np.array([[1,0,3]])\n",
    "print(\"inner product: \", np.inner(matr_1,matr_2))\n",
    "matrix_multi_dimension = np.arange(12).reshape(3,4)\n",
    "matrix_one_dimension = np.arange(4)\n",
    "print(\"Multi Dimension matrix\", matrix_multi_dimension)\n",
    "print(\"One-dimension matrix\",matrix_one_dimension)\n",
    "print(\"Inner product of multidimension matrix\",np.inner(matrix_multi_dimension,matrix_one_dimension))"
   ]
  },
  {
   "cell_type": "markdown",
   "id": "00c4003e",
   "metadata": {},
   "source": [
    "#### If the dot product of two vectors is zero, then vectors are orthogonal vectors\n",
    " transpose(v1)*v2 = 0"
   ]
  },
  {
   "cell_type": "code",
   "execution_count": 30,
   "id": "9a2ba904",
   "metadata": {},
   "outputs": [
    {
     "name": "stdout",
     "output_type": "stream",
     "text": [
      "Vectors are orthogonal vectors\n"
     ]
    }
   ],
   "source": [
    "v1 = np.array([[3],[-1],[2]])\n",
    "v2 = np.array([[2],[4],[-1]])\n",
    "\n",
    "result = np.transpose(v1)\n",
    "Result = np.dot(result,v2)\n",
    "\n",
    "if (Result==0):\n",
    "    print(\"Vectors are orthogonal vectors\")\n",
    "else:\n",
    "    print(\"Vectors are not orthogonal vectors\")"
   ]
  },
  {
   "cell_type": "markdown",
   "id": "6e1b56db",
   "metadata": {},
   "source": [
    "### 6. Angle between vectors\n",
    "If v1 and v2 are non-zero vectors of dimension n then cosine of the angle between them is - \\\n",
    "cos(theta) = transpose(v1).v2/||v1||.||v2||"
   ]
  },
  {
   "cell_type": "code",
   "execution_count": 31,
   "id": "1511a1e8",
   "metadata": {},
   "outputs": [
    {
     "name": "stdout",
     "output_type": "stream",
     "text": [
      "Angle between two vectors:  32.31153323742385\n"
     ]
    }
   ],
   "source": [
    "def angle_between_vectors(vc1,vc2):\n",
    "    dot_pr = vc1.dot(vc2)\n",
    "    norms = np.linalg.norm(vc1)*np.linalg.norm(vc2)\n",
    "    \n",
    "    return np.rad2deg(np.arccos(dot_pr/norms))\n",
    "\n",
    "print(\"Angle between two vectors: \", angle_between_vectors(np.array([1,2,3]),np.array([1,0,3])))"
   ]
  },
  {
   "cell_type": "markdown",
   "id": "dbbf3344",
   "metadata": {},
   "source": [
    "### 7. Cauchy-Schwartz inequality\n",
    "* |v1^T.v2| <= ||v1||.||v2||\n",
    "* To test linear dependence of vectors and figure out which one you could use the Cauchy-Schwartz inequality\n",
    "* If the inner product of the vectors is equal to the product of norm of the vectors, the vectors are linearly dependent.\n",
    "* Two vectors v1 and v2 can be parallel if v1 = cv2 is a scalar value. The Cauchy-Schwartz inequality for such parallel vectors is equality"
   ]
  },
  {
   "cell_type": "code",
   "execution_count": 32,
   "id": "d4f8bb9c",
   "metadata": {},
   "outputs": [
    {
     "name": "stdout",
     "output_type": "stream",
     "text": [
      "2\n",
      "23.958297101421877\n",
      "dependent\n"
     ]
    }
   ],
   "source": [
    "mt1 = np.array([3,-1,2])\n",
    "mt2 = np.array([2,6,-1])\n",
    "\n",
    "print(np.abs(np.dot(mt1.transpose(),mt2)))\n",
    "print(np.dot(np.linalg.norm(mt1),np.linalg.norm(mt2)))\n",
    "\n",
    "if((np.abs(np.dot(mt1.transpose(),mt2))) <= np.dot(np.linalg.norm(mt1),np.linalg.norm(mt2))):\n",
    "    print(\"dependent\")\n",
    "else:\n",
    "    print(\"independent\")"
   ]
  },
  {
   "cell_type": "code",
   "execution_count": 33,
   "id": "5859a929",
   "metadata": {},
   "outputs": [
    {
     "name": "stdout",
     "output_type": "stream",
     "text": [
      "6\n",
      "5.999999999999999\n",
      "independent\n"
     ]
    }
   ],
   "source": [
    "mt1 = np.array([1,1,1])\n",
    "mt2 = np.array([2,2,2])\n",
    "\n",
    "print(np.abs(np.dot(mt1.transpose(),mt2)))\n",
    "print(np.dot(np.linalg.norm(mt1),np.linalg.norm(mt2)))\n",
    "\n",
    "if((np.abs(np.dot(mt1.transpose(),mt2))) <= np.dot(np.linalg.norm(mt1),np.linalg.norm(mt2))):\n",
    "    print(\"dependent\")\n",
    "else:\n",
    "    print(\"independent\")"
   ]
  },
  {
   "cell_type": "code",
   "execution_count": 34,
   "id": "486fc83e",
   "metadata": {},
   "outputs": [
    {
     "name": "stdout",
     "output_type": "stream",
     "text": [
      "5\n",
      "5.744562646538029\n",
      "dependent\n"
     ]
    }
   ],
   "source": [
    "mt1 = np.array([1,1,1])\n",
    "mt2 = np.array([1,3,1])\n",
    "\n",
    "print(np.abs(np.dot(mt1.transpose(),mt2)))\n",
    "print(np.dot(np.linalg.norm(mt1),np.linalg.norm(mt2)))\n",
    "\n",
    "if((np.abs(np.dot(mt1.transpose(),mt2))) <= np.dot(np.linalg.norm(mt1),np.linalg.norm(mt2))):\n",
    "    print(\"dependent\")\n",
    "else:\n",
    "    print(\"independent\")"
   ]
  },
  {
   "cell_type": "markdown",
   "id": "56102254",
   "metadata": {},
   "source": [
    "### 8. Matrix vector multiplication"
   ]
  },
  {
   "cell_type": "code",
   "execution_count": 35,
   "id": "cd178665",
   "metadata": {},
   "outputs": [
    {
     "name": "stdout",
     "output_type": "stream",
     "text": [
      "Product: \n",
      " [[14]\n",
      " [32]\n",
      " [50]]\n"
     ]
    }
   ],
   "source": [
    "matrix = np.array([[1,2,3],[4,5,6],[7,8,9]])\n",
    "vector = np.array([[1],[2],[3]])\n",
    "\n",
    "product = np.matmul(matrix,vector)\n",
    "print(\"Product: \\n\", product)"
   ]
  },
  {
   "cell_type": "markdown",
   "id": "9c888865",
   "metadata": {},
   "source": [
    "### 9. Matrix multiplication\n",
    "* It is not commutative i.e. A.B not equal to B.A\n",
    "* It is associative i.e. A(B.C) = (A.B).C\n",
    "* It is distributive over addition i.e. A(B+C) = AB + Ac"
   ]
  },
  {
   "cell_type": "code",
   "execution_count": 36,
   "id": "cd0a945b",
   "metadata": {},
   "outputs": [
    {
     "name": "stdout",
     "output_type": "stream",
     "text": [
      "Product: \n",
      " [[ 14  32  50  68]\n",
      " [ 32  77 122 167]\n",
      " [ 50 122 194 266]]\n"
     ]
    }
   ],
   "source": [
    "matrix1 = np.array([[1,2,3],[4,5,6],[7,8,9]])\n",
    "matrix2 = np.array([[1,2,3],[4,5,6],[7,8,9],[10,11,12]])\n",
    "\n",
    "#product = np.dot(matrix1,matrix2) -- Give an error because of mismatch in row and columns\n",
    "product = np.dot(matrix1,np.transpose(matrix2))\n",
    "print(\"Product: \\n\", product)"
   ]
  },
  {
   "cell_type": "markdown",
   "id": "157af0cb",
   "metadata": {},
   "source": [
    "### Adjacency matrix (Incomplete)\n",
    "* This matrix gives information about neighbors\n",
    "* To get the info about users who are two paths apart, we can perform the A*A operation. \n",
    "* The * operator is defined as: v1*v2 = OR(v1i AND v2i) where i=1,2,..."
   ]
  },
  {
   "cell_type": "code",
   "execution_count": 37,
   "id": "6595dccb",
   "metadata": {},
   "outputs": [
    {
     "name": "stdout",
     "output_type": "stream",
     "text": [
      "Matrix: \n",
      " [[0 1 0 0 1]\n",
      " [0 0 1 1 0]\n",
      " [0 1 0 1 0]\n",
      " [0 1 0 0 0]\n",
      " [0 0 0 1 0]]\n",
      "Adjacency matrix: \n",
      " [[0 1 0 0 1]\n",
      " [0 0 1 1 0]\n",
      " [0 1 0 1 0]\n",
      " [0 1 0 0 0]\n",
      " [0 0 0 1 0]]\n",
      "m1: \n",
      " [[0 1 0 0 1]\n",
      " [0 0 1 1 0]\n",
      " [0 1 0 1 0]\n",
      " [0 1 0 0 0]\n",
      " [0 0 0 1 0]]\n",
      "m2: \n",
      " [[0 1 0 0 1]\n",
      " [0 0 1 1 0]\n",
      " [0 1 0 1 0]\n",
      " [0 1 0 0 0]\n",
      " [0 0 0 1 0]]\n"
     ]
    }
   ],
   "source": [
    "A = np.array([[0,1,0,0,1],[0,0,1,1,0],[0,1,0,1,0],[0,1,0,0,0],[0,0,0,1,0]])\n",
    "print(\"Matrix: \\n\", A)\n",
    "print(\"Adjacency matrix: \\n\",np.multiply(A,A))\n",
    "print(\"m1: \\n\",A*(A*A))\n",
    "print(\"m2: \\n\",(A*A)*A)"
   ]
  },
  {
   "cell_type": "markdown",
   "id": "ab059718",
   "metadata": {},
   "source": [
    "#### 10. Orthogonal projection"
   ]
  },
  {
   "cell_type": "code",
   "execution_count": 38,
   "id": "a129ffa4",
   "metadata": {},
   "outputs": [
    {
     "name": "stdout",
     "output_type": "stream",
     "text": [
      "[2.5 2.5]\n"
     ]
    }
   ],
   "source": [
    "a = np.array([2,3])\n",
    "b = np.array([4,4])\n",
    "orthogonal_projection = np.dot(np.true_divide(np.dot(b.transpose(),a),np.dot(b.transpose(),b)),b)\n",
    "print(orthogonal_projection)"
   ]
  },
  {
   "cell_type": "markdown",
   "id": "cc2afa46",
   "metadata": {},
   "source": [
    "#### 11. Determinant\n",
    "\n",
    "* If det(X) = 0:\n",
    "    * Matrix X inverse can't be computed because: X inverse has 1/det(X) = 1/0\n",
    "    * Matrix X is singular: It contains linearly-dependent columns"
   ]
  },
  {
   "cell_type": "code",
   "execution_count": 39,
   "id": "42a9f4cb",
   "metadata": {},
   "outputs": [
    {
     "name": "stdout",
     "output_type": "stream",
     "text": [
      "-14.0\n"
     ]
    }
   ],
   "source": [
    "matrix = np.array([[1,2],[9,4]])\n",
    "print(round(np.linalg.det(matrix),0))"
   ]
  },
  {
   "cell_type": "code",
   "execution_count": 40,
   "id": "f9e242d6",
   "metadata": {},
   "outputs": [
    {
     "name": "stdout",
     "output_type": "stream",
     "text": [
      "[[ 3  1  4]\n",
      " [-1  2  1]\n",
      " [ 2  3  1]]\n",
      "determinant of A:  -28.00000000000001\n",
      "-------------------------------------------------------\n",
      "[[ 1  3  4]\n",
      " [ 2 -1  1]\n",
      " [ 3  2  1]]\n",
      "determinant of A after swapping columns 1 and 2:  27.999999999999996\n",
      "-------------------------------------------------------\n",
      "[[ 1  4  3]\n",
      " [ 2  1 -1]\n",
      " [ 3  1  2]]\n",
      "determinant of A after swapping columns 2 and 3:  -28.00000000000001\n",
      "-------------------------------------------------------\n",
      "[[ 6  2  8]\n",
      " [-1  2  1]\n",
      " [ 2  3  1]]\n",
      "determinant of A after multiplying first row by 2:  -56.00000000000002\n",
      "-------------------------------------------------------\n",
      "[[ 6  2  8]\n",
      " [-3  6  3]\n",
      " [ 2  3  1]]\n",
      "determinant of A after multiplying second row by 3:  -167.99999999999997\n",
      "-------------------------------------------------------\n"
     ]
    }
   ],
   "source": [
    "A_original = np.array([[3,1,4],[-1,2,1],[2,3,1]])\n",
    "A = A_original.copy()\n",
    "print(A)\n",
    "\n",
    "print(\"determinant of A: \", np.linalg.det(A))\n",
    "print(\"-------------------------------------------------------\")\n",
    "\n",
    "A[:,[0,1]] = A[:,[1,0]]\n",
    "A1 = A\n",
    "print(A1)\n",
    "print(\"determinant of A after swapping columns 1 and 2: \",np.linalg.det(A1))\n",
    "print(\"-------------------------------------------------------\")\n",
    "\n",
    "A1[:,[1,2]] = A1[:,[2,1]]\n",
    "A2 = A1\n",
    "print(A2)\n",
    "print(\"determinant of A after swapping columns 2 and 3: \",np.linalg.det(A2))\n",
    "print(\"-------------------------------------------------------\")\n",
    "\n",
    "A_original[0] = 2*A_original[0]\n",
    "print(A_original)\n",
    "print(\"determinant of A after multiplying first row by 2: \",np.linalg.det(A_original))\n",
    "print(\"-------------------------------------------------------\")\n",
    "\n",
    "A_original[1] = 3*A_original[1]\n",
    "print(A_original)\n",
    "print(\"determinant of A after multiplying second row by 3: \",np.linalg.det(A_original))\n",
    "print(\"-------------------------------------------------------\")\n"
   ]
  },
  {
   "cell_type": "markdown",
   "id": "366c4e65",
   "metadata": {},
   "source": [
    "#### 12. inversion of matrix\n",
    "\n",
    "* Matrix inversion is possible if:\n",
    "1. matrix is square\n",
    "    * Avoid overdetermination: n_row > n_col i.e. n_eq > n_dimensions\n",
    "    * Avoids underdetermination: n_row < n_col i.e. n_eq < n_dimensions\n",
    "2. matrix is non-singular, i.e. all columns of matrix must be linearly independent"
   ]
  },
  {
   "cell_type": "code",
   "execution_count": 41,
   "id": "1afeb9de",
   "metadata": {},
   "outputs": [
    {
     "name": "stdout",
     "output_type": "stream",
     "text": [
      "[[[-0.28571429  0.14285714]\n",
      "  [ 0.64285714 -0.07142857]]\n",
      "\n",
      " [[ 0.05882353 -0.11764706]\n",
      "  [ 0.47058824  0.05882353]]\n",
      "\n",
      " [[ 0.          0.33333333]\n",
      "  [ 0.33333333 -0.11111111]]]\n"
     ]
    }
   ],
   "source": [
    "matrix = np.array([ [[1,2],[9,4]], [[1,2],[-8,1]], [[1,3],[3,0]]])\n",
    "print(np.linalg.inv(matrix))"
   ]
  },
  {
   "cell_type": "markdown",
   "id": "09b001ae",
   "metadata": {},
   "source": [
    "#### 13. Orthogonal matrix\n",
    "\n",
    "* trans(A).A = A.trans(A) = I\n",
    "* If matrix follows this property, then trans(A) = inv(A) \\\n",
    "It becomes easy to calculate the inverse of matrix"
   ]
  },
  {
   "cell_type": "code",
   "execution_count": 42,
   "id": "f2e5316a",
   "metadata": {},
   "outputs": [
    {
     "name": "stdout",
     "output_type": "stream",
     "text": [
      "[[ True  True]\n",
      " [ True  True]]\n",
      "[[ True  True]\n",
      " [ True  True]]\n",
      "Is it orthogonal matrix:  True\n"
     ]
    }
   ],
   "source": [
    "matrix = np.array([[1.0,0.0],[0.,1.]])\n",
    "\n",
    "comparision = np.dot(matrix.transpose(),matrix) == np.dot(matrix,matrix.transpose())\n",
    "print(comparision)\n",
    "comparision_2 = np.dot(matrix.transpose(),matrix) == np.eye(2)\n",
    "print(comparision_2)\n",
    "comparision_3 = comparision == comparision_2\n",
    "equal_arrays = comparision_3.all()\n",
    "print(\"Is it orthogonal matrix: \",equal_arrays)"
   ]
  },
  {
   "cell_type": "markdown",
   "id": "a30e99a9",
   "metadata": {},
   "source": [
    "#### 14. Rank of matrix"
   ]
  },
  {
   "cell_type": "code",
   "execution_count": 43,
   "id": "06998dbb",
   "metadata": {},
   "outputs": [
    {
     "name": "stdout",
     "output_type": "stream",
     "text": [
      "Rank:  2\n",
      "Rank:  4\n"
     ]
    }
   ],
   "source": [
    "matrix = np.array([[1,0],[0,1]])\n",
    "\n",
    "print(\"Rank: \", np.linalg.matrix_rank(matrix))\n",
    "\n",
    "matrix_full_rank = np.eye(4)\n",
    "print(\"Rank: \", np.linalg.matrix_rank(matrix_full_rank))"
   ]
  },
  {
   "cell_type": "markdown",
   "id": "28ff82d2",
   "metadata": {},
   "source": [
    "### Solving linear system of equations\n",
    "\n",
    "**1. Substitution method**\n",
    "* Use whenever there's a variable in system with coefficient of 1\n",
    "* Create equation for one variable say y, then put the value of y in second equation and solve for x.\n",
    "* Put value of x in any equation, you will get y.\n",
    "\n",
    "**2. Elimination method**\n",
    "* Best option if no variable in system has coefficient of 1\n",
    "* Use addition property of eq. to eliminate variables\n",
    "    * if necessary, multiply one or both equations to make elimination of a variable possible\n",
    "    "
   ]
  },
  {
   "cell_type": "markdown",
   "id": "37b91518",
   "metadata": {},
   "source": [
    "#### Plotting system of linear equation\n",
    "In the substitution ex, the two equation in the system are: \\\n",
    "                                y = 3x\\\n",
    "                                -5x+2y -2 \n",
    "                                \n",
    "The second equation can be rearranged to isolate y: \\\n",
    "2y = 2+5x \\\n",
    "y = 1 + 5x/2\n"
   ]
  },
  {
   "cell_type": "code",
   "execution_count": 44,
   "id": "fa9e99c3",
   "metadata": {},
   "outputs": [],
   "source": [
    "x = np.linspace(-10,10,1000)"
   ]
  },
  {
   "cell_type": "code",
   "execution_count": 45,
   "id": "509c27b4",
   "metadata": {},
   "outputs": [],
   "source": [
    "y1 = 3*x"
   ]
  },
  {
   "cell_type": "code",
   "execution_count": 46,
   "id": "8dc658be",
   "metadata": {},
   "outputs": [],
   "source": [
    "y2 = 1 + (5*x)/2"
   ]
  },
  {
   "cell_type": "code",
   "execution_count": 47,
   "id": "de28f596",
   "metadata": {},
   "outputs": [
    {
     "data": {
      "image/png": "[encoded data removed]",
      "text/plain": [
       "<Figure size 432x288 with 1 Axes>"
      ]
     },
     "metadata": {
      "needs_background": "light"
     },
     "output_type": "display_data"
    }
   ],
   "source": [
    "fig, ax = plt.subplots()\n",
    "plt.xlabel('x')\n",
    "plt.ylabel('y')\n",
    "ax.set_xlim([0,3])\n",
    "ax.set_ylim([0,8])\n",
    "ax.plot(x,y1,c='green')\n",
    "ax.plot(x,y2,c='brown')\n",
    "plt.axvline(x=2,color='purple',linestyle='--')\n",
    "_ = plt.axhline(y=6, color='purple',linestyle='--')"
   ]
  },
  {
   "cell_type": "markdown",
   "id": "0d40f1ce",
   "metadata": {},
   "source": [
    "In the elimination ex, the two equation in the system are: \\\n",
    "2x-3y=15 \\\n",
    "4x+10y=14\n",
    "\n",
    "The first equation can be rearranged to isolate y: \\\n",
    "-3y = -2x+15 \\\n",
    "y = 2/3x + 5\n",
    "\n",
    "Then for second eq: \\\n",
    "4x + 10y = 14 \\\n",
    "10y = 14 - 4x \\\n",
    "y = 14/10 - 4/10x"
   ]
  },
  {
   "cell_type": "code",
   "execution_count": 48,
   "id": "38d21204",
   "metadata": {},
   "outputs": [],
   "source": [
    "y3 = (2/3)*x - 5\n",
    "y4 = 1.4 -0.4*x"
   ]
  },
  {
   "cell_type": "code",
   "execution_count": 49,
   "id": "dc069686",
   "metadata": {},
   "outputs": [
    {
     "data": {
      "image/png": "[encoded data removed]",
      "text/plain": [
       "<Figure size 432x288 with 1 Axes>"
      ]
     },
     "metadata": {
      "needs_background": "light"
     },
     "output_type": "display_data"
    }
   ],
   "source": [
    "fig, ax = plt.subplots()\n",
    "plt.xlabel('x')\n",
    "plt.ylabel('y')\n",
    "ax.set_xlim([-2,10])\n",
    "ax.set_ylim([-6,4])\n",
    "ax.plot(x,y3,c='red')\n",
    "ax.plot(x,y4,c='blue')\n",
    "plt.axvline(x=6,color='purple',linestyle='--')\n",
    "_ = plt.axhline(y=-1,color='purple',linestyle='--')"
   ]
  },
  {
   "cell_type": "markdown",
   "id": "d2db8869",
   "metadata": {},
   "source": [
    "### Linear transformation\n",
    "#### 1. Stretching"
   ]
  },
  {
   "cell_type": "code",
   "execution_count": 50,
   "id": "e4151658",
   "metadata": {},
   "outputs": [
    {
     "name": "stdout",
     "output_type": "stream",
     "text": [
      "Matrix:  [[1 5 9]\n",
      " [2 7 3]\n",
      " [8 4 6]]\n",
      "STretched matrix:  [[1 1 1 5 5 5 9 9 9]\n",
      " [2 2 2 7 7 7 3 3 3]\n",
      " [8 8 8 4 4 4 6 6 6]]\n"
     ]
    }
   ],
   "source": [
    "matrix = np.array([[1,5,9],[2,7,3],[8,4,6]])\n",
    "print(\"Matrix: \", matrix)\n",
    "print(\"STretched matrix: \", np.repeat(matrix,3,axis=1))"
   ]
  },
  {
   "cell_type": "markdown",
   "id": "476c7834",
   "metadata": {},
   "source": [
    "#### 2. Refection"
   ]
  },
  {
   "cell_type": "markdown",
   "id": "0a27cfff",
   "metadata": {},
   "source": [
    "#### 3. Rotation"
   ]
  },
  {
   "cell_type": "code",
   "execution_count": 51,
   "id": "8e744a61",
   "metadata": {},
   "outputs": [
    {
     "name": "stdout",
     "output_type": "stream",
     "text": [
      "matrix:  [[1 2 9]\n",
      " [2 9 3]\n",
      " [4 4 6]]\n",
      "Rotated matrix:  [[9 3 6]\n",
      " [2 9 4]\n",
      " [1 2 4]]\n"
     ]
    }
   ],
   "source": [
    "matrix = np.array([[1,2,9],[2,9,3],[4,4,6]])\n",
    "print(\"matrix: \",matrix)\n",
    "print(\"Rotated matrix: \",np.rot90(matrix))"
   ]
  },
  {
   "cell_type": "markdown",
   "id": "a7f70198",
   "metadata": {},
   "source": [
    "#### 4. Projection"
   ]
  },
  {
   "cell_type": "markdown",
   "id": "3aa18e51",
   "metadata": {},
   "source": [
    "### Linear equations"
   ]
  },
  {
   "cell_type": "code",
   "execution_count": 52,
   "id": "e38faa7a",
   "metadata": {},
   "outputs": [
    {
     "name": "stdout",
     "output_type": "stream",
     "text": [
      "[[ 1  2  2]\n",
      " [ 3  5  3]\n",
      " [-1  4 -1]]\n",
      "[[ 4]\n",
      " [19]\n",
      " [ 7]]\n",
      "[[ 1  2  2  4]\n",
      " [ 3  5  3 19]\n",
      " [-1  4 -1  7]]\n"
     ]
    }
   ],
   "source": [
    "Symmetrical_matrix = np.array([[1,2,2],[3,5,3],[-1,4,-1]])\n",
    "vector = np.array([[4],[19],[7]])\n",
    "\n",
    "print(Symmetrical_matrix)\n",
    "print(vector)\n",
    "print(np.c_[Symmetrical_matrix,vector])"
   ]
  },
  {
   "cell_type": "markdown",
   "id": "fa778b34",
   "metadata": {},
   "source": [
    "#### Solving linear equations"
   ]
  },
  {
   "cell_type": "code",
   "execution_count": 53,
   "id": "a9915ba1",
   "metadata": {},
   "outputs": [
    {
     "name": "stdout",
     "output_type": "stream",
     "text": [
      "set of Planes:  [3.         1.13333333 2.4       ]\n"
     ]
    }
   ],
   "source": [
    "matrix_1 = np.array([[1,3,-1],[2,3,4],[2,3,-1]])\n",
    "\n",
    "matrix_2 = np.array([4,19,7])\n",
    "\n",
    "x=np.linalg.solve(matrix_1,matrix_2)\n",
    "print(\"set of Planes: \",x)"
   ]
  },
  {
   "cell_type": "markdown",
   "id": "720c5264",
   "metadata": {},
   "source": [
    "#### Crammers rule"
   ]
  },
  {
   "cell_type": "code",
   "execution_count": 54,
   "id": "89e34e74",
   "metadata": {},
   "outputs": [
    {
     "name": "stdout",
     "output_type": "stream",
     "text": [
      "X 0 : 3.0\n",
      "X 1 : 1.0000000000000007\n",
      "X 2 : 2.0000000000000004\n"
     ]
    }
   ],
   "source": [
    "mtrx_a = np.array([[1,3,-1],[2,5,4],[2,3,-1]])\n",
    "mtrx_aa = np.copy(mtrx_a)\n",
    "\n",
    "mtrx_b = np.array([[4],[19],[7]])\n",
    "d1 = (np.concatenate((mtrx_b,mtrx_a[:,1:]),axis=1))\n",
    "d2 = (np.concatenate((mtrx_a[:,0:1],mtrx_b,mtrx_aa[:,2:]),axis=1))\n",
    "d3 = (np.concatenate((mtrx_a[:,0:2],mtrx_b),axis=1))\n",
    "\n",
    "d_list = [d1,d2,d3]\n",
    "d_a = np.linalg.det(mtrx_a)\n",
    "for i in range(0,len(d_list)):\n",
    "    print(\"X\",i,\":\",(np.linalg.det(d_list[i])/d_a))"
   ]
  },
  {
   "cell_type": "markdown",
   "id": "dbbb2d1a",
   "metadata": {},
   "source": [
    "#### Solving system of linear equations when m is not equal to n"
   ]
  },
  {
   "cell_type": "code",
   "execution_count": 55,
   "id": "927413eb",
   "metadata": {},
   "outputs": [
    {
     "name": "stdout",
     "output_type": "stream",
     "text": [
      "Generalized inverse:  [[ 0.75 -0.25 -0.25  0.25]\n",
      " [-0.25  0.75 -0.25  0.25]\n",
      " [-0.25 -0.25  0.75  0.25]]\n",
      "[[1.]]\n"
     ]
    }
   ],
   "source": [
    "mtx_a = np.array([[1,0,0],\n",
    "                [0,1,0],\n",
    "                [0,0,1],\n",
    "                [1,1,1]])\n",
    "mtx_b = np.array([[1],[2],[3],[6]])\n",
    "\n",
    "mtx_inv_a = np.linalg.pinv(mtx_b)\n",
    "\n",
    "print(\"Generalized inverse: \",np.linalg.pinv(mtx_a))\n",
    "\n",
    "solve = np.matmul(mtx_inv_a,mtx_b)\n",
    "print(solve)"
   ]
  },
  {
   "cell_type": "markdown",
   "id": "42c359cd",
   "metadata": {},
   "source": [
    "### Affine transformations"
   ]
  },
  {
   "cell_type": "markdown",
   "id": "15e43d92",
   "metadata": {},
   "source": [
    "Affine transformation via marix application"
   ]
  },
  {
   "cell_type": "code",
   "execution_count": 40,
   "id": "85cdce1d",
   "metadata": {},
   "outputs": [
    {
     "data": {
      "text/plain": [
       "array([3, 1])"
      ]
     },
     "execution_count": 40,
     "metadata": {},
     "output_type": "execute_result"
    }
   ],
   "source": [
    "#consider a vector n:\n",
    "import numpy as np\n",
    "import matplotlib.pyplot as plt\n",
    "v = np.array([3,1])\n",
    "v"
   ]
  },
  {
   "cell_type": "code",
   "execution_count": 9,
   "id": "c6d94b61",
   "metadata": {},
   "outputs": [],
   "source": [
    "def plot_vectors(vectors, colors):\n",
    "    plt.figure()\n",
    "    plt.axvline(x=0,color='lightgray')\n",
    "    plt.axhline(y=0, color='lightgray')\n",
    "    \n",
    "    for i in range(len(vectors)):\n",
    "        x=np.concatenate([[0,0],vectors[i]])\n",
    "        plt.quiver([x[0]],[x[1]],[x[2]],[x[3]],\n",
    "                  angles='xy',scale_units='xy',scale=1,color=colors[i],)"
   ]
  },
  {
   "cell_type": "code",
   "execution_count": 11,
   "id": "83437172",
   "metadata": {},
   "outputs": [
    {
     "data": {
      "image/png": "[encoded data removed]",
      "text/plain": [
       "<Figure size 432x288 with 1 Axes>"
      ]
     },
     "metadata": {
      "needs_background": "light"
     },
     "output_type": "display_data"
    }
   ],
   "source": [
    "plot_vectors([v],['lightblue'])\n",
    "plt.xlim(-1,5)\n",
    "_ = plt.ylim(-1,5)"
   ]
  },
  {
   "cell_type": "markdown",
   "id": "a61b0cb4",
   "metadata": {},
   "source": [
    "'Applying' a matrix to a vector (i.e. performing a matrix-vector multiplication) can linearly transform the vector e.g. rotate it or rescale it\n",
    "\n",
    "The identity mtx, is the exception that proves the rule: Applying an identity matrix does not transform the vector."
   ]
  },
  {
   "cell_type": "code",
   "execution_count": 13,
   "id": "9aed50b0",
   "metadata": {},
   "outputs": [
    {
     "data": {
      "text/plain": [
       "array([[1., 0.],\n",
       "       [0., 1.]])"
      ]
     },
     "execution_count": 13,
     "metadata": {},
     "output_type": "execute_result"
    }
   ],
   "source": [
    "I = np.eye(2)\n",
    "I"
   ]
  },
  {
   "cell_type": "code",
   "execution_count": 14,
   "id": "89299c09",
   "metadata": {},
   "outputs": [
    {
     "data": {
      "text/plain": [
       "array([3., 1.])"
      ]
     },
     "execution_count": 14,
     "metadata": {},
     "output_type": "execute_result"
    }
   ],
   "source": [
    "Iv = np.dot(I, v)\n",
    "Iv"
   ]
  },
  {
   "cell_type": "code",
   "execution_count": 15,
   "id": "485ca417",
   "metadata": {},
   "outputs": [
    {
     "data": {
      "text/plain": [
       "array([ True,  True])"
      ]
     },
     "execution_count": 15,
     "metadata": {},
     "output_type": "execute_result"
    }
   ],
   "source": [
    "v == Iv"
   ]
  },
  {
   "cell_type": "code",
   "execution_count": 16,
   "id": "0512734f",
   "metadata": {},
   "outputs": [
    {
     "data": {
      "image/png": "[encoded data removed]",
      "text/plain": [
       "<Figure size 432x288 with 1 Axes>"
      ]
     },
     "metadata": {
      "needs_background": "light"
     },
     "output_type": "display_data"
    }
   ],
   "source": [
    "plot_vectors([Iv],['blue'])\n",
    "plt.xlim(-1,5)\n",
    "_ = plt.ylim(-1,5)\n"
   ]
  },
  {
   "cell_type": "markdown",
   "id": "d0005c74",
   "metadata": {},
   "source": [
    "In contrast, consider the matrix E that flips vectors over the x-axis."
   ]
  },
  {
   "cell_type": "code",
   "execution_count": 17,
   "id": "61c7a318",
   "metadata": {},
   "outputs": [
    {
     "data": {
      "text/plain": [
       "array([[ 1,  0],\n",
       "       [ 0, -1]])"
      ]
     },
     "execution_count": 17,
     "metadata": {},
     "output_type": "execute_result"
    }
   ],
   "source": [
    "E = np.array([[1,0],[0,-1]])\n",
    "E"
   ]
  },
  {
   "cell_type": "code",
   "execution_count": 18,
   "id": "3c7daaf2",
   "metadata": {},
   "outputs": [
    {
     "data": {
      "text/plain": [
       "array([ 3, -1])"
      ]
     },
     "execution_count": 18,
     "metadata": {},
     "output_type": "execute_result"
    }
   ],
   "source": [
    "Ev = np.dot(E,v)\n",
    "Ev"
   ]
  },
  {
   "cell_type": "code",
   "execution_count": 19,
   "id": "7a55caa2",
   "metadata": {
    "scrolled": true
   },
   "outputs": [
    {
     "data": {
      "image/png": "[encoded data removed]",
      "text/plain": [
       "<Figure size 432x288 with 1 Axes>"
      ]
     },
     "metadata": {
      "needs_background": "light"
     },
     "output_type": "display_data"
    }
   ],
   "source": [
    "plot_vectors([v,Ev],['lightblue','blue'])\n",
    "plt.xlim(-1,5)\n",
    "_ = plt.ylim(-3,3)"
   ]
  },
  {
   "cell_type": "markdown",
   "id": "611294de",
   "metadata": {},
   "source": [
    "Or the matrix, F which flips vectors over the y-axis."
   ]
  },
  {
   "cell_type": "code",
   "execution_count": 20,
   "id": "cdc586cc",
   "metadata": {},
   "outputs": [
    {
     "data": {
      "text/plain": [
       "array([[-1,  0],\n",
       "       [ 0,  1]])"
      ]
     },
     "execution_count": 20,
     "metadata": {},
     "output_type": "execute_result"
    }
   ],
   "source": [
    "F = np.array([[-1,0],\n",
    "             [0,1]])\n",
    "F"
   ]
  },
  {
   "cell_type": "code",
   "execution_count": 21,
   "id": "50abcff4",
   "metadata": {
    "scrolled": true
   },
   "outputs": [
    {
     "data": {
      "text/plain": [
       "array([-3,  1])"
      ]
     },
     "execution_count": 21,
     "metadata": {},
     "output_type": "execute_result"
    }
   ],
   "source": [
    "Fv = np.dot(F,v)\n",
    "Fv"
   ]
  },
  {
   "cell_type": "code",
   "execution_count": 22,
   "id": "1f61f159",
   "metadata": {},
   "outputs": [
    {
     "data": {
      "image/png": "[encoded data removed]",
      "text/plain": [
       "<Figure size 432x288 with 1 Axes>"
      ]
     },
     "metadata": {
      "needs_background": "light"
     },
     "output_type": "display_data"
    }
   ],
   "source": [
    "plot_vectors([v,Fv],colors=['lightblue','blue'])\n",
    "plt.xlim(-3,3)\n",
    "_ = plt.ylim(-1,5)"
   ]
  },
  {
   "cell_type": "markdown",
   "id": "281538ff",
   "metadata": {},
   "source": [
    "Applying a flippiing matrix is an **affine transformation** a change in geometry that may adjust distances or angles between vectors, but preserves parallelism between them.\n",
    "\n",
    "In addition to flipping a matrix over an axis, other common transformation include:\n",
    "* Scaling (changing length)\n",
    "* Shearing \n",
    "* Rotation"
   ]
  },
  {
   "cell_type": "code",
   "execution_count": 27,
   "id": "7c7d9bcd",
   "metadata": {},
   "outputs": [
    {
     "data": {
      "text/plain": [
       "array([[-1,  4],\n",
       "       [ 2, -2]])"
      ]
     },
     "execution_count": 27,
     "metadata": {},
     "output_type": "execute_result"
    }
   ],
   "source": [
    "A = np.array([[-1,4],[2,-2]])\n",
    "A"
   ]
  },
  {
   "cell_type": "code",
   "execution_count": 28,
   "id": "af37d84f",
   "metadata": {},
   "outputs": [
    {
     "data": {
      "text/plain": [
       "array([1, 4])"
      ]
     },
     "execution_count": 28,
     "metadata": {},
     "output_type": "execute_result"
    }
   ],
   "source": [
    "Av = np.dot(A,v)\n",
    "Av"
   ]
  },
  {
   "cell_type": "code",
   "execution_count": 29,
   "id": "e1bafde1",
   "metadata": {},
   "outputs": [
    {
     "data": {
      "image/png": "[encoded data removed]",
      "text/plain": [
       "<Figure size 432x288 with 1 Axes>"
      ]
     },
     "metadata": {
      "needs_background": "light"
     },
     "output_type": "display_data"
    }
   ],
   "source": [
    "plot_vectors([v,Av],['lightblue','blue'])\n",
    "plt.xlim(-1,5)  \n",
    "_ = plt.ylim(-1,5)"
   ]
  },
  {
   "cell_type": "markdown",
   "id": "fd129feb",
   "metadata": {},
   "source": [
    "We can concatenate several vectors together into a matrix where each column is a separate vector. Then, whatever linear transformations we apply to V will be independently applied to each colum (vector):"
   ]
  },
  {
   "cell_type": "code",
   "execution_count": 41,
   "id": "44329e1c",
   "metadata": {},
   "outputs": [
    {
     "data": {
      "text/plain": [
       "array([3, 1])"
      ]
     },
     "execution_count": 41,
     "metadata": {},
     "output_type": "execute_result"
    }
   ],
   "source": [
    "v"
   ]
  },
  {
   "cell_type": "code",
   "execution_count": 42,
   "id": "26f589e5",
   "metadata": {},
   "outputs": [
    {
     "data": {
      "text/plain": [
       "matrix([[3],\n",
       "        [1]])"
      ]
     },
     "execution_count": 42,
     "metadata": {},
     "output_type": "execute_result"
    }
   ],
   "source": [
    "np.matrix(v).T"
   ]
  },
  {
   "cell_type": "code",
   "execution_count": 43,
   "id": "f2b1e27e",
   "metadata": {},
   "outputs": [],
   "source": [
    "v2 = np.array([2,1])\n",
    "v3 = np.array([-3,-1])\n",
    "v4 = np.array([-1,1])"
   ]
  },
  {
   "cell_type": "code",
   "execution_count": 44,
   "id": "8e041c09",
   "metadata": {},
   "outputs": [
    {
     "data": {
      "text/plain": [
       "matrix([[ 3,  2, -3, -1],\n",
       "        [ 1,  1, -1,  1]])"
      ]
     },
     "execution_count": 44,
     "metadata": {},
     "output_type": "execute_result"
    }
   ],
   "source": [
    "V = np.concatenate((np.matrix(v).T,\n",
    "                  np.matrix(v2).T,\n",
    "                  np.matrix(v3).T,\n",
    "                  np.matrix(v4).T),\n",
    "                  axis=1)\n",
    "V"
   ]
  },
  {
   "cell_type": "code",
   "execution_count": 45,
   "id": "4641545b",
   "metadata": {},
   "outputs": [
    {
     "data": {
      "text/plain": [
       "matrix([[ 3.,  2., -3., -1.],\n",
       "        [ 1.,  1., -1.,  1.]])"
      ]
     },
     "execution_count": 45,
     "metadata": {},
     "output_type": "execute_result"
    }
   ],
   "source": [
    "IV = np.dot(I,V)\n",
    "IV"
   ]
  },
  {
   "cell_type": "code",
   "execution_count": 46,
   "id": "1d516fd1",
   "metadata": {
    "scrolled": true
   },
   "outputs": [
    {
     "data": {
      "text/plain": [
       "matrix([[ 1,  2, -1,  5],\n",
       "        [ 4,  2, -4, -4]])"
      ]
     },
     "execution_count": 46,
     "metadata": {},
     "output_type": "execute_result"
    }
   ],
   "source": [
    "AV = np.dot(A,V)\n",
    "AV"
   ]
  },
  {
   "cell_type": "code",
   "execution_count": 59,
   "id": "cb1908ff",
   "metadata": {},
   "outputs": [],
   "source": [
    "#function to convert column of matrix to 1D vector:\n",
    "def vectorfy(mtrx,clmn):\n",
    "    return np.array(mtrx[:,clmn]).reshape(-1)"
   ]
  },
  {
   "cell_type": "code",
   "execution_count": 60,
   "id": "ecc2878f",
   "metadata": {
    "scrolled": false
   },
   "outputs": [
    {
     "data": {
      "text/plain": [
       "array([1, 4])"
      ]
     },
     "execution_count": 60,
     "metadata": {},
     "output_type": "execute_result"
    }
   ],
   "source": [
    "vectorfy(AV,0)"
   ]
  },
  {
   "cell_type": "code",
   "execution_count": 61,
   "id": "a6dc9514",
   "metadata": {},
   "outputs": [
    {
     "data": {
      "text/plain": [
       "array([False, False])"
      ]
     },
     "execution_count": 61,
     "metadata": {},
     "output_type": "execute_result"
    }
   ],
   "source": [
    "vectorfy(AV,0) == v"
   ]
  },
  {
   "cell_type": "code",
   "execution_count": 62,
   "id": "46e59270",
   "metadata": {
    "scrolled": true
   },
   "outputs": [
    {
     "data": {
      "image/png": "[encoded data removed]",
      "text/plain": [
       "<Figure size 432x288 with 1 Axes>"
      ]
     },
     "metadata": {
      "needs_background": "light"
     },
     "output_type": "display_data"
    }
   ],
   "source": [
    "plot_vectors([vectorfy(V,0),vectorfy(V,1),vectorfy(V,2),vectorfy(V,3),vectorfy(AV,0),\n",
    "             vectorfy(AV,1),vectorfy(AV,2),vectorfy(AV,3)],colors=['lightblue','lightgreen','lightgray','orange',\n",
    "            'blue','green','gray','red'])\n",
    "plt.xlim(-4,6)\n",
    "_ = plt.ylim(-5,5)"
   ]
  },
  {
   "cell_type": "markdown",
   "id": "647bdcbe",
   "metadata": {},
   "source": [
    "### Eigen values and Eigen vectors\n",
    "An **eigen vector** (charactristic vector) is a special vector v such that when it is transformed by some matrix (let's say A), the product Av has the exact same direction as v.\n",
    "\n",
    "An **eigen value** is a scalar (traditionally represented as $\\lambda$) that simply scales the eigenvector v such that the following equation is satisfied:\n",
    "\n",
    "Av = $\\lambda$v"
   ]
  },
  {
   "cell_type": "code",
   "execution_count": 64,
   "id": "f8e01117",
   "metadata": {},
   "outputs": [
    {
     "name": "stdout",
     "output_type": "stream",
     "text": [
      "[[ 1  0]\n",
      " [ 0 -2]]\n",
      "[ 1.+0.j -2.+0.j]\n",
      "[[1. 0.]\n",
      " [0. 1.]]\n",
      "eigen values\n",
      "[ 1.+0.j -2.+0.j]\n",
      "eigen vectors\n",
      "[[1. 0.]\n",
      " [0. 1.]]\n"
     ]
    }
   ],
   "source": [
    "import scipy.linalg as la\n",
    "\n",
    "A = np.array([[1,0],[0,-2]])\n",
    "print(A)\n",
    "results = la.eig(A)\n",
    "''' Eigen values and vectors are present as a tuple in results'''\n",
    "print(results[0])\n",
    "print(results[1])\n",
    "''' separating Eigen values and Eigen vectors'''\n",
    "eigvals, eigvecs = la.eig(A)\n",
    "print(\"eigen values\")\n",
    "print(eigvals)\n",
    "print(\"eigen vectors\")\n",
    "print(eigvecs)"
   ]
  },
  {
   "cell_type": "markdown",
   "id": "1477c48e",
   "metadata": {},
   "source": [
    "#### Determinants & Eigen values\n",
    "det(X) = product of all eigenvalues of X\n",
    "\n",
    "det(X) quantifies volume change as a result of applying X:\n",
    "* If det(X)=0, then X collapses space completely in at least one dimension, thereyby eliminating all volume\n",
    "* If 0<|det(X)|<1, then X contracts volume to some extent\n",
    "* If |det(X)| = 1, then X preserves volume exactly\n",
    "* If |det(X)| > 1, then X expands volume\n"
   ]
  },
  {
   "cell_type": "code",
   "execution_count": 66,
   "id": "0346108c",
   "metadata": {
    "scrolled": true
   },
   "outputs": [
    {
     "data": {
      "text/plain": [
       "-2.0"
      ]
     },
     "execution_count": 66,
     "metadata": {},
     "output_type": "execute_result"
    }
   ],
   "source": [
    "np.linalg.det(A)"
   ]
  },
  {
   "cell_type": "code",
   "execution_count": 67,
   "id": "f936f66d",
   "metadata": {
    "scrolled": true
   },
   "outputs": [
    {
     "data": {
      "text/plain": [
       "array([ 1., -2.])"
      ]
     },
     "execution_count": 67,
     "metadata": {},
     "output_type": "execute_result"
    }
   ],
   "source": [
    "lambdas, v = np.linalg.eig(A)\n",
    "lambdas"
   ]
  },
  {
   "cell_type": "code",
   "execution_count": 68,
   "id": "52807160",
   "metadata": {},
   "outputs": [
    {
     "data": {
      "text/plain": [
       "-2.0"
      ]
     },
     "execution_count": 68,
     "metadata": {},
     "output_type": "execute_result"
    }
   ],
   "source": [
    "np.product(lambdas)"
   ]
  },
  {
   "cell_type": "markdown",
   "id": "1f903d08",
   "metadata": {},
   "source": [
    "#### Eigen decomposition\n",
    "\n",
    "A = V$\\Lambda$V^-1\n",
    "\n",
    "Where: \\\n",
    "* V is the concatenation of all the eigenvectors of A \n",
    "* $\\Lambda$ is the diagonal matrix of dig($\\lambda). The convention is to arrange the lambda values in descending order, as a result the first eigenvalue and its associated eigenvector may be a primary characteristic of the matrix A.\n",
    "\n",
    "The decomposition of a matrix into eigenvectors and eigenvalues reveals characteristics of the matrix, e.g.:\n",
    "* Matrix is singular iff only of its eigenvalues are zero\n",
    "* Under specific conditions, can opitmize quadratic expressions:\n",
    "    * Maximum of f(x) = largest eigenvalue\n",
    "    * Minimum of f(x) = smallest eigenvalue\n"
   ]
  },
  {
   "cell_type": "code",
   "execution_count": 69,
   "id": "4e315ac0",
   "metadata": {
    "scrolled": true
   },
   "outputs": [
    {
     "data": {
      "text/plain": [
       "array([[ 4,  2],\n",
       "       [-5, -3]])"
      ]
     },
     "execution_count": 69,
     "metadata": {},
     "output_type": "execute_result"
    }
   ],
   "source": [
    "A = np.array([[4,2],[-5,-3]])\n",
    "A"
   ]
  },
  {
   "cell_type": "code",
   "execution_count": 70,
   "id": "72ccf3d3",
   "metadata": {},
   "outputs": [
    {
     "data": {
      "text/plain": [
       "array([[ 0.70710678, -0.37139068],\n",
       "       [-0.70710678,  0.92847669]])"
      ]
     },
     "execution_count": 70,
     "metadata": {},
     "output_type": "execute_result"
    }
   ],
   "source": [
    "lambdas, v = np.linalg.eig(A)\n",
    "v"
   ]
  },
  {
   "cell_type": "code",
   "execution_count": 71,
   "id": "49446deb",
   "metadata": {
    "scrolled": true
   },
   "outputs": [
    {
     "data": {
      "text/plain": [
       "array([[2.3570226 , 0.94280904],\n",
       "       [1.79505494, 1.79505494]])"
      ]
     },
     "execution_count": 71,
     "metadata": {},
     "output_type": "execute_result"
    }
   ],
   "source": [
    "vinv = np.linalg.inv(v)\n",
    "vinv"
   ]
  },
  {
   "cell_type": "code",
   "execution_count": 72,
   "id": "5be14890",
   "metadata": {},
   "outputs": [
    {
     "data": {
      "text/plain": [
       "array([[ 2.,  0.],\n",
       "       [ 0., -1.]])"
      ]
     },
     "execution_count": 72,
     "metadata": {},
     "output_type": "execute_result"
    }
   ],
   "source": [
    "Lambda = np.diag(lambdas)\n",
    "Lambda"
   ]
  },
  {
   "cell_type": "code",
   "execution_count": 74,
   "id": "0f5748ec",
   "metadata": {},
   "outputs": [
    {
     "data": {
      "text/plain": [
       "array([[ 4.,  2.],\n",
       "       [-5., -3.]])"
      ]
     },
     "execution_count": 74,
     "metadata": {},
     "output_type": "execute_result"
    }
   ],
   "source": [
    "np.dot(v,np.dot(Lambda, vinv))"
   ]
  },
  {
   "cell_type": "markdown",
   "id": "8bd8e9c0",
   "metadata": {},
   "source": [
    "In ML, we are typically working with real symmetric matrices, which can be conveniently and efficiently decomposed into real-only eigenvectors and real-only eigenvalues. If A is a real symmetric matrix then - A = Q$\\Lambda$Q^T\n",
    "\n",
    "Where Q is analogous to V from the previous equation except that it's special because it's an orthogonal matrix"
   ]
  },
  {
   "cell_type": "code",
   "execution_count": 77,
   "id": "72b8ba96",
   "metadata": {},
   "outputs": [
    {
     "data": {
      "text/plain": [
       "array([3., 1.])"
      ]
     },
     "execution_count": 77,
     "metadata": {},
     "output_type": "execute_result"
    }
   ],
   "source": [
    "A = np.array([[2,1],[1,2]])\n",
    "\n",
    "lambdas, Q = np.linalg.eig(A)\n",
    "\n",
    "lambdas"
   ]
  },
  {
   "cell_type": "code",
   "execution_count": 78,
   "id": "7a3f2de9",
   "metadata": {},
   "outputs": [
    {
     "data": {
      "text/plain": [
       "array([[3., 0.],\n",
       "       [0., 1.]])"
      ]
     },
     "execution_count": 78,
     "metadata": {},
     "output_type": "execute_result"
    }
   ],
   "source": [
    "Lambda = np.diag(lambdas)\n",
    "Lambda"
   ]
  },
  {
   "cell_type": "code",
   "execution_count": 79,
   "id": "d882d042",
   "metadata": {},
   "outputs": [
    {
     "data": {
      "text/plain": [
       "array([[ 0.70710678, -0.70710678],\n",
       "       [ 0.70710678,  0.70710678]])"
      ]
     },
     "execution_count": 79,
     "metadata": {},
     "output_type": "execute_result"
    }
   ],
   "source": [
    "Q"
   ]
  },
  {
   "cell_type": "code",
   "execution_count": 80,
   "id": "8ee8d92a",
   "metadata": {},
   "outputs": [
    {
     "data": {
      "text/plain": [
       "array([[2., 1.],\n",
       "       [1., 2.]])"
      ]
     },
     "execution_count": 80,
     "metadata": {},
     "output_type": "execute_result"
    }
   ],
   "source": [
    "np.dot(Q, np.dot(Lambda,Q.T))"
   ]
  },
  {
   "cell_type": "markdown",
   "id": "648f8734",
   "metadata": {},
   "source": [
    "#### Eigen decomposition examples\n",
    "\n",
    "1. Scaling equal -- [[k,0],[0,k]]\n",
    "2. Scaling unequal -- [[k1,0],[0,k2]]\n",
    "3. Horizontal shear -- [[1,k],[0,1]]\n",
    "4. Vertical shear -- [[1,0],[k,1]]\n",
    "\n",
    "\n",
    "#### Matrix types based on eigenvalues:\n",
    "\n",
    "1. positive definite -- > If all eigen values are > 0\n",
    "2. positive semidefinite -- > If all eigen values are >= 0\n",
    "3. negative definite -- > If all eigen values are < 0\n",
    "4. negative semidefinite -- > If all eigen values are <= 0\n",
    "\n",
    "\n",
    "#### Eigen decomposition applications\n",
    "* Eigenvectors as underlying characteristics of a dataset, can be recombined into any numbers of the dataset, e.g. :\n",
    "    * Eigenfaces\n",
    "    * Eigenvoices\n",
    "    * Eigenfrequencies\n",
    "    \n",
    "* Quantum mechanics:\n",
    "    * Molecular orbitals\n",
    "    * Schrodinger wave equation\n",
    "    \n",
    "* Reproduction number R0 in epidemiology\n",
    "\n",
    "* Calculating determinants\n",
    "\n",
    "* SVD & Moore-Penrose pseudoinverse\n",
    "\n",
    "* Principal component analysis"
   ]
  },
  {
   "cell_type": "code",
   "execution_count": null,
   "id": "3a10c264",
   "metadata": {},
   "outputs": [],
   "source": []
  },
  {
   "cell_type": "markdown",
   "id": "effbab8d",
   "metadata": {},
   "source": [
    "### Diagonal form"
   ]
  },
  {
   "cell_type": "code",
   "execution_count": 64,
   "id": "cdfe1edd",
   "metadata": {},
   "outputs": [
    {
     "name": "stdout",
     "output_type": "stream",
     "text": [
      "Array:  [[1 4 7]\n",
      " [2 5 8]\n",
      " [3 6 9]]\n",
      "eigenvalues [ 1.61168440e+01 -1.11684397e+00 -5.70069119e-16]\n",
      "eigenvectors [[-0.46454727 -0.88290596  0.40824829]\n",
      " [-0.57079553 -0.23952042 -0.81649658]\n",
      " [-0.67704379  0.40386512  0.40824829]]\n",
      "Diagonal form [[16. -0.  0.]\n",
      " [-0. -1. -0.]\n",
      " [ 0. -0. -0.]]\n"
     ]
    }
   ],
   "source": [
    "array = np.array([[1,4,7],[2,5,8],[3,6,9]])\n",
    "print(\"Array: \",array)\n",
    "eigenvalues, eigenvectors = np.linalg.eig(array)\n",
    "print(\"eigenvalues\", eigenvalues)\n",
    "print(\"eigenvectors\",eigenvectors)\n",
    "InverseEigenVectors = np.linalg.inv(eigenvectors)\n",
    "diagonal = np.round(InverseEigenVectors.dot(array).dot(eigenvectors))\n",
    "print(\"Diagonal form\",diagonal)"
   ]
  },
  {
   "cell_type": "markdown",
   "id": "73f08314",
   "metadata": {},
   "source": [
    "### Positive definite matrix"
   ]
  },
  {
   "cell_type": "code",
   "execution_count": 65,
   "id": "07c5e22c",
   "metadata": {},
   "outputs": [
    {
     "name": "stdout",
     "output_type": "stream",
     "text": [
      "eigenvalues [ 1.61168440e+01 -1.11684397e+00 -5.70069119e-16]\n",
      "eigenvalues [295.23375984   0.56035793  24.25659624]\n"
     ]
    }
   ],
   "source": [
    "array = np.array([[1,4,7],[2,5,8],[3,6,9]])\n",
    "eigenvalues, eigenvectors = np.linalg.eig(array)\n",
    "print(\"eigenvalues\",eigenvalues)\n",
    "\n",
    "array_2 = np.array([[9.847914,10.38333,49.88812],[10.38333,40.00000,62.66000],[49.88118,62.66000,270.20280]])\n",
    "eigenvalues, eigenvectors = np.linalg.eig(array_2)\n",
    "print(\"eigenvalues\",eigenvalues)"
   ]
  },
  {
   "cell_type": "markdown",
   "id": "cc86eb00",
   "metadata": {},
   "source": [
    "### Matrix Decomposition\n",
    "#### 1. LU decomposition"
   ]
  },
  {
   "cell_type": "code",
   "execution_count": null,
   "id": "8cedfc99",
   "metadata": {},
   "outputs": [],
   "source": [
    "import scipy.linalg\n",
    "A = np.array([[1,2,3],[4,5,6],[10,11,9]])\n",
    "\n",
    "P,L,U = scipy.linalg.lu(A)\n",
    "print(P)\n",
    "print(L)\n",
    "print(U)"
   ]
  },
  {
   "cell_type": "code",
   "execution_count": null,
   "id": "3064c7c4",
   "metadata": {},
   "outputs": [],
   "source": [
    "import scipy.linalg\n",
    "A = np.array([[7,3,-1,2],[3,8,1,-4],[-1,1,4,-1],[2,-4,-1,6]])\n",
    "\n",
    "P,L,U = scipy.linalg.lu(A)\n",
    "print(\"A: \\n\",A)\n",
    "print(\"P: \\n\",P)\n",
    "print(\"L: \\n\",L)\n",
    "print(\"U: \\n\",U)"
   ]
  },
  {
   "cell_type": "markdown",
   "id": "1bfc2dfc",
   "metadata": {},
   "source": [
    "#### 2. QR Decomposition"
   ]
  },
  {
   "cell_type": "code",
   "execution_count": null,
   "id": "e417eec0",
   "metadata": {},
   "outputs": [],
   "source": [
    "matrix_1 = np.array([[1,3,-1],[2,5,4],[2,3,-1]])\n",
    "print(\"A\",matrix_1)\n",
    "matrix_2 = np.array([4,19,7])\n",
    "q,r = np.linalg.qr(matrix_1)\n",
    "p = np.dot(q.T,matrix_2)\n",
    "print(\"QR Decomposition\", np.dot(np.linalg.inv(r),p))"
   ]
  },
  {
   "cell_type": "markdown",
   "id": "96dd186d",
   "metadata": {},
   "source": [
    "#### 3. Cholesky Decomposition"
   ]
  },
  {
   "cell_type": "code",
   "execution_count": null,
   "id": "c49ec173",
   "metadata": {},
   "outputs": [],
   "source": [
    "matrix_1 = np.array([[9.847914,10.38333,49.88812],[10.38333,40.6000,62.66000],[49.8881118,62.66006,270.20280]])\n",
    "A = np.linalg.cholesky(matrix_1)\n",
    "print(\"H :\",A.transpose())\n",
    "print(\"Cholesky Decomposition: \",np.dot(L,L.T.conj()))"
   ]
  },
  {
   "cell_type": "markdown",
   "id": "c08be64d",
   "metadata": {},
   "source": [
    "#### 4. Spectral Decomposition"
   ]
  },
  {
   "cell_type": "code",
   "execution_count": null,
   "id": "24c0ba4c",
   "metadata": {},
   "outputs": [],
   "source": [
    "array = np.array([[1,3,-1],[2,5,4],[2,3,-1]])\n",
    "print(\"Array: \",array)\n",
    "eigenvalues, eigenvectors = np.linalg.eig(array)\n",
    "print(\"Eigenvalues:\",eigenvalues)\n",
    "print(\"Eigenvectors:\",eigenvectors)\n",
    "InverseEigenVectors = np.linalg.inv(eigenvectors)\n",
    "diagonal = np.round(InverseEigenVectors.dot(array).dot(eigenvectors))\n",
    "print(\"diagonal form:\",diagonal)\n",
    "print(\"Spectral Decomposition:\", np.dot(eigenvectors,np.dot(diagonal,np.linalg.inv(eigenvectors))))"
   ]
  },
  {
   "cell_type": "markdown",
   "id": "648d33d8",
   "metadata": {},
   "source": [
    "#### 5. Singular value Decomposition\n",
    "\n",
    "* Unlike eigendecomposition, which is applicable to square matrices, only SVD is applicable to any real-valued matrix\n",
    "* Decomposes matrix into:\n",
    "    * Singular vectors (analogous to eigenvectors)\n",
    "    * Singular values (analogous to eigenvalues)\n",
    "* For some matrix A, its SVD is A = UDV^T \\\n",
    "where, U is an orthogonal m\\*m matrix, its columns are the left singular vectors of A\n",
    "V is an orthogonal n\\*n matrix, its columns are the right-singular vectors of A\n",
    "D is a diagonal m\\*n matrix elements along its diagonal are the singular values of A.\n",
    "\n",
    "**SVD and eigendecomposition are closely related to each other:**\n",
    "\n",
    "    * Left-singular vectors of A = eigenvectors of AA^T\n",
    "    * Right-singular vectors of A = eigenvectors of A^TA\n",
    "    * Non-zero singular values of A = square roots of AA^T = square roots of eigenvectors of A^TA\n"
   ]
  },
  {
   "cell_type": "code",
   "execution_count": null,
   "id": "5e8d75df",
   "metadata": {},
   "outputs": [],
   "source": [
    "array = np.array([[1,3,-1],[2,5,4],[2,3,-1]])\n",
    "print(\"A: \",array)\n",
    "U, d, v = np.linalg.svd(array)\n",
    "print(\"U: \", U)\n",
    "print(\"d: \",d)\n",
    "print(\"v: \",v)"
   ]
  },
  {
   "cell_type": "markdown",
   "id": "a0c35527",
   "metadata": {},
   "source": [
    "### Frobenius Norm of matrix\n",
    "**||X||_F = sqrt(sum x(i,j)^2)** \n",
    "\n",
    "* Analogous to L2 norm of vector\n",
    "* Measures the size of matrix in terms of Euclidean distance\n",
    "    * It's the sum of magnitude of all the vectors in X"
   ]
  },
  {
   "cell_type": "code",
   "execution_count": null,
   "id": "79cfe854",
   "metadata": {},
   "outputs": [],
   "source": [
    "np.linalg.norm(array)"
   ]
  },
  {
   "cell_type": "code",
   "execution_count": null,
   "id": "5a28e894",
   "metadata": {},
   "outputs": [],
   "source": []
  }
 ],
 "metadata": {
  "kernelspec": {
   "display_name": "Python 3 (ipykernel)",
   "language": "python",
   "name": "python3"
  },
  "language_info": {
   "codemirror_mode": {
    "name": "ipython",
    "version": 3
   },
   "file_extension": ".py",
   "mimetype": "text/x-python",
   "name": "python",
   "nbconvert_exporter": "python",
   "pygments_lexer": "ipython3",
   "version": "3.9.12"
  }
 },
 "nbformat": 4,
 "nbformat_minor": 5
}
