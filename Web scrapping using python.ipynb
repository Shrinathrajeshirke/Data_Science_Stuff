{
 "cells": [
  {
   "cell_type": "markdown",
   "id": "9b4ceae7",
   "metadata": {},
   "source": [
    "#### Required libraries for web scrapping"
   ]
  },
  {
   "cell_type": "code",
   "execution_count": 26,
   "id": "a924e32b",
   "metadata": {},
   "outputs": [],
   "source": [
    "from bs4 import BeautifulSoup\n",
    "import requests"
   ]
  },
  {
   "cell_type": "code",
   "execution_count": 2,
   "id": "296f151a",
   "metadata": {},
   "outputs": [],
   "source": [
    "with open('home.html','r') as html_file:\n",
    "    content = html_file.read()"
   ]
  },
  {
   "cell_type": "code",
   "execution_count": 9,
   "id": "293b832a",
   "metadata": {},
   "outputs": [],
   "source": [
    "soup = BeautifulSoup(content, 'lxml')  ## To convert it into readable html format\n",
    "#print(soup.prettify())"
   ]
  },
  {
   "cell_type": "code",
   "execution_count": 6,
   "id": "5bf3113e",
   "metadata": {},
   "outputs": [
    {
     "name": "stdout",
     "output_type": "stream",
     "text": [
      "<h5 class=\"card-title\">Python for beginners</h5>\n"
     ]
    }
   ],
   "source": [
    "tags = soup.find('h5') ## find() -- to get the h5 tags\n",
    "print(tags)"
   ]
  },
  {
   "cell_type": "code",
   "execution_count": 12,
   "id": "4b2cf0fb",
   "metadata": {},
   "outputs": [
    {
     "name": "stdout",
     "output_type": "stream",
     "text": [
      "[<h5 class=\"card-title\">Python for beginners</h5>, <h5 class=\"card-title\">Python Web Development</h5>, <h5 class=\"card-title\">Python Machine Learning</h5>]\n"
     ]
    }
   ],
   "source": [
    "courses_html_tags = soup.find_all('h5') ## find_all() -- to get all the h5 tags\n",
    "print(tags)"
   ]
  },
  {
   "cell_type": "code",
   "execution_count": 14,
   "id": "81b31ff3",
   "metadata": {},
   "outputs": [
    {
     "name": "stdout",
     "output_type": "stream",
     "text": [
      "Python for beginners\n",
      "Python Web Development\n",
      "Python Machine Learning\n"
     ]
    }
   ],
   "source": [
    "for course in courses_html_tags:\n",
    "    print(course.text)"
   ]
  },
  {
   "cell_type": "code",
   "execution_count": 25,
   "id": "886b2615",
   "metadata": {},
   "outputs": [
    {
     "name": "stdout",
     "output_type": "stream",
     "text": [
      "Price of Python for beginners is 20$\n",
      "Price of Python Web Development is 50$\n",
      "Price of Python Machine Learning is 100$\n"
     ]
    }
   ],
   "source": [
    "course_Cards = soup.find_all('div',class_='card')\n",
    "\n",
    "for card in course_Cards:\n",
    "    course_name = card.h5.text\n",
    "    course_price = card.a.text.split()[-1]\n",
    "    \n",
    "    print(f'Price of {course_name} is {course_price}')"
   ]
  },
  {
   "cell_type": "markdown",
   "id": "833046d9",
   "metadata": {},
   "source": [
    "#### Web Scrapping real website"
   ]
  },
  {
   "cell_type": "code",
   "execution_count": 30,
   "id": "c9cbb968",
   "metadata": {},
   "outputs": [],
   "source": [
    "url = 'https://www.timesjobs.com/candidate/job-search.html?searchType=personalizedSearch&from=submit&searchTextSrc=as&searchTextText=Python&txtKeywords=Python&txtLocation='\n",
    "\n",
    "html_text = requests.get(url).text\n",
    "#print(html_text)\n",
    "\n",
    "soup = BeautifulSoup(html_text, 'lxml')"
   ]
  },
  {
   "cell_type": "code",
   "execution_count": 54,
   "id": "6cd32989",
   "metadata": {},
   "outputs": [
    {
     "data": {
      "text/plain": [
       "'eastindiasecuritiesltd.'"
      ]
     },
     "execution_count": 54,
     "metadata": {},
     "output_type": "execute_result"
    }
   ],
   "source": [
    "jobs = soup.find('li',class_=\"clearfix job-bx wht-shd-bx\")\n",
    "company_name = jobs.find('h3',class_ = 'joblist-comp-name').text.replace('\\n','')\n",
    "company_name.replace(' ','')"
   ]
  },
  {
   "cell_type": "code",
   "execution_count": 61,
   "id": "88a34376",
   "metadata": {},
   "outputs": [
    {
     "data": {
      "text/plain": [
       "'python,hadoop,machinelearning'"
      ]
     },
     "execution_count": 61,
     "metadata": {},
     "output_type": "execute_result"
    }
   ],
   "source": [
    "job_skills = jobs.find('span',class_='srp-skills').text.replace(' ','')\n",
    "job_skills.replace('\\n','')"
   ]
  },
  {
   "cell_type": "code",
   "execution_count": null,
   "id": "37c2f76a",
   "metadata": {},
   "outputs": [],
   "source": []
  }
 ],
 "metadata": {
  "kernelspec": {
   "display_name": "Python 3 (ipykernel)",
   "language": "python",
   "name": "python3"
  },
  "language_info": {
   "codemirror_mode": {
    "name": "ipython",
    "version": 3
   },
   "file_extension": ".py",
   "mimetype": "text/x-python",
   "name": "python",
   "nbconvert_exporter": "python",
   "pygments_lexer": "ipython3",
   "version": "3.9.12"
  }
 },
 "nbformat": 4,
 "nbformat_minor": 5
}
