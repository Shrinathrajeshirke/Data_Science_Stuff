{
 "cells": [
  {
   "cell_type": "markdown",
   "metadata": {},
   "source": [
    "Disclamer - \n",
    "1. Based on the random sample selected from the population - some values (like sample mean, variance, std.deviations) may vary.\n",
    "2. The codes are to be executed in a sequence given below."
   ]
  },
  {
   "cell_type": "markdown",
   "metadata": {},
   "source": [
    "## Module - Sampling and Sampling Methods"
   ]
  },
  {
   "cell_type": "markdown",
   "metadata": {},
   "source": [
    "### Sampling Techniques"
   ]
  },
  {
   "cell_type": "code",
   "execution_count": 1,
   "metadata": {
    "scrolled": true
   },
   "outputs": [
    {
     "name": "stdout",
     "output_type": "stream",
     "text": [
      "['s0', 's1', 's2', 's3', 's4', 's5', 's6', 's7', 's8', 's9', 's10', 's11', 's12', 's13', 's14', 's15']\n"
     ]
    }
   ],
   "source": [
    "#Generating 25 states\n",
    "states = [\"s\" + str(i) for i in range(0,16)]\n",
    "print(states)"
   ]
  },
  {
   "cell_type": "code",
   "execution_count": 2,
   "metadata": {},
   "outputs": [
    {
     "data": {
      "text/plain": [
       "array(['s14', 's7', 's3', 's1', 's2', 's10', 's8', 's6'], dtype='<U3')"
      ]
     },
     "execution_count": 2,
     "metadata": {},
     "output_type": "execute_result"
    }
   ],
   "source": [
    "#Importing the NumPy library\n",
    "import numpy as np\n",
    "#Choosing 8 Random states from ‘states’ without repetition\n",
    "np.random.choice(states, size=8, replace=False)"
   ]
  },
  {
   "cell_type": "code",
   "execution_count": 3,
   "metadata": {},
   "outputs": [
    {
     "data": {
      "text/html": [
       "<div>\n",
       "<style scoped>\n",
       "    .dataframe tbody tr th:only-of-type {\n",
       "        vertical-align: middle;\n",
       "    }\n",
       "\n",
       "    .dataframe tbody tr th {\n",
       "        vertical-align: top;\n",
       "    }\n",
       "\n",
       "    .dataframe thead th {\n",
       "        text-align: right;\n",
       "    }\n",
       "</style>\n",
       "<table border=\"1\" class=\"dataframe\">\n",
       "  <thead>\n",
       "    <tr style=\"text-align: right;\">\n",
       "      <th></th>\n",
       "      <th>Employee_ID</th>\n",
       "      <th>Dept</th>\n",
       "      <th>Job_Level</th>\n",
       "    </tr>\n",
       "  </thead>\n",
       "  <tbody>\n",
       "    <tr>\n",
       "      <th>0</th>\n",
       "      <td>1001</td>\n",
       "      <td>D1</td>\n",
       "      <td>JL2</td>\n",
       "    </tr>\n",
       "    <tr>\n",
       "      <th>1</th>\n",
       "      <td>1002</td>\n",
       "      <td>D1</td>\n",
       "      <td>JL2</td>\n",
       "    </tr>\n",
       "    <tr>\n",
       "      <th>2</th>\n",
       "      <td>1003</td>\n",
       "      <td>D1</td>\n",
       "      <td>JL2</td>\n",
       "    </tr>\n",
       "    <tr>\n",
       "      <th>3</th>\n",
       "      <td>1004</td>\n",
       "      <td>D1</td>\n",
       "      <td>JL3</td>\n",
       "    </tr>\n",
       "    <tr>\n",
       "      <th>4</th>\n",
       "      <td>1005</td>\n",
       "      <td>D1</td>\n",
       "      <td>JL3</td>\n",
       "    </tr>\n",
       "    <tr>\n",
       "      <th>5</th>\n",
       "      <td>1006</td>\n",
       "      <td>D1</td>\n",
       "      <td>JL3</td>\n",
       "    </tr>\n",
       "    <tr>\n",
       "      <th>6</th>\n",
       "      <td>1007</td>\n",
       "      <td>D2</td>\n",
       "      <td>JL2</td>\n",
       "    </tr>\n",
       "    <tr>\n",
       "      <th>7</th>\n",
       "      <td>1008</td>\n",
       "      <td>D2</td>\n",
       "      <td>JL2</td>\n",
       "    </tr>\n",
       "    <tr>\n",
       "      <th>8</th>\n",
       "      <td>1009</td>\n",
       "      <td>D2</td>\n",
       "      <td>JL2</td>\n",
       "    </tr>\n",
       "    <tr>\n",
       "      <th>9</th>\n",
       "      <td>1010</td>\n",
       "      <td>D2</td>\n",
       "      <td>JL3</td>\n",
       "    </tr>\n",
       "    <tr>\n",
       "      <th>10</th>\n",
       "      <td>1011</td>\n",
       "      <td>D2</td>\n",
       "      <td>JL3</td>\n",
       "    </tr>\n",
       "    <tr>\n",
       "      <th>11</th>\n",
       "      <td>1012</td>\n",
       "      <td>D2</td>\n",
       "      <td>JL3</td>\n",
       "    </tr>\n",
       "  </tbody>\n",
       "</table>\n",
       "</div>"
      ],
      "text/plain": [
       "    Employee_ID Dept Job_Level\n",
       "0          1001   D1       JL2\n",
       "1          1002   D1       JL2\n",
       "2          1003   D1       JL2\n",
       "3          1004   D1       JL3\n",
       "4          1005   D1       JL3\n",
       "5          1006   D1       JL3\n",
       "6          1007   D2       JL2\n",
       "7          1008   D2       JL2\n",
       "8          1009   D2       JL2\n",
       "9          1010   D2       JL3\n",
       "10         1011   D2       JL3\n",
       "11         1012   D2       JL3"
      ]
     },
     "metadata": {},
     "output_type": "display_data"
    },
    {
     "name": "stdout",
     "output_type": "stream",
     "text": [
      "-----------------------------\n"
     ]
    },
    {
     "data": {
      "text/html": [
       "<div>\n",
       "<style scoped>\n",
       "    .dataframe tbody tr th:only-of-type {\n",
       "        vertical-align: middle;\n",
       "    }\n",
       "\n",
       "    .dataframe tbody tr th {\n",
       "        vertical-align: top;\n",
       "    }\n",
       "\n",
       "    .dataframe thead th {\n",
       "        text-align: right;\n",
       "    }\n",
       "</style>\n",
       "<table border=\"1\" class=\"dataframe\">\n",
       "  <thead>\n",
       "    <tr style=\"text-align: right;\">\n",
       "      <th></th>\n",
       "      <th>JL2</th>\n",
       "      <th>JL3</th>\n",
       "    </tr>\n",
       "    <tr>\n",
       "      <th>Dept</th>\n",
       "      <th></th>\n",
       "      <th></th>\n",
       "    </tr>\n",
       "  </thead>\n",
       "  <tbody>\n",
       "    <tr>\n",
       "      <th>D1</th>\n",
       "      <td>3</td>\n",
       "      <td>3</td>\n",
       "    </tr>\n",
       "    <tr>\n",
       "      <th>D2</th>\n",
       "      <td>3</td>\n",
       "      <td>3</td>\n",
       "    </tr>\n",
       "  </tbody>\n",
       "</table>\n",
       "</div>"
      ],
      "text/plain": [
       "      JL2  JL3\n",
       "Dept          \n",
       "D1      3    3\n",
       "D2      3    3"
      ]
     },
     "metadata": {},
     "output_type": "display_data"
    },
    {
     "name": "stdout",
     "output_type": "stream",
     "text": [
      "-----------------------------\n"
     ]
    },
    {
     "data": {
      "text/html": [
       "<div>\n",
       "<style scoped>\n",
       "    .dataframe tbody tr th:only-of-type {\n",
       "        vertical-align: middle;\n",
       "    }\n",
       "\n",
       "    .dataframe tbody tr th {\n",
       "        vertical-align: top;\n",
       "    }\n",
       "\n",
       "    .dataframe thead th {\n",
       "        text-align: right;\n",
       "    }\n",
       "</style>\n",
       "<table border=\"1\" class=\"dataframe\">\n",
       "  <thead>\n",
       "    <tr style=\"text-align: right;\">\n",
       "      <th></th>\n",
       "      <th>Employee_ID</th>\n",
       "      <th>Dept</th>\n",
       "      <th>Job_Level</th>\n",
       "    </tr>\n",
       "  </thead>\n",
       "  <tbody>\n",
       "    <tr>\n",
       "      <th>1</th>\n",
       "      <td>1002</td>\n",
       "      <td>D1</td>\n",
       "      <td>JL2</td>\n",
       "    </tr>\n",
       "    <tr>\n",
       "      <th>4</th>\n",
       "      <td>1005</td>\n",
       "      <td>D1</td>\n",
       "      <td>JL3</td>\n",
       "    </tr>\n",
       "    <tr>\n",
       "      <th>7</th>\n",
       "      <td>1008</td>\n",
       "      <td>D2</td>\n",
       "      <td>JL2</td>\n",
       "    </tr>\n",
       "    <tr>\n",
       "      <th>9</th>\n",
       "      <td>1010</td>\n",
       "      <td>D2</td>\n",
       "      <td>JL3</td>\n",
       "    </tr>\n",
       "  </tbody>\n",
       "</table>\n",
       "</div>"
      ],
      "text/plain": [
       "   Employee_ID Dept Job_Level\n",
       "1         1002   D1       JL2\n",
       "4         1005   D1       JL3\n",
       "7         1008   D2       JL2\n",
       "9         1010   D2       JL3"
      ]
     },
     "execution_count": 3,
     "metadata": {},
     "output_type": "execute_result"
    }
   ],
   "source": [
    "#Importing the required libraries\n",
    "import numpy as np\n",
    "import pandas as pd\n",
    "\n",
    "#Reading the employee data from emp.csv\n",
    "emp = pd.read_csv(\"data/emp.csv\")\n",
    "#Display the dataframe emp\n",
    "display(emp)\n",
    "print(\"-----------------------------\")\n",
    "\n",
    "#Rearrange the data by grouping it based on department and job level\n",
    "tab_emp = pd.crosstab(index = emp[\"Dept\"],  columns=emp[\"Job_Level\"], colnames = [''])\n",
    "#Display the dataframe tab_emp and see unique combinations of department and job level\n",
    "display(tab_emp)\n",
    "print(\"-----------------------------\")\n",
    "\n",
    "#Taking a random sample from the population using the groupby function based on Department and Job Level\n",
    "emp.groupby(['Dept','Job_Level'], group_keys=False).apply(lambda x: x.sample(1))"
   ]
  },
  {
   "cell_type": "markdown",
   "metadata": {},
   "source": [
    "## Module - Parameter estimation"
   ]
  },
  {
   "cell_type": "markdown",
   "metadata": {},
   "source": [
    "### Introduction to parameter estimation"
   ]
  },
  {
   "cell_type": "code",
   "execution_count": 4,
   "metadata": {},
   "outputs": [
    {
     "data": {
      "text/html": [
       "<div>\n",
       "<style scoped>\n",
       "    .dataframe tbody tr th:only-of-type {\n",
       "        vertical-align: middle;\n",
       "    }\n",
       "\n",
       "    .dataframe tbody tr th {\n",
       "        vertical-align: top;\n",
       "    }\n",
       "\n",
       "    .dataframe thead th {\n",
       "        text-align: right;\n",
       "    }\n",
       "</style>\n",
       "<table border=\"1\" class=\"dataframe\">\n",
       "  <thead>\n",
       "    <tr style=\"text-align: right;\">\n",
       "      <th></th>\n",
       "      <th>studentID</th>\n",
       "      <th>stateID</th>\n",
       "      <th>SchoolID</th>\n",
       "      <th>Mark</th>\n",
       "    </tr>\n",
       "  </thead>\n",
       "  <tbody>\n",
       "    <tr>\n",
       "      <th>0</th>\n",
       "      <td>1000</td>\n",
       "      <td>ST1</td>\n",
       "      <td>ST1S1</td>\n",
       "      <td>467</td>\n",
       "    </tr>\n",
       "    <tr>\n",
       "      <th>1</th>\n",
       "      <td>1001</td>\n",
       "      <td>ST1</td>\n",
       "      <td>ST1S1</td>\n",
       "      <td>366</td>\n",
       "    </tr>\n",
       "    <tr>\n",
       "      <th>2</th>\n",
       "      <td>1002</td>\n",
       "      <td>ST1</td>\n",
       "      <td>ST1S1</td>\n",
       "      <td>412</td>\n",
       "    </tr>\n",
       "    <tr>\n",
       "      <th>3</th>\n",
       "      <td>1003</td>\n",
       "      <td>ST1</td>\n",
       "      <td>ST1S1</td>\n",
       "      <td>532</td>\n",
       "    </tr>\n",
       "    <tr>\n",
       "      <th>4</th>\n",
       "      <td>1004</td>\n",
       "      <td>ST1</td>\n",
       "      <td>ST1S1</td>\n",
       "      <td>474</td>\n",
       "    </tr>\n",
       "  </tbody>\n",
       "</table>\n",
       "</div>"
      ],
      "text/plain": [
       "   studentID stateID SchoolID  Mark\n",
       "0       1000     ST1    ST1S1   467\n",
       "1       1001     ST1    ST1S1   366\n",
       "2       1002     ST1    ST1S1   412\n",
       "3       1003     ST1    ST1S1   532\n",
       "4       1004     ST1    ST1S1   474"
      ]
     },
     "metadata": {},
     "output_type": "display_data"
    },
    {
     "name": "stdout",
     "output_type": "stream",
     "text": [
      "-----------------------------\n"
     ]
    },
    {
     "data": {
      "text/plain": [
       "<Figure size 640x480 with 1 Axes>"
      ]
     },
     "metadata": {},
     "output_type": "display_data"
    },
    {
     "name": "stdout",
     "output_type": "stream",
     "text": [
      "Sample Mean =  413.2758928571429 \n",
      "Sample Variance =  5951.426561702816 \n",
      "Sample Standard Deviation =  77.14548957458767\n"
     ]
    }
   ],
   "source": [
    "#Importing the library pandas as pd\n",
    "import pandas as pd\n",
    "\n",
    "#Reading the data from students_mark.csv in the folder data \n",
    "student_mark = pd.read_csv(\"data/students_mark.csv\")\n",
    "\n",
    "#Displaying the dataframe student_mark\n",
    "display(student_mark.head())\n",
    "print(\"-----------------------------\")\n",
    "\n",
    "#Importing the pyplot function available in matplotlib library as plt\n",
    "import matplotlib.pyplot as plt\n",
    "\n",
    "#Ploting the frequescy distribution of marks scored with bin size of 20\n",
    "#Bin ranging from 160 to 620 as the minimum and maximum marks scored are 174 and 588 respectively (use student_mark.describe() to find the same)\n",
    "plt.hist(student_mark[\"Mark\"],bins=range(160, 620, 20),edgecolor='black', linewidth=1)\n",
    "plt.title(\"Distribution of Marks\")\n",
    "plt.xlabel(\"Marks\")\n",
    "plt.ylabel(\"Frequency\")\n",
    "plt.show()\n",
    "\n",
    "#Importing NumPy library as np\n",
    "import numpy as np\n",
    "#Calculating the mean, variance and standard deviation of the sample using the mean(), var() & std() function of NumPy library\n",
    "sample_mean = np.mean(student_mark[\"Mark\"])\n",
    "sample_variance = np.var(student_mark[\"Mark\"])\n",
    "sample_sd = np.std(student_mark[\"Mark\"])\n",
    "print(\"Sample Mean = \",sample_mean,\"\\nSample Variance = \",sample_variance,\"\\nSample Standard Deviation = \",sample_sd)"
   ]
  },
  {
   "cell_type": "markdown",
   "metadata": {},
   "source": [
    "### Sampling distribution of mean"
   ]
  },
  {
   "cell_type": "code",
   "execution_count": 5,
   "metadata": {},
   "outputs": [
    {
     "data": {
      "image/png": "[encoded data removed]",
      "text/plain": [
       "<Figure size 432x288 with 1 Axes>"
      ]
     },
     "metadata": {},
     "output_type": "display_data"
    },
    {
     "name": "stdout",
     "output_type": "stream",
     "text": [
      "The mean of sample mean =  4.0\n"
     ]
    }
   ],
   "source": [
    "#Creating an array of 10 sample means\n",
    "sample_means = np.array([2,3.5,2.5,4,5,4,5.5,4.5,3,6])\n",
    "\n",
    "#Importing required libraries\n",
    "import matplotlib.pyplot as plt\n",
    "import numpy as np\n",
    "\n",
    "#Plotting the distribution of mean marks \n",
    "plt.hist(sample_means.astype(float),bins=np.arange(1.0, 8.0, 1.6),edgecolor='black', linewidth=1)\n",
    "plt.title(\"Histogram of sample_means\")\n",
    "plt.xlabel(\"sample_means\")\n",
    "plt.ylabel(\"Frequency\")\n",
    "plt.show()\n",
    "\n",
    "#Calculating the mean of sample mean\n",
    "mean_of_sample_means = np.mean(sample_means)\n",
    "print(\"The mean of sample mean = \",mean_of_sample_means)"
   ]
  },
  {
   "cell_type": "code",
   "execution_count": 6,
   "metadata": {
    "scrolled": true
   },
   "outputs": [
    {
     "data": {
      "image/png": "[encoded data removed]",
      "text/plain": [
       "<Figure size 432x288 with 1 Axes>"
      ]
     },
     "metadata": {},
     "output_type": "display_data"
    },
    {
     "name": "stdout",
     "output_type": "stream",
     "text": [
      "Population Mean =  3.462 \n",
      "Population Variance =  3.034555999999997 \n",
      "Population Standard Deviation =  1.7419977037872343\n"
     ]
    }
   ],
   "source": [
    "#Importing required libraries\n",
    "import numpy as np\n",
    "import pandas as pd\n",
    "import matplotlib.pyplot as plt\n",
    "\n",
    "#Reading the data from dice.xlsx in sheet 1 and the first row as header\n",
    "dice_output = pd.read_excel(\"data/dice.xlsx\",sheet_name=0, header=0)\n",
    "\n",
    "#Calculating the entries in Output feature of dice_output dataframe \n",
    "n = len(dice_output[\"Output\"])\n",
    "\n",
    "#Rearranging the data by grouping it based on Output and it's frequency\n",
    "tab_dice_output= pd.crosstab(index = dice_output[\"Output\"],  columns=\"count\", colnames = ['']) \n",
    "\n",
    "#Visualizing the tab_dice_output in a bar chart representing the frequency of different outputs\n",
    "tab_dice_output.plot.bar()\n",
    "plt.title(\"Population distribution\")\n",
    "plt.show()\n",
    "\n",
    "#Calculating the mean, variance and standard deviation of the dice_output using the mean(), var() & std() function of NumPy library\n",
    "dice_population_mean = np.mean(dice_output[\"Output\"])\n",
    "dice_population_variance = np.var(dice_output[\"Output\"])\n",
    "dice_population_sd = np.std(dice_output[\"Output\"])\n",
    "print(\"Population Mean = \",dice_population_mean,\"\\nPopulation Variance = \",dice_population_variance,\"\\nPopulation Standard Deviation = \",dice_population_sd)"
   ]
  },
  {
   "cell_type": "code",
   "execution_count": 7,
   "metadata": {
    "scrolled": true
   },
   "outputs": [
    {
     "name": "stdout",
     "output_type": "stream",
     "text": [
      "   0    1    2    3    4    5    6    7    8    9   ...   990  991  992  993  \\\n",
      "0    1    1    3    3    3    4    1    6    6    1 ...     3    1    6    1   \n",
      "1    5    4    6    1    6    5    4    2    1    4 ...     4    1    5    1   \n",
      "2    2    1    5    5    4    4    2    3    6    6 ...     5    1    6    6   \n",
      "\n",
      "   994  995  996  997  998  999  \n",
      "0    3    4    5    2    1    3  \n",
      "1    2    3    2    2    3    2  \n",
      "2    2    2    5    2    6    6  \n",
      "\n",
      "[3 rows x 1000 columns]\n",
      "(3, 1000)\n"
     ]
    }
   ],
   "source": [
    "#Creating a function gensample() to choose n samples from the dataframe dice_output with replacements\n",
    "def gensample (n):\n",
    "    return(np.random.choice(dice_output[\"Output\"], size=n, replace=True))\n",
    "\n",
    "#Generating 1000 samples of sample size 3 from the population\n",
    "sample_3 = []\n",
    "for i in range(1,1001):\n",
    "    x = gensample(3).tolist()\n",
    "    sample_3.append(x)\n",
    "#print(sample_3)\n",
    "#len(sample_3)\n",
    "\n",
    "#importing library pandas as pd\n",
    "import pandas as pd\n",
    "\n",
    "#creating a dataframe of the 1000 sample of sample size 3 and visualizing the same\n",
    "df_sample_3 = pd.DataFrame(sample_3).T\n",
    "print(df_sample_3.head())\n",
    "print(df_sample_3.shape)"
   ]
  },
  {
   "cell_type": "code",
   "execution_count": 8,
   "metadata": {},
   "outputs": [
    {
     "name": "stdout",
     "output_type": "stream",
     "text": [
      "Sample mean head:\n",
      " 0    2.666667\n",
      "1    2.000000\n",
      "2    4.666667\n",
      "3    3.000000\n",
      "4    4.333333\n",
      "dtype: float64\n",
      "\n",
      "Sample mean descriptive statistics:\n",
      " count    1000.000000\n",
      "mean        3.529333\n",
      "std         0.967280\n",
      "min         1.000000\n",
      "25%         3.000000\n",
      "50%         3.666667\n",
      "75%         4.333333\n",
      "max         6.000000\n",
      "dtype: float64\n"
     ]
    }
   ],
   "source": [
    "#Importing NumPy library as np\n",
    "import numpy as np\n",
    "#Calculating the sample means for each sample\n",
    "sample_mean_3 = df_sample_3.apply(np.mean, axis=0)\n",
    "print(\"Sample mean head:\\n\", sample_mean_3.head())\n",
    "print(\"\\nSample mean descriptive statistics:\\n\",sample_mean_3.describe())"
   ]
  },
  {
   "cell_type": "code",
   "execution_count": 9,
   "metadata": {},
   "outputs": [
    {
     "data": {
      "image/png": "[encoded data removed]",
      "text/plain": [
       "<Figure size 432x288 with 1 Axes>"
      ]
     },
     "metadata": {},
     "output_type": "display_data"
    },
    {
     "name": "stdout",
     "output_type": "stream",
     "text": [
      "Mean of sample mean =  3.5293333333333354 \n",
      "Mean of population =  3.462\n",
      "\n",
      "Standard deviation of the mean of sample means =  0.9667963131451799 \n",
      "Standard deviation of population =  1.7419977037872343\n"
     ]
    }
   ],
   "source": [
    "#importing required libraries\n",
    "import numpy as np\n",
    "import matplotlib.pyplot as plt\n",
    "\n",
    "#Plotting the sampling distribution of the sample mean\n",
    "plt.hist(sample_mean_3,bins=np.arange(0.0, 7.0, 0.25),edgecolor='black', linewidth=1)\n",
    "plt.title(\"Sampling Distribution of mean for n=3\")\n",
    "plt.xlabel(\"Range\")\n",
    "plt.ylabel(\"Frequency\")\n",
    "plt.show()\n",
    "\n",
    "#Calculating the sample mean\n",
    "mean_of_sample_mean_3 = np.mean(sample_mean_3)\n",
    "print(\"Mean of sample mean = \",mean_of_sample_mean_3,\"\\nMean of population = \",dice_population_mean)\n",
    "\n",
    "std_of_sample_mean_3 = np.std(sample_mean_3)\n",
    "print(\"\\nStandard deviation of the mean of sample means = \",std_of_sample_mean_3,\"\\nStandard deviation of population = \",dice_population_sd)"
   ]
  },
  {
   "cell_type": "code",
   "execution_count": 10,
   "metadata": {},
   "outputs": [
    {
     "name": "stdout",
     "output_type": "stream",
     "text": [
      "   0    1    2    3    4    5    6    7    8    9   ...   990  991  992  993  \\\n",
      "0    4    6    5    3    2    2    5    1    2    3 ...     3    2    1    4   \n",
      "1    3    3    6    2    6    3    4    2    6    3 ...     2    6    1    3   \n",
      "2    3    1    2    3    5    4    1    6    5    6 ...     1    6    2    3   \n",
      "3    5    3    1    5    2    5    1    6    5    1 ...     4    5    1    2   \n",
      "4    2    4    6    3    2    5    5    4    2    6 ...     2    5    5    5   \n",
      "\n",
      "   994  995  996  997  998  999  \n",
      "0    5    3    4    2    6    5  \n",
      "1    3    6    6    5    2    5  \n",
      "2    5    4    3    1    3    4  \n",
      "3    3    3    6    1    1    1  \n",
      "4    5    5    2    4    1    5  \n",
      "\n",
      "[5 rows x 1000 columns]\n",
      "(10, 1000)\n"
     ]
    }
   ],
   "source": [
    "#Creating a function gensample() to choose n samples from the dataframe dice_output with replacements\n",
    "def gensample (n):\n",
    "    return(np.random.choice(dice_output[\"Output\"], size=n, replace=True))\n",
    "\n",
    "#Generating 1000 samples of sample size 10 from the population\n",
    "sample_10 = []\n",
    "for i in range(1,1001):\n",
    "    x = gensample(10).tolist()\n",
    "    sample_10.append(x)\n",
    "#print(sample_10)\n",
    "#len(sample_10)\n",
    "\n",
    "#importing library pandas as pd\n",
    "import pandas as pd\n",
    "\n",
    "#creating a dataframe of the 1000 sample of sample size 10 and visualizing the same\n",
    "df_sample_10 = pd.DataFrame(sample_10).T\n",
    "print(df_sample_10.head())\n",
    "print(df_sample_10.shape)"
   ]
  },
  {
   "cell_type": "code",
   "execution_count": 11,
   "metadata": {},
   "outputs": [
    {
     "name": "stdout",
     "output_type": "stream",
     "text": [
      "\n",
      "Sample mean descriptive statistics:\n",
      " count    1000.000000\n",
      "mean        3.485400\n",
      "std         0.540128\n",
      "min         2.000000\n",
      "25%         3.100000\n",
      "50%         3.500000\n",
      "75%         3.825000\n",
      "max         5.400000\n",
      "dtype: float64\n"
     ]
    },
    {
     "data": {
      "image/png": "[encoded data removed]",
      "text/plain": [
       "<Figure size 432x288 with 1 Axes>"
      ]
     },
     "metadata": {},
     "output_type": "display_data"
    },
    {
     "name": "stdout",
     "output_type": "stream",
     "text": [
      "Mean of sample mean =  3.485399999999998 \n",
      "Mean of population =  3.462\n",
      "\n",
      "Standard deviation of the mean of sample mean =  0.5398581665585874 \n",
      "Standard deviation of population =  1.7419977037872343\n"
     ]
    }
   ],
   "source": [
    "#importing required libraries\n",
    "import numpy as np\n",
    "import matplotlib.pyplot as plt\n",
    "\n",
    "#Calculating the sample means for each sample\n",
    "sample_mean_10 = df_sample_10.apply(np.mean, axis=0)\n",
    "print(\"\\nSample mean descriptive statistics:\\n\",sample_mean_10.describe())\n",
    "\n",
    "#Plotting the sampling distribution of the sample means\n",
    "plt.hist(sample_mean_10,bins=np.arange(0.0, 7.0, 0.2),edgecolor='black', linewidth=1)\n",
    "plt.title(\"Sampling Distribution of mean for n=10\")\n",
    "plt.xlabel(\"Range\")\n",
    "plt.ylabel(\"Frequency\")\n",
    "plt.show()\n",
    "\n",
    "#Calculating the sample mean\n",
    "mean_of_sample_mean_10 = np.mean(sample_mean_10)\n",
    "print(\"Mean of sample mean = \",mean_of_sample_mean_10,\"\\nMean of population = \",dice_population_mean)\n",
    "\n",
    "std_of_sample_mean_10 = np.std(sample_mean_10)\n",
    "print(\"\\nStandard deviation of the mean of sample mean = \",std_of_sample_mean_10,\"\\nStandard deviation of population = \",dice_population_sd)"
   ]
  },
  {
   "cell_type": "code",
   "execution_count": 12,
   "metadata": {
    "scrolled": true
   },
   "outputs": [
    {
     "name": "stdout",
     "output_type": "stream",
     "text": [
      "Standard Deviation of Population:  1.7419977037872343 \n",
      "Standard Deviation of sample mean of sample size 3:  0.9667963131451799 \n",
      "Standard Deviation of sample mean of sample size 10:  0.5398581665585874\n"
     ]
    }
   ],
   "source": [
    "#Comapring the standard error with respect to sample size\n",
    "print(\"Standard Deviation of Population: \",dice_population_sd,\n",
    "      \"\\nStandard Deviation of sample mean of sample size 3: \",std_of_sample_mean_3,\n",
    "      \"\\nStandard Deviation of sample mean of sample size 10: \",std_of_sample_mean_10)"
   ]
  },
  {
   "cell_type": "code",
   "execution_count": 13,
   "metadata": {},
   "outputs": [
    {
     "name": "stdout",
     "output_type": "stream",
     "text": [
      "Population Standard Deviation :  1.7419977037872343\n",
      "Standard Error for sampling distribution of sample mean for n=3 : 1.0057428432092697\n",
      "Observed value of standard error for n=3 :\t\t\t  0.9667963131451799\n",
      "Standard Error for sampling distribution of sample mean for n=10 : 0.5508680422750984\n",
      "Observed value of standard error for n=10 :\t\t\t   0.5398581665585874\n"
     ]
    }
   ],
   "source": [
    "print(\"Population Standard Deviation : \",dice_population_sd)\n",
    "\n",
    "#Calculating standard error for sampling distribution of sample mean for n=3, using the formula\n",
    "print(\"Standard Error for sampling distribution of sample mean for n=3 :\",dice_population_sd/np.sqrt(3))\n",
    "print(\"Observed value of standard error for n=3 :\\t\\t\\t \",std_of_sample_mean_3)\n",
    "\n",
    "#Calculating standard error for sampling distribution of sample mean for n=10, using the formula\n",
    "print(\"Standard Error for sampling distribution of sample mean for n=10 :\",dice_population_sd/np.sqrt(10))\n",
    "print(\"Observed value of standard error for n=10 :\\t\\t\\t  \",std_of_sample_mean_10)"
   ]
  },
  {
   "cell_type": "code",
   "execution_count": 14,
   "metadata": {},
   "outputs": [
    {
     "name": "stdout",
     "output_type": "stream",
     "text": [
      "The probability of getting a value that is 2.02 standard deviation from mean : 0.9783083062323532\n"
     ]
    }
   ],
   "source": [
    "#Importing the norm() function from the scipy.stats library\n",
    "from scipy.stats import norm\n",
    "#Finding the probability of getting a value that is 2.02 standard deviation from mean using norm.cdf() function\n",
    "print(\"The probability of getting a value that is 2.02 standard deviation from mean :\",norm.cdf(2.02))"
   ]
  },
  {
   "cell_type": "code",
   "execution_count": 15,
   "metadata": {
    "scrolled": true
   },
   "outputs": [
    {
     "data": {
      "image/png": "[encoded data removed]",
      "text/plain": [
       "<Figure size 432x288 with 1 Axes>"
      ]
     },
     "metadata": {},
     "output_type": "display_data"
    }
   ],
   "source": [
    "#Importing required libraries\n",
    "import math\n",
    "import numpy as np\n",
    "import matplotlib.pyplot as plt\n",
    "\n",
    "#Mean of the sampling distribution\n",
    "mu = 413.2759\n",
    "#Standard error of the sampling distribution \n",
    "sd = 2.30619\n",
    "\n",
    "#Plotting the sampling distribution of mean\n",
    "x = np.linspace(380, 450, 100)\n",
    "plt.plot(x,norm.pdf(x, mu, sd))\n",
    "plt.show()"
   ]
  },
  {
   "cell_type": "markdown",
   "metadata": {},
   "source": [
    "### Confidence interval of population mean"
   ]
  },
  {
   "cell_type": "code",
   "execution_count": 16,
   "metadata": {},
   "outputs": [
    {
     "name": "stdout",
     "output_type": "stream",
     "text": [
      "P1 lies -1.9599639845400545 standard deviations away from the mean\n",
      "P2 lies 1.959963984540054 standard deviations away from the mean\n"
     ]
    }
   ],
   "source": [
    "#Importing the norm function from the stats module of scipy library\n",
    "from scipy.stats import norm\n",
    "\n",
    "#Finding confidence interval of population mean with 95% confidence level\n",
    "p1 = norm.ppf(0.025)\n",
    "p2 = norm.ppf(0.975)\n",
    "print(\"P1 lies\",p1,\"standard deviations away from the mean\")\n",
    "print(\"P2 lies\",p2,\"standard deviations away from the mean\")"
   ]
  },
  {
   "cell_type": "markdown",
   "metadata": {},
   "source": [
    "### Sampling distribution of variance"
   ]
  },
  {
   "cell_type": "code",
   "execution_count": 17,
   "metadata": {},
   "outputs": [
    {
     "name": "stdout",
     "output_type": "stream",
     "text": [
      "Mean of the sampling distribution of sample variance for n=3 : 2.101111111111125\n",
      "Mean of the sampling distribution of sample variance for n=10 : 2.7571400000000006\n",
      "The population variance : 3.034555999999997\n"
     ]
    }
   ],
   "source": [
    "#Importing NumPy library as np\n",
    "import numpy as np\n",
    "\n",
    "#Calculating the sample variance for each sample\n",
    "sample_var_3 = df_sample_3.apply(np.var, axis=0)\n",
    "sample_var_10 = df_sample_10.apply(np.var, axis=0)\n",
    "\n",
    "#Calculating the mean of all the sample variances\n",
    "mean_of_sample_var_3 = np.mean(sample_var_3)\n",
    "mean_of_sample_var_10 = np.mean(sample_var_10)\n",
    "\n",
    "print(\"Mean of the sampling distribution of sample variance for n=3 :\",mean_of_sample_var_3)\n",
    "print(\"Mean of the sampling distribution of sample variance for n=10 :\",mean_of_sample_var_10)\n",
    "print(\"The population variance :\",dice_population_variance)"
   ]
  },
  {
   "cell_type": "code",
   "execution_count": 18,
   "metadata": {},
   "outputs": [
    {
     "data": {
      "text/html": [
       "<div>\n",
       "<style scoped>\n",
       "    .dataframe tbody tr th:only-of-type {\n",
       "        vertical-align: middle;\n",
       "    }\n",
       "\n",
       "    .dataframe tbody tr th {\n",
       "        vertical-align: top;\n",
       "    }\n",
       "\n",
       "    .dataframe thead th {\n",
       "        text-align: right;\n",
       "    }\n",
       "</style>\n",
       "<table border=\"1\" class=\"dataframe\">\n",
       "  <thead>\n",
       "    <tr style=\"text-align: right;\">\n",
       "      <th></th>\n",
       "      <th>output</th>\n",
       "    </tr>\n",
       "  </thead>\n",
       "  <tbody>\n",
       "    <tr>\n",
       "      <th>0</th>\n",
       "      <td>3</td>\n",
       "    </tr>\n",
       "    <tr>\n",
       "      <th>1</th>\n",
       "      <td>4</td>\n",
       "    </tr>\n",
       "    <tr>\n",
       "      <th>2</th>\n",
       "      <td>3</td>\n",
       "    </tr>\n",
       "    <tr>\n",
       "      <th>3</th>\n",
       "      <td>4</td>\n",
       "    </tr>\n",
       "    <tr>\n",
       "      <th>4</th>\n",
       "      <td>3</td>\n",
       "    </tr>\n",
       "    <tr>\n",
       "      <th>5</th>\n",
       "      <td>3</td>\n",
       "    </tr>\n",
       "  </tbody>\n",
       "</table>\n",
       "</div>"
      ],
      "text/plain": [
       "   output\n",
       "0       3\n",
       "1       4\n",
       "2       3\n",
       "3       4\n",
       "4       3\n",
       "5       3"
      ]
     },
     "metadata": {},
     "output_type": "display_data"
    },
    {
     "name": "stdout",
     "output_type": "stream",
     "text": [
      "-----------------------------\n"
     ]
    },
    {
     "data": {
      "image/png": "[encoded data removed]",
      "text/plain": [
       "<Figure size 432x288 with 1 Axes>"
      ]
     },
     "metadata": {},
     "output_type": "display_data"
    },
    {
     "name": "stdout",
     "output_type": "stream",
     "text": [
      "Population Mean =  2.943 \n",
      "Population Variance =  1.5737510000000032 \n",
      "Population Standard Deviation =  1.2544923275971054\n"
     ]
    }
   ],
   "source": [
    "#Importing required libraries\n",
    "import numpy as np\n",
    "import pandas as pd\n",
    "\n",
    "#Reading dataframe dice_output_norm from dice_norm.csv containing 1000 outputs of a dice roll\n",
    "dice_output_norm = pd.read_csv(\"data/dice_norm.csv\")\n",
    "\n",
    "#Displaying the dataframe dice_output_norm\n",
    "display(dice_output_norm.head(6))\n",
    "print(\"-----------------------------\")\n",
    "\n",
    "#Calculating the entries in the dice_output_norm\n",
    "n = len(dice_output_norm[\"output\"])\n",
    "\n",
    "#Rearrange the data by grouping it based on Output and it's frequency\n",
    "tab_dice_output_norm= pd.crosstab(index = dice_output_norm[\"output\"],  columns=\"count\", colnames = [''])\n",
    "\n",
    "#Visualizing the dice_output_norm in a bar chart representing the frequency of different outputs\n",
    "tab_dice_output_norm.plot.bar()\n",
    "plt.show()\n",
    "\n",
    "#Calculating the mean, variance and standard deviation of the dice_output_norm using the mean(), var() & std() function of NumPy library\n",
    "dice_norm_population_mean = np.mean(dice_output_norm[\"output\"])\n",
    "dice_norm_population_variance = np.var(dice_output_norm[\"output\"])\n",
    "dice_norm_population_sd = np.std(dice_output_norm[\"output\"])\n",
    "print(\"Population Mean = \",dice_norm_population_mean,\"\\nPopulation Variance = \",dice_norm_population_variance,\"\\nPopulation Standard Deviation = \",dice_norm_population_sd)"
   ]
  },
  {
   "cell_type": "code",
   "execution_count": 19,
   "metadata": {},
   "outputs": [
    {
     "name": "stdout",
     "output_type": "stream",
     "text": [
      "Shape of df_sample_norm_3: (3, 1000)\n",
      "\n",
      "Description of df_sample_norm_3:\n",
      " count    1000.000000\n",
      "mean        1.033556\n",
      "std         0.825908\n",
      "min         0.000000\n",
      "25%         0.222222\n",
      "50%         0.888889\n",
      "75%         1.555556\n",
      "max         3.555556\n",
      "dtype: float64\n"
     ]
    }
   ],
   "source": [
    "#Creating a function gensample() to choose n samples from the dataframe dice_output_norm with replacements\n",
    "def gensample (n):\n",
    "    return(np.random.choice(dice_output_norm[\"output\"], size=n, replace=True))\n",
    "\n",
    "#Generating 1000 samples of sample size 3 from the population\n",
    "sample_norm_3 = []\n",
    "for i in range(1,1001):\n",
    "    x = gensample(3).tolist()\n",
    "    sample_norm_3.append(x)\n",
    "#print(sample_norm_3)\n",
    "#len(sample_norm_3)\n",
    "\n",
    "#importing library pandas as pd\n",
    "import pandas as pd\n",
    "\n",
    "#Creating a dataframe of the 1000 sample of sample size 3 and visualizing the same\n",
    "df_sample_norm_3 = pd.DataFrame(sample_norm_3).T\n",
    "print(\"Shape of df_sample_norm_3:\", df_sample_norm_3.shape)\n",
    "\n",
    "#Importing NumPy as np\n",
    "import numpy as np\n",
    "#Calculating sample variance for each of the samples\n",
    "sample_norm_var_3 = df_sample_norm_3.apply(np.var, axis=0)\n",
    "print(\"\\nDescription of df_sample_norm_3:\\n\",sample_norm_var_3.describe())"
   ]
  },
  {
   "cell_type": "code",
   "execution_count": 20,
   "metadata": {
    "scrolled": true
   },
   "outputs": [
    {
     "data": {
      "image/png": "[encoded data removed]",
      "text/plain": [
       "<Figure size 432x288 with 1 Axes>"
      ]
     },
     "metadata": {},
     "output_type": "display_data"
    },
    {
     "data": {
      "image/png": "[encoded data removed]",
      "text/plain": [
       "<Figure size 432x288 with 1 Axes>"
      ]
     },
     "metadata": {},
     "output_type": "display_data"
    }
   ],
   "source": [
    "#Importing required libraries\n",
    "import matplotlib.pyplot as plt\n",
    "from scipy.stats import gaussian_kde\n",
    "from scipy.stats import chi2\n",
    "\n",
    "#Calculating the density\n",
    "d_3 = (sample_norm_var_3*2) / dice_norm_population_variance\n",
    "\n",
    "#Perform a kernel density estimate on the the calculated density\n",
    "density_3  = gaussian_kde(d_3)\n",
    "\n",
    "#Diaplay the density plot\n",
    "xs = np.linspace(-1,13,100)\n",
    "plt.title(\"sampling distribution of variance for n = 3\")\n",
    "plt.plot(xs,density_3(xs))\n",
    "plt.show()\n",
    "\n",
    "#Generating chi squared distribution with 2 degree of freedom followed by 1000 random numbers and displaying the density plot\n",
    "# sample size - 3, df = 3-1 =2\n",
    "y = chi2.rvs(2, size=1000)\n",
    "density = gaussian_kde(y)\n",
    "xs = np.linspace(-1,15,100)\n",
    "plt.plot(xs,density(xs))\n",
    "plt.title(\"chi square distribution for df = 2\")\n",
    "plt.show()"
   ]
  },
  {
   "cell_type": "markdown",
   "metadata": {},
   "source": [
    "### Confidence interval of population variance"
   ]
  },
  {
   "cell_type": "code",
   "execution_count": 21,
   "metadata": {},
   "outputs": [
    {
     "name": "stdout",
     "output_type": "stream",
     "text": [
      "Lower Chi Square value =  1028.1875916168472\n",
      "Higher Chi Square value =  1213.6005329722962\n"
     ]
    }
   ],
   "source": [
    "#Importing chi2 function from the scipy.stats module\n",
    "from scipy.stats import chi2\n",
    "\n",
    "#Calculating critical chi square values for 1119 degree of freedom\n",
    "print(\"Lower Chi Square value = \",chi2.ppf(0.025,1119))      \n",
    "print(\"Higher Chi Square value = \",chi2.ppf(0.975,1119))"
   ]
  },
  {
   "cell_type": "markdown",
   "metadata": {},
   "source": [
    "## Module - Hypothesis testing"
   ]
  },
  {
   "cell_type": "markdown",
   "metadata": {},
   "source": [
    "### Performing hypothesis test to validate the estimates"
   ]
  },
  {
   "cell_type": "code",
   "execution_count": 22,
   "metadata": {},
   "outputs": [
    {
     "data": {
      "image/png": "[encoded data removed]",
      "text/plain": [
       "<Figure size 432x288 with 1 Axes>"
      ]
     },
     "metadata": {},
     "output_type": "display_data"
    }
   ],
   "source": [
    "#Importing required libraries\n",
    "import matplotlib.pyplot as plt\n",
    "import numpy as np\n",
    "import math\n",
    "from scipy.stats import norm\n",
    "\n",
    "# Initializing mean of the sampling distribution of mean as mu and sample std deviation as sd\n",
    "mu = 413\n",
    "sd = 7.5\n",
    "\n",
    "#Plotting the sampling distribution\n",
    "x = np.linspace(375, 450, 100)\n",
    "plt.plot(x,norm.pdf(x, mu, sd))\n",
    "plt.show()"
   ]
  },
  {
   "cell_type": "code",
   "execution_count": 23,
   "metadata": {},
   "outputs": [
    {
     "name": "stdout",
     "output_type": "stream",
     "text": [
      "The probability of getting a value that is -1.33 standard deviation from mean : 0.09175913565028077\n"
     ]
    }
   ],
   "source": [
    "#Importing the norm function from the scipy.stats module\n",
    "from scipy.stats import norm\n",
    "\n",
    "#Finding the probability of getting a value that is -1.33 standard deviation from mean using norm.cdf() function\n",
    "print(\"The probability of getting a value that is -1.33 standard deviation from mean :\",norm.cdf(-1.33))"
   ]
  },
  {
   "cell_type": "code",
   "execution_count": 24,
   "metadata": {},
   "outputs": [
    {
     "name": "stdout",
     "output_type": "stream",
     "text": [
      "Test Statistic: -9.958591954639385\n"
     ]
    }
   ],
   "source": [
    "#Importing required libraries\n",
    "import numpy as np\n",
    "from scipy.stats import norm\n",
    "\n",
    "xbar = 9300 #sample mean\n",
    "mu0 = 9500 # hypothesized value\n",
    "sigma = 110 #population standard deviation\n",
    "n = 30 # sample size\n",
    "z =(xbar - mu0)/(sigma/np.sqrt(n))  # test statistic\n",
    "print(\"Test Statistic:\",z) "
   ]
  },
  {
   "cell_type": "code",
   "execution_count": 25,
   "metadata": {},
   "outputs": [
    {
     "name": "stdout",
     "output_type": "stream",
     "text": [
      "P-Value : 1.1565773655967452e-23\n"
     ]
    }
   ],
   "source": [
    "#Importing the norm function from the scipy.stats module\n",
    "from scipy.stats import norm\n",
    "\n",
    "#Finding the p-value\n",
    "p_value = norm.cdf(z)\n",
    "print(\"P-Value :\",p_value)"
   ]
  },
  {
   "cell_type": "code",
   "execution_count": 26,
   "metadata": {},
   "outputs": [
    {
     "name": "stdout",
     "output_type": "stream",
     "text": [
      "Test Statistic: -1.3146843962443622\n"
     ]
    }
   ],
   "source": [
    "#Importing required libraries\n",
    "import numpy as np\n",
    "from scipy.stats import norm\n",
    "\n",
    "xbar = 15.7 #sample mean\n",
    "mu0 = 16.3 # hypothesized value\n",
    "sigma = 2.7 #population standard deviation\n",
    "n = 35 # sample size\n",
    "z =(xbar - mu0)/(sigma/np.sqrt(n)) # test statistic\n",
    "print(\"Test Statistic:\",z) "
   ]
  },
  {
   "cell_type": "code",
   "execution_count": 27,
   "metadata": {},
   "outputs": [
    {
     "name": "stdout",
     "output_type": "stream",
     "text": [
      "Critical values at 0.05 significance level is -1.959963984540054 and 1.959963984540054\n"
     ]
    }
   ],
   "source": [
    "#Importing the norm function from the scipy.stats module\n",
    "from scipy.stats import norm\n",
    "#Compute the critical values at 0.05 significance level\n",
    "alpha = 0.05\n",
    "z_half_alpha = norm.ppf(1-alpha/2)\n",
    "print(\"Critical values at 0.05 significance level is\",-z_half_alpha,\"and\",z_half_alpha)"
   ]
  },
  {
   "cell_type": "markdown",
   "metadata": {},
   "source": [
    "## Module - Comparing two population"
   ]
  },
  {
   "cell_type": "markdown",
   "metadata": {},
   "source": [
    "### Estimating difference between two population means"
   ]
  },
  {
   "cell_type": "code",
   "execution_count": 28,
   "metadata": {},
   "outputs": [
    {
     "name": "stdout",
     "output_type": "stream",
     "text": [
      "Number of students in ST1S1 : 20\n",
      "-----------------------------------------\n",
      "0    467\n",
      "1    366\n",
      "2    412\n",
      "3    532\n",
      "4    474\n",
      "5    293\n",
      "Name: Mark, dtype: int64\n",
      "-----------------------------------------\n",
      "Number of students in ST1S13 : 20\n",
      "-----------------------------------------\n",
      "40    387\n",
      "41    541\n",
      "42    355\n",
      "43    398\n",
      "44    407\n",
      "45    433\n",
      "Name: Mark, dtype: int64\n",
      "-----------------------------------------\n",
      "Mean mark scored by the students from ST1S1 : 434.45\n",
      "-----------------------------------------\n",
      "Standard Deviation in the marks of students from ST1S1 : 88.64089290353996\n",
      "-----------------------------------------\n",
      "Mean mark scored by the students from ST1S3 : 406.2\n",
      "-----------------------------------------\n",
      "Standard Deviation in the marks of students from ST1S3 : 90.10672035221113\n",
      "-----------------------------------------\n"
     ]
    }
   ],
   "source": [
    "#Importing required libraries and reading the data from student_mark.csv file\n",
    "import pandas as pd\n",
    "import numpy as np\n",
    "student_mark = pd.read_csv(\"data/students_mark.csv\")\n",
    "\n",
    "school1 = student_mark.loc[student_mark[\"SchoolID\"] == \"ST1S1\",\"Mark\"]\n",
    "school2 = student_mark.loc[student_mark[\"SchoolID\"] == \"ST1S3\",\"Mark\"]\n",
    "\n",
    "print(\"Number of students in ST1S1 :\",len(school1))\n",
    "print(\"-----------------------------------------\")\n",
    "print(school1.head(6))\n",
    "print(\"-----------------------------------------\")\n",
    "\n",
    "print(\"Number of students in ST1S13 :\",len(school2))\n",
    "print(\"-----------------------------------------\")\n",
    "print(school2.head(6))\n",
    "print(\"-----------------------------------------\")\n",
    "\n",
    "mean_school1 = np.mean(school1)\n",
    "print(\"Mean mark scored by the students from ST1S1 :\",mean_school1)\n",
    "print(\"-----------------------------------------\")\n",
    "sd_school1 = np.std(school1,ddof = 1)\n",
    "print(\"Standard Deviation in the marks of students from ST1S1 :\",sd_school1)\n",
    "print(\"-----------------------------------------\")\n",
    "mean_school2 = np.mean(school2)\n",
    "print(\"Mean mark scored by the students from ST1S3 :\",mean_school2)\n",
    "print(\"-----------------------------------------\")\n",
    "sd_school2 = np.std(school2,ddof = 1)\n",
    "print(\"Standard Deviation in the marks of students from ST1S3 :\",sd_school2)\n",
    "print(\"-----------------------------------------\")"
   ]
  },
  {
   "cell_type": "markdown",
   "metadata": {},
   "source": [
    "### Sampling distribution of difference in sample means"
   ]
  },
  {
   "cell_type": "code",
   "execution_count": 29,
   "metadata": {},
   "outputs": [
    {
     "name": "stdout",
     "output_type": "stream",
     "text": [
      "-----------------------------------------\n",
      "Ratio of variance : 0.9677292740034693\n",
      "-----------------------------------------\n",
      "n1: 20\n",
      "n2: 20\n",
      "Pool standard deviation: 89.37681172252795\n",
      "-----------------------------------------\n",
      "Standard error 28.263429504722545\n",
      "-----------------------------------------\n"
     ]
    },
    {
     "data": {
      "image/png": "[encoded data removed]",
      "text/plain": [
       "<Figure size 432x288 with 1 Axes>"
      ]
     },
     "metadata": {},
     "output_type": "display_data"
    }
   ],
   "source": [
    "#Importing required libraries\n",
    "import numpy as np\n",
    "import math\n",
    "import matplotlib.pyplot as plt\n",
    "from scipy.stats import t\n",
    "\n",
    "#Calculating the variance of the marks scored by both school and computing their ratio\n",
    "var_school1 = np.var(school1,ddof = 1)\n",
    "var_school2 = np.var(school2,ddof = 1)\n",
    "var_ratio = var_school1/var_school2\n",
    "print(\"-----------------------------------------\")\n",
    "print(\"Ratio of variance :\",var_ratio)\n",
    "print(\"-----------------------------------------\")\n",
    "n1 = len(school1)\n",
    "n2 = len(school2)\n",
    "print(\"n1:\",n1)\n",
    "print(\"n2:\",n2)\n",
    "\n",
    "# Calculating pool standard deviation\n",
    "pooled_sd = np.sqrt((((n1-1)*var_school1)+((n2-1)*var_school2))/(n1+n2-2))\n",
    "print(\"Pool standard deviation:\",pooled_sd)\n",
    "print(\"-----------------------------------------\")\n",
    "\n",
    "\n",
    "standard_error = pooled_sd * np.sqrt((1/n1)+(1/n2))\n",
    "print(\"Standard error\",standard_error)\n",
    "print(\"-----------------------------------------\")\n",
    "\n",
    "#Ploting the sampling distribution\n",
    "df = 38\n",
    "mean_sd  = 28.25\n",
    "x = np.linspace(-50, 50, 100)\n",
    "plt.plot(x,t.pdf(x, df))\n",
    "plt.show()"
   ]
  },
  {
   "cell_type": "markdown",
   "metadata": {},
   "source": [
    "### Confidence interval of difference in two population means"
   ]
  },
  {
   "cell_type": "code",
   "execution_count": 30,
   "metadata": {},
   "outputs": [
    {
     "name": "stdout",
     "output_type": "stream",
     "text": [
      "T Critical : 2.024394164575136\n",
      "Confidence interval of difference between the population means of the school : -28.96632176024105 , 85.46632176024104\n"
     ]
    }
   ],
   "source": [
    "#Importing t function from scipy.stats module\n",
    "from scipy.stats import t\n",
    "\n",
    "#Calculating confidence interval\n",
    "tcritical = t.ppf(0.975,38)\n",
    "print(\"T Critical :\",tcritical)\n",
    "p1 = mean_sd - tcritical * standard_error\n",
    "p2 = mean_sd + tcritical * standard_error\n",
    "print(\"Confidence interval of difference between the population means of the school :\",p1,\",\",p2)"
   ]
  },
  {
   "cell_type": "markdown",
   "metadata": {},
   "source": [
    "### Comparing two populations by performing 2 sample t test"
   ]
  },
  {
   "cell_type": "code",
   "execution_count": 31,
   "metadata": {},
   "outputs": [
    {
     "name": "stdout",
     "output_type": "stream",
     "text": [
      "Test statistics : 0.9995248451812863\n"
     ]
    }
   ],
   "source": [
    "#Calculating test statistics\n",
    "test_statistic = (mean_school1 - mean_school2)/standard_error\n",
    "print(\"Test statistics :\",test_statistic)"
   ]
  },
  {
   "cell_type": "code",
   "execution_count": 32,
   "metadata": {},
   "outputs": [
    {
     "name": "stdout",
     "output_type": "stream",
     "text": [
      "T-Critical : 2.024394164575136\n"
     ]
    }
   ],
   "source": [
    "#Importing t function from scipy.stats module\n",
    "from scipy.stats import t\n",
    "tcritical = t.ppf(0.975,38)\n",
    "print(\"T-Critical :\",tcritical)"
   ]
  },
  {
   "cell_type": "code",
   "execution_count": 33,
   "metadata": {},
   "outputs": [
    {
     "data": {
      "text/plain": [
       "Ttest_indResult(statistic=0.9995248451812861, pvalue=0.32386309219376563)"
      ]
     },
     "execution_count": 33,
     "metadata": {},
     "output_type": "execute_result"
    }
   ],
   "source": [
    "#Importing stats function from scipy library\n",
    "from scipy import stats\n",
    "#Invoking ttest_ind() function to perform 2 sample t test.\n",
    "stats.ttest_ind(school1,school2, equal_var = True)"
   ]
  },
  {
   "cell_type": "markdown",
   "metadata": {},
   "source": [
    "## Module - Comparing more then two populations"
   ]
  },
  {
   "cell_type": "markdown",
   "metadata": {},
   "source": [
    "### One way ANOVA"
   ]
  },
  {
   "cell_type": "code",
   "execution_count": 34,
   "metadata": {},
   "outputs": [
    {
     "name": "stdout",
     "output_type": "stream",
     "text": [
      "Test dataframe :\n"
     ]
    },
    {
     "data": {
      "text/html": [
       "<div>\n",
       "<style scoped>\n",
       "    .dataframe tbody tr th:only-of-type {\n",
       "        vertical-align: middle;\n",
       "    }\n",
       "\n",
       "    .dataframe tbody tr th {\n",
       "        vertical-align: top;\n",
       "    }\n",
       "\n",
       "    .dataframe thead th {\n",
       "        text-align: right;\n",
       "    }\n",
       "</style>\n",
       "<table border=\"1\" class=\"dataframe\">\n",
       "  <thead>\n",
       "    <tr style=\"text-align: right;\">\n",
       "      <th></th>\n",
       "      <th>Teacher</th>\n",
       "      <th>Mark</th>\n",
       "    </tr>\n",
       "  </thead>\n",
       "  <tbody>\n",
       "    <tr>\n",
       "      <th>0</th>\n",
       "      <td>teacher1</td>\n",
       "      <td>90</td>\n",
       "    </tr>\n",
       "    <tr>\n",
       "      <th>1</th>\n",
       "      <td>teacher1</td>\n",
       "      <td>76</td>\n",
       "    </tr>\n",
       "    <tr>\n",
       "      <th>2</th>\n",
       "      <td>teacher1</td>\n",
       "      <td>65</td>\n",
       "    </tr>\n",
       "    <tr>\n",
       "      <th>3</th>\n",
       "      <td>teacher1</td>\n",
       "      <td>67</td>\n",
       "    </tr>\n",
       "    <tr>\n",
       "      <th>4</th>\n",
       "      <td>teacher1</td>\n",
       "      <td>73</td>\n",
       "    </tr>\n",
       "    <tr>\n",
       "      <th>5</th>\n",
       "      <td>teacher1</td>\n",
       "      <td>81</td>\n",
       "    </tr>\n",
       "    <tr>\n",
       "      <th>6</th>\n",
       "      <td>teacher2</td>\n",
       "      <td>81</td>\n",
       "    </tr>\n",
       "    <tr>\n",
       "      <th>7</th>\n",
       "      <td>teacher2</td>\n",
       "      <td>86</td>\n",
       "    </tr>\n",
       "    <tr>\n",
       "      <th>8</th>\n",
       "      <td>teacher2</td>\n",
       "      <td>89</td>\n",
       "    </tr>\n",
       "    <tr>\n",
       "      <th>9</th>\n",
       "      <td>teacher2</td>\n",
       "      <td>76</td>\n",
       "    </tr>\n",
       "    <tr>\n",
       "      <th>10</th>\n",
       "      <td>teacher2</td>\n",
       "      <td>94</td>\n",
       "    </tr>\n",
       "    <tr>\n",
       "      <th>11</th>\n",
       "      <td>teacher2</td>\n",
       "      <td>87</td>\n",
       "    </tr>\n",
       "    <tr>\n",
       "      <th>12</th>\n",
       "      <td>teacher3</td>\n",
       "      <td>76</td>\n",
       "    </tr>\n",
       "    <tr>\n",
       "      <th>13</th>\n",
       "      <td>teacher3</td>\n",
       "      <td>66</td>\n",
       "    </tr>\n",
       "    <tr>\n",
       "      <th>14</th>\n",
       "      <td>teacher3</td>\n",
       "      <td>72</td>\n",
       "    </tr>\n",
       "    <tr>\n",
       "      <th>15</th>\n",
       "      <td>teacher3</td>\n",
       "      <td>71</td>\n",
       "    </tr>\n",
       "    <tr>\n",
       "      <th>16</th>\n",
       "      <td>teacher3</td>\n",
       "      <td>63</td>\n",
       "    </tr>\n",
       "    <tr>\n",
       "      <th>17</th>\n",
       "      <td>teacher3</td>\n",
       "      <td>70</td>\n",
       "    </tr>\n",
       "  </tbody>\n",
       "</table>\n",
       "</div>"
      ],
      "text/plain": [
       "     Teacher  Mark\n",
       "0   teacher1    90\n",
       "1   teacher1    76\n",
       "2   teacher1    65\n",
       "3   teacher1    67\n",
       "4   teacher1    73\n",
       "5   teacher1    81\n",
       "6   teacher2    81\n",
       "7   teacher2    86\n",
       "8   teacher2    89\n",
       "9   teacher2    76\n",
       "10  teacher2    94\n",
       "11  teacher2    87\n",
       "12  teacher3    76\n",
       "13  teacher3    66\n",
       "14  teacher3    72\n",
       "15  teacher3    71\n",
       "16  teacher3    63\n",
       "17  teacher3    70"
      ]
     },
     "metadata": {},
     "output_type": "display_data"
    },
    {
     "name": "stdout",
     "output_type": "stream",
     "text": [
      "------------------\n",
      "Sample mean 1: 75.33333333333333\n",
      "------------------\n",
      "Sample mean 2: 85.5\n",
      "------------------\n",
      "Sample mean 3: 69.66666666666667\n",
      "------------------\n"
     ]
    }
   ],
   "source": [
    "#Importing required libraries\n",
    "import pandas as pd\n",
    "import numpy as np\n",
    "\n",
    "#Reading the data containing the marks of 18 students divided between 3 teachers of a school\n",
    "test = pd.read_csv(\"data/mark_teacher.csv\")\n",
    "print(\"Test dataframe :\")\n",
    "display(test)\n",
    "print(\"------------------\")\n",
    "\n",
    "#Calculating the mean of marks scored by students of respective teachers\n",
    "mean_teacher1 = np.mean(test.loc[test[\"Teacher\"] == \"teacher1\",\"Mark\"])\n",
    "print(\"Sample mean 1:\",mean_teacher1)\n",
    "print(\"------------------\")\n",
    "mean_teacher2 = np.mean(test.loc[test[\"Teacher\"] == \"teacher2\",\"Mark\"])\n",
    "print(\"Sample mean 2:\",mean_teacher2)\n",
    "print(\"------------------\")\n",
    "mean_teacher3 = np.mean(test.loc[test[\"Teacher\"] == \"teacher3\",\"Mark\"])\n",
    "print(\"Sample mean 3:\",mean_teacher3)\n",
    "print(\"------------------\")"
   ]
  },
  {
   "cell_type": "code",
   "execution_count": 35,
   "metadata": {},
   "outputs": [
    {
     "data": {
      "image/png": "[encoded data removed]",
      "text/plain": [
       "<Figure size 432x288 with 1 Axes>"
      ]
     },
     "metadata": {},
     "output_type": "display_data"
    }
   ],
   "source": [
    "#Importing required libraries\n",
    "import seaborn as sns\n",
    "import matplotlib.pyplot as plt\n",
    "\n",
    "#Visualizing the difference in the performance of the three groups\n",
    "sns.boxplot(y='Mark', x = 'Teacher', data=test)\n",
    "plt.show()"
   ]
  },
  {
   "cell_type": "code",
   "execution_count": 36,
   "metadata": {},
   "outputs": [
    {
     "name": "stdout",
     "output_type": "stream",
     "text": [
      "Sum of Squares total: 1504.5\n"
     ]
    }
   ],
   "source": [
    "#Importing NumPy library as np\n",
    "import numpy as np\n",
    "#Calculating the Sum of Squares total (SST)\n",
    "mean_overall = np.mean(test[\"Mark\"])\n",
    "SST = np.sum((test[\"Mark\"] - mean_overall)**2)\n",
    "print(\"Sum of Squares total:\",SST)"
   ]
  },
  {
   "cell_type": "code",
   "execution_count": 37,
   "metadata": {},
   "outputs": [
    {
     "name": "stdout",
     "output_type": "stream",
     "text": [
      "Sum of Squares Within 1: 429.33333333333326 \n",
      "Sum of Squares Within 2: 197.5 \n",
      "Sum of Squares Within 3: 105.33333333333334\n",
      "Total Sum of Squares Within: 732.1666666666666\n"
     ]
    }
   ],
   "source": [
    "#Calculating Sum of Squares Within\n",
    "SSW1 = np.sum((test.loc[test[\"Teacher\"] == \"teacher1\",\"Mark\"] - mean_teacher1)**2)\n",
    "SSW2 = np.sum((test.loc[test[\"Teacher\"] == \"teacher2\",\"Mark\"] - mean_teacher2)**2)\n",
    "SSW3 = np.sum((test.loc[test[\"Teacher\"] == \"teacher3\",\"Mark\"] - mean_teacher3)**2)\n",
    "print(\"Sum of Squares Within 1:\",SSW1,\"\\nSum of Squares Within 2:\",SSW2,\"\\nSum of Squares Within 3:\",SSW3)\n",
    "SSW = SSW1+SSW2+SSW3\n",
    "print(\"Total Sum of Squares Within:\",SSW)"
   ]
  },
  {
   "cell_type": "code",
   "execution_count": 38,
   "metadata": {},
   "outputs": [
    {
     "name": "stdout",
     "output_type": "stream",
     "text": [
      "Sum of Squares Between: 772.333333333333\n"
     ]
    }
   ],
   "source": [
    "#Calculating Sum of Squares Between\n",
    "SSB_teacher1 = len(test.loc[test[\"Teacher\"] == \"teacher1\",\"Mark\"]) * \\\n",
    "                ((mean_teacher1 - mean_overall)**2)\n",
    "SSB_teacher2 = len(test.loc[test[\"Teacher\"] == \"teacher2\",\"Mark\"]) * \\\n",
    "                ((mean_teacher2 - mean_overall)**2)\n",
    "SSB_teacher3 = len(test.loc[test[\"Teacher\"] == \"teacher3\",\"Mark\"]) * \\\n",
    "                ((mean_teacher3 - mean_overall)**2)\n",
    "SSB = SSB_teacher1 + SSB_teacher2 + SSB_teacher3\n",
    "print(\"Sum of Squares Between:\",SSB)"
   ]
  },
  {
   "cell_type": "code",
   "execution_count": 39,
   "metadata": {},
   "outputs": [
    {
     "name": "stdout",
     "output_type": "stream",
     "text": [
      "SSB: 772.333333333333\n",
      "SSW: 732.1666666666666\n",
      "SSW+SSB: 1504.4999999999995\n",
      "SST: 1504.5\n"
     ]
    }
   ],
   "source": [
    "print(\"SSB:\",SSB)\n",
    "print(\"SSW:\",SSW)\n",
    "print(\"SSW+SSB:\",SSW + SSB)\n",
    "print(\"SST:\",SST)"
   ]
  },
  {
   "cell_type": "code",
   "execution_count": 40,
   "metadata": {},
   "outputs": [
    {
     "name": "stdout",
     "output_type": "stream",
     "text": [
      "df_total: 17\n",
      "df_between: 2\n",
      "df_within: 15\n"
     ]
    }
   ],
   "source": [
    "#Calculating various degrees of freedoms\n",
    "N = 18\n",
    "k = 3\n",
    "n = 6\n",
    "df_total = N-1\n",
    "df_between = k-1\n",
    "df_within = k * (n-1)\n",
    "print(\"df_total:\",df_total)\n",
    "print(\"df_between:\",df_between)\n",
    "print(\"df_within:\",df_within)"
   ]
  },
  {
   "cell_type": "code",
   "execution_count": 41,
   "metadata": {},
   "outputs": [
    {
     "name": "stdout",
     "output_type": "stream",
     "text": [
      "MST: 88.5\n",
      "MSB: 386.1666666666665\n",
      "MSW: 48.81111111111111\n"
     ]
    }
   ],
   "source": [
    "#Calculating various mean square\n",
    "MST = SST / df_total\n",
    "MSB = SSB / df_between\n",
    "MSW = SSW / df_within\n",
    "print(\"MST:\",MST)\n",
    "print(\"MSB:\",MSB)\n",
    "print(\"MSW:\",MSW)"
   ]
  },
  {
   "cell_type": "code",
   "execution_count": 42,
   "metadata": {},
   "outputs": [
    {
     "name": "stdout",
     "output_type": "stream",
     "text": [
      "F_calculated: 7.911450034145228\n"
     ]
    }
   ],
   "source": [
    "#Calculating F statistic\n",
    "F_calculated = MSB/MSW\n",
    "print(\"F_calculated:\",F_calculated)"
   ]
  },
  {
   "cell_type": "code",
   "execution_count": 43,
   "metadata": {},
   "outputs": [
    {
     "name": "stdout",
     "output_type": "stream",
     "text": [
      "F_critical: 3.6823203436732412\n"
     ]
    }
   ],
   "source": [
    "#Importing f function from scipy.stats module to calculate the F-Critical value\n",
    "from scipy.stats import f\n",
    "F_critical = f.ppf(0.95,2,15)\n",
    "print(\"F_critical:\",F_critical)"
   ]
  },
  {
   "cell_type": "code",
   "execution_count": 44,
   "metadata": {},
   "outputs": [
    {
     "name": "stdout",
     "output_type": "stream",
     "text": [
      "F_onewayResult(statistic=7.911450034145229, pvalue=0.004509549994581455)\n"
     ]
    }
   ],
   "source": [
    "#Importing stats function from scipy.stats module to calculate the F Statistics\n",
    "import scipy.stats as stats\n",
    "result_anova = stats.f_oneway(test.loc[test[\"Teacher\"] == \"teacher1\",\"Mark\"],\n",
    "                              test.loc[test[\"Teacher\"] == \"teacher2\",\"Mark\"],\n",
    "                              test.loc[test[\"Teacher\"] == \"teacher3\",\"Mark\"])\n",
    "print(result_anova)"
   ]
  },
  {
   "cell_type": "code",
   "execution_count": 45,
   "metadata": {},
   "outputs": [
    {
     "data": {
      "text/html": [
       "<div>\n",
       "<style scoped>\n",
       "    .dataframe tbody tr th:only-of-type {\n",
       "        vertical-align: middle;\n",
       "    }\n",
       "\n",
       "    .dataframe tbody tr th {\n",
       "        vertical-align: top;\n",
       "    }\n",
       "\n",
       "    .dataframe thead th {\n",
       "        text-align: right;\n",
       "    }\n",
       "</style>\n",
       "<table border=\"1\" class=\"dataframe\">\n",
       "  <thead>\n",
       "    <tr style=\"text-align: right;\">\n",
       "      <th></th>\n",
       "      <th>sum_sq</th>\n",
       "      <th>df</th>\n",
       "      <th>F</th>\n",
       "      <th>PR(&gt;F)</th>\n",
       "    </tr>\n",
       "  </thead>\n",
       "  <tbody>\n",
       "    <tr>\n",
       "      <th>Teacher</th>\n",
       "      <td>772.333333</td>\n",
       "      <td>2.0</td>\n",
       "      <td>7.91145</td>\n",
       "      <td>0.00451</td>\n",
       "    </tr>\n",
       "    <tr>\n",
       "      <th>Residual</th>\n",
       "      <td>732.166667</td>\n",
       "      <td>15.0</td>\n",
       "      <td>NaN</td>\n",
       "      <td>NaN</td>\n",
       "    </tr>\n",
       "  </tbody>\n",
       "</table>\n",
       "</div>"
      ],
      "text/plain": [
       "              sum_sq    df        F   PR(>F)\n",
       "Teacher   772.333333   2.0  7.91145  0.00451\n",
       "Residual  732.166667  15.0      NaN      NaN"
      ]
     },
     "execution_count": 45,
     "metadata": {},
     "output_type": "execute_result"
    }
   ],
   "source": [
    "#Alternative Way\n",
    "#Using statsmodels, we get a bit more information & enter the model as a regression formula\n",
    "#Importing required libraries\n",
    "import statsmodels.api as sm\n",
    "from statsmodels.formula.api import ols\n",
    "import warnings\n",
    "warnings.filterwarnings('ignore')\n",
    "\n",
    "#Create an Ordinary Least Square model\n",
    "results = ols('Mark ~ Teacher', data = test).fit()\n",
    "#results.summary()   #change value of typ = 1 or 2 or 3 for different views\n",
    "#Creating Anova table for the model\n",
    "aov_table = sm.stats.anova_lm(results, typ=2) \n",
    "aov_table"
   ]
  },
  {
   "cell_type": "markdown",
   "metadata": {},
   "source": [
    "### Two way ANOVA"
   ]
  },
  {
   "cell_type": "code",
   "execution_count": 46,
   "metadata": {},
   "outputs": [
    {
     "data": {
      "text/html": [
       "<div>\n",
       "<style scoped>\n",
       "    .dataframe tbody tr th:only-of-type {\n",
       "        vertical-align: middle;\n",
       "    }\n",
       "\n",
       "    .dataframe tbody tr th {\n",
       "        vertical-align: top;\n",
       "    }\n",
       "\n",
       "    .dataframe thead th {\n",
       "        text-align: right;\n",
       "    }\n",
       "</style>\n",
       "<table border=\"1\" class=\"dataframe\">\n",
       "  <thead>\n",
       "    <tr style=\"text-align: right;\">\n",
       "      <th></th>\n",
       "      <th>Teacher</th>\n",
       "      <th>Gender</th>\n",
       "      <th>Mark</th>\n",
       "    </tr>\n",
       "  </thead>\n",
       "  <tbody>\n",
       "    <tr>\n",
       "      <th>0</th>\n",
       "      <td>teacher1</td>\n",
       "      <td>Female</td>\n",
       "      <td>90</td>\n",
       "    </tr>\n",
       "    <tr>\n",
       "      <th>1</th>\n",
       "      <td>teacher1</td>\n",
       "      <td>Male</td>\n",
       "      <td>76</td>\n",
       "    </tr>\n",
       "    <tr>\n",
       "      <th>2</th>\n",
       "      <td>teacher1</td>\n",
       "      <td>Male</td>\n",
       "      <td>65</td>\n",
       "    </tr>\n",
       "    <tr>\n",
       "      <th>3</th>\n",
       "      <td>teacher1</td>\n",
       "      <td>Male</td>\n",
       "      <td>67</td>\n",
       "    </tr>\n",
       "    <tr>\n",
       "      <th>4</th>\n",
       "      <td>teacher1</td>\n",
       "      <td>Female</td>\n",
       "      <td>73</td>\n",
       "    </tr>\n",
       "    <tr>\n",
       "      <th>5</th>\n",
       "      <td>teacher1</td>\n",
       "      <td>Female</td>\n",
       "      <td>81</td>\n",
       "    </tr>\n",
       "    <tr>\n",
       "      <th>6</th>\n",
       "      <td>teacher2</td>\n",
       "      <td>Male</td>\n",
       "      <td>81</td>\n",
       "    </tr>\n",
       "    <tr>\n",
       "      <th>7</th>\n",
       "      <td>teacher2</td>\n",
       "      <td>Female</td>\n",
       "      <td>86</td>\n",
       "    </tr>\n",
       "    <tr>\n",
       "      <th>8</th>\n",
       "      <td>teacher2</td>\n",
       "      <td>Male</td>\n",
       "      <td>89</td>\n",
       "    </tr>\n",
       "    <tr>\n",
       "      <th>9</th>\n",
       "      <td>teacher2</td>\n",
       "      <td>Male</td>\n",
       "      <td>76</td>\n",
       "    </tr>\n",
       "    <tr>\n",
       "      <th>10</th>\n",
       "      <td>teacher2</td>\n",
       "      <td>Female</td>\n",
       "      <td>94</td>\n",
       "    </tr>\n",
       "    <tr>\n",
       "      <th>11</th>\n",
       "      <td>teacher2</td>\n",
       "      <td>Female</td>\n",
       "      <td>87</td>\n",
       "    </tr>\n",
       "    <tr>\n",
       "      <th>12</th>\n",
       "      <td>teacher3</td>\n",
       "      <td>Female</td>\n",
       "      <td>76</td>\n",
       "    </tr>\n",
       "    <tr>\n",
       "      <th>13</th>\n",
       "      <td>teacher3</td>\n",
       "      <td>Male</td>\n",
       "      <td>66</td>\n",
       "    </tr>\n",
       "    <tr>\n",
       "      <th>14</th>\n",
       "      <td>teacher3</td>\n",
       "      <td>Female</td>\n",
       "      <td>72</td>\n",
       "    </tr>\n",
       "    <tr>\n",
       "      <th>15</th>\n",
       "      <td>teacher3</td>\n",
       "      <td>Female</td>\n",
       "      <td>71</td>\n",
       "    </tr>\n",
       "    <tr>\n",
       "      <th>16</th>\n",
       "      <td>teacher3</td>\n",
       "      <td>Male</td>\n",
       "      <td>63</td>\n",
       "    </tr>\n",
       "    <tr>\n",
       "      <th>17</th>\n",
       "      <td>teacher3</td>\n",
       "      <td>Male</td>\n",
       "      <td>70</td>\n",
       "    </tr>\n",
       "  </tbody>\n",
       "</table>\n",
       "</div>"
      ],
      "text/plain": [
       "     Teacher  Gender  Mark\n",
       "0   teacher1  Female    90\n",
       "1   teacher1    Male    76\n",
       "2   teacher1    Male    65\n",
       "3   teacher1    Male    67\n",
       "4   teacher1  Female    73\n",
       "5   teacher1  Female    81\n",
       "6   teacher2    Male    81\n",
       "7   teacher2  Female    86\n",
       "8   teacher2    Male    89\n",
       "9   teacher2    Male    76\n",
       "10  teacher2  Female    94\n",
       "11  teacher2  Female    87\n",
       "12  teacher3  Female    76\n",
       "13  teacher3    Male    66\n",
       "14  teacher3  Female    72\n",
       "15  teacher3  Female    71\n",
       "16  teacher3    Male    63\n",
       "17  teacher3    Male    70"
      ]
     },
     "metadata": {},
     "output_type": "display_data"
    }
   ],
   "source": [
    "#Importing required libraries\n",
    "import pandas as pd\n",
    "import numpy as np\n",
    "#Reading and displaying the data from Mark_teacher_gender.csv\n",
    "mark_scored = pd.read_csv(\"data/Mark_teacher_gender.csv\")\n",
    "display(mark_scored)"
   ]
  },
  {
   "cell_type": "code",
   "execution_count": 47,
   "metadata": {},
   "outputs": [
    {
     "name": "stdout",
     "output_type": "stream",
     "text": [
      "Overall mean: 76.83333333333333\n"
     ]
    }
   ],
   "source": [
    "#Calculating Overall Mean \n",
    "overall_mean = np.mean(mark_scored.Mark)\n",
    "print(\"Overall mean:\",overall_mean)"
   ]
  },
  {
   "cell_type": "code",
   "execution_count": 48,
   "metadata": {},
   "outputs": [
    {
     "name": "stdout",
     "output_type": "stream",
     "text": [
      "mean_teacher1: 75.33333333333333\n",
      "mean_teacher2: 85.5\n",
      "mean_teacher3: 69.66666666666667\n"
     ]
    }
   ],
   "source": [
    "#Means with respect to teacher\n",
    "mean_teacher1 = np.mean(mark_scored.loc[mark_scored[\"Teacher\"] == \"teacher1\",\"Mark\"])\n",
    "print(\"mean_teacher1:\",mean_teacher1)\n",
    "mean_teacher2 = np.mean(mark_scored.loc[mark_scored[\"Teacher\"] == \"teacher2\",\"Mark\"])\n",
    "print(\"mean_teacher2:\",mean_teacher2)\n",
    "mean_teacher3 = np.mean(mark_scored.loc[mark_scored[\"Teacher\"] == \"teacher3\",\"Mark\"])\n",
    "print(\"mean_teacher3:\",mean_teacher3)"
   ]
  },
  {
   "cell_type": "code",
   "execution_count": 49,
   "metadata": {},
   "outputs": [
    {
     "name": "stdout",
     "output_type": "stream",
     "text": [
      "mean_male: 72.55555555555556\n",
      "mean_female 81.11111111111111\n"
     ]
    }
   ],
   "source": [
    "#Means with respect to gender\n",
    "mean_male = np.mean(test.loc[mark_scored[\"Gender\"] == \"Male\",\"Mark\"])\n",
    "print(\"mean_male:\",mean_male)\n",
    "mean_female = np.mean(test.loc[mark_scored[\"Gender\"] == \"Female\",\"Mark\"])\n",
    "print(\"mean_female\",mean_female)"
   ]
  },
  {
   "cell_type": "code",
   "execution_count": 50,
   "metadata": {},
   "outputs": [
    {
     "name": "stdout",
     "output_type": "stream",
     "text": [
      "mean_male_teacher1: 69.33333333333333\n",
      "mean_female_teacher1: 81.33333333333333\n",
      "mean_male_teacher2: 82.0\n",
      "mean_female_teacher2: 89.0\n",
      "mean_male_teacher3: 66.33333333333333\n",
      "mean_female_teacher3: 73.0\n"
     ]
    }
   ],
   "source": [
    "#Means with respect to combination of teacher and gender \n",
    "mean_male_teacher1 = np.mean(mark_scored.loc[(mark_scored[\"Teacher\"] == \"teacher1\") & (mark_scored[\"Gender\"] == \"Male\"),\"Mark\"])\n",
    "print(\"mean_male_teacher1:\",mean_male_teacher1)\n",
    "mean_female_teacher1 = np.mean(mark_scored.loc[(mark_scored[\"Teacher\"] == \"teacher1\") & (mark_scored[\"Gender\"] == \"Female\"),\"Mark\"])\n",
    "print(\"mean_female_teacher1:\",mean_female_teacher1)\n",
    "mean_male_teacher2 = np.mean(mark_scored.loc[(mark_scored[\"Teacher\"] == \"teacher2\") & (mark_scored[\"Gender\"] == \"Male\"),\"Mark\"])\n",
    "print(\"mean_male_teacher2:\",mean_male_teacher2)\n",
    "mean_female_teacher2 = np.mean(mark_scored.loc[(mark_scored[\"Teacher\"] == \"teacher2\") & (mark_scored[\"Gender\"] == \"Female\"),\"Mark\"])\n",
    "print(\"mean_female_teacher2:\",mean_female_teacher2)\n",
    "mean_male_teacher3 = np.mean(mark_scored.loc[(mark_scored[\"Teacher\"] == \"teacher3\") & (mark_scored[\"Gender\"] == \"Male\"),\"Mark\"])\n",
    "print(\"mean_male_teacher3:\",mean_male_teacher3)\n",
    "mean_female_teacher3 = np.mean(mark_scored.loc[(mark_scored[\"Teacher\"] == \"teacher3\") & (mark_scored[\"Gender\"] == \"Female\"),\"Mark\"])\n",
    "print(\"mean_female_teacher3:\",mean_female_teacher3)"
   ]
  },
  {
   "cell_type": "code",
   "execution_count": 51,
   "metadata": {},
   "outputs": [
    {
     "name": "stdout",
     "output_type": "stream",
     "text": [
      "Sum of Squares total: 1504.5\n"
     ]
    }
   ],
   "source": [
    "#Importing NumPy library as np\n",
    "import numpy as np\n",
    "#Calculating Sum of Squares total\n",
    "SST = np.sum((mark_scored[\"Mark\"] - overall_mean)**2)\n",
    "print(\"Sum of Squares total:\",SST)"
   ]
  },
  {
   "cell_type": "code",
   "execution_count": 52,
   "metadata": {},
   "outputs": [
    {
     "name": "stdout",
     "output_type": "stream",
     "text": [
      "SSB Teacher: 772.333333333333\n"
     ]
    }
   ],
   "source": [
    "#Calculating the Sum of Squares Between-teacher\n",
    "SSB_teacher1 = len(mark_scored.loc[mark_scored[\"Teacher\"] == \"teacher1\",\"Mark\"]) \\\n",
    "                                        *((mean_teacher1 - overall_mean)**2)\n",
    "SSB_teacher2 = len(mark_scored.loc[mark_scored[\"Teacher\"] == \"teacher2\",\"Mark\"]) \\\n",
    "                                        *((mean_teacher2 - overall_mean)**2)\n",
    "SSB_teacher3 = len(mark_scored.loc[mark_scored[\"Teacher\"] == \"teacher3\",\"Mark\"]) \\\n",
    "                                        *((mean_teacher3 - overall_mean)**2)\n",
    "SSB_teacher = SSB_teacher1 + SSB_teacher2 + SSB_teacher3\n",
    "print(\"SSB Teacher:\",SSB_teacher)"
   ]
  },
  {
   "cell_type": "code",
   "execution_count": 53,
   "metadata": {},
   "outputs": [
    {
     "name": "stdout",
     "output_type": "stream",
     "text": [
      "SSB Gender: 329.388888888889\n"
     ]
    }
   ],
   "source": [
    "#Calculating the Sum of Squares Between-Gender\n",
    "SSB_male = len(mark_scored.loc[mark_scored[\"Gender\"] == \"Male\",\"Mark\"]) \\\n",
    "                                    *((mean_male - overall_mean)**2)\n",
    "SSB_female = len(mark_scored.loc[mark_scored[\"Gender\"] == \"Female\",\"Mark\"]) \\\n",
    "                                    *((mean_female - overall_mean)**2)\n",
    "SSB_gender = SSB_male + SSB_female\n",
    "print(\"SSB Gender:\",SSB_gender)"
   ]
  },
  {
   "cell_type": "code",
   "execution_count": 54,
   "metadata": {},
   "outputs": [
    {
     "name": "stdout",
     "output_type": "stream",
     "text": [
      "SSW1: 68.66666666666667\n",
      "SSW2: 144.66666666666669\n",
      "SSW3: 86.0\n",
      "SSW4: 38.0\n",
      "SSW5: 24.666666666666664\n",
      "SSW6: 14.0\n",
      "--------------------------\n",
      "SSW: 376.00000000000006\n"
     ]
    }
   ],
   "source": [
    "#Calculating Sum of Squares Within\n",
    "SSW1 = np.sum((mark_scored.loc[(mark_scored[\"Teacher\"] == \"teacher1\") \n",
    "                               & (mark_scored[\"Gender\"] == \"Male\"),\"Mark\"] \\\n",
    "                               - mean_male_teacher1)**2)\n",
    "print(\"SSW1:\",SSW1)\n",
    "SSW2 = np.sum((mark_scored.loc[(mark_scored[\"Teacher\"] == \"teacher1\") \n",
    "                               & (mark_scored[\"Gender\"] == \"Female\"),\"Mark\"] \\\n",
    "                               - mean_female_teacher1)**2)\n",
    "print(\"SSW2:\",SSW2)\n",
    "SSW3 = np.sum((mark_scored.loc[(mark_scored[\"Teacher\"] == \"teacher2\") \n",
    "                               & (mark_scored[\"Gender\"] == \"Male\"),\"Mark\"] \\\n",
    "                               - mean_male_teacher2)**2)\n",
    "print(\"SSW3:\",SSW3)\n",
    "SSW4 = np.sum((mark_scored.loc[(mark_scored[\"Teacher\"] == \"teacher2\") \n",
    "                               & (mark_scored[\"Gender\"] == \"Female\"),\"Mark\"] \\\n",
    "                               - mean_female_teacher2)**2)\n",
    "print(\"SSW4:\",SSW4)\n",
    "SSW5 = np.sum((mark_scored.loc[(mark_scored[\"Teacher\"] == \"teacher3\") \n",
    "                               & (mark_scored[\"Gender\"] == \"Male\"),\"Mark\"] \\\n",
    "                               - mean_male_teacher3)**2)\n",
    "print(\"SSW5:\",SSW5)\n",
    "SSW6 = np.sum((mark_scored.loc[(mark_scored[\"Teacher\"] == \"teacher3\") \n",
    "                               & (mark_scored[\"Gender\"] == \"Female\"),\"Mark\"] \\\n",
    "                               - mean_female_teacher3)**2)\n",
    "print(\"SSW6:\",SSW6)\n",
    "SSW = SSW1 + SSW2 + SSW3 + SSW4 + SSW5 + SSW6 \n",
    "print(\"--------------------------\")\n",
    "print(\"SSW:\",SSW)"
   ]
  },
  {
   "cell_type": "code",
   "execution_count": 55,
   "metadata": {},
   "outputs": [
    {
     "name": "stdout",
     "output_type": "stream",
     "text": [
      "SSB combined: 26.777777777777885\n"
     ]
    }
   ],
   "source": [
    "#Calculating the Sum of Squares Combined\n",
    "SSB_combined = SST - SSB_teacher - SSB_gender - SSW\n",
    "print(\"SSB combined:\",SSB_combined)"
   ]
  },
  {
   "cell_type": "code",
   "execution_count": 56,
   "metadata": {
    "scrolled": true
   },
   "outputs": [
    {
     "name": "stdout",
     "output_type": "stream",
     "text": [
      "df_total: 17\n",
      "df_between_teacher: 2\n",
      "df_between_gender: 1\n",
      "df_combined: 2\n",
      "df_within: 12\n"
     ]
    }
   ],
   "source": [
    "#Calculating the Degree of freedoms\n",
    "df_total = len(mark_scored.Mark) - 1\n",
    "print(\"df_total:\",df_total)\n",
    "\n",
    "Cat_teach= pd.Series(pd.Categorical(mark_scored.Teacher))\n",
    "df_between_teacher = len(Cat_teach.cat.categories) - 1\n",
    "print(\"df_between_teacher:\",df_between_teacher)\n",
    "\n",
    "Cat_gender= pd.Series(pd.Categorical(mark_scored.Gender))\n",
    "df_between_gender = len(Cat_gender.cat.categories) - 1\n",
    "print(\"df_between_gender:\",df_between_gender)\n",
    "\n",
    "df_combined = df_between_teacher * df_between_gender\n",
    "print(\"df_combined:\",df_combined)\n",
    "\n",
    "df_within = len(Cat_teach.cat.categories) * len(Cat_gender.cat.categories) * 2\n",
    "print(\"df_within:\",df_within)"
   ]
  },
  {
   "cell_type": "code",
   "execution_count": 57,
   "metadata": {},
   "outputs": [
    {
     "name": "stdout",
     "output_type": "stream",
     "text": [
      "MSB_teacher: 386.1666666666665\n",
      "MSB_gender: 329.388888888889\n",
      "MSB_combined: 13.388888888888943\n",
      "MSW: 31.33333333333334\n"
     ]
    }
   ],
   "source": [
    "#Calculating Mean squares\n",
    "MSB_teacher = SSB_teacher / df_between_teacher\n",
    "MSB_gender = SSB_gender / df_between_gender\n",
    "MSB_combined = SSB_combined / df_combined\n",
    "MSW = SSW / df_within\n",
    "print(\"MSB_teacher:\",MSB_teacher)\n",
    "print(\"MSB_gender:\",MSB_gender)\n",
    "print(\"MSB_combined:\",MSB_combined)\n",
    "print(\"MSW:\",MSW)"
   ]
  },
  {
   "cell_type": "code",
   "execution_count": 58,
   "metadata": {},
   "outputs": [
    {
     "name": "stdout",
     "output_type": "stream",
     "text": [
      "F_teacher: 12.324468085106377\n",
      "F_gender: 10.512411347517732\n",
      "F_combined: 0.42730496453900874\n"
     ]
    }
   ],
   "source": [
    "#Calculating F Statistics\n",
    "F_teacher = MSB_teacher / MSW\n",
    "F_gender = MSB_gender / MSW\n",
    "F_combined = MSB_combined / MSW\n",
    "print(\"F_teacher:\",F_teacher)\n",
    "print(\"F_gender:\",F_gender)\n",
    "print(\"F_combined:\",F_combined)"
   ]
  },
  {
   "cell_type": "code",
   "execution_count": 59,
   "metadata": {},
   "outputs": [
    {
     "name": "stdout",
     "output_type": "stream",
     "text": [
      "F_critical_teacher: 3.8852938346523933\n",
      "F_critical_gender: 4.747225346722511\n",
      "F_critical_combined: 3.8852938346523933\n"
     ]
    }
   ],
   "source": [
    "#Calculating F-Critical\n",
    "#Importing f function from scipy.stats module\n",
    "from scipy.stats import f\n",
    "F_critical_teacher = f.ppf(0.95,2,12)\n",
    "F_critical_gender = f.ppf(0.95,1,12)\n",
    "F_critical_combined = f.ppf(0.95,2,12)\n",
    "print(\"F_critical_teacher:\",F_critical_teacher)\n",
    "print(\"F_critical_gender:\",F_critical_gender)\n",
    "print(\"F_critical_combined:\",F_critical_combined)"
   ]
  },
  {
   "cell_type": "code",
   "execution_count": 60,
   "metadata": {},
   "outputs": [
    {
     "data": {
      "text/html": [
       "<div>\n",
       "<style scoped>\n",
       "    .dataframe tbody tr th:only-of-type {\n",
       "        vertical-align: middle;\n",
       "    }\n",
       "\n",
       "    .dataframe tbody tr th {\n",
       "        vertical-align: top;\n",
       "    }\n",
       "\n",
       "    .dataframe thead th {\n",
       "        text-align: right;\n",
       "    }\n",
       "</style>\n",
       "<table border=\"1\" class=\"dataframe\">\n",
       "  <thead>\n",
       "    <tr style=\"text-align: right;\">\n",
       "      <th></th>\n",
       "      <th>sum_sq</th>\n",
       "      <th>df</th>\n",
       "      <th>F</th>\n",
       "      <th>PR(&gt;F)</th>\n",
       "    </tr>\n",
       "  </thead>\n",
       "  <tbody>\n",
       "    <tr>\n",
       "      <th>Teacher</th>\n",
       "      <td>772.333333</td>\n",
       "      <td>2.0</td>\n",
       "      <td>12.324468</td>\n",
       "      <td>0.001232</td>\n",
       "    </tr>\n",
       "    <tr>\n",
       "      <th>Gender</th>\n",
       "      <td>329.388889</td>\n",
       "      <td>1.0</td>\n",
       "      <td>10.512411</td>\n",
       "      <td>0.007057</td>\n",
       "    </tr>\n",
       "    <tr>\n",
       "      <th>Teacher:Gender</th>\n",
       "      <td>26.777778</td>\n",
       "      <td>2.0</td>\n",
       "      <td>0.427305</td>\n",
       "      <td>0.661811</td>\n",
       "    </tr>\n",
       "    <tr>\n",
       "      <th>Residual</th>\n",
       "      <td>376.000000</td>\n",
       "      <td>12.0</td>\n",
       "      <td>NaN</td>\n",
       "      <td>NaN</td>\n",
       "    </tr>\n",
       "  </tbody>\n",
       "</table>\n",
       "</div>"
      ],
      "text/plain": [
       "                    sum_sq    df          F    PR(>F)\n",
       "Teacher         772.333333   2.0  12.324468  0.001232\n",
       "Gender          329.388889   1.0  10.512411  0.007057\n",
       "Teacher:Gender   26.777778   2.0   0.427305  0.661811\n",
       "Residual        376.000000  12.0        NaN       NaN"
      ]
     },
     "execution_count": 60,
     "metadata": {},
     "output_type": "execute_result"
    }
   ],
   "source": [
    "#Importing required libraries\n",
    "import statsmodels.api as sm\n",
    "from statsmodels.formula.api import ols\n",
    "\n",
    "#Creating a model\n",
    "result_two_way_anova = ols('Mark ~ Teacher + Gender + Teacher:Gender', data = mark_scored).fit()\n",
    "#result_two_way_anova.summary()          #change value of typ = 1 or 2 or 3 for different views\n",
    "#Create ANOVA table for the model\n",
    "aov_table = sm.stats.anova_lm(result_two_way_anova, typ=2) \n",
    "aov_table"
   ]
  },
  {
   "cell_type": "markdown",
   "metadata": {},
   "source": [
    "### ANCOVA"
   ]
  },
  {
   "cell_type": "code",
   "execution_count": 61,
   "metadata": {},
   "outputs": [
    {
     "data": {
      "text/html": [
       "<div>\n",
       "<style scoped>\n",
       "    .dataframe tbody tr th:only-of-type {\n",
       "        vertical-align: middle;\n",
       "    }\n",
       "\n",
       "    .dataframe tbody tr th {\n",
       "        vertical-align: top;\n",
       "    }\n",
       "\n",
       "    .dataframe thead th {\n",
       "        text-align: right;\n",
       "    }\n",
       "</style>\n",
       "<table border=\"1\" class=\"dataframe\">\n",
       "  <thead>\n",
       "    <tr style=\"text-align: right;\">\n",
       "      <th></th>\n",
       "      <th>sum_sq</th>\n",
       "      <th>df</th>\n",
       "      <th>F</th>\n",
       "      <th>PR(&gt;F)</th>\n",
       "    </tr>\n",
       "  </thead>\n",
       "  <tbody>\n",
       "    <tr>\n",
       "      <th>C(Section, Treatment(reference=\"None\"))</th>\n",
       "      <td>99586.96</td>\n",
       "      <td>4.0</td>\n",
       "      <td>8.804154</td>\n",
       "      <td>0.000287</td>\n",
       "    </tr>\n",
       "    <tr>\n",
       "      <th>Residual</th>\n",
       "      <td>56556.80</td>\n",
       "      <td>20.0</td>\n",
       "      <td>NaN</td>\n",
       "      <td>NaN</td>\n",
       "    </tr>\n",
       "  </tbody>\n",
       "</table>\n",
       "</div>"
      ],
      "text/plain": [
       "                                           sum_sq    df         F    PR(>F)\n",
       "C(Section, Treatment(reference=\"None\"))  99586.96   4.0  8.804154  0.000287\n",
       "Residual                                 56556.80  20.0       NaN       NaN"
      ]
     },
     "execution_count": 61,
     "metadata": {},
     "output_type": "execute_result"
    }
   ],
   "source": [
    "#importing required libraries\n",
    "import pandas as pd\n",
    "import statsmodels.api as sm\n",
    "import statsmodels.formula.api as smf\n",
    "from statsmodels.formula.api import ols\n",
    "\n",
    "#Reading the data from marks_section.xlsx\n",
    "student_marks = pd.read_excel(\"data/marks_section.xlsx\")\n",
    "#display(student_marks)\n",
    "\n",
    "#Creating a model\n",
    "result_1 = smf.ols('Mark ~ C(Section, Treatment(reference=\"None\"))', data = student_marks).fit()\n",
    "#result_1.summary()\n",
    "\n",
    "#Create ANOVA table for the model\n",
    "aov_table = sm.stats.anova_lm(result_1, typ=2) #change value of typ = 1 or 2 or 3 for different views\n",
    "aov_table\n",
    "\n",
    "#OR#\n",
    "# Fit the model\n",
    "#from statsmodels.stats.anova import anova_lm\n",
    "#model = ols('Mark ~ C(Section, Treatment(reference=\"None\"))', student_marks).fit()\n",
    "# Peform analysis of variance on fitted linear model\n",
    "#anova_results = anova_lm(model, typ=2)\n",
    "#anova_results"
   ]
  },
  {
   "cell_type": "code",
   "execution_count": 62,
   "metadata": {},
   "outputs": [
    {
     "name": "stdout",
     "output_type": "stream",
     "text": [
      "Correlation between Marks and Hours 0.6843498815480881\n"
     ]
    },
    {
     "data": {
      "image/png": "[encoded data removed]",
      "text/plain": [
       "<Figure size 432x288 with 1 Axes>"
      ]
     },
     "metadata": {},
     "output_type": "display_data"
    }
   ],
   "source": [
    "#Importing required libraries\n",
    "import pandas as pd\n",
    "import matplotlib.pyplot as plt\n",
    "\n",
    "#Reading the data from marks_hour.xlsx\n",
    "mark_hour = pd.read_excel(\"data/marks_hour.xlsx\")\n",
    "#display(mark_hour)\n",
    "Mark = mark_hour[\"Mark\"]\n",
    "Hours = mark_hour[\"Hours_per_Day\"]\n",
    "print(\"Correlation between Marks and Hours\", Mark.corr(Hours))\n",
    "\n",
    "#Plotting scatter plot between Mark and Hours_per_Day\n",
    "plt.scatter(mark_hour['Hours_per_Day'],mark_hour['Mark'])\n",
    "plt.xlabel('Hours per day')\n",
    "plt.ylabel('Marks')\n",
    "plt.show()"
   ]
  },
  {
   "cell_type": "code",
   "execution_count": 63,
   "metadata": {},
   "outputs": [
    {
     "data": {
      "text/html": [
       "<table class=\"simpletable\">\n",
       "<caption>OLS Regression Results</caption>\n",
       "<tr>\n",
       "  <th>Dep. Variable:</th>          <td>Mark</td>       <th>  R-squared:         </th> <td>   0.468</td>\n",
       "</tr>\n",
       "<tr>\n",
       "  <th>Model:</th>                   <td>OLS</td>       <th>  Adj. R-squared:    </th> <td>   0.439</td>\n",
       "</tr>\n",
       "<tr>\n",
       "  <th>Method:</th>             <td>Least Squares</td>  <th>  F-statistic:       </th> <td>   15.86</td>\n",
       "</tr>\n",
       "<tr>\n",
       "  <th>Date:</th>             <td>Mon, 05 Jul 2021</td> <th>  Prob (F-statistic):</th> <td>0.000874</td>\n",
       "</tr>\n",
       "<tr>\n",
       "  <th>Time:</th>                 <td>22:01:58</td>     <th>  Log-Likelihood:    </th> <td> -102.65</td>\n",
       "</tr>\n",
       "<tr>\n",
       "  <th>No. Observations:</th>      <td>    20</td>      <th>  AIC:               </th> <td>   209.3</td>\n",
       "</tr>\n",
       "<tr>\n",
       "  <th>Df Residuals:</th>          <td>    18</td>      <th>  BIC:               </th> <td>   211.3</td>\n",
       "</tr>\n",
       "<tr>\n",
       "  <th>Df Model:</th>              <td>     1</td>      <th>                     </th>     <td> </td>   \n",
       "</tr>\n",
       "<tr>\n",
       "  <th>Covariance Type:</th>      <td>nonrobust</td>    <th>                     </th>     <td> </td>   \n",
       "</tr>\n",
       "</table>\n",
       "<table class=\"simpletable\">\n",
       "<tr>\n",
       "        <td></td>           <th>coef</th>     <th>std err</th>      <th>t</th>      <th>P>|t|</th>  <th>[0.025</th>    <th>0.975]</th>  \n",
       "</tr>\n",
       "<tr>\n",
       "  <th>Intercept</th>     <td>  103.7795</td> <td>   78.678</td> <td>    1.319</td> <td> 0.204</td> <td>  -61.518</td> <td>  269.076</td>\n",
       "</tr>\n",
       "<tr>\n",
       "  <th>Hours_per_Day</th> <td>   42.3021</td> <td>   10.623</td> <td>    3.982</td> <td> 0.001</td> <td>   19.983</td> <td>   64.621</td>\n",
       "</tr>\n",
       "</table>\n",
       "<table class=\"simpletable\">\n",
       "<tr>\n",
       "  <th>Omnibus:</th>       <td> 0.200</td> <th>  Durbin-Watson:     </th> <td>   1.070</td>\n",
       "</tr>\n",
       "<tr>\n",
       "  <th>Prob(Omnibus):</th> <td> 0.905</td> <th>  Jarque-Bera (JB):  </th> <td>   0.067</td>\n",
       "</tr>\n",
       "<tr>\n",
       "  <th>Skew:</th>          <td> 0.108</td> <th>  Prob(JB):          </th> <td>   0.967</td>\n",
       "</tr>\n",
       "<tr>\n",
       "  <th>Kurtosis:</th>      <td> 2.818</td> <th>  Cond. No.          </th> <td>    61.4</td>\n",
       "</tr>\n",
       "</table><br/><br/>Warnings:<br/>[1] Standard Errors assume that the covariance matrix of the errors is correctly specified."
      ],
      "text/plain": [
       "<class 'statsmodels.iolib.summary.Summary'>\n",
       "\"\"\"\n",
       "                            OLS Regression Results                            \n",
       "==============================================================================\n",
       "Dep. Variable:                   Mark   R-squared:                       0.468\n",
       "Model:                            OLS   Adj. R-squared:                  0.439\n",
       "Method:                 Least Squares   F-statistic:                     15.86\n",
       "Date:                Mon, 05 Jul 2021   Prob (F-statistic):           0.000874\n",
       "Time:                        22:01:58   Log-Likelihood:                -102.65\n",
       "No. Observations:                  20   AIC:                             209.3\n",
       "Df Residuals:                      18   BIC:                             211.3\n",
       "Df Model:                           1                                         \n",
       "Covariance Type:            nonrobust                                         \n",
       "=================================================================================\n",
       "                    coef    std err          t      P>|t|      [0.025      0.975]\n",
       "---------------------------------------------------------------------------------\n",
       "Intercept       103.7795     78.678      1.319      0.204     -61.518     269.076\n",
       "Hours_per_Day    42.3021     10.623      3.982      0.001      19.983      64.621\n",
       "==============================================================================\n",
       "Omnibus:                        0.200   Durbin-Watson:                   1.070\n",
       "Prob(Omnibus):                  0.905   Jarque-Bera (JB):                0.067\n",
       "Skew:                           0.108   Prob(JB):                        0.967\n",
       "Kurtosis:                       2.818   Cond. No.                         61.4\n",
       "==============================================================================\n",
       "\n",
       "Warnings:\n",
       "[1] Standard Errors assume that the covariance matrix of the errors is correctly specified.\n",
       "\"\"\""
      ]
     },
     "execution_count": 63,
     "metadata": {},
     "output_type": "execute_result"
    }
   ],
   "source": [
    "#Importing required library\n",
    "from statsmodels.formula.api import ols\n",
    "#Creating a regression model \n",
    "model = ols('Mark ~ Hours_per_Day', mark_hour).fit()\n",
    "model.summary()"
   ]
  },
  {
   "cell_type": "code",
   "execution_count": 64,
   "metadata": {},
   "outputs": [
    {
     "data": {
      "image/png": "[encoded data removed]",
      "text/plain": [
       "<Figure size 432x288 with 1 Axes>"
      ]
     },
     "metadata": {},
     "output_type": "display_data"
    }
   ],
   "source": [
    "#Importing required libraries\n",
    "import numpy as np\n",
    "import matplotlib.pyplot as plt\n",
    "\n",
    "def abline(slope, intercept):\n",
    "    \"\"\"Plot a line from slope and intercept\"\"\"\n",
    "    axes = plt.gca()  #Get the current Axes instance\n",
    "    x_vals = np.array(axes.get_xlim())\n",
    "    y_vals = intercept + slope * x_vals\n",
    "    plt.plot(x_vals, y_vals, '-')\n",
    "    \n",
    "#Visualizing the scatter plot\n",
    "plt.scatter(mark_hour['Hours_per_Day'],mark_hour['Mark'])\n",
    "plt.xlim(0,10)\n",
    "plt.ylim(100,600)\n",
    "plt.xlabel('Hours per day')\n",
    "plt.ylabel('Marks')\n",
    "plt.title('Variation of marks with respect to hours per day')\n",
    "abline(42.30,103.78)\n",
    "plt.show()"
   ]
  },
  {
   "cell_type": "code",
   "execution_count": 65,
   "metadata": {},
   "outputs": [],
   "source": [
    "#Importing Pandas as pd\n",
    "import pandas as pd\n",
    "#Reading data from mark_hour_2.xlsx\n",
    "mark_hour_2 = pd.read_excel(\"data/mark_hour_2.xlsx\")\n",
    "#display(mark_hour_2)"
   ]
  },
  {
   "cell_type": "code",
   "execution_count": 66,
   "metadata": {},
   "outputs": [
    {
     "data": {
      "text/html": [
       "<table class=\"simpletable\">\n",
       "<caption>OLS Regression Results</caption>\n",
       "<tr>\n",
       "  <th>Dep. Variable:</th>          <td>Mark</td>       <th>  R-squared:         </th> <td>   0.790</td>\n",
       "</tr>\n",
       "<tr>\n",
       "  <th>Model:</th>                   <td>OLS</td>       <th>  Adj. R-squared:    </th> <td>   0.734</td>\n",
       "</tr>\n",
       "<tr>\n",
       "  <th>Method:</th>             <td>Least Squares</td>  <th>  F-statistic:       </th> <td>   14.28</td>\n",
       "</tr>\n",
       "<tr>\n",
       "  <th>Date:</th>             <td>Mon, 05 Jul 2021</td> <th>  Prob (F-statistic):</th> <td>7.10e-06</td>\n",
       "</tr>\n",
       "<tr>\n",
       "  <th>Time:</th>                 <td>22:01:58</td>     <th>  Log-Likelihood:    </th> <td> -125.22</td>\n",
       "</tr>\n",
       "<tr>\n",
       "  <th>No. Observations:</th>      <td>    25</td>      <th>  AIC:               </th> <td>   262.4</td>\n",
       "</tr>\n",
       "<tr>\n",
       "  <th>Df Residuals:</th>          <td>    19</td>      <th>  BIC:               </th> <td>   269.8</td>\n",
       "</tr>\n",
       "<tr>\n",
       "  <th>Df Model:</th>              <td>     5</td>      <th>                     </th>     <td> </td>   \n",
       "</tr>\n",
       "<tr>\n",
       "  <th>Covariance Type:</th>      <td>nonrobust</td>    <th>                     </th>     <td> </td>   \n",
       "</tr>\n",
       "</table>\n",
       "<table class=\"simpletable\">\n",
       "<tr>\n",
       "                        <td></td>                          <th>coef</th>     <th>std err</th>      <th>t</th>      <th>P>|t|</th>  <th>[0.025</th>    <th>0.975]</th>  \n",
       "</tr>\n",
       "<tr>\n",
       "  <th>Intercept</th>                                    <td>   12.0429</td> <td>   75.436</td> <td>    0.160</td> <td> 0.875</td> <td> -145.847</td> <td>  169.933</td>\n",
       "</tr>\n",
       "<tr>\n",
       "  <th>C(Section, Treatment(reference=\"None\"))[T.A]</th> <td>  158.3537</td> <td>   26.584</td> <td>    5.957</td> <td> 0.000</td> <td>  102.713</td> <td>  213.994</td>\n",
       "</tr>\n",
       "<tr>\n",
       "  <th>C(Section, Treatment(reference=\"None\"))[T.B]</th> <td>  118.2000</td> <td>   26.288</td> <td>    4.496</td> <td> 0.000</td> <td>   63.178</td> <td>  173.222</td>\n",
       "</tr>\n",
       "<tr>\n",
       "  <th>C(Section, Treatment(reference=\"None\"))[T.C]</th> <td>   96.3695</td> <td>   26.948</td> <td>    3.576</td> <td> 0.002</td> <td>   39.966</td> <td>  152.773</td>\n",
       "</tr>\n",
       "<tr>\n",
       "  <th>C(Section, Treatment(reference=\"None\"))[T.D]</th> <td>  161.2000</td> <td>   26.288</td> <td>    6.132</td> <td> 0.000</td> <td>  106.178</td> <td>  216.222</td>\n",
       "</tr>\n",
       "<tr>\n",
       "  <th>Hours_per_Day</th>                                <td>   36.6158</td> <td>    9.880</td> <td>    3.706</td> <td> 0.001</td> <td>   15.937</td> <td>   57.294</td>\n",
       "</tr>\n",
       "</table>\n",
       "<table class=\"simpletable\">\n",
       "<tr>\n",
       "  <th>Omnibus:</th>       <td> 3.017</td> <th>  Durbin-Watson:     </th> <td>   1.655</td>\n",
       "</tr>\n",
       "<tr>\n",
       "  <th>Prob(Omnibus):</th> <td> 0.221</td> <th>  Jarque-Bera (JB):  </th> <td>   1.575</td>\n",
       "</tr>\n",
       "<tr>\n",
       "  <th>Skew:</th>          <td>-0.554</td> <th>  Prob(JB):          </th> <td>   0.455</td>\n",
       "</tr>\n",
       "<tr>\n",
       "  <th>Kurtosis:</th>      <td> 3.534</td> <th>  Cond. No.          </th> <td>    69.6</td>\n",
       "</tr>\n",
       "</table><br/><br/>Warnings:<br/>[1] Standard Errors assume that the covariance matrix of the errors is correctly specified."
      ],
      "text/plain": [
       "<class 'statsmodels.iolib.summary.Summary'>\n",
       "\"\"\"\n",
       "                            OLS Regression Results                            \n",
       "==============================================================================\n",
       "Dep. Variable:                   Mark   R-squared:                       0.790\n",
       "Model:                            OLS   Adj. R-squared:                  0.734\n",
       "Method:                 Least Squares   F-statistic:                     14.28\n",
       "Date:                Mon, 05 Jul 2021   Prob (F-statistic):           7.10e-06\n",
       "Time:                        22:01:58   Log-Likelihood:                -125.22\n",
       "No. Observations:                  25   AIC:                             262.4\n",
       "Df Residuals:                      19   BIC:                             269.8\n",
       "Df Model:                           5                                         \n",
       "Covariance Type:            nonrobust                                         \n",
       "================================================================================================================\n",
       "                                                   coef    std err          t      P>|t|      [0.025      0.975]\n",
       "----------------------------------------------------------------------------------------------------------------\n",
       "Intercept                                       12.0429     75.436      0.160      0.875    -145.847     169.933\n",
       "C(Section, Treatment(reference=\"None\"))[T.A]   158.3537     26.584      5.957      0.000     102.713     213.994\n",
       "C(Section, Treatment(reference=\"None\"))[T.B]   118.2000     26.288      4.496      0.000      63.178     173.222\n",
       "C(Section, Treatment(reference=\"None\"))[T.C]    96.3695     26.948      3.576      0.002      39.966     152.773\n",
       "C(Section, Treatment(reference=\"None\"))[T.D]   161.2000     26.288      6.132      0.000     106.178     216.222\n",
       "Hours_per_Day                                   36.6158      9.880      3.706      0.001      15.937      57.294\n",
       "==============================================================================\n",
       "Omnibus:                        3.017   Durbin-Watson:                   1.655\n",
       "Prob(Omnibus):                  0.221   Jarque-Bera (JB):                1.575\n",
       "Skew:                          -0.554   Prob(JB):                        0.455\n",
       "Kurtosis:                       3.534   Cond. No.                         69.6\n",
       "==============================================================================\n",
       "\n",
       "Warnings:\n",
       "[1] Standard Errors assume that the covariance matrix of the errors is correctly specified.\n",
       "\"\"\""
      ]
     },
     "execution_count": 66,
     "metadata": {},
     "output_type": "execute_result"
    }
   ],
   "source": [
    "#Importing required library\n",
    "from statsmodels.formula.api import ols\n",
    "#Creating a regression model \n",
    "model = ols('Mark ~ Hours_per_Day + C(Section, Treatment(reference=\"None\"))',mark_hour_2).fit()\n",
    "model.summary()"
   ]
  },
  {
   "cell_type": "code",
   "execution_count": 67,
   "metadata": {},
   "outputs": [
    {
     "data": {
      "image/png": "[encoded data removed]",
      "text/plain": [
       "<Figure size 432x288 with 1 Axes>"
      ]
     },
     "metadata": {},
     "output_type": "display_data"
    }
   ],
   "source": [
    "#Importing required libraries\n",
    "import numpy as np\n",
    "import matplotlib.pyplot as plt\n",
    "\n",
    "def abline(slope, intercept,label):\n",
    "    \"\"\"Plot a line from slope and intercept\"\"\"\n",
    "    axes = plt.gca() #Get the current Axes instance\n",
    "    x_vals = np.array(axes.get_xlim())\n",
    "    y_vals = intercept + slope * x_vals\n",
    "    plt.plot(x_vals, y_vals, '-',label = label)\n",
    "    \n",
    "#Visualizing the scatter plot    \n",
    "plt.scatter(mark_hour['Hours_per_Day'],mark_hour['Mark'])\n",
    "plt.xlim(0,10)\n",
    "plt.ylim(100,600)\n",
    "plt.xlabel('Hours per day')\n",
    "plt.ylabel('Marks')\n",
    "plt.title('Variation of marks with respect to hours per day')\n",
    "abline(37.5,24.05,\"No_Section\")\n",
    "abline(37.5,163.5,\"Section A\")\n",
    "abline(37.5,123.7,\"Section B\")\n",
    "abline(37.5,102.4,\"Section C\")\n",
    "abline(37.5,166.7,\"Section D\")\n",
    "plt.legend(loc='upper left')\n",
    "plt.show()"
   ]
  },
  {
   "cell_type": "code",
   "execution_count": null,
   "metadata": {},
   "outputs": [],
   "source": []
  }
 ],
 "metadata": {
  "kernelspec": {
   "display_name": "Python 3",
   "language": "python",
   "name": "python3"
  },
  "language_info": {
   "codemirror_mode": {
    "name": "ipython",
    "version": 3
   },
   "file_extension": ".py",
   "mimetype": "text/x-python",
   "name": "python",
   "nbconvert_exporter": "python",
   "pygments_lexer": "ipython3",
   "version": "3.6.5"
  }
 },
 "nbformat": 4,
 "nbformat_minor": 2
}
