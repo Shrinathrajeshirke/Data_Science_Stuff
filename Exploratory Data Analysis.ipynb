{
 "cells": [
  {
   "cell_type": "markdown",
   "id": "8a05a6a1",
   "metadata": {},
   "source": [
    "### EDA\n",
    "\n",
    "* A set of procedures for examining data\n",
    "* Summarizing the data with the help of descriptive and graphical tools\n",
    "* 'No assumption' study of data\n",
    "* Determining relationships among variables\n",
    "* Handling missing values\n",
    "\n",
    "* **Primary Aim** - Performing quantitative and qualitiative evaluation of the data to draw meaningfule insights from it"
   ]
  },
  {
   "cell_type": "markdown",
   "id": "68a6f888",
   "metadata": {},
   "source": [
    "### Steps involved in EDA\n",
    "\n",
    "1. Collect & organize data\n",
    "2. import data\n",
    "3. Pre-process data\n",
    "4. Explore & summarize data\n",
    "5. Develop insights from data"
   ]
  },
  {
   "cell_type": "markdown",
   "id": "d20e09ad",
   "metadata": {},
   "source": [
    "### 1. Collect & organize data\n",
    "\n",
    "1. Gather and understand the relevant data\n",
    "2. Identify the type of each data\n",
    "3. Identify the type of attributes in data"
   ]
  },
  {
   "cell_type": "markdown",
   "id": "b5dcb527",
   "metadata": {},
   "source": [
    "#### classify data \n",
    "\n",
    "1. Structured data\n",
    "2. Semi-structured data\n",
    "3. Unstructured data\n",
    "\n",
    "#### Attributes in structured data\n",
    "\n",
    "1. Quantitative data \\\n",
    "a. Discrete \\\n",
    "b. Continuous\n",
    "\n",
    "2. Qualitative data \\\n",
    "a. Binary data \\\n",
    "b. nominal data \\\n",
    "c. Ordinal data"
   ]
  },
  {
   "cell_type": "markdown",
   "id": "b46a5afe",
   "metadata": {},
   "source": [
    "#### importing libraries"
   ]
  },
  {
   "cell_type": "code",
   "execution_count": 1,
   "id": "bc8e922b",
   "metadata": {},
   "outputs": [
    {
     "name": "stdout",
     "output_type": "stream",
     "text": [
      "libraries imported successfully\n"
     ]
    }
   ],
   "source": [
    "import pandas as pd\n",
    "import numpy as np\n",
    "import matplotlib.pyplot as plt\n",
    "import seaborn as sns\n",
    "\n",
    "print(\"libraries imported successfully\")"
   ]
  },
  {
   "cell_type": "markdown",
   "id": "ddfaea56",
   "metadata": {},
   "source": [
    "#### import structured data"
   ]
  },
  {
   "cell_type": "code",
   "execution_count": 2,
   "id": "15774212",
   "metadata": {},
   "outputs": [
    {
     "data": {
      "text/html": [
       "<div>\n",
       "<style scoped>\n",
       "    .dataframe tbody tr th:only-of-type {\n",
       "        vertical-align: middle;\n",
       "    }\n",
       "\n",
       "    .dataframe tbody tr th {\n",
       "        vertical-align: top;\n",
       "    }\n",
       "\n",
       "    .dataframe thead th {\n",
       "        text-align: right;\n",
       "    }\n",
       "</style>\n",
       "<table border=\"1\" class=\"dataframe\">\n",
       "  <thead>\n",
       "    <tr style=\"text-align: right;\">\n",
       "      <th></th>\n",
       "      <th>userID</th>\n",
       "      <th>placeID</th>\n",
       "      <th>food_rating</th>\n",
       "      <th>service_rating</th>\n",
       "    </tr>\n",
       "  </thead>\n",
       "  <tbody>\n",
       "    <tr>\n",
       "      <th>0</th>\n",
       "      <td>U1077</td>\n",
       "      <td>135085</td>\n",
       "      <td>2</td>\n",
       "      <td>2</td>\n",
       "    </tr>\n",
       "    <tr>\n",
       "      <th>1</th>\n",
       "      <td>U1077</td>\n",
       "      <td>135038</td>\n",
       "      <td>2</td>\n",
       "      <td>1</td>\n",
       "    </tr>\n",
       "    <tr>\n",
       "      <th>2</th>\n",
       "      <td>U1077</td>\n",
       "      <td>132825</td>\n",
       "      <td>2</td>\n",
       "      <td>2</td>\n",
       "    </tr>\n",
       "    <tr>\n",
       "      <th>3</th>\n",
       "      <td>U1077</td>\n",
       "      <td>135060</td>\n",
       "      <td>2</td>\n",
       "      <td>2</td>\n",
       "    </tr>\n",
       "    <tr>\n",
       "      <th>4</th>\n",
       "      <td>U1068</td>\n",
       "      <td>135104</td>\n",
       "      <td>1</td>\n",
       "      <td>2</td>\n",
       "    </tr>\n",
       "  </tbody>\n",
       "</table>\n",
       "</div>"
      ],
      "text/plain": [
       "  userID  placeID  food_rating  service_rating\n",
       "0  U1077   135085            2               2\n",
       "1  U1077   135038            2               1\n",
       "2  U1077   132825            2               2\n",
       "3  U1077   135060            2               2\n",
       "4  U1068   135104            1               2"
      ]
     },
     "execution_count": 2,
     "metadata": {},
     "output_type": "execute_result"
    }
   ],
   "source": [
    "user_rating = pd.read_csv(\"EDA_Master/Data/user_rating.csv\")\n",
    "user_rating.head(5)"
   ]
  },
  {
   "cell_type": "code",
   "execution_count": 3,
   "id": "5e369631",
   "metadata": {},
   "outputs": [
    {
     "data": {
      "text/html": [
       "<div>\n",
       "<style scoped>\n",
       "    .dataframe tbody tr th:only-of-type {\n",
       "        vertical-align: middle;\n",
       "    }\n",
       "\n",
       "    .dataframe tbody tr th {\n",
       "        vertical-align: top;\n",
       "    }\n",
       "\n",
       "    .dataframe thead th {\n",
       "        text-align: right;\n",
       "    }\n",
       "</style>\n",
       "<table border=\"1\" class=\"dataframe\">\n",
       "  <thead>\n",
       "    <tr style=\"text-align: right;\">\n",
       "      <th></th>\n",
       "      <th>gender</th>\n",
       "      <th>smoker</th>\n",
       "      <th>drink_level</th>\n",
       "      <th>dress_preference</th>\n",
       "      <th>ambience</th>\n",
       "      <th>transport</th>\n",
       "      <th>marital_status</th>\n",
       "      <th>interest</th>\n",
       "      <th>personality</th>\n",
       "      <th>religion</th>\n",
       "      <th>activity</th>\n",
       "      <th>income</th>\n",
       "      <th>FRVPM</th>\n",
       "      <th>AERPM</th>\n",
       "    </tr>\n",
       "  </thead>\n",
       "  <tbody>\n",
       "    <tr>\n",
       "      <th>0</th>\n",
       "      <td>male</td>\n",
       "      <td>False</td>\n",
       "      <td>abstemious</td>\n",
       "      <td>informal</td>\n",
       "      <td>family</td>\n",
       "      <td>on foot</td>\n",
       "      <td>single</td>\n",
       "      <td>variety</td>\n",
       "      <td>thrifty-protector</td>\n",
       "      <td>none</td>\n",
       "      <td>student</td>\n",
       "      <td>medium</td>\n",
       "      <td>12</td>\n",
       "      <td>2976</td>\n",
       "    </tr>\n",
       "    <tr>\n",
       "      <th>1</th>\n",
       "      <td>female</td>\n",
       "      <td>False</td>\n",
       "      <td>abstemious</td>\n",
       "      <td>informal</td>\n",
       "      <td>family</td>\n",
       "      <td>public</td>\n",
       "      <td>single</td>\n",
       "      <td>technology</td>\n",
       "      <td>hunter-ostentatious</td>\n",
       "      <td>Catholic</td>\n",
       "      <td>student</td>\n",
       "      <td>low</td>\n",
       "      <td>12</td>\n",
       "      <td>3648</td>\n",
       "    </tr>\n",
       "    <tr>\n",
       "      <th>2</th>\n",
       "      <td>female</td>\n",
       "      <td>False</td>\n",
       "      <td>social drinker</td>\n",
       "      <td>formal</td>\n",
       "      <td>family</td>\n",
       "      <td>public</td>\n",
       "      <td>single</td>\n",
       "      <td>none</td>\n",
       "      <td>hard-worker</td>\n",
       "      <td>Catholic</td>\n",
       "      <td>student</td>\n",
       "      <td>low</td>\n",
       "      <td>3</td>\n",
       "      <td>1461</td>\n",
       "    </tr>\n",
       "    <tr>\n",
       "      <th>3</th>\n",
       "      <td>male</td>\n",
       "      <td>False</td>\n",
       "      <td>abstemious</td>\n",
       "      <td>informal</td>\n",
       "      <td>family</td>\n",
       "      <td>public</td>\n",
       "      <td>single</td>\n",
       "      <td>variety</td>\n",
       "      <td>hard-worker</td>\n",
       "      <td>none</td>\n",
       "      <td>professional</td>\n",
       "      <td>medium</td>\n",
       "      <td>18</td>\n",
       "      <td>4014</td>\n",
       "    </tr>\n",
       "    <tr>\n",
       "      <th>4</th>\n",
       "      <td>female</td>\n",
       "      <td>False</td>\n",
       "      <td>abstemious</td>\n",
       "      <td>no preference</td>\n",
       "      <td>family</td>\n",
       "      <td>public</td>\n",
       "      <td>single</td>\n",
       "      <td>none</td>\n",
       "      <td>thrifty-protector</td>\n",
       "      <td>Catholic</td>\n",
       "      <td>student</td>\n",
       "      <td>medium</td>\n",
       "      <td>15</td>\n",
       "      <td>3045</td>\n",
       "    </tr>\n",
       "  </tbody>\n",
       "</table>\n",
       "</div>"
      ],
      "text/plain": [
       "   gender smoker     drink_level dress_preference ambience transport  \\\n",
       "0    male  False      abstemious         informal   family   on foot   \n",
       "1  female  False      abstemious         informal   family    public   \n",
       "2  female  False  social drinker           formal   family    public   \n",
       "3    male  False      abstemious         informal   family    public   \n",
       "4  female  False      abstemious    no preference   family    public   \n",
       "\n",
       "  marital_status    interest          personality  religion      activity  \\\n",
       "0         single     variety    thrifty-protector      none       student   \n",
       "1         single  technology  hunter-ostentatious  Catholic       student   \n",
       "2         single        none          hard-worker  Catholic       student   \n",
       "3         single     variety          hard-worker      none  professional   \n",
       "4         single        none    thrifty-protector  Catholic       student   \n",
       "\n",
       "   income  FRVPM  AERPM  \n",
       "0  medium     12   2976  \n",
       "1     low     12   3648  \n",
       "2     low      3   1461  \n",
       "3  medium     18   4014  \n",
       "4  medium     15   3045  "
      ]
     },
     "execution_count": 3,
     "metadata": {},
     "output_type": "execute_result"
    }
   ],
   "source": [
    "consumer_survey = pd.read_excel(\"EDA_Master/Data/consumer_survey.xlsx\")\n",
    "consumer_survey.head(5)"
   ]
  },
  {
   "cell_type": "code",
   "execution_count": 4,
   "id": "f3fa4f81",
   "metadata": {},
   "outputs": [
    {
     "data": {
      "text/html": [
       "<div>\n",
       "<style scoped>\n",
       "    .dataframe tbody tr th:only-of-type {\n",
       "        vertical-align: middle;\n",
       "    }\n",
       "\n",
       "    .dataframe tbody tr th {\n",
       "        vertical-align: top;\n",
       "    }\n",
       "\n",
       "    .dataframe thead th {\n",
       "        text-align: right;\n",
       "    }\n",
       "</style>\n",
       "<table border=\"1\" class=\"dataframe\">\n",
       "  <thead>\n",
       "    <tr style=\"text-align: right;\">\n",
       "      <th></th>\n",
       "      <th>placeID</th>\n",
       "      <th>parking_lot</th>\n",
       "    </tr>\n",
       "  </thead>\n",
       "  <tbody>\n",
       "    <tr>\n",
       "      <th>0</th>\n",
       "      <td>135111</td>\n",
       "      <td>public</td>\n",
       "    </tr>\n",
       "    <tr>\n",
       "      <th>1</th>\n",
       "      <td>135110</td>\n",
       "      <td>none</td>\n",
       "    </tr>\n",
       "    <tr>\n",
       "      <th>2</th>\n",
       "      <td>135109</td>\n",
       "      <td>none</td>\n",
       "    </tr>\n",
       "    <tr>\n",
       "      <th>3</th>\n",
       "      <td>135108</td>\n",
       "      <td>none</td>\n",
       "    </tr>\n",
       "    <tr>\n",
       "      <th>4</th>\n",
       "      <td>135107</td>\n",
       "      <td>none</td>\n",
       "    </tr>\n",
       "  </tbody>\n",
       "</table>\n",
       "</div>"
      ],
      "text/plain": [
       "   placeID parking_lot\n",
       "0   135111      public\n",
       "1   135110        none\n",
       "2   135109        none\n",
       "3   135108        none\n",
       "4   135107        none"
      ]
     },
     "execution_count": 4,
     "metadata": {},
     "output_type": "execute_result"
    }
   ],
   "source": [
    "restaurant_parking = pd.read_excel(\"EDA_Master/Data/restaurant_parking.xlsx\")\n",
    "restaurant_parking.head(5)"
   ]
  },
  {
   "cell_type": "code",
   "execution_count": 5,
   "id": "a4b9aa7f",
   "metadata": {},
   "outputs": [
    {
     "data": {
      "text/html": [
       "<div>\n",
       "<style scoped>\n",
       "    .dataframe tbody tr th:only-of-type {\n",
       "        vertical-align: middle;\n",
       "    }\n",
       "\n",
       "    .dataframe tbody tr th {\n",
       "        vertical-align: top;\n",
       "    }\n",
       "\n",
       "    .dataframe thead th {\n",
       "        text-align: right;\n",
       "    }\n",
       "</style>\n",
       "<table border=\"1\" class=\"dataframe\">\n",
       "  <thead>\n",
       "    <tr style=\"text-align: right;\">\n",
       "      <th></th>\n",
       "      <th>placeID</th>\n",
       "      <th>Rcuisine</th>\n",
       "    </tr>\n",
       "  </thead>\n",
       "  <tbody>\n",
       "    <tr>\n",
       "      <th>0</th>\n",
       "      <td>132001</td>\n",
       "      <td>Dutch-Belgian</td>\n",
       "    </tr>\n",
       "    <tr>\n",
       "      <th>1</th>\n",
       "      <td>132002</td>\n",
       "      <td>Seafood</td>\n",
       "    </tr>\n",
       "    <tr>\n",
       "      <th>2</th>\n",
       "      <td>132003</td>\n",
       "      <td>International</td>\n",
       "    </tr>\n",
       "    <tr>\n",
       "      <th>3</th>\n",
       "      <td>132004</td>\n",
       "      <td>Seafood</td>\n",
       "    </tr>\n",
       "    <tr>\n",
       "      <th>4</th>\n",
       "      <td>132005</td>\n",
       "      <td>French</td>\n",
       "    </tr>\n",
       "  </tbody>\n",
       "</table>\n",
       "</div>"
      ],
      "text/plain": [
       "   placeID       Rcuisine\n",
       "0   132001  Dutch-Belgian\n",
       "1   132002        Seafood\n",
       "2   132003  International\n",
       "3   132004        Seafood\n",
       "4   132005         French"
      ]
     },
     "execution_count": 5,
     "metadata": {},
     "output_type": "execute_result"
    }
   ],
   "source": [
    "restaurant_cuisine = pd.read_excel(\"EDA_Master/Data/restaurant_cuisine.xlsx\")\n",
    "restaurant_cuisine.head(5)"
   ]
  },
  {
   "cell_type": "markdown",
   "id": "63864d35",
   "metadata": {},
   "source": [
    "### Python supports for SQL\n",
    "\n",
    "SQLite is a lightweight database and it is shipped by default along with python version 2.5.x onwards.\n",
    "\n",
    "Installing sqlite \\\n",
    "pip install db-sqlite3"
   ]
  },
  {
   "cell_type": "code",
   "execution_count": 1,
   "id": "3714e21b",
   "metadata": {},
   "outputs": [],
   "source": [
    "#import sqlite3 library\n",
    "\n",
    "import sqlite3\n",
    "\n",
    "#create a connection object that can be used to connect to a database 'demo_database'\n",
    "\n",
    "conn = sqlite3.connect('demo_database.db')"
   ]
  },
  {
   "cell_type": "code",
   "execution_count": 2,
   "id": "90bdeb4e",
   "metadata": {},
   "outputs": [],
   "source": [
    "import pyodbc #python open database connectivity - used to connect any database"
   ]
  },
  {
   "cell_type": "markdown",
   "id": "0074d100",
   "metadata": {},
   "source": [
    "#### import ms access data"
   ]
  },
  {
   "cell_type": "code",
   "execution_count": 3,
   "id": "6d077e83",
   "metadata": {},
   "outputs": [
    {
     "data": {
      "text/plain": [
       "['Microsoft Access Driver (*.mdb, *.accdb)']"
      ]
     },
     "execution_count": 3,
     "metadata": {},
     "output_type": "execute_result"
    }
   ],
   "source": [
    "[i for i in pyodbc.drivers() if i.startswith('Microsoft Access Driver')]\n",
    "['Microsoft Access Driver (*.mdb, *.accdb)']"
   ]
  },
  {
   "cell_type": "code",
   "execution_count": 4,
   "id": "582082ca",
   "metadata": {
    "scrolled": true
   },
   "outputs": [
    {
     "ename": "InterfaceError",
     "evalue": "('IM002', '[IM002] [Microsoft][ODBC Driver Manager] Data source name not found and no default driver specified (0) (SQLDriverConnect)')",
     "output_type": "error",
     "traceback": [
      "\u001b[1;31m---------------------------------------------------------------------------\u001b[0m",
      "\u001b[1;31mInterfaceError\u001b[0m                            Traceback (most recent call last)",
      "Input \u001b[1;32mIn [4]\u001b[0m, in \u001b[0;36m<cell line: 2>\u001b[1;34m()\u001b[0m\n\u001b[0;32m      1\u001b[0m conn_str \u001b[38;5;241m=\u001b[39m (\u001b[38;5;124mr\u001b[39m\u001b[38;5;124m'\u001b[39m\u001b[38;5;124mDriver=\u001b[39m\u001b[38;5;124m{\u001b[39m\u001b[38;5;124mMicrosoft Access Driver (*.mdb, *.accdb)};DBQ=EDA_Master/Data/restaurant_cuisine.accdb;\u001b[39m\u001b[38;5;124m'\u001b[39m)\n\u001b[1;32m----> 2\u001b[0m conn \u001b[38;5;241m=\u001b[39m \u001b[43mpyodbc\u001b[49m\u001b[38;5;241;43m.\u001b[39;49m\u001b[43mconnect\u001b[49m\u001b[43m(\u001b[49m\u001b[43mconn_str\u001b[49m\u001b[43m)\u001b[49m\n\u001b[0;32m      3\u001b[0m cuisine \u001b[38;5;241m=\u001b[39m pd\u001b[38;5;241m.\u001b[39mread_sql(\u001b[38;5;124m'\u001b[39m\u001b[38;5;124mselect * from cuisine\u001b[39m\u001b[38;5;124m'\u001b[39m, conn)\n\u001b[0;32m      4\u001b[0m conn\u001b[38;5;241m.\u001b[39mclose()\n",
      "\u001b[1;31mInterfaceError\u001b[0m: ('IM002', '[IM002] [Microsoft][ODBC Driver Manager] Data source name not found and no default driver specified (0) (SQLDriverConnect)')"
     ]
    }
   ],
   "source": [
    "conn_str = (r'Driver={Microsoft Access Driver (*.mdb, *.accdb)};DBQ=EDA_Master/Data/restaurant_cuisine.accdb;')\n",
    "conn = pyodbc.connect(conn_str)\n",
    "cuisine = pd.read_sql('select * from cuisine', conn)\n",
    "conn.close()\n",
    "cuisine.head(5)"
   ]
  },
  {
   "cell_type": "markdown",
   "id": "c28c7ecc",
   "metadata": {},
   "source": [
    "importing data from oracle database"
   ]
  },
  {
   "cell_type": "code",
   "execution_count": 5,
   "id": "bf1f1d85",
   "metadata": {},
   "outputs": [
    {
     "ename": "DatabaseError",
     "evalue": "DPI-1047: Cannot locate a 64-bit Oracle Client library: \"The specified module could not be found\". See https://cx-oracle.readthedocs.io/en/latest/user_guide/installation.html for help",
     "output_type": "error",
     "traceback": [
      "\u001b[1;31m---------------------------------------------------------------------------\u001b[0m",
      "\u001b[1;31mDatabaseError\u001b[0m                             Traceback (most recent call last)",
      "Input \u001b[1;32mIn [5]\u001b[0m, in \u001b[0;36m<cell line: 6>\u001b[1;34m()\u001b[0m\n\u001b[0;32m      4\u001b[0m SID \u001b[38;5;241m=\u001b[39m \u001b[38;5;124m'\u001b[39m\u001b[38;5;124mxe\u001b[39m\u001b[38;5;124m'\u001b[39m\n\u001b[0;32m      5\u001b[0m dsn_tns \u001b[38;5;241m=\u001b[39m cx_Oracle\u001b[38;5;241m.\u001b[39mmakedsn(host,port,SID)\n\u001b[1;32m----> 6\u001b[0m conn \u001b[38;5;241m=\u001b[39m \u001b[43mcx_Oracle\u001b[49m\u001b[38;5;241;43m.\u001b[39;49m\u001b[43mconnect\u001b[49m\u001b[43m(\u001b[49m\u001b[38;5;124;43m'\u001b[39;49m\u001b[38;5;124;43mDBUser1\u001b[39;49m\u001b[38;5;124;43m'\u001b[39;49m\u001b[43m,\u001b[49m\u001b[38;5;124;43m'\u001b[39;49m\u001b[38;5;124;43mdata1\u001b[39;49m\u001b[38;5;124;43m'\u001b[39;49m\u001b[43m,\u001b[49m\u001b[43mdsn_tns\u001b[49m\u001b[43m)\u001b[49m\n\u001b[0;32m      7\u001b[0m restaurant_details \u001b[38;5;241m=\u001b[39m pd\u001b[38;5;241m.\u001b[39mread_sql(\u001b[38;5;124m\"\u001b[39m\u001b[38;5;124mselect * from resturant_details\u001b[39m\u001b[38;5;124m\"\u001b[39m,conn)\n\u001b[0;32m      8\u001b[0m conn\u001b[38;5;241m.\u001b[39mclose()\n",
      "\u001b[1;31mDatabaseError\u001b[0m: DPI-1047: Cannot locate a 64-bit Oracle Client library: \"The specified module could not be found\". See https://cx-oracle.readthedocs.io/en/latest/user_guide/installation.html for help"
     ]
    }
   ],
   "source": [
    "import cx_Oracle #enables access to oracle database\n",
    "host = 'localhost'\n",
    "port = 1521\n",
    "SID = 'xe'\n",
    "dsn_tns = cx_Oracle.makedsn(host,port,SID)\n",
    "conn = cx_Oracle.connect('DBUser1','data1',dsn_tns)\n",
    "restaurant_details = pd.read_sql(\"select * from resturant_details\",conn)\n",
    "conn.close()\n",
    "restaurant_details.head(5)"
   ]
  },
  {
   "cell_type": "markdown",
   "id": "cdaacdea",
   "metadata": {},
   "source": [
    "#### XML data\n",
    "XML - eXtensible Markup Language - It is made up of user defines tags which helps in organizing and identifying the data."
   ]
  },
  {
   "cell_type": "code",
   "execution_count": 10,
   "id": "8e8e2eca",
   "metadata": {},
   "outputs": [],
   "source": [
    "import xml.etree.ElementTree as ET"
   ]
  },
  {
   "cell_type": "markdown",
   "id": "8e2b991b",
   "metadata": {},
   "source": [
    "#### importing semi structured data"
   ]
  },
  {
   "cell_type": "code",
   "execution_count": 11,
   "id": "1de1eaeb",
   "metadata": {},
   "outputs": [
    {
     "name": "stdout",
     "output_type": "stream",
     "text": [
      "Restaurant Id: 41955207\n"
     ]
    }
   ],
   "source": [
    "tree = ET.parse('EDA_Master/Data/reviews.xml')\n",
    "root = tree.getroot()\n",
    "print(root.tag, \"Id:\",root.attrib['id'])"
   ]
  },
  {
   "cell_type": "code",
   "execution_count": 12,
   "id": "68541f07",
   "metadata": {},
   "outputs": [],
   "source": [
    "restaurantDict = {}\n",
    "reviewDict = {}\n",
    "specialFeatureList = []\n",
    "reviewList = []\n",
    "\n",
    "for elem in root:\n",
    "    restaurantDict.update({elem.tag:elem.text})\n",
    "    for subelem in elem:\n",
    "        if elem.tag == \"SpecialFeatures\":\n",
    "            specialFeatureList.append(subelem.text)\n",
    "            restaurantDict.update({\"SpecialFeatures\":specialFeatureList})\n",
    "        if elem.tag == \"Reviews\":\n",
    "            reviewDict = {}\n",
    "            reviewDict.update({\"ReviewID\":subelem.attrib['id']})\n",
    "            for subsubelem in subelem:\n",
    "                reviewDict.update({subsubelem.tag:subsubelem.text})\n",
    "            reviewList.append(reviewDict)\n",
    "            restaurantDict.update({\"reviews\":reviewList})\n"
   ]
  },
  {
   "cell_type": "code",
   "execution_count": 13,
   "id": "cdfec65f",
   "metadata": {},
   "outputs": [
    {
     "name": "stdout",
     "output_type": "stream",
     "text": [
      "Restaurant Id: 41955207\n",
      "-----------------------------------------------------------------------------\n",
      "Name : Staghorn Steakhouse\n",
      "ZipCode : 10018\n",
      "Cuisines : Seafood, Steakhouse\n",
      "PriceLevel : None\n",
      "Hours : None\n",
      "Payment : None\n",
      "DressCode : None\n",
      "SpecialFeatures : ['Notable Wine List', 'Business Dining', 'Romantic Dining', 'Group Dining', 'Fine Dining']\n",
      "PromptSeating : yes\n",
      "MakeReservation : yes\n",
      "Romantic : yes\n",
      "GoodForKids : no\n",
      "GoodForGroups : yes\n",
      "Reviews :\n"
     ]
    },
    {
     "ename": "AttributeError",
     "evalue": "'str' object has no attribute 'items'",
     "output_type": "error",
     "traceback": [
      "\u001b[1;31m---------------------------------------------------------------------------\u001b[0m",
      "\u001b[1;31mAttributeError\u001b[0m                            Traceback (most recent call last)",
      "Input \u001b[1;32mIn [13]\u001b[0m, in \u001b[0;36m<cell line: 4>\u001b[1;34m()\u001b[0m\n\u001b[0;32m      6\u001b[0m \u001b[38;5;28mprint\u001b[39m(key,\u001b[38;5;124m\"\u001b[39m\u001b[38;5;124m:\u001b[39m\u001b[38;5;124m\"\u001b[39m)\n\u001b[0;32m      7\u001b[0m \u001b[38;5;28;01mfor\u001b[39;00m reviews \u001b[38;5;129;01min\u001b[39;00m val:\n\u001b[1;32m----> 8\u001b[0m     \u001b[38;5;28;01mfor\u001b[39;00m keyR, valR \u001b[38;5;129;01min\u001b[39;00m \u001b[43mreviews\u001b[49m\u001b[38;5;241;43m.\u001b[39;49m\u001b[43mitems\u001b[49m():\n\u001b[0;32m      9\u001b[0m         \u001b[38;5;28mprint\u001b[39m(keyR,\u001b[38;5;124m\"\u001b[39m\u001b[38;5;124m:\u001b[39m\u001b[38;5;124m\"\u001b[39m,valR)\n\u001b[0;32m     10\u001b[0m     \u001b[38;5;28mprint\u001b[39m(\u001b[38;5;124m\"\u001b[39m\u001b[38;5;130;01m\\n\u001b[39;00m\u001b[38;5;124m-----------------------------------------------------\u001b[39m\u001b[38;5;124m\"\u001b[39m)\n",
      "\u001b[1;31mAttributeError\u001b[0m: 'str' object has no attribute 'items'"
     ]
    }
   ],
   "source": [
    "print(root.tag,\"Id:\",root.attrib['id'])\n",
    "print(\"-----------------------------------------------------------------------------\")\n",
    "\n",
    "for key,val in restaurantDict.items():\n",
    "    if key==\"Reviews\":\n",
    "        print(key,\":\")\n",
    "        for reviews in val:\n",
    "            for keyR, valR in reviews.items():\n",
    "                print(keyR,\":\",valR)\n",
    "            print(\"\\n-----------------------------------------------------\")\n",
    "    else:\n",
    "        print(key,\":\",val)"
   ]
  },
  {
   "cell_type": "markdown",
   "id": "76ca769d",
   "metadata": {},
   "source": [
    "#### importing unstructured data"
   ]
  },
  {
   "cell_type": "code",
   "execution_count": 14,
   "id": "21f97ed5",
   "metadata": {},
   "outputs": [
    {
     "data": {
      "text/html": [
       "<div>\n",
       "<style scoped>\n",
       "    .dataframe tbody tr th:only-of-type {\n",
       "        vertical-align: middle;\n",
       "    }\n",
       "\n",
       "    .dataframe tbody tr th {\n",
       "        vertical-align: top;\n",
       "    }\n",
       "\n",
       "    .dataframe thead th {\n",
       "        text-align: right;\n",
       "    }\n",
       "</style>\n",
       "<table border=\"1\" class=\"dataframe\">\n",
       "  <thead>\n",
       "    <tr style=\"text-align: right;\">\n",
       "      <th></th>\n",
       "      <th>Reviews</th>\n",
       "    </tr>\n",
       "  </thead>\n",
       "  <tbody>\n",
       "    <tr>\n",
       "      <th>0</th>\n",
       "      <td>The food for our event was delicious .</td>\n",
       "    </tr>\n",
       "    <tr>\n",
       "      <th>1</th>\n",
       "      <td>The food in the lounge was great and very fre...</td>\n",
       "    </tr>\n",
       "    <tr>\n",
       "      <th>2</th>\n",
       "      <td>As far as food, walk a few blocks toward Mich...</td>\n",
       "    </tr>\n",
       "    <tr>\n",
       "      <th>3</th>\n",
       "      <td>The Palm resturant in the hotel had some spec...</td>\n",
       "    </tr>\n",
       "    <tr>\n",
       "      <th>4</th>\n",
       "      <td>Took the charge of the minibar which we had u...</td>\n",
       "    </tr>\n",
       "  </tbody>\n",
       "</table>\n",
       "</div>"
      ],
      "text/plain": [
       "                                             Reviews\n",
       "0             The food for our event was delicious .\n",
       "1   The food in the lounge was great and very fre...\n",
       "2   As far as food, walk a few blocks toward Mich...\n",
       "3   The Palm resturant in the hotel had some spec...\n",
       "4   Took the charge of the minibar which we had u..."
      ]
     },
     "execution_count": 14,
     "metadata": {},
     "output_type": "execute_result"
    }
   ],
   "source": [
    "feedback = pd.read_table(\"EDA_Master/Data/feedback.txt\",names=[\"Reviews\"])\n",
    "feedback.head()"
   ]
  },
  {
   "cell_type": "markdown",
   "id": "9e8904f0",
   "metadata": {},
   "source": [
    "## Pre-process data\n",
    "\n",
    "* Data cleaning\n",
    "* Merging multiple dataframes\n",
    "* Sub-setting data frames based on a condition\n",
    "* Ordering data in ascending/descending order\n",
    "* Reshaping dataframe"
   ]
  },
  {
   "cell_type": "markdown",
   "id": "b93a9bf9",
   "metadata": {},
   "source": [
    "### Clean data\n",
    "\n",
    "#### Check for inconsistencies in data"
   ]
  },
  {
   "cell_type": "code",
   "execution_count": 1,
   "id": "4cfd13ea",
   "metadata": {},
   "outputs": [],
   "source": [
    "# restaurant_details[\"STATE\"].value_counts()"
   ]
  },
  {
   "cell_type": "code",
   "execution_count": null,
   "id": "4e637cfa",
   "metadata": {},
   "outputs": [],
   "source": [
    "# To replace inconsistency\n",
    "\n",
    "# restaurant_details[\"STATE\"] = [\"Mexico\" if x in [\" mexico \", \" Mexico \"] else x for x in restaurant_details[\"STATE\"]]"
   ]
  },
  {
   "cell_type": "markdown",
   "id": "69de0ed7",
   "metadata": {},
   "source": [
    "#### Check for negative values in data"
   ]
  },
  {
   "cell_type": "code",
   "execution_count": 3,
   "id": "ca355c39",
   "metadata": {},
   "outputs": [],
   "source": [
    "# to check negative values\n",
    "\n",
    "# print(len(consumer_survey.loc[consumer_survey.FRVPM<0,:]))\n",
    "\n",
    "# to remove negative values\n",
    "\n",
    "# replace it by 0\n",
    "\n",
    "# res = [0 if i < 0 for i in data]"
   ]
  },
  {
   "cell_type": "markdown",
   "id": "dbcd26dc",
   "metadata": {},
   "source": [
    "#### Check for missing values"
   ]
  },
  {
   "cell_type": "code",
   "execution_count": 4,
   "id": "b1d717b8",
   "metadata": {},
   "outputs": [],
   "source": [
    "#df.isna() -- cell wise na values present or not\n",
    "\n",
    "#df.isna().any() -- column wise na values present or not\n",
    "\n",
    "#df.isna().any(axis=1) --- row wise na values present or not\n",
    "\n",
    "#df[colname].isna().any() -- for any column\n",
    "\n",
    "#df.colname.mean(skipna=true) -- to get mean value by skipping na values\n",
    "\n",
    "#df.dropna() --- to drop na values"
   ]
  },
  {
   "cell_type": "markdown",
   "id": "871a13dc",
   "metadata": {},
   "source": [
    "#### Delete data\n",
    "\n",
    "#### Delete rows"
   ]
  },
  {
   "cell_type": "code",
   "execution_count": 6,
   "id": "132807eb",
   "metadata": {},
   "outputs": [],
   "source": [
    "#df.replace('value',np.NaN, inplace=True) #To replace other values\n",
    "\n",
    "#df.dropna(axis=0, inplace=True, thresh=13) #To drop rows with na values\n",
    "\n",
    "#df.reset_index(inplace=True,drop=True) #To reset index"
   ]
  },
  {
   "cell_type": "code",
   "execution_count": 7,
   "id": "033a4d8a",
   "metadata": {},
   "outputs": [],
   "source": [
    "#replace multiple missing values\n",
    "\n",
    "# missing_values = ['?',\"' ',' NA ']\n",
    "# for i in missing_values:\n",
    "#       restataurant_details.replace(i, np.NaN, inplace=True)"
   ]
  },
  {
   "cell_type": "markdown",
   "id": "975d19c4",
   "metadata": {},
   "source": [
    "#### Delete columns"
   ]
  },
  {
   "cell_type": "code",
   "execution_count": 8,
   "id": "4b3cae1f",
   "metadata": {},
   "outputs": [],
   "source": [
    "#df.dropna(axis=1,inplace=True,thresh=60*1.1) -- 60% of 110"
   ]
  },
  {
   "cell_type": "markdown",
   "id": "e7aa8c9c",
   "metadata": {},
   "source": [
    "#### Impute data"
   ]
  },
  {
   "cell_type": "code",
   "execution_count": 9,
   "id": "60f34b59",
   "metadata": {},
   "outputs": [],
   "source": [
    "#import package\n",
    "\n",
    "#from sklearn.impute import SimpleImputer"
   ]
  },
  {
   "cell_type": "code",
   "execution_count": 10,
   "id": "b188fe71",
   "metadata": {},
   "outputs": [],
   "source": [
    "### imputing data with constant value\n",
    "\n",
    "#to get the index number where the data is missing\n",
    "## df[df.isna().any(axis=1)].index.tolist()\n",
    "\n",
    "# create an array of column\n",
    "## arr = np.array(df[\"colname\"])\n",
    "## imputer = SimpleImputer(strategy=\"constant\",fill_value=\"Mexico\")\n",
    "## df[\"colname\"] = imputer.fit_transform(arr.reshape(-1,1))"
   ]
  },
  {
   "cell_type": "code",
   "execution_count": 11,
   "id": "7898c861",
   "metadata": {},
   "outputs": [],
   "source": [
    "### imputing data with mode value\n",
    "\n",
    "# find the mode\n",
    "## df[\"colname\"].mode()[0]\n",
    "\n",
    "# create an array of column\n",
    "## arr = np.array(df[\"colname\"])\n",
    "## imputer = SimpleImputer(strategy=\"most_frequent\")\n",
    "## df[\"colname\"] = imputer.fit_transform(arr.reshape(-1,1))"
   ]
  },
  {
   "cell_type": "code",
   "execution_count": 12,
   "id": "dc3958d4",
   "metadata": {},
   "outputs": [],
   "source": [
    "### imputing data with mean value\n",
    "\n",
    "# find the mode\n",
    "## df[\"colname\"].mean()\n",
    "\n",
    "# create an array of column\n",
    "## arr = np.array(df[\"colname\"])\n",
    "## imputer = SimpleImputer(strategy=\"mean\")\n",
    "## df[\"colname\"] = imputer.fit_transform(arr.reshape(-1,1))"
   ]
  },
  {
   "cell_type": "code",
   "execution_count": 14,
   "id": "1ddd9337",
   "metadata": {},
   "outputs": [],
   "source": [
    "### imputing data with mean value by groupby function\n",
    "\n",
    "# calculate group means\n",
    "## df[[\"colname1\",\"colname2\"]].groupby(\"colname2\").mean()\n",
    "\n",
    "## grouped_df = df[[\"colname1\",\"colname2\"]].groupby('colname2')\n",
    "## mean_updated = grouped_df.transform(lambda x:x.fillna(x.mean()))\n",
    "## mean_upddated[\"colname2\"] = df[\"colname2\"]"
   ]
  },
  {
   "cell_type": "code",
   "execution_count": 15,
   "id": "51cba853",
   "metadata": {},
   "outputs": [],
   "source": [
    "### imputing data with median value\n",
    "\n",
    "# find the median\n",
    "## df[\"colname\"].median()[0]\n",
    "\n",
    "# create an array of column\n",
    "## arr = np.array(df[\"colname\"])\n",
    "## imputer = SimpleImputer(strategy=\"medin\")\n",
    "## df[\"colname\"] = imputer.fit_transform(arr.reshape(-1,1))"
   ]
  },
  {
   "cell_type": "code",
   "execution_count": 16,
   "id": "05d0bfaf",
   "metadata": {},
   "outputs": [],
   "source": [
    "### imputing data with median value by groupby function\n",
    "\n",
    "# calculate group means\n",
    "## df[[\"colname1\",\"colname2\"]].groupby(\"colname2\").median()\n",
    "\n",
    "## grouped_df = df[[\"colname1\",\"colname2\"]].groupby('colname2')\n",
    "## median_updated = grouped_df.transform(lambda x:x.fillna(x.median()))\n",
    "## median_upddated[\"colname2\"] = df[\"colname2\"]"
   ]
  },
  {
   "cell_type": "markdown",
   "id": "a374fc67",
   "metadata": {},
   "source": [
    "#### Merge data"
   ]
  },
  {
   "cell_type": "code",
   "execution_count": 17,
   "id": "bcb94d44",
   "metadata": {},
   "outputs": [],
   "source": [
    "# df_merge = pd.merge(df1,df2.set_index('indexcolname'),left_on='indexcolname',right_index=True,how=\"inner\")"
   ]
  },
  {
   "cell_type": "markdown",
   "id": "3858d1aa",
   "metadata": {},
   "source": [
    "#### subsetting data"
   ]
  },
  {
   "cell_type": "code",
   "execution_count": 18,
   "id": "18a020dc",
   "metadata": {},
   "outputs": [],
   "source": [
    "# df.loc[:,['col1','col2','col3']].head()"
   ]
  },
  {
   "cell_type": "markdown",
   "id": "a01dac0d",
   "metadata": {},
   "source": [
    "#### ordering dataframe"
   ]
  },
  {
   "cell_type": "code",
   "execution_count": 19,
   "id": "75db87a1",
   "metadata": {},
   "outputs": [],
   "source": [
    "## df.sort_values(by = ['colname'],ascending=True).head()"
   ]
  },
  {
   "cell_type": "markdown",
   "id": "9ed5c0f0",
   "metadata": {},
   "source": [
    "#### Reshape data"
   ]
  },
  {
   "cell_type": "code",
   "execution_count": 20,
   "id": "ffc33f15",
   "metadata": {},
   "outputs": [],
   "source": [
    "## Adding a feature to df\n",
    "\n",
    "# df['newcolname'] = df['colname'] != 'condition'"
   ]
  },
  {
   "cell_type": "markdown",
   "id": "f49d227c",
   "metadata": {},
   "source": [
    "#### melting a df"
   ]
  },
  {
   "cell_type": "code",
   "execution_count": 21,
   "id": "21e14931",
   "metadata": {},
   "outputs": [],
   "source": [
    "## df_melt = pd.melt(df, id_vars = ['col1','col2'], value_vars= ['col3','col4'], var_name = 'name1', value_name='name2')"
   ]
  },
  {
   "cell_type": "markdown",
   "id": "a79f83c4",
   "metadata": {},
   "source": [
    "#### casting a df"
   ]
  },
  {
   "cell_type": "code",
   "execution_count": 23,
   "id": "597a5b99",
   "metadata": {},
   "outputs": [],
   "source": [
    "## pd.pivot_table(df_melt, index = 'indexcolname', columns = 'name1', values = 'col4', aggfunc = 'mean').head() --- col4 is the column which is to be aggregagted"
   ]
  },
  {
   "cell_type": "markdown",
   "id": "10a44e71",
   "metadata": {},
   "source": [
    "### Explore and summarize data"
   ]
  },
  {
   "cell_type": "markdown",
   "id": "9c22035e",
   "metadata": {},
   "source": [
    "#### Five number summary"
   ]
  },
  {
   "cell_type": "code",
   "execution_count": 24,
   "id": "d189ed57",
   "metadata": {},
   "outputs": [],
   "source": [
    "# df.describe()"
   ]
  },
  {
   "cell_type": "markdown",
   "id": "b0a97bc3",
   "metadata": {},
   "source": [
    "#### Box plot"
   ]
  },
  {
   "cell_type": "markdown",
   "id": "883d2d7f",
   "metadata": {},
   "source": [
    "#### Histogram"
   ]
  },
  {
   "cell_type": "markdown",
   "id": "89b45d39",
   "metadata": {},
   "source": [
    "#### cross tab"
   ]
  },
  {
   "cell_type": "code",
   "execution_count": 26,
   "id": "c4a062d6",
   "metadata": {},
   "outputs": [],
   "source": [
    "#pd.crosstab(index=consumer_survey['gender'],columns='count',colnames=' ')"
   ]
  },
  {
   "cell_type": "markdown",
   "id": "e1a2cce4",
   "metadata": {},
   "source": [
    "#### bar chart"
   ]
  },
  {
   "cell_type": "markdown",
   "id": "2b7dfe25",
   "metadata": {},
   "source": [
    "### Developing insights from data\n",
    "\n",
    "#### Plot and compare multiple box plots\n",
    "\n",
    "#### Plot and compare multiple histograms\n",
    "\n",
    "### Exploring relationship among qualitative variables\n",
    "\n",
    "#### Pivot table\n",
    "df.pivot_table(index ='...',values='...',columns='....',aggfunc='...')\n",
    "\n",
    "#### Scatter plot\n",
    "\n",
    "#### Simpson's paradox\n",
    "\n",
    "It is a phenomena in which groups of data exhibit a particular trend, but this trend disappears or reverses, when the groups are combined together.\n"
   ]
  },
  {
   "cell_type": "code",
   "execution_count": 3,
   "id": "ae63d219",
   "metadata": {},
   "outputs": [
    {
     "data": {
      "text/html": [
       "<div>\n",
       "<style scoped>\n",
       "    .dataframe tbody tr th:only-of-type {\n",
       "        vertical-align: middle;\n",
       "    }\n",
       "\n",
       "    .dataframe tbody tr th {\n",
       "        vertical-align: top;\n",
       "    }\n",
       "\n",
       "    .dataframe thead th {\n",
       "        text-align: right;\n",
       "    }\n",
       "</style>\n",
       "<table border=\"1\" class=\"dataframe\">\n",
       "  <thead>\n",
       "    <tr style=\"text-align: right;\">\n",
       "      <th></th>\n",
       "      <th>placeID</th>\n",
       "      <th>food_rating</th>\n",
       "      <th>service_rating</th>\n",
       "    </tr>\n",
       "  </thead>\n",
       "  <tbody>\n",
       "    <tr>\n",
       "      <th>count</th>\n",
       "      <td>1161.000000</td>\n",
       "      <td>1161.000000</td>\n",
       "      <td>1161.000000</td>\n",
       "    </tr>\n",
       "    <tr>\n",
       "      <th>mean</th>\n",
       "      <td>134192.041344</td>\n",
       "      <td>1.215332</td>\n",
       "      <td>1.090439</td>\n",
       "    </tr>\n",
       "    <tr>\n",
       "      <th>std</th>\n",
       "      <td>1100.916275</td>\n",
       "      <td>0.792294</td>\n",
       "      <td>0.790844</td>\n",
       "    </tr>\n",
       "    <tr>\n",
       "      <th>min</th>\n",
       "      <td>132560.000000</td>\n",
       "      <td>0.000000</td>\n",
       "      <td>0.000000</td>\n",
       "    </tr>\n",
       "    <tr>\n",
       "      <th>25%</th>\n",
       "      <td>132856.000000</td>\n",
       "      <td>1.000000</td>\n",
       "      <td>0.000000</td>\n",
       "    </tr>\n",
       "    <tr>\n",
       "      <th>50%</th>\n",
       "      <td>135030.000000</td>\n",
       "      <td>1.000000</td>\n",
       "      <td>1.000000</td>\n",
       "    </tr>\n",
       "    <tr>\n",
       "      <th>75%</th>\n",
       "      <td>135059.000000</td>\n",
       "      <td>2.000000</td>\n",
       "      <td>2.000000</td>\n",
       "    </tr>\n",
       "    <tr>\n",
       "      <th>max</th>\n",
       "      <td>135109.000000</td>\n",
       "      <td>2.000000</td>\n",
       "      <td>2.000000</td>\n",
       "    </tr>\n",
       "  </tbody>\n",
       "</table>\n",
       "</div>"
      ],
      "text/plain": [
       "             placeID  food_rating  service_rating\n",
       "count    1161.000000  1161.000000     1161.000000\n",
       "mean   134192.041344     1.215332        1.090439\n",
       "std      1100.916275     0.792294        0.790844\n",
       "min    132560.000000     0.000000        0.000000\n",
       "25%    132856.000000     1.000000        0.000000\n",
       "50%    135030.000000     1.000000        1.000000\n",
       "75%    135059.000000     2.000000        2.000000\n",
       "max    135109.000000     2.000000        2.000000"
      ]
     },
     "execution_count": 3,
     "metadata": {},
     "output_type": "execute_result"
    }
   ],
   "source": [
    "user_rating.describe()"
   ]
  },
  {
   "cell_type": "code",
   "execution_count": null,
   "id": "11b11385",
   "metadata": {},
   "outputs": [],
   "source": []
  }
 ],
 "metadata": {
  "kernelspec": {
   "display_name": "Python 3 (ipykernel)",
   "language": "python",
   "name": "python3"
  },
  "language_info": {
   "codemirror_mode": {
    "name": "ipython",
    "version": 3
   },
   "file_extension": ".py",
   "mimetype": "text/x-python",
   "name": "python",
   "nbconvert_exporter": "python",
   "pygments_lexer": "ipython3",
   "version": "3.9.12"
  }
 },
 "nbformat": 4,
 "nbformat_minor": 5
}
