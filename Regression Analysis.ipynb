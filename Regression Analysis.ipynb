{
 "cells": [
  {
   "cell_type": "markdown",
   "id": "efa3835d",
   "metadata": {},
   "source": [
    "## Assumptions about the data for linear regression\n",
    "\n",
    "**Assumption 1**: The target (dependent) variable and the predictor (independent) variables should be continuous numerical values.\n",
    "\n",
    "**Assumption 2**: There should be linear relationship between the predictor variable and the target variable. A scatterplot with the predictor and the target variables along the x-axis and the y-axis, can be used as a simple check to validate this assumption.\n",
    "\n",
    "**Assumption 3**: There should not be any significant outliers in the data. \n",
    "\n",
    "**Assumption 4**: The data is iid (Independent and identically distributed). In other words, one observation should not depend on another.\n",
    "\n",
    "**Assumption 5**: The residuals (difference between the actual value and predicted value) of a regression should not exhibit any pattern.  That is, they should be homoscedastic (exhibit equal variance across all instances). This assumption can be validated by plotting a scatter plot of the residuals. If the residuals exhibit a pattern, then they are not homoscedastic (in other words, they are heteroscedastic). If the residuals are randomly distributed, then it is homoscedastic in nature.\n",
    "\n",
    "**Assumption 6**: The residuals of the regression line should be approximately normally distributed. The assumption can be checked by plotting a Normal Q-Q plot on the residuals."
   ]
  },
  {
   "cell_type": "code",
   "execution_count": 1,
   "id": "5104ec4d",
   "metadata": {},
   "outputs": [
    {
     "data": {
      "text/html": [
       "<div>\n",
       "<style scoped>\n",
       "    .dataframe tbody tr th:only-of-type {\n",
       "        vertical-align: middle;\n",
       "    }\n",
       "\n",
       "    .dataframe tbody tr th {\n",
       "        vertical-align: top;\n",
       "    }\n",
       "\n",
       "    .dataframe thead th {\n",
       "        text-align: right;\n",
       "    }\n",
       "</style>\n",
       "<table border=\"1\" class=\"dataframe\">\n",
       "  <thead>\n",
       "    <tr style=\"text-align: right;\">\n",
       "      <th></th>\n",
       "      <th>Units</th>\n",
       "      <th>Minutes</th>\n",
       "    </tr>\n",
       "  </thead>\n",
       "  <tbody>\n",
       "    <tr>\n",
       "      <th>0</th>\n",
       "      <td>1</td>\n",
       "      <td>23</td>\n",
       "    </tr>\n",
       "    <tr>\n",
       "      <th>1</th>\n",
       "      <td>2</td>\n",
       "      <td>29</td>\n",
       "    </tr>\n",
       "    <tr>\n",
       "      <th>2</th>\n",
       "      <td>3</td>\n",
       "      <td>49</td>\n",
       "    </tr>\n",
       "    <tr>\n",
       "      <th>3</th>\n",
       "      <td>4</td>\n",
       "      <td>64</td>\n",
       "    </tr>\n",
       "    <tr>\n",
       "      <th>4</th>\n",
       "      <td>4</td>\n",
       "      <td>74</td>\n",
       "    </tr>\n",
       "  </tbody>\n",
       "</table>\n",
       "</div>"
      ],
      "text/plain": [
       "   Units  Minutes\n",
       "0      1       23\n",
       "1      2       29\n",
       "2      3       49\n",
       "3      4       64\n",
       "4      4       74"
      ]
     },
     "execution_count": 1,
     "metadata": {},
     "output_type": "execute_result"
    }
   ],
   "source": [
    "# Importing the required libraries\n",
    "import numpy as np\n",
    "import pandas as pd\n",
    "import matplotlib.pyplot as plt\n",
    "%matplotlib inline\n",
    "# Reading data from input csv file\n",
    "computers = pd.read_csv(\"datasets/computers.csv\")\n",
    "# Printing the first 5 rows\n",
    "computers.head()"
   ]
  },
  {
   "cell_type": "code",
   "execution_count": 2,
   "id": "615f036c",
   "metadata": {},
   "outputs": [
    {
     "data": {
      "text/plain": [
       "Text(0.5, 1.0, 'Minutes vs. Units')"
      ]
     },
     "execution_count": 2,
     "metadata": {},
     "output_type": "execute_result"
    },
    {
     "data": {
      "image/png": "[encoded data removed]",
      "text/plain": [
       "<Figure size 432x288 with 1 Axes>"
      ]
     },
     "metadata": {
      "needs_background": "light"
     },
     "output_type": "display_data"
    }
   ],
   "source": [
    "# Plotting the actual time taken for various values of number of faulty units.\n",
    "plt.scatter(computers['Units'], computers['Minutes'])\n",
    "plt.xlabel(\"Units\")\n",
    "plt.ylabel(\"Minutes\")\n",
    "plt.title(\"Minutes vs. Units\")"
   ]
  },
  {
   "cell_type": "markdown",
   "id": "d9cfa7b3",
   "metadata": {},
   "source": [
    "From the above graph, there appears to be a linear relationship between the two variables. We also infer that, there are no significant outliers in the data. Also, all the observations are independent of one another. Thus, a simple linear regression model seems to be a good choice for this problem,"
   ]
  },
  {
   "cell_type": "code",
   "execution_count": 3,
   "id": "67b6a2e9",
   "metadata": {},
   "outputs": [
    {
     "name": "stdout",
     "output_type": "stream",
     "text": [
      "intercept :  4.161654135338296  coefficient :  15.508771929824569\n"
     ]
    }
   ],
   "source": [
    "x = computers.Units \n",
    "y = computers.Minutes\n",
    "xiyi = x*y\n",
    "n = len(computers)\n",
    "xmean = computers.Units.mean()\n",
    "ymean = computers.Minutes.mean()\n",
    "numerator = xiyi.sum() - n*xmean*ymean\n",
    "denominator = (x**2).sum() - n*(xmean**2)\n",
    "m = numerator/denominator\n",
    "c = ymean - (m*xmean)\n",
    "print('intercept : ',c,' coefficient : ',m)"
   ]
  },
  {
   "cell_type": "code",
   "execution_count": 4,
   "id": "f54fc63f",
   "metadata": {},
   "outputs": [],
   "source": [
    "# Estimating time using the intercept and the coefficient of the best fit model\n",
    "min_best_fit_model = c + m*computers.Units\n",
    "# Adding the predicted values to the dataset\n",
    "computers['min_best_fit_model'] = min_best_fit_model\n",
    "# Printing the values predicted by the best fit model\n",
    "best_fit_model = computers[[\"Units\",\"Minutes\",\"min_best_fit_model\"]]"
   ]
  },
  {
   "cell_type": "markdown",
   "id": "b5d2d501",
   "metadata": {},
   "source": [
    "### Inferences Concerning the Regression Coefficients\n",
    "\n",
    "An important hypothesis to consider regarding the simple linear regression model (y = β0 + β1x1) is the hypothesis, β1 = 0.  If this hypothesis holds true, it means that the target is not influenced by the predictor. Otherwise if the alternate hypothesis (ß1 ≠ 0) is true, we can say the target is influenced by the predictor.\n",
    "\n",
    "To test   H0 : β1 = 0   versus   H1 : β1 ≠ 0, we can use the t-test.\n",
    "\n",
    "In t-test, the test statistic is calculated, and its p-value is determined. The null hypothesis (H0) is accepted if the p-value exceeds the level of significance requirement (usually, 5%). Otherwise, if p-value < 5%, we reject the null hypothesis and accept the alternate hypothesis.\n",
    "\n",
    "So the t-test can be used to decide if any independent variable has a significant effect on the dependent variable.\n",
    "\n",
    "The t-test checks only one co-efficient at a time. For assessing multiple coefficients simultaneously, the F-test can be used.\n",
    "\n",
    "F-test compares a model with no predictors with the model you specify. A regression model that contains no predictors is also known as an intercept-only model.\n",
    "\n",
    "The hypotheses for the F-test of the overall significance are as follows:\n",
    "\n",
    "Null hypothesis: The fit of the intercept-only model and your model are equal.\n",
    "Alternative hypothesis: The fit of the intercept-only model is significantly less compared to your model.\n"
   ]
  },
  {
   "cell_type": "code",
   "execution_count": 5,
   "id": "8d4ef742",
   "metadata": {},
   "outputs": [],
   "source": [
    "# building statistics model\n",
    "import statsmodels.api as sm\n",
    "X=sm.add_constant(computers[[\"Units\"]])\n",
    "y=computers['Minutes']\n",
    "# regression model using Ordinary Least Squares\n",
    "model=sm.OLS(y,X).fit()"
   ]
  },
  {
   "cell_type": "code",
   "execution_count": 6,
   "id": "721bac58",
   "metadata": {},
   "outputs": [
    {
     "name": "stderr",
     "output_type": "stream",
     "text": [
      "C:\\Users\\Shrinath\\anaconda3\\lib\\site-packages\\scipy\\stats\\stats.py:1541: UserWarning: kurtosistest only valid for n>=20 ... continuing anyway, n=14\n",
      "  warnings.warn(\"kurtosistest only valid for n>=20 ... continuing \"\n"
     ]
    },
    {
     "data": {
      "text/html": [
       "<table class=\"simpletable\">\n",
       "<caption>OLS Regression Results</caption>\n",
       "<tr>\n",
       "  <th>Dep. Variable:</th>         <td>Minutes</td>     <th>  R-squared:         </th> <td>   0.987</td>\n",
       "</tr>\n",
       "<tr>\n",
       "  <th>Model:</th>                   <td>OLS</td>       <th>  Adj. R-squared:    </th> <td>   0.986</td>\n",
       "</tr>\n",
       "<tr>\n",
       "  <th>Method:</th>             <td>Least Squares</td>  <th>  F-statistic:       </th> <td>   943.2</td>\n",
       "</tr>\n",
       "<tr>\n",
       "  <th>Date:</th>             <td>Wed, 30 Nov 2022</td> <th>  Prob (F-statistic):</th> <td>8.92e-13</td>\n",
       "</tr>\n",
       "<tr>\n",
       "  <th>Time:</th>                 <td>08:17:58</td>     <th>  Log-Likelihood:    </th> <td> -42.374</td>\n",
       "</tr>\n",
       "<tr>\n",
       "  <th>No. Observations:</th>      <td>    14</td>      <th>  AIC:               </th> <td>   88.75</td>\n",
       "</tr>\n",
       "<tr>\n",
       "  <th>Df Residuals:</th>          <td>    12</td>      <th>  BIC:               </th> <td>   90.03</td>\n",
       "</tr>\n",
       "<tr>\n",
       "  <th>Df Model:</th>              <td>     1</td>      <th>                     </th>     <td> </td>   \n",
       "</tr>\n",
       "<tr>\n",
       "  <th>Covariance Type:</th>      <td>nonrobust</td>    <th>                     </th>     <td> </td>   \n",
       "</tr>\n",
       "</table>\n",
       "<table class=\"simpletable\">\n",
       "<tr>\n",
       "    <td></td>       <th>coef</th>     <th>std err</th>      <th>t</th>      <th>P>|t|</th>  <th>[0.025</th>    <th>0.975]</th>  \n",
       "</tr>\n",
       "<tr>\n",
       "  <th>const</th> <td>    4.1617</td> <td>    3.355</td> <td>    1.240</td> <td> 0.239</td> <td>   -3.148</td> <td>   11.472</td>\n",
       "</tr>\n",
       "<tr>\n",
       "  <th>Units</th> <td>   15.5088</td> <td>    0.505</td> <td>   30.712</td> <td> 0.000</td> <td>   14.409</td> <td>   16.609</td>\n",
       "</tr>\n",
       "</table>\n",
       "<table class=\"simpletable\">\n",
       "<tr>\n",
       "  <th>Omnibus:</th>       <td> 0.746</td> <th>  Durbin-Watson:     </th> <td>   2.051</td>\n",
       "</tr>\n",
       "<tr>\n",
       "  <th>Prob(Omnibus):</th> <td> 0.689</td> <th>  Jarque-Bera (JB):  </th> <td>   0.624</td>\n",
       "</tr>\n",
       "<tr>\n",
       "  <th>Skew:</th>          <td>-0.069</td> <th>  Prob(JB):          </th> <td>   0.732</td>\n",
       "</tr>\n",
       "<tr>\n",
       "  <th>Kurtosis:</th>      <td> 1.975</td> <th>  Cond. No.          </th> <td>    15.8</td>\n",
       "</tr>\n",
       "</table><br/><br/>Notes:<br/>[1] Standard Errors assume that the covariance matrix of the errors is correctly specified."
      ],
      "text/plain": [
       "<class 'statsmodels.iolib.summary.Summary'>\n",
       "\"\"\"\n",
       "                            OLS Regression Results                            \n",
       "==============================================================================\n",
       "Dep. Variable:                Minutes   R-squared:                       0.987\n",
       "Model:                            OLS   Adj. R-squared:                  0.986\n",
       "Method:                 Least Squares   F-statistic:                     943.2\n",
       "Date:                Wed, 30 Nov 2022   Prob (F-statistic):           8.92e-13\n",
       "Time:                        08:17:58   Log-Likelihood:                -42.374\n",
       "No. Observations:                  14   AIC:                             88.75\n",
       "Df Residuals:                      12   BIC:                             90.03\n",
       "Df Model:                           1                                         \n",
       "Covariance Type:            nonrobust                                         \n",
       "==============================================================================\n",
       "                 coef    std err          t      P>|t|      [0.025      0.975]\n",
       "------------------------------------------------------------------------------\n",
       "const          4.1617      3.355      1.240      0.239      -3.148      11.472\n",
       "Units         15.5088      0.505     30.712      0.000      14.409      16.609\n",
       "==============================================================================\n",
       "Omnibus:                        0.746   Durbin-Watson:                   2.051\n",
       "Prob(Omnibus):                  0.689   Jarque-Bera (JB):                0.624\n",
       "Skew:                          -0.069   Prob(JB):                        0.732\n",
       "Kurtosis:                       1.975   Cond. No.                         15.8\n",
       "==============================================================================\n",
       "\n",
       "Notes:\n",
       "[1] Standard Errors assume that the covariance matrix of the errors is correctly specified.\n",
       "\"\"\""
      ]
     },
     "execution_count": 6,
     "metadata": {},
     "output_type": "execute_result"
    }
   ],
   "source": [
    "model.summary()"
   ]
  },
  {
   "cell_type": "markdown",
   "id": "926df247",
   "metadata": {},
   "source": [
    "For a significance level of 0.05, the best fit model obtained for computer repairs data has a p-value (P>[t]) of 0.000 for 'Units'(as shown above) . The null hypothesis for t-test can thus be rejected since the p-value (0.000) is less than the significance level of 0.05. Hence the predictor 'Units' has significance in the prediction of the 'Minutes' (target).\n",
    "\n",
    "The null hypothesis for the F-test can be rejected since the p-value 8.916e-13 (as shown above) is less than the significance level of 0.05. Hence, the F-test also confirms that the obtained best fit model is significant."
   ]
  },
  {
   "cell_type": "markdown",
   "id": "328a2da9",
   "metadata": {},
   "source": [
    "### Coefficient of determination\n",
    "The **coefficient of determination** (R2) is the measure the amount of variation in the response values (i.e. predicted target values) corresponding to the input feature values across all the samples or observations."
   ]
  },
  {
   "cell_type": "code",
   "execution_count": 7,
   "id": "37e1eb12",
   "metadata": {},
   "outputs": [
    {
     "data": {
      "text/plain": [
       "0.9874371980620736"
      ]
     },
     "execution_count": 7,
     "metadata": {},
     "output_type": "execute_result"
    }
   ],
   "source": [
    "SST = sum((computers.Minutes.mean() - computers.Minutes)**2)\n",
    "SST\n",
    "# 27768.357142857145\n",
    "SSE = sum((best_fit_model.Minutes - best_fit_model.min_best_fit_model)**2)\n",
    "SSE\n",
    "# 348.848370927318\n",
    "Rsq = (SST - SSE)/SST\n",
    "Rsq\n",
    "# 0.9874371980620736"
   ]
  },
  {
   "cell_type": "markdown",
   "id": "31648b0c",
   "metadata": {},
   "source": [
    "### Validating the assumption of homoscedasticity\n",
    "The scale-location plot depicts the square rooted standardized residual vs. predicted value obtained using the best fit model. "
   ]
  },
  {
   "cell_type": "code",
   "execution_count": 8,
   "id": "f8c9e15d",
   "metadata": {},
   "outputs": [
    {
     "name": "stderr",
     "output_type": "stream",
     "text": [
      "C:\\Users\\Shrinath\\anaconda3\\lib\\site-packages\\seaborn\\_decorators.py:36: FutureWarning: Pass the following variables as keyword args: x, y. From version 0.12, the only valid positional argument will be `data`, and passing other arguments without an explicit keyword will result in an error or misinterpretation.\n",
      "  warnings.warn(\n"
     ]
    },
    {
     "data": {
      "text/plain": [
       "Text(0, 0.5, 'Standardized residuals')"
      ]
     },
     "execution_count": 8,
     "metadata": {},
     "output_type": "execute_result"
    },
    {
     "data": {
      "image/png": "[encoded data removed]",
      "text/plain": [
       "<Figure size 504x504 with 1 Axes>"
      ]
     },
     "metadata": {
      "needs_background": "light"
     },
     "output_type": "display_data"
    }
   ],
   "source": [
    "import seaborn as sns\n",
    "# standard deviation of residuals\n",
    "residual_error=computers[\"Minutes\"]-best_fit_model.min_best_fit_model\n",
    "sd=np.sqrt(np.sum(np.square(residual_error))/(residual_error.size-2))\n",
    "# standardised residuals\n",
    "sd_error=residual_error/sd\n",
    "sq_abs_sd_err=np.sqrt(np.abs(sd_error))\n",
    "plt.figure(figsize=(7,7))\n",
    "sns.regplot(best_fit_model.min_best_fit_model,sq_abs_sd_err, scatter=True, lowess=True,\n",
    "           line_kws={'color':'red', 'lw':1, 'alpha':1})\n",
    "plt.xlabel(\"Fitted value\")\n",
    "plt.ylabel(\"Standardized residuals\")"
   ]
  },
  {
   "cell_type": "markdown",
   "id": "bddbd938",
   "metadata": {},
   "source": [
    "No specific pattern observed by the residuals in the plot, confirms that the linear regression model abide by the homoscedasticity assumption."
   ]
  },
  {
   "cell_type": "markdown",
   "id": "9048755c",
   "metadata": {},
   "source": [
    "Residual plots can also be used to examine the homoscedastic nature of residuals in simple linear regression. A residual plot has the predictor alon g the x-axis and the residuals along the y-axis."
   ]
  },
  {
   "cell_type": "code",
   "execution_count": 9,
   "id": "24dd913f",
   "metadata": {},
   "outputs": [
    {
     "name": "stderr",
     "output_type": "stream",
     "text": [
      "C:\\Users\\Shrinath\\anaconda3\\lib\\site-packages\\seaborn\\_decorators.py:36: FutureWarning: Pass the following variables as keyword args: x, y. From version 0.12, the only valid positional argument will be `data`, and passing other arguments without an explicit keyword will result in an error or misinterpretation.\n",
      "  warnings.warn(\n"
     ]
    },
    {
     "data": {
      "text/plain": [
       "Text(0.5, 1.0, 'Residual plot')"
      ]
     },
     "execution_count": 9,
     "metadata": {},
     "output_type": "execute_result"
    },
    {
     "data": {
      "image/png": "[encoded data removed]",
      "text/plain": [
       "<Figure size 432x288 with 1 Axes>"
      ]
     },
     "metadata": {
      "needs_background": "light"
     },
     "output_type": "display_data"
    }
   ],
   "source": [
    "import seaborn as sns\n",
    "sns.residplot('Units','Minutes',data=computers, lowess=True,\n",
    "             line_kws={'color':'red', 'lw':1, 'alpha':1})\n",
    "plt.xlabel(\"Units\")\n",
    "plt.title(\"Residual plot\")"
   ]
  },
  {
   "cell_type": "markdown",
   "id": "1429d5bc",
   "metadata": {},
   "source": [
    "It can be observed that the above plot does not follow any specific pattern. This is an indicator that the relationship between the dependent and predictor variables is linear in nature. If the residual vs. predictor plot exhibits any pattern then the relationship between the predictors and target may be non-linear."
   ]
  },
  {
   "cell_type": "markdown",
   "id": "e315e717",
   "metadata": {},
   "source": [
    "### Validating the Assumption That Errors are Normally Distributed\n",
    "\n",
    "A linear regression model is said to be valid if its errors (residuals) are normally distributed. A Normal Q-Q plot can be used to validate this assumption."
   ]
  },
  {
   "cell_type": "code",
   "execution_count": 10,
   "id": "64b68ff9",
   "metadata": {},
   "outputs": [
    {
     "data": {
      "text/plain": [
       "Text(0.5, 1.0, 'Normal Q-Q Plot')"
      ]
     },
     "execution_count": 10,
     "metadata": {},
     "output_type": "execute_result"
    },
    {
     "data": {
      "image/png": "[encoded data removed]",
      "text/plain": [
       "<Figure size 504x504 with 1 Axes>"
      ]
     },
     "metadata": {
      "needs_background": "light"
     },
     "output_type": "display_data"
    }
   ],
   "source": [
    "from scipy import stats\n",
    "residual_error=computers['Minutes']-best_fit_model.min_best_fit_model\n",
    "plt.figure(figsize=(7,7))\n",
    "stats.probplot(residual_error, dist='norm', plot=plt)\n",
    "plt.title(\"Normal Q-Q Plot\")"
   ]
  },
  {
   "cell_type": "markdown",
   "id": "fb848dc7",
   "metadata": {},
   "source": [
    "**Shapiro-Wilk Test** : is a statistical test to check the normal distribution of a sample.\n",
    "\n",
    "Null hypothesis: The sample is part of normal distribution population. The null hypothesis is accepted if the p-value is greater than 0.05\n",
    "Alternate hypothesis: The sample is not from normal distribution. If p-value on the sample is less than 0.05, alternate hypothesis is accepted, and null hypothesis gets rejected."
   ]
  },
  {
   "cell_type": "code",
   "execution_count": 11,
   "id": "18399e21",
   "metadata": {},
   "outputs": [
    {
     "name": "stdout",
     "output_type": "stream",
     "text": [
      "0.8401687741279602\n"
     ]
    }
   ],
   "source": [
    "from scipy.stats import shapiro\n",
    "stat, p = shapiro(residual_error)\n",
    "print(p)\n",
    "# output\n",
    "# 0.8401687741279602"
   ]
  },
  {
   "cell_type": "markdown",
   "id": "544d4c88",
   "metadata": {},
   "source": [
    "For a significance level of 0.05, the p-value obtained from the Shapiro-Wilk test suggests that the model abides by the assumption of normality since the p-value is greater than the chosen significance level."
   ]
  },
  {
   "cell_type": "markdown",
   "id": "1672f867",
   "metadata": {},
   "source": [
    "### Exponetial Regression"
   ]
  },
  {
   "cell_type": "code",
   "execution_count": 12,
   "id": "61d1957e",
   "metadata": {},
   "outputs": [
    {
     "data": {
      "text/html": [
       "<div>\n",
       "<style scoped>\n",
       "    .dataframe tbody tr th:only-of-type {\n",
       "        vertical-align: middle;\n",
       "    }\n",
       "\n",
       "    .dataframe tbody tr th {\n",
       "        vertical-align: top;\n",
       "    }\n",
       "\n",
       "    .dataframe thead th {\n",
       "        text-align: right;\n",
       "    }\n",
       "</style>\n",
       "<table border=\"1\" class=\"dataframe\">\n",
       "  <thead>\n",
       "    <tr style=\"text-align: right;\">\n",
       "      <th></th>\n",
       "      <th>Miles_driven</th>\n",
       "      <th>Percentage_Useable</th>\n",
       "    </tr>\n",
       "  </thead>\n",
       "  <tbody>\n",
       "    <tr>\n",
       "      <th>0</th>\n",
       "      <td>1</td>\n",
       "      <td>98.2</td>\n",
       "    </tr>\n",
       "    <tr>\n",
       "      <th>1</th>\n",
       "      <td>2</td>\n",
       "      <td>91.7</td>\n",
       "    </tr>\n",
       "    <tr>\n",
       "      <th>2</th>\n",
       "      <td>5</td>\n",
       "      <td>81.3</td>\n",
       "    </tr>\n",
       "    <tr>\n",
       "      <th>3</th>\n",
       "      <td>10</td>\n",
       "      <td>64.0</td>\n",
       "    </tr>\n",
       "    <tr>\n",
       "      <th>4</th>\n",
       "      <td>20</td>\n",
       "      <td>36.4</td>\n",
       "    </tr>\n",
       "  </tbody>\n",
       "</table>\n",
       "</div>"
      ],
      "text/plain": [
       "   Miles_driven  Percentage_Useable\n",
       "0             1                98.2\n",
       "1             2                91.7\n",
       "2             5                81.3\n",
       "3            10                64.0\n",
       "4            20                36.4"
      ]
     },
     "execution_count": 12,
     "metadata": {},
     "output_type": "execute_result"
    }
   ],
   "source": [
    "Tire_useability = pd.read_csv(\"Exponential regression/datasets/Tire_useability.csv\")\n",
    "Tire_useability.head()"
   ]
  },
  {
   "cell_type": "code",
   "execution_count": 13,
   "id": "6a0757af",
   "metadata": {},
   "outputs": [
    {
     "data": {
      "text/plain": [
       "Text(0, 0.5, 'Percentage Useable')"
      ]
     },
     "execution_count": 13,
     "metadata": {},
     "output_type": "execute_result"
    },
    {
     "data": {
      "image/png": "[encoded data removed]",
      "text/plain": [
       "<Figure size 864x504 with 1 Axes>"
      ]
     },
     "metadata": {
      "needs_background": "light"
     },
     "output_type": "display_data"
    }
   ],
   "source": [
    "plt.figure(figsize=(12,7))\n",
    "plt.scatter(x = \"Miles_driven\", y = \"Percentage_Useable\", data = Tire_useability)\n",
    "plt.title(\"Scatter plot of Miles driven vs. Percentage Useable\")\n",
    "plt.xlabel(\"Miles driven\")\n",
    "plt.ylabel(\"Percentage Useable\")"
   ]
  },
  {
   "cell_type": "markdown",
   "id": "fa3e89b8",
   "metadata": {},
   "source": [
    "For the equation \n",
    "\n",
    "log(Percentage_Useable) = log(ß0) + ß1 (Miles_driven)\n",
    "\n",
    "we can fit a simple linear regression model to predict the percentage usability of the tire based on the miles driven, where the dependent (target) variable is log(Percentage_Useable)  and the independent (predictor) variable is Miles_driven.\n",
    "\n",
    "The scatter plot between log(Percentage_Useable) and Miles_driven (as shown below) also confirms the same."
   ]
  },
  {
   "cell_type": "code",
   "execution_count": 14,
   "id": "51478875",
   "metadata": {},
   "outputs": [
    {
     "data": {
      "text/plain": [
       "Text(0, 0.5, 'Log of Percentage Useable')"
      ]
     },
     "execution_count": 14,
     "metadata": {},
     "output_type": "execute_result"
    },
    {
     "data": {
      "image/png": "[encoded data removed]",
      "text/plain": [
       "<Figure size 864x504 with 1 Axes>"
      ]
     },
     "metadata": {
      "needs_background": "light"
     },
     "output_type": "display_data"
    }
   ],
   "source": [
    "plt.figure(figsize=(12,7))\n",
    "plt.scatter(x = Tire_useability[\"Miles_driven\"], y = np.log(Tire_useability[\"Percentage_Useable\"]))\n",
    "plt.title(\"Scatter plot of Miles driven vs. Log of Percentage Useable\")\n",
    "plt.xlabel(\"Miles driven\")\n",
    "plt.ylabel(\"Log of Percentage Useable\")"
   ]
  },
  {
   "cell_type": "code",
   "execution_count": 15,
   "id": "5a1ee4f7",
   "metadata": {},
   "outputs": [],
   "source": [
    "import statsmodels.formula.api as smf\n",
    "exp_model = smf.ols(formula='np.log(Percentage_Useable) ~ Miles_driven ',\n",
    "                    data = Tire_useability).fit()"
   ]
  },
  {
   "cell_type": "code",
   "execution_count": 16,
   "id": "a7939edf",
   "metadata": {},
   "outputs": [
    {
     "name": "stderr",
     "output_type": "stream",
     "text": [
      "C:\\Users\\Shrinath\\anaconda3\\lib\\site-packages\\scipy\\stats\\stats.py:1541: UserWarning: kurtosistest only valid for n>=20 ... continuing anyway, n=8\n",
      "  warnings.warn(\"kurtosistest only valid for n>=20 ... continuing \"\n"
     ]
    },
    {
     "data": {
      "text/html": [
       "<table class=\"simpletable\">\n",
       "<caption>OLS Regression Results</caption>\n",
       "<tr>\n",
       "  <th>Dep. Variable:</th>    <td>np.log(Percentage_Useable)</td> <th>  R-squared:         </th> <td>   0.988</td>\n",
       "</tr>\n",
       "<tr>\n",
       "  <th>Model:</th>                        <td>OLS</td>            <th>  Adj. R-squared:    </th> <td>   0.986</td>\n",
       "</tr>\n",
       "<tr>\n",
       "  <th>Method:</th>                  <td>Least Squares</td>       <th>  F-statistic:       </th> <td>   492.0</td>\n",
       "</tr>\n",
       "<tr>\n",
       "  <th>Date:</th>                  <td>Wed, 30 Nov 2022</td>      <th>  Prob (F-statistic):</th> <td>5.49e-07</td>\n",
       "</tr>\n",
       "<tr>\n",
       "  <th>Time:</th>                      <td>08:18:01</td>          <th>  Log-Likelihood:    </th> <td>  8.5732</td>\n",
       "</tr>\n",
       "<tr>\n",
       "  <th>No. Observations:</th>           <td>     8</td>           <th>  AIC:               </th> <td>  -13.15</td>\n",
       "</tr>\n",
       "<tr>\n",
       "  <th>Df Residuals:</th>               <td>     6</td>           <th>  BIC:               </th> <td>  -12.99</td>\n",
       "</tr>\n",
       "<tr>\n",
       "  <th>Df Model:</th>                   <td>     1</td>           <th>                     </th>     <td> </td>   \n",
       "</tr>\n",
       "<tr>\n",
       "  <th>Covariance Type:</th>           <td>nonrobust</td>         <th>                     </th>     <td> </td>   \n",
       "</tr>\n",
       "</table>\n",
       "<table class=\"simpletable\">\n",
       "<tr>\n",
       "        <td></td>          <th>coef</th>     <th>std err</th>      <th>t</th>      <th>P>|t|</th>  <th>[0.025</th>    <th>0.975]</th>  \n",
       "</tr>\n",
       "<tr>\n",
       "  <th>Intercept</th>    <td>    4.6046</td> <td>    0.051</td> <td>   89.850</td> <td> 0.000</td> <td>    4.479</td> <td>    4.730</td>\n",
       "</tr>\n",
       "<tr>\n",
       "  <th>Miles_driven</th> <td>   -0.0432</td> <td>    0.002</td> <td>  -22.182</td> <td> 0.000</td> <td>   -0.048</td> <td>   -0.038</td>\n",
       "</tr>\n",
       "</table>\n",
       "<table class=\"simpletable\">\n",
       "<tr>\n",
       "  <th>Omnibus:</th>       <td> 3.910</td> <th>  Durbin-Watson:     </th> <td>   3.060</td>\n",
       "</tr>\n",
       "<tr>\n",
       "  <th>Prob(Omnibus):</th> <td> 0.142</td> <th>  Jarque-Bera (JB):  </th> <td>   0.581</td>\n",
       "</tr>\n",
       "<tr>\n",
       "  <th>Skew:</th>          <td> 0.533</td> <th>  Prob(JB):          </th> <td>   0.748</td>\n",
       "</tr>\n",
       "<tr>\n",
       "  <th>Kurtosis:</th>      <td> 3.779</td> <th>  Cond. No.          </th> <td>    39.9</td>\n",
       "</tr>\n",
       "</table><br/><br/>Notes:<br/>[1] Standard Errors assume that the covariance matrix of the errors is correctly specified."
      ],
      "text/plain": [
       "<class 'statsmodels.iolib.summary.Summary'>\n",
       "\"\"\"\n",
       "                                OLS Regression Results                                \n",
       "======================================================================================\n",
       "Dep. Variable:     np.log(Percentage_Useable)   R-squared:                       0.988\n",
       "Model:                                    OLS   Adj. R-squared:                  0.986\n",
       "Method:                         Least Squares   F-statistic:                     492.0\n",
       "Date:                        Wed, 30 Nov 2022   Prob (F-statistic):           5.49e-07\n",
       "Time:                                08:18:01   Log-Likelihood:                 8.5732\n",
       "No. Observations:                           8   AIC:                            -13.15\n",
       "Df Residuals:                               6   BIC:                            -12.99\n",
       "Df Model:                                   1                                         \n",
       "Covariance Type:                    nonrobust                                         \n",
       "================================================================================\n",
       "                   coef    std err          t      P>|t|      [0.025      0.975]\n",
       "--------------------------------------------------------------------------------\n",
       "Intercept        4.6046      0.051     89.850      0.000       4.479       4.730\n",
       "Miles_driven    -0.0432      0.002    -22.182      0.000      -0.048      -0.038\n",
       "==============================================================================\n",
       "Omnibus:                        3.910   Durbin-Watson:                   3.060\n",
       "Prob(Omnibus):                  0.142   Jarque-Bera (JB):                0.581\n",
       "Skew:                           0.533   Prob(JB):                        0.748\n",
       "Kurtosis:                       3.779   Cond. No.                         39.9\n",
       "==============================================================================\n",
       "\n",
       "Notes:\n",
       "[1] Standard Errors assume that the covariance matrix of the errors is correctly specified.\n",
       "\"\"\""
      ]
     },
     "execution_count": 16,
     "metadata": {},
     "output_type": "execute_result"
    }
   ],
   "source": [
    "exp_model.summary()"
   ]
  },
  {
   "cell_type": "code",
   "execution_count": 17,
   "id": "5506ac4f",
   "metadata": {},
   "outputs": [
    {
     "data": {
      "text/plain": [
       "Text(0, 0.5, 'Percentage Useable')"
      ]
     },
     "execution_count": 17,
     "metadata": {},
     "output_type": "execute_result"
    },
    {
     "data": {
      "image/png": "[encoded data removed]",
      "text/plain": [
       "<Figure size 864x504 with 1 Axes>"
      ]
     },
     "metadata": {
      "needs_background": "light"
     },
     "output_type": "display_data"
    }
   ],
   "source": [
    "predictions = exp_model.predict(Tire_useability[[\"Miles_driven\"]])\n",
    "plt.figure(figsize=(12,7))\n",
    "plt.scatter(x = \"Miles_driven\", y = \"Percentage_Useable\",data = Tire_useability)\n",
    "plt.plot(Tire_useability[\"Miles_driven\"],np.exp(predictions),'r')\n",
    "plt.title(\"Scatter plot of Miles driven vs. Percentage Useable\")\n",
    "plt.xlabel(\"Miles driven\")\n",
    "plt.ylabel(\"Percentage Useable\")"
   ]
  },
  {
   "cell_type": "markdown",
   "id": "25da0361",
   "metadata": {},
   "source": [
    "### Polynomial regression\n",
    "\n",
    "Let us consider 'trees' dataset which contain details about the height of tree in feet, the girth of the tree in inches and the  volume of the tree in cubic feet.\n",
    "\n",
    "We would like to build a machine learning model to predict the volume of the tree.\n",
    "\n",
    "SInce the volume of a cylindrical structure is proportional to the radius squared, we will consider the function volume of trees  is proportional to Girth2. We shall thus try to predict the volume based on Girth2. "
   ]
  },
  {
   "cell_type": "code",
   "execution_count": 18,
   "id": "42539ee0",
   "metadata": {},
   "outputs": [],
   "source": [
    "trees = pd.read_csv(\"Polynomial regerssion/datasets/Trees.csv\") # Reading data from input csv file\n",
    "import statsmodels.formula.api as smf\n",
    "poly_model=smf.ols(formula='Volume_cubic_feet ~ Girth_inches + I(Girth_inches**2)',data=trees).fit()"
   ]
  },
  {
   "cell_type": "markdown",
   "id": "27c2eadd",
   "metadata": {},
   "source": [
    "In the formula argument before the ~ operator, the target variable is specified, and after the ~ operator independent variables are specified. The operators in the formula have special interpretations, rather than their arithmetic interpretations. If we need the operators to be interpreted as arithmetic operators, we pass those expressions to the function I(). "
   ]
  },
  {
   "cell_type": "code",
   "execution_count": 19,
   "id": "2809a476",
   "metadata": {},
   "outputs": [
    {
     "data": {
      "text/html": [
       "<table class=\"simpletable\">\n",
       "<caption>OLS Regression Results</caption>\n",
       "<tr>\n",
       "  <th>Dep. Variable:</th>    <td>Volume_cubic_feet</td> <th>  R-squared:         </th> <td>   0.962</td>\n",
       "</tr>\n",
       "<tr>\n",
       "  <th>Model:</th>                   <td>OLS</td>        <th>  Adj. R-squared:    </th> <td>   0.959</td>\n",
       "</tr>\n",
       "<tr>\n",
       "  <th>Method:</th>             <td>Least Squares</td>   <th>  F-statistic:       </th> <td>   350.5</td>\n",
       "</tr>\n",
       "<tr>\n",
       "  <th>Date:</th>             <td>Wed, 30 Nov 2022</td>  <th>  Prob (F-statistic):</th> <td>1.52e-20</td>\n",
       "</tr>\n",
       "<tr>\n",
       "  <th>Time:</th>                 <td>08:18:03</td>      <th>  Log-Likelihood:    </th> <td> -79.746</td>\n",
       "</tr>\n",
       "<tr>\n",
       "  <th>No. Observations:</th>      <td>    31</td>       <th>  AIC:               </th> <td>   165.5</td>\n",
       "</tr>\n",
       "<tr>\n",
       "  <th>Df Residuals:</th>          <td>    28</td>       <th>  BIC:               </th> <td>   169.8</td>\n",
       "</tr>\n",
       "<tr>\n",
       "  <th>Df Model:</th>              <td>     2</td>       <th>                     </th>     <td> </td>   \n",
       "</tr>\n",
       "<tr>\n",
       "  <th>Covariance Type:</th>      <td>nonrobust</td>     <th>                     </th>     <td> </td>   \n",
       "</tr>\n",
       "</table>\n",
       "<table class=\"simpletable\">\n",
       "<tr>\n",
       "            <td></td>              <th>coef</th>     <th>std err</th>      <th>t</th>      <th>P>|t|</th>  <th>[0.025</th>    <th>0.975]</th>  \n",
       "</tr>\n",
       "<tr>\n",
       "  <th>Intercept</th>            <td>   10.7863</td> <td>   11.223</td> <td>    0.961</td> <td> 0.345</td> <td>  -12.203</td> <td>   33.775</td>\n",
       "</tr>\n",
       "<tr>\n",
       "  <th>Girth_inches</th>         <td>   -2.0921</td> <td>    1.647</td> <td>   -1.270</td> <td> 0.215</td> <td>   -5.467</td> <td>    1.282</td>\n",
       "</tr>\n",
       "<tr>\n",
       "  <th>I(Girth_inches ** 2)</th> <td>    0.2545</td> <td>    0.058</td> <td>    4.376</td> <td> 0.000</td> <td>    0.135</td> <td>    0.374</td>\n",
       "</tr>\n",
       "</table>\n",
       "<table class=\"simpletable\">\n",
       "<tr>\n",
       "  <th>Omnibus:</th>       <td> 0.529</td> <th>  Durbin-Watson:     </th> <td>   1.925</td>\n",
       "</tr>\n",
       "<tr>\n",
       "  <th>Prob(Omnibus):</th> <td> 0.767</td> <th>  Jarque-Bera (JB):  </th> <td>   0.653</td>\n",
       "</tr>\n",
       "<tr>\n",
       "  <th>Skew:</th>          <td> 0.220</td> <th>  Prob(JB):          </th> <td>   0.722</td>\n",
       "</tr>\n",
       "<tr>\n",
       "  <th>Kurtosis:</th>      <td> 2.442</td> <th>  Cond. No.          </th> <td>3.88e+03</td>\n",
       "</tr>\n",
       "</table><br/><br/>Notes:<br/>[1] Standard Errors assume that the covariance matrix of the errors is correctly specified.<br/>[2] The condition number is large, 3.88e+03. This might indicate that there are<br/>strong multicollinearity or other numerical problems."
      ],
      "text/plain": [
       "<class 'statsmodels.iolib.summary.Summary'>\n",
       "\"\"\"\n",
       "                            OLS Regression Results                            \n",
       "==============================================================================\n",
       "Dep. Variable:      Volume_cubic_feet   R-squared:                       0.962\n",
       "Model:                            OLS   Adj. R-squared:                  0.959\n",
       "Method:                 Least Squares   F-statistic:                     350.5\n",
       "Date:                Wed, 30 Nov 2022   Prob (F-statistic):           1.52e-20\n",
       "Time:                        08:18:03   Log-Likelihood:                -79.746\n",
       "No. Observations:                  31   AIC:                             165.5\n",
       "Df Residuals:                      28   BIC:                             169.8\n",
       "Df Model:                           2                                         \n",
       "Covariance Type:            nonrobust                                         \n",
       "========================================================================================\n",
       "                           coef    std err          t      P>|t|      [0.025      0.975]\n",
       "----------------------------------------------------------------------------------------\n",
       "Intercept               10.7863     11.223      0.961      0.345     -12.203      33.775\n",
       "Girth_inches            -2.0921      1.647     -1.270      0.215      -5.467       1.282\n",
       "I(Girth_inches ** 2)     0.2545      0.058      4.376      0.000       0.135       0.374\n",
       "==============================================================================\n",
       "Omnibus:                        0.529   Durbin-Watson:                   1.925\n",
       "Prob(Omnibus):                  0.767   Jarque-Bera (JB):                0.653\n",
       "Skew:                           0.220   Prob(JB):                        0.722\n",
       "Kurtosis:                       2.442   Cond. No.                     3.88e+03\n",
       "==============================================================================\n",
       "\n",
       "Notes:\n",
       "[1] Standard Errors assume that the covariance matrix of the errors is correctly specified.\n",
       "[2] The condition number is large, 3.88e+03. This might indicate that there are\n",
       "strong multicollinearity or other numerical problems.\n",
       "\"\"\""
      ]
     },
     "execution_count": 19,
     "metadata": {},
     "output_type": "execute_result"
    }
   ],
   "source": [
    "poly_model.summary()"
   ]
  },
  {
   "cell_type": "markdown",
   "id": "bf82b14b",
   "metadata": {},
   "source": [
    "In the previous model built, for a significance level of 0.05, the p-value for the obtained regression coefficients suggests that ß0 and ß1 are insignificant since their p-value is greater than the significance level. This further suggests that the term Girth2 alone could be a better predictor of volume, which is also ratified by the domain knowledge that volume is directly proportional to Girth2 .\n",
    "\n",
    "Therefore the regression model that may be used to predict the volume of the tree based on Girth2 can be expressed as shown below:\n",
    "\n",
    "Estimated Volume  = ß0 + ß1 * Girth2"
   ]
  },
  {
   "cell_type": "code",
   "execution_count": 20,
   "id": "95a20fe4",
   "metadata": {},
   "outputs": [],
   "source": [
    "poly_model2=smf.ols(formula='Volume_cubic_feet ~ I(Girth_inches**2)',data=trees).fit()"
   ]
  },
  {
   "cell_type": "code",
   "execution_count": 21,
   "id": "0e139692",
   "metadata": {},
   "outputs": [
    {
     "data": {
      "text/html": [
       "<table class=\"simpletable\">\n",
       "<caption>OLS Regression Results</caption>\n",
       "<tr>\n",
       "  <th>Dep. Variable:</th>    <td>Volume_cubic_feet</td> <th>  R-squared:         </th> <td>   0.959</td>\n",
       "</tr>\n",
       "<tr>\n",
       "  <th>Model:</th>                   <td>OLS</td>        <th>  Adj. R-squared:    </th> <td>   0.958</td>\n",
       "</tr>\n",
       "<tr>\n",
       "  <th>Method:</th>             <td>Least Squares</td>   <th>  F-statistic:       </th> <td>   684.8</td>\n",
       "</tr>\n",
       "<tr>\n",
       "  <th>Date:</th>             <td>Wed, 30 Nov 2022</td>  <th>  Prob (F-statistic):</th> <td>1.01e-21</td>\n",
       "</tr>\n",
       "<tr>\n",
       "  <th>Time:</th>                 <td>08:18:03</td>      <th>  Log-Likelihood:    </th> <td> -80.614</td>\n",
       "</tr>\n",
       "<tr>\n",
       "  <th>No. Observations:</th>      <td>    31</td>       <th>  AIC:               </th> <td>   165.2</td>\n",
       "</tr>\n",
       "<tr>\n",
       "  <th>Df Residuals:</th>          <td>    29</td>       <th>  BIC:               </th> <td>   168.1</td>\n",
       "</tr>\n",
       "<tr>\n",
       "  <th>Df Model:</th>              <td>     1</td>       <th>                     </th>     <td> </td>   \n",
       "</tr>\n",
       "<tr>\n",
       "  <th>Covariance Type:</th>      <td>nonrobust</td>     <th>                     </th>     <td> </td>   \n",
       "</tr>\n",
       "</table>\n",
       "<table class=\"simpletable\">\n",
       "<tr>\n",
       "            <td></td>              <th>coef</th>     <th>std err</th>      <th>t</th>      <th>P>|t|</th>  <th>[0.025</th>    <th>0.975]</th>  \n",
       "</tr>\n",
       "<tr>\n",
       "  <th>Intercept</th>            <td>   -3.3551</td> <td>    1.417</td> <td>   -2.368</td> <td> 0.025</td> <td>   -6.253</td> <td>   -0.457</td>\n",
       "</tr>\n",
       "<tr>\n",
       "  <th>I(Girth_inches ** 2)</th> <td>    0.1812</td> <td>    0.007</td> <td>   26.169</td> <td> 0.000</td> <td>    0.167</td> <td>    0.195</td>\n",
       "</tr>\n",
       "</table>\n",
       "<table class=\"simpletable\">\n",
       "<tr>\n",
       "  <th>Omnibus:</th>       <td> 0.830</td> <th>  Durbin-Watson:     </th> <td>   1.910</td>\n",
       "</tr>\n",
       "<tr>\n",
       "  <th>Prob(Omnibus):</th> <td> 0.660</td> <th>  Jarque-Bera (JB):  </th> <td>   0.756</td>\n",
       "</tr>\n",
       "<tr>\n",
       "  <th>Skew:</th>          <td>-0.056</td> <th>  Prob(JB):          </th> <td>   0.685</td>\n",
       "</tr>\n",
       "<tr>\n",
       "  <th>Kurtosis:</th>      <td> 2.243</td> <th>  Cond. No.          </th> <td>    479.</td>\n",
       "</tr>\n",
       "</table><br/><br/>Notes:<br/>[1] Standard Errors assume that the covariance matrix of the errors is correctly specified."
      ],
      "text/plain": [
       "<class 'statsmodels.iolib.summary.Summary'>\n",
       "\"\"\"\n",
       "                            OLS Regression Results                            \n",
       "==============================================================================\n",
       "Dep. Variable:      Volume_cubic_feet   R-squared:                       0.959\n",
       "Model:                            OLS   Adj. R-squared:                  0.958\n",
       "Method:                 Least Squares   F-statistic:                     684.8\n",
       "Date:                Wed, 30 Nov 2022   Prob (F-statistic):           1.01e-21\n",
       "Time:                        08:18:03   Log-Likelihood:                -80.614\n",
       "No. Observations:                  31   AIC:                             165.2\n",
       "Df Residuals:                      29   BIC:                             168.1\n",
       "Df Model:                           1                                         \n",
       "Covariance Type:            nonrobust                                         \n",
       "========================================================================================\n",
       "                           coef    std err          t      P>|t|      [0.025      0.975]\n",
       "----------------------------------------------------------------------------------------\n",
       "Intercept               -3.3551      1.417     -2.368      0.025      -6.253      -0.457\n",
       "I(Girth_inches ** 2)     0.1812      0.007     26.169      0.000       0.167       0.195\n",
       "==============================================================================\n",
       "Omnibus:                        0.830   Durbin-Watson:                   1.910\n",
       "Prob(Omnibus):                  0.660   Jarque-Bera (JB):                0.756\n",
       "Skew:                          -0.056   Prob(JB):                        0.685\n",
       "Kurtosis:                       2.243   Cond. No.                         479.\n",
       "==============================================================================\n",
       "\n",
       "Notes:\n",
       "[1] Standard Errors assume that the covariance matrix of the errors is correctly specified.\n",
       "\"\"\""
      ]
     },
     "execution_count": 21,
     "metadata": {},
     "output_type": "execute_result"
    }
   ],
   "source": [
    "poly_model2.summary()"
   ]
  },
  {
   "cell_type": "markdown",
   "id": "e718c2ea",
   "metadata": {},
   "source": [
    "The R-Squared value for the obtained regression model suggests that approximately 95.9 % of variability in the volume can be explained by variability in the girth2 of the trees.\n",
    "\n",
    "It can also be observed that the regression coefficients are significant for a significance level of 0.05 (since the obtained p-values are lesser than the chosen significance level)."
   ]
  },
  {
   "cell_type": "code",
   "execution_count": 22,
   "id": "e608173c",
   "metadata": {},
   "outputs": [
    {
     "name": "stdout",
     "output_type": "stream",
     "text": [
      "<class 'pandas.core.frame.DataFrame'>\n",
      "RangeIndex: 31 entries, 0 to 30\n",
      "Data columns (total 3 columns):\n",
      " #   Column             Non-Null Count  Dtype  \n",
      "---  ------             --------------  -----  \n",
      " 0   Girth_inches       31 non-null     float64\n",
      " 1   Height_feet        31 non-null     int64  \n",
      " 2   Volume_cubic_feet  31 non-null     float64\n",
      "dtypes: float64(2), int64(1)\n",
      "memory usage: 872.0 bytes\n"
     ]
    }
   ],
   "source": [
    "trees.info()"
   ]
  },
  {
   "cell_type": "code",
   "execution_count": 23,
   "id": "a8199860",
   "metadata": {},
   "outputs": [],
   "source": [
    "predictions = -3.3551 + 0.1812*(trees.Girth_inches)**2"
   ]
  },
  {
   "cell_type": "code",
   "execution_count": 24,
   "id": "6f5d5c8a",
   "metadata": {},
   "outputs": [
    {
     "data": {
      "text/plain": [
       "Text(0.5, 1.0, 'Non-Linear Regression Model')"
      ]
     },
     "execution_count": 24,
     "metadata": {},
     "output_type": "execute_result"
    },
    {
     "data": {
      "image/png": "[encoded data removed]",
      "text/plain": [
       "<Figure size 432x288 with 1 Axes>"
      ]
     },
     "metadata": {
      "needs_background": "light"
     },
     "output_type": "display_data"
    }
   ],
   "source": [
    "fig,ax = plt.subplots()\n",
    "ax.scatter(x=\"Girth_inches\",y=\"Volume_cubic_feet\",data=trees)\n",
    "ax.plot(trees.Girth_inches,predictions,color=\"red\")\n",
    "ax.set_ylabel(\"Volume_cubic_feet\")\n",
    "ax.set_xlabel(\"Girth_inches\")\n",
    "ax.set_title(\"Non-Linear Regression Model\")"
   ]
  },
  {
   "cell_type": "markdown",
   "id": "9f1c1e53",
   "metadata": {},
   "source": [
    "##### IMP\n",
    "\n",
    "Consider that, a dataset fits well to a multiple linear regression model M1. The model M1, gives a high value for the metric R-squared. The model with the higher degree will try to fit more data points compared to a linear model. Polynomial model will be an overfitting model\n",
    "\n",
    "Consider that, a dataset fits well to a polynomial model M1. The model M1, gives a high value for the metric R-squared. A linear model might not be able to fit to as many data points as a polynomial model. Multiple linear regression model will be an underfitting model."
   ]
  },
  {
   "cell_type": "markdown",
   "id": "4a4a356b",
   "metadata": {},
   "source": [
    "## Multiple linear regression model"
   ]
  },
  {
   "cell_type": "code",
   "execution_count": 25,
   "id": "78375eb7",
   "metadata": {},
   "outputs": [
    {
     "data": {
      "text/html": [
       "<div>\n",
       "<style scoped>\n",
       "    .dataframe tbody tr th:only-of-type {\n",
       "        vertical-align: middle;\n",
       "    }\n",
       "\n",
       "    .dataframe tbody tr th {\n",
       "        vertical-align: top;\n",
       "    }\n",
       "\n",
       "    .dataframe thead th {\n",
       "        text-align: right;\n",
       "    }\n",
       "</style>\n",
       "<table border=\"1\" class=\"dataframe\">\n",
       "  <thead>\n",
       "    <tr style=\"text-align: right;\">\n",
       "      <th></th>\n",
       "      <th>n.prod</th>\n",
       "      <th>distance</th>\n",
       "      <th>delTime</th>\n",
       "    </tr>\n",
       "  </thead>\n",
       "  <tbody>\n",
       "    <tr>\n",
       "      <th>0</th>\n",
       "      <td>7</td>\n",
       "      <td>560</td>\n",
       "      <td>16.68</td>\n",
       "    </tr>\n",
       "    <tr>\n",
       "      <th>1</th>\n",
       "      <td>3</td>\n",
       "      <td>220</td>\n",
       "      <td>11.50</td>\n",
       "    </tr>\n",
       "    <tr>\n",
       "      <th>2</th>\n",
       "      <td>3</td>\n",
       "      <td>340</td>\n",
       "      <td>12.03</td>\n",
       "    </tr>\n",
       "    <tr>\n",
       "      <th>3</th>\n",
       "      <td>4</td>\n",
       "      <td>80</td>\n",
       "      <td>14.88</td>\n",
       "    </tr>\n",
       "    <tr>\n",
       "      <th>4</th>\n",
       "      <td>6</td>\n",
       "      <td>150</td>\n",
       "      <td>13.75</td>\n",
       "    </tr>\n",
       "  </tbody>\n",
       "</table>\n",
       "</div>"
      ],
      "text/plain": [
       "   n.prod  distance  delTime\n",
       "0       7       560    16.68\n",
       "1       3       220    11.50\n",
       "2       3       340    12.03\n",
       "3       4        80    14.88\n",
       "4       6       150    13.75"
      ]
     },
     "execution_count": 25,
     "metadata": {},
     "output_type": "execute_result"
    }
   ],
   "source": [
    "# read the data from input csv file\n",
    "delivery = pd.read_csv(\"delivery.csv\")\n",
    "# view sample data\n",
    "delivery.head()"
   ]
  },
  {
   "cell_type": "code",
   "execution_count": 26,
   "id": "06a71d26",
   "metadata": {},
   "outputs": [
    {
     "name": "stdout",
     "output_type": "stream",
     "text": [
      "<class 'pandas.core.frame.DataFrame'>\n",
      "RangeIndex: 25 entries, 0 to 24\n",
      "Data columns (total 3 columns):\n",
      " #   Column    Non-Null Count  Dtype  \n",
      "---  ------    --------------  -----  \n",
      " 0   n.prod    25 non-null     int64  \n",
      " 1   distance  25 non-null     int64  \n",
      " 2   delTime   25 non-null     float64\n",
      "dtypes: float64(1), int64(2)\n",
      "memory usage: 728.0 bytes\n"
     ]
    }
   ],
   "source": [
    "delivery.info()"
   ]
  },
  {
   "cell_type": "code",
   "execution_count": 27,
   "id": "9ee126d3",
   "metadata": {},
   "outputs": [
    {
     "data": {
      "text/plain": [
       "<seaborn.axisgrid.PairGrid at 0x25645150a60>"
      ]
     },
     "execution_count": 27,
     "metadata": {},
     "output_type": "execute_result"
    },
    {
     "data": {
      "image/png": "[encoded data removed]",
      "text/plain": [
       "<Figure size 540x540 with 12 Axes>"
      ]
     },
     "metadata": {
      "needs_background": "light"
     },
     "output_type": "display_data"
    }
   ],
   "source": [
    "# Visualizing data\n",
    "import seaborn as sns\n",
    "sns.pairplot(delivery)"
   ]
  },
  {
   "cell_type": "code",
   "execution_count": 28,
   "id": "92a182fc",
   "metadata": {},
   "outputs": [
    {
     "name": "stdout",
     "output_type": "stream",
     "text": [
      "Intercept: 2.3412311451922 \n",
      "Coefficients: [1.61590721 0.01438483]\n"
     ]
    }
   ],
   "source": [
    "# importing the required module to build the model\n",
    "from sklearn.linear_model import LinearRegression\n",
    "# Instantiating the algorithm for building the model\n",
    "model = LinearRegression()\n",
    "# selecting the predictors and targets\n",
    "X = delivery[[\"n.prod\",\"distance\"]]\n",
    "y = delivery[\"delTime\"]\n",
    "# building the model using fit() method\n",
    "model.fit(X,y)\n",
    "print(\"Intercept:\",model.intercept_ ,\"\\nCoefficients:\",model.coef_)\n",
    "# Sample output for the above code\n",
    "# Intercept: 2.3412311451922 \n",
    "# Coefficients: [1.61590721 0.01438483]"
   ]
  },
  {
   "cell_type": "code",
   "execution_count": 29,
   "id": "93e84a5b",
   "metadata": {},
   "outputs": [
    {
     "data": {
      "text/plain": [
       "<mpl_toolkits.mplot3d.art3d.Poly3DCollection at 0x256461e93a0>"
      ]
     },
     "execution_count": 29,
     "metadata": {},
     "output_type": "execute_result"
    },
    {
     "data": {
      "image/png": "[encoded data removed]",
      "text/plain": [
       "<Figure size 504x504 with 1 Axes>"
      ]
     },
     "metadata": {
      "needs_background": "light"
     },
     "output_type": "display_data"
    }
   ],
   "source": [
    "#Setting up the plot area\n",
    "fig = plt.figure(figsize=(7,7))\n",
    "ax = fig.add_subplot(111,projection='3d')#projection = '3d' is used to have 3D axes\n",
    "#3d scatterplot of the delivery dataset\n",
    "ax.scatter(xs = delivery[\"n.prod\"], ys = delivery[\"distance\"], zs=delivery[\"delTime\"],\n",
    "           c='blue',\n",
    "           alpha=1,\n",
    "           marker='o')\n",
    "ax.set_xlabel(\"n.prod\")\n",
    "ax.set_ylabel(\"distance\")\n",
    "ax.set_zlabel(\"delTime\")\n",
    "#Creating a mesh of x and y values to plot the regression plane\n",
    "x_surf = np.arange(delivery[\"n.prod\"].min(), delivery[\"n.prod\"].max(), 1) \n",
    "y_surf = np.arange(delivery[\"distance\"].min(), delivery[\"distance\"].max(), 1)\n",
    "x_surf, y_surf = np.meshgrid(x_surf, y_surf)\n",
    "X_mesh = pd.core.frame.DataFrame({'n.prod': x_surf.ravel(), 'distance': y_surf.ravel()})\n",
    "#Predicting the output of model for every point in the mesh\n",
    "out = model.predict(X_mesh)\n",
    "#Plotting the regression plane\n",
    "ax.plot_surface(x_surf, y_surf,\n",
    "                out.reshape(x_surf.shape),\n",
    "                alpha = 0.4) # apha => transparency of the surface"
   ]
  },
  {
   "cell_type": "markdown",
   "id": "302ae7fd",
   "metadata": {},
   "source": [
    "#### Assessing the best fit model\n",
    "\n",
    "1. Validating the Assumption of Linearity"
   ]
  },
  {
   "cell_type": "code",
   "execution_count": 30,
   "id": "18d2cf63",
   "metadata": {},
   "outputs": [],
   "source": [
    "predictions = 2.3412311451922 + (1.61590721*delivery[\"n.prod\"]) + (0.01438483*delivery.distance)\n",
    "\n",
    "residuals = delivery.delTime - predictions"
   ]
  },
  {
   "cell_type": "code",
   "execution_count": 31,
   "id": "a107e61f",
   "metadata": {},
   "outputs": [
    {
     "name": "stderr",
     "output_type": "stream",
     "text": [
      "C:\\Users\\Shrinath\\anaconda3\\lib\\site-packages\\seaborn\\_decorators.py:36: FutureWarning: Pass the following variables as keyword args: x, y. From version 0.12, the only valid positional argument will be `data`, and passing other arguments without an explicit keyword will result in an error or misinterpretation.\n",
      "  warnings.warn(\n"
     ]
    },
    {
     "data": {
      "text/plain": [
       "Text(0.5, 0, 'Fitted value')"
      ]
     },
     "execution_count": 31,
     "metadata": {},
     "output_type": "execute_result"
    },
    {
     "data": {
      "image/png": "[encoded data removed]",
      "text/plain": [
       "<Figure size 504x504 with 1 Axes>"
      ]
     },
     "metadata": {
      "needs_background": "light"
     },
     "output_type": "display_data"
    }
   ],
   "source": [
    "sd=np.sqrt(np.sum(np.square(residuals))/(residuals.size-3))\n",
    "# standardised residuals\n",
    "sd_error=residuals/sd\n",
    "sq_abs_sd_err=np.sqrt(np.abs(sd_error))\n",
    "plt.figure(figsize=(7,7))\n",
    "sns.regplot(predictions, sq_abs_sd_err,\n",
    "              scatter=True,\n",
    "              lowess=True,\n",
    "              line_kws={'color': 'red', 'lw': 1, 'alpha': 0.8})\n",
    "plt.ylabel(\"Standarized residuals\")\n",
    "plt.xlabel(\"Fitted value\")"
   ]
  },
  {
   "cell_type": "markdown",
   "id": "b590759d",
   "metadata": {},
   "source": [
    "The above plot seems to indicate that the regression model is not so good with the given data, as we see some pattern in the residuals. May be, if data cleaning activities are performed, we might get better results."
   ]
  },
  {
   "cell_type": "markdown",
   "id": "ef96d87a",
   "metadata": {},
   "source": [
    "2. Validating the Assumption of Normality"
   ]
  },
  {
   "cell_type": "code",
   "execution_count": 32,
   "id": "89c0945c",
   "metadata": {},
   "outputs": [
    {
     "data": {
      "text/plain": [
       "Text(0.5, 1.0, 'Normal Q-Q Plot')"
      ]
     },
     "execution_count": 32,
     "metadata": {},
     "output_type": "execute_result"
    },
    {
     "data": {
      "image/png": "[encoded data removed]",
      "text/plain": [
       "<Figure size 504x504 with 1 Axes>"
      ]
     },
     "metadata": {
      "needs_background": "light"
     },
     "output_type": "display_data"
    }
   ],
   "source": [
    "residuals = delivery[\"delTime\"] - predictions\n",
    "plt.figure(figsize=(7,7))\n",
    "stats.probplot(residuals, dist=\"norm\", plot=plt)\n",
    "plt.title(\"Normal Q-Q Plot\")"
   ]
  },
  {
   "cell_type": "markdown",
   "id": "84b8d11d",
   "metadata": {},
   "source": [
    "For the delivery time data set, the Q-Q plot of the residuals of the best fit model (shown below) indicates the adherence to normality assumption since the residual points are close to the normal line."
   ]
  },
  {
   "cell_type": "markdown",
   "id": "36442d6b",
   "metadata": {},
   "source": [
    "3. Assumption of Independence\n",
    "\n",
    "In a multiple regression model where two or more predictor variables are involved, it is possible that one predictor can be linearly predicted from the others, with a substantial degree of accuracy. In such a situation, the predictors are said to be highly correlated. In statistics, this phenomenon is called multicollinearity.\n",
    "\n",
    "The variables are suggested to be linearly dependent if the correlation values are close to 1. \n",
    "\n",
    "**Validating the Assumption of Independence Using VIF**\n",
    "\n",
    "variance inflation factor(VIF) to determine if the predictor variables are independent of each other.\n",
    "\n",
    "To calculate VIF for the candidate feature 'x1', we need to build a model that predicts 'x1' from the rest of the predictors considered (in this case, 'x2' and 'x3'). Similarly VIF for feature 'x2' and 'x3' will be calculated.\n",
    "\n",
    "VIFi is given as, VIFi = 1/(1-Ri^2)\n",
    "\n",
    "where Ri2 is the coeffecient of determination while predicting candidate predictor i, using rest of the candidate predictors.\n",
    "\n",
    "The range of VIF values start from 1. As a common practice, we can interpret the VIF values as follows -\n",
    "\n",
    "1 => No correlation between varaibles\n",
    "\n",
    "1 to 5 => Slightly correlated\n",
    "\n",
    "Greater than 5 => Highly correlated"
   ]
  },
  {
   "cell_type": "code",
   "execution_count": 33,
   "id": "8e939e0e",
   "metadata": {},
   "outputs": [
    {
     "data": {
      "text/plain": [
       "array([[1.      , 0.824215],\n",
       "       [0.824215, 1.      ]])"
      ]
     },
     "execution_count": 33,
     "metadata": {},
     "output_type": "execute_result"
    }
   ],
   "source": [
    "# finding the correlation\n",
    "np.corrcoef(delivery[\"n.prod\"],delivery[\"distance\"])\n",
    "# correlation value derived - 0.824215"
   ]
  },
  {
   "cell_type": "code",
   "execution_count": 34,
   "id": "87bb65f0",
   "metadata": {},
   "outputs": [
    {
     "name": "stdout",
     "output_type": "stream",
     "text": [
      "n.prod      7.848245\n",
      "distance    7.848245\n",
      "dtype: float64\n"
     ]
    }
   ],
   "source": [
    "from statsmodels.stats.outliers_influence import variance_inflation_factor\n",
    "#calculating the VIF for each attributes\n",
    "vif = pd.Series([variance_inflation_factor(X.values,idx) \n",
    "           for idx in range(X.shape[1])],\n",
    "          index=X.columns)\n",
    "print(vif)"
   ]
  },
  {
   "cell_type": "markdown",
   "id": "7e1a4bce",
   "metadata": {},
   "source": [
    "It can be observed that the VIF values are greater than 5 for both n.prod and distance features. Also we see that both the features are exhibiting a high correlation value between them. "
   ]
  },
  {
   "cell_type": "markdown",
   "id": "8fe6c2ab",
   "metadata": {},
   "source": [
    "4. coefficient of determination"
   ]
  },
  {
   "cell_type": "code",
   "execution_count": 35,
   "id": "e220761d",
   "metadata": {},
   "outputs": [
    {
     "data": {
      "text/plain": [
       "0.9595937494832257"
      ]
     },
     "execution_count": 35,
     "metadata": {},
     "output_type": "execute_result"
    }
   ],
   "source": [
    "# score() method for regression model, returns the 'coefficient of determination' (r^2) value for the model\n",
    "model.score(X,y)\n",
    "# sample model score as output\n",
    "#0.9595937494832257"
   ]
  },
  {
   "cell_type": "markdown",
   "id": "11a8d9ca",
   "metadata": {},
   "source": [
    "It can be observed that the R2 value for the obtained best fit linear regression model is approximately 0.9595937. The R2 value here indicates that approximately 95.95 % of the variability observed in the delTime of the vending machine can be explained by variability in the predictor variables, n.prod and distance."
   ]
  },
  {
   "cell_type": "markdown",
   "id": "064c3177",
   "metadata": {},
   "source": [
    "5. Adjusted R-square\n",
    "\n",
    "Using the least squares method, we try to establish a best fit linear regression model with minimum error. For a linear regression model, every additional predictor variable tends to minimize the error of the model. As a result, the R2 value will never decrease for any number of additional predictor variables being included in the model."
   ]
  },
  {
   "cell_type": "code",
   "execution_count": 36,
   "id": "3785e495",
   "metadata": {},
   "outputs": [
    {
     "name": "stdout",
     "output_type": "stream",
     "text": [
      "0.9304813135986855\n",
      "0.9595937494832257\n"
     ]
    }
   ],
   "source": [
    "# Model with a single predictor - n.prod\n",
    "model1 = LinearRegression()\n",
    "features = [\"n.prod\"]\n",
    "target = [\"delTime\"]\n",
    "model1.fit(delivery[features],delivery[target])\n",
    "print(model1.score(delivery[features],delivery[target]))\n",
    "#sample model1 score\n",
    "#0.9304813135986855\n",
    "# Model with multiple predictors - n.prod,distance\n",
    "model2 = LinearRegression()\n",
    "features = [\"n.prod\",\"distance\"]\n",
    "target = [\"delTime\"]\n",
    "model2.fit(delivery[features],delivery[target])\n",
    "print(model2.score(delivery[features],delivery[target]))\n",
    "#sample model2 score\n",
    "#0.9595937494832257"
   ]
  },
  {
   "cell_type": "markdown",
   "id": "0dae5d75",
   "metadata": {},
   "source": [
    "In other words, the R2 value can be inflated by including more and more predictor variables.\n",
    "\n",
    "Thus the use of an additional statistic known as adjusted R2 is suggested. The adjusted R2 takes into account the number of predictor variables and the number of samples or observations included in the regression model."
   ]
  },
  {
   "cell_type": "code",
   "execution_count": 37,
   "id": "5ca1caff",
   "metadata": {},
   "outputs": [
    {
     "name": "stdout",
     "output_type": "stream",
     "text": [
      "0.9559204539817008\n"
     ]
    }
   ],
   "source": [
    "#computation of adjusted R-squared\n",
    "X = delivery[features]\n",
    "y = delivery[target]\n",
    "adjusted_rscore = 1 - (1-model2.score(X, y))*(len(y)-1)/(len(y)-X.shape[1]-1)\n",
    "print(adjusted_rscore)\n",
    "#sample adjusted R-Squared\n",
    "#0.9559204539817008"
   ]
  },
  {
   "cell_type": "code",
   "execution_count": 38,
   "id": "9a0bc437",
   "metadata": {},
   "outputs": [
    {
     "data": {
      "text/html": [
       "<table class=\"simpletable\">\n",
       "<caption>OLS Regression Results</caption>\n",
       "<tr>\n",
       "  <th>Dep. Variable:</th>         <td>delTime</td>     <th>  R-squared:         </th> <td>   0.960</td>\n",
       "</tr>\n",
       "<tr>\n",
       "  <th>Model:</th>                   <td>OLS</td>       <th>  Adj. R-squared:    </th> <td>   0.956</td>\n",
       "</tr>\n",
       "<tr>\n",
       "  <th>Method:</th>             <td>Least Squares</td>  <th>  F-statistic:       </th> <td>   261.2</td>\n",
       "</tr>\n",
       "<tr>\n",
       "  <th>Date:</th>             <td>Wed, 30 Nov 2022</td> <th>  Prob (F-statistic):</th> <td>4.69e-16</td>\n",
       "</tr>\n",
       "<tr>\n",
       "  <th>Time:</th>                 <td>08:18:09</td>     <th>  Log-Likelihood:    </th> <td> -63.415</td>\n",
       "</tr>\n",
       "<tr>\n",
       "  <th>No. Observations:</th>      <td>    25</td>      <th>  AIC:               </th> <td>   132.8</td>\n",
       "</tr>\n",
       "<tr>\n",
       "  <th>Df Residuals:</th>          <td>    22</td>      <th>  BIC:               </th> <td>   136.5</td>\n",
       "</tr>\n",
       "<tr>\n",
       "  <th>Df Model:</th>              <td>     2</td>      <th>                     </th>     <td> </td>   \n",
       "</tr>\n",
       "<tr>\n",
       "  <th>Covariance Type:</th>      <td>nonrobust</td>    <th>                     </th>     <td> </td>   \n",
       "</tr>\n",
       "</table>\n",
       "<table class=\"simpletable\">\n",
       "<tr>\n",
       "      <td></td>        <th>coef</th>     <th>std err</th>      <th>t</th>      <th>P>|t|</th>  <th>[0.025</th>    <th>0.975]</th>  \n",
       "</tr>\n",
       "<tr>\n",
       "  <th>const</th>    <td>    2.3412</td> <td>    1.097</td> <td>    2.135</td> <td> 0.044</td> <td>    0.067</td> <td>    4.616</td>\n",
       "</tr>\n",
       "<tr>\n",
       "  <th>n.prod</th>   <td>    1.6159</td> <td>    0.171</td> <td>    9.464</td> <td> 0.000</td> <td>    1.262</td> <td>    1.970</td>\n",
       "</tr>\n",
       "<tr>\n",
       "  <th>distance</th> <td>    0.0144</td> <td>    0.004</td> <td>    3.981</td> <td> 0.001</td> <td>    0.007</td> <td>    0.022</td>\n",
       "</tr>\n",
       "</table>\n",
       "<table class=\"simpletable\">\n",
       "<tr>\n",
       "  <th>Omnibus:</th>       <td> 0.421</td> <th>  Durbin-Watson:     </th> <td>   1.170</td>\n",
       "</tr>\n",
       "<tr>\n",
       "  <th>Prob(Omnibus):</th> <td> 0.810</td> <th>  Jarque-Bera (JB):  </th> <td>   0.010</td>\n",
       "</tr>\n",
       "<tr>\n",
       "  <th>Skew:</th>          <td> 0.032</td> <th>  Prob(JB):          </th> <td>   0.995</td>\n",
       "</tr>\n",
       "<tr>\n",
       "  <th>Kurtosis:</th>      <td> 3.073</td> <th>  Cond. No.          </th> <td>    873.</td>\n",
       "</tr>\n",
       "</table><br/><br/>Notes:<br/>[1] Standard Errors assume that the covariance matrix of the errors is correctly specified."
      ],
      "text/plain": [
       "<class 'statsmodels.iolib.summary.Summary'>\n",
       "\"\"\"\n",
       "                            OLS Regression Results                            \n",
       "==============================================================================\n",
       "Dep. Variable:                delTime   R-squared:                       0.960\n",
       "Model:                            OLS   Adj. R-squared:                  0.956\n",
       "Method:                 Least Squares   F-statistic:                     261.2\n",
       "Date:                Wed, 30 Nov 2022   Prob (F-statistic):           4.69e-16\n",
       "Time:                        08:18:09   Log-Likelihood:                -63.415\n",
       "No. Observations:                  25   AIC:                             132.8\n",
       "Df Residuals:                      22   BIC:                             136.5\n",
       "Df Model:                           2                                         \n",
       "Covariance Type:            nonrobust                                         \n",
       "==============================================================================\n",
       "                 coef    std err          t      P>|t|      [0.025      0.975]\n",
       "------------------------------------------------------------------------------\n",
       "const          2.3412      1.097      2.135      0.044       0.067       4.616\n",
       "n.prod         1.6159      0.171      9.464      0.000       1.262       1.970\n",
       "distance       0.0144      0.004      3.981      0.001       0.007       0.022\n",
       "==============================================================================\n",
       "Omnibus:                        0.421   Durbin-Watson:                   1.170\n",
       "Prob(Omnibus):                  0.810   Jarque-Bera (JB):                0.010\n",
       "Skew:                           0.032   Prob(JB):                        0.995\n",
       "Kurtosis:                       3.073   Cond. No.                         873.\n",
       "==============================================================================\n",
       "\n",
       "Notes:\n",
       "[1] Standard Errors assume that the covariance matrix of the errors is correctly specified.\n",
       "\"\"\""
      ]
     },
     "execution_count": 38,
     "metadata": {},
     "output_type": "execute_result"
    }
   ],
   "source": [
    "import statsmodels.api as sm\n",
    "X = sm.add_constant(delivery[[\"n.prod\",\"distance\"]])\n",
    "y = delivery[\"delTime\"]\n",
    "model = sm.OLS(y,X).fit()\n",
    "model.summary()"
   ]
  },
  {
   "cell_type": "markdown",
   "id": "27686b61",
   "metadata": {},
   "source": [
    "An adjusted R2 of 0.956 indicates that approximately 95.6% variability in the delivery time of the vending machine can be explained by the model having the predictor variables n.prod and distance.\n",
    "\n",
    "In addition to the R2 and the adjusted R2 values of 0.960 and 0.956 (which indicate the usefulness of the model), the F-test also suggests that the model is significant since the p-value for the F-test is less than the chosen significance level of 0.05."
   ]
  },
  {
   "cell_type": "markdown",
   "id": "9fb04c03",
   "metadata": {},
   "source": [
    "## Generalized linear regression model\n",
    "\n",
    "The linear regression model we discussed assumed that:\n",
    "\n",
    "1. The data is continuous.\n",
    "\n",
    "2. The error random variable ϵ has normal distribution ~N(0, σ2). This means that the error is homogenously distributed.\n",
    "\n",
    "3. The output variable Yi has a Gaussian distribution.\n",
    "\n",
    " \n",
    "\n",
    "Consider the following scenario.\n",
    "\n",
    "Example: The data below is collected for age, weight, and coronary heart disease (CHD) to study if age and weight have any relation to heart disease. CHD column is categorical (1 for Yes and 0 for No).\n",
    "\n",
    "The output is 0/1, a categorical variable.  In this case, the error is not distributed normally. It will be either 0/1. The error has a binomial distribution.\n",
    "\n",
    "The linear model assumptions are not valid for this case. Hence, the linear model needs to be modified for these requirements. Such models are called generalized linear model.\n",
    "\n",
    "The generalized linear model (GLM) is a flexible generalization of ordinary linear regression that allows for response variables that have error distribution models other than a normal distribution. Generalized linear models were formulated by John Nelder and Robert Wedderburn.\n",
    "\n",
    "Generalized linear model has 3 components:\n",
    "\n",
    "1. Random component (noise) – Linear regression model assumes that the error term has a normal distribution. GLM extends this to other types of distributions like binomial, Poisson, exponential etc. These distributions are collectively referred to as exponential family. Error is modelled using this family of distributions.\n",
    "\n",
    "2. Systematic component – The linear predictor is the systematic component. It is expressed as a linear combination of unknown parameters β. Linear predictor is denoted by the symbol η. For linear model, η is the mean. \n",
    "\n",
    "                                    η = a + b1x1 + b2x2\n",
    "\n",
    "where b is an estimator of β. In generalized linear model, x1, x2 can be continuous or discrete. It is related to the expected value of the data through the link function discussed below.                        \n",
    "\n",
    "3. Link function g(.) – The link function g(.) provides the relationship between the linear predictor(η) and the mean of the distribution (from the exponential family) function. It connects the random and the systematic components.\n",
    "\n",
    "g(μ) = η, where μ is the mean of the chosen distribution.\n",
    "\n",
    "in linear regression models, the dependent (target) variable is continuous quantitative in nature. In situations where the nature of dependent (target) variable is categorical, the logistic regression can be used to model the relationship. Recall that the logistic regression model is given as\n",
    "\n",
    "\n",
    "The nature of logistic regression can be binomial, ordinal or multinomial. In order to predict dependent (target) variable which can take only two values (yes/no , 0/1) Binomial (or binary) logistic regression model is used.  Multinomial logistic regression is used when the dependent variable can take three of more categorical values which are not ordered. Whereas the ordinal logistic regression is used when the dependent variable can take categorical values that are ordered."
   ]
  },
  {
   "cell_type": "markdown",
   "id": "f2f75cbc",
   "metadata": {},
   "source": [
    "#### check logistic regression example in ML notebook"
   ]
  }
 ],
 "metadata": {
  "kernelspec": {
   "display_name": "Python 3 (ipykernel)",
   "language": "python",
   "name": "python3"
  },
  "language_info": {
   "codemirror_mode": {
    "name": "ipython",
    "version": 3
   },
   "file_extension": ".py",
   "mimetype": "text/x-python",
   "name": "python",
   "nbconvert_exporter": "python",
   "pygments_lexer": "ipython3",
   "version": "3.9.12"
  }
 },
 "nbformat": 4,
 "nbformat_minor": 5
}
