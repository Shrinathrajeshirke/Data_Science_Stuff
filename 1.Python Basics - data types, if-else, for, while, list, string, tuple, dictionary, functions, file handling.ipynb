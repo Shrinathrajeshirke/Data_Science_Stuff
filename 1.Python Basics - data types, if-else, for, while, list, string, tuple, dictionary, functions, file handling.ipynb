{
 "cells": [
  {
   "cell_type": "markdown",
   "id": "3f19c59a",
   "metadata": {},
   "source": [
    "## Identifiers\n",
    "* Name known for variables, functions, objects, etc\n",
    "* Start with underscore,uppercase or lowercase\n",
    "* case sensitive\n",
    "* Ex: x=10"
   ]
  },
  {
   "cell_type": "markdown",
   "id": "4a3e469d",
   "metadata": {},
   "source": [
    "## Keywords\n",
    "* Reserved words\n",
    "* Not used as identifiers\n",
    "* Ex: if, else, for"
   ]
  },
  {
   "cell_type": "markdown",
   "id": "aef5bcef",
   "metadata": {},
   "source": [
    "## Variable  \n",
    "* Syntax: var_name = literal_value\n",
    "* Ex: weight = 10"
   ]
  },
  {
   "cell_type": "markdown",
   "id": "944721ad",
   "metadata": {},
   "source": [
    "## Data Types\n",
    "* int - 123 (limited)\n",
    "* long - 12313246666666666687\n",
    "* float - 132.25 (limited)\n",
    "* double - 1233464.468744646\n",
    "* char - 'A' (single character)\n",
    "* string - \"Hello\" \n",
    "* boolean - True (1) or False (0)"
   ]
  },
  {
   "cell_type": "markdown",
   "id": "bd547ccd",
   "metadata": {},
   "source": [
    "### Variable Casting"
   ]
  },
  {
   "cell_type": "code",
   "execution_count": 1,
   "id": "4428160f",
   "metadata": {},
   "outputs": [
    {
     "name": "stdout",
     "output_type": "stream",
     "text": [
      "int to str\n",
      "3\n",
      "<class 'int'>\n",
      "str to int\n",
      "4\n",
      "<class 'str'>\n",
      "float to str\n",
      "2.5\n",
      "<class 'float'>\n",
      "str to float\n",
      "2.6\n",
      "<class 'str'>\n",
      "float to int\n",
      "2\n",
      "<class 'float'>\n",
      "str to int\n"
     ]
    },
    {
     "ename": "ValueError",
     "evalue": "invalid literal for int() with base 10: 'A'",
     "output_type": "error",
     "traceback": [
      "\u001b[1;31m---------------------------------------------------------------------------\u001b[0m",
      "\u001b[1;31mValueError\u001b[0m                                Traceback (most recent call last)",
      "Input \u001b[1;32mIn [1]\u001b[0m, in \u001b[0;36m<cell line: 28>\u001b[1;34m()\u001b[0m\n\u001b[0;32m     26\u001b[0m \u001b[38;5;28mprint\u001b[39m(\u001b[38;5;124m\"\u001b[39m\u001b[38;5;124mstr to int\u001b[39m\u001b[38;5;124m\"\u001b[39m)\n\u001b[0;32m     27\u001b[0m var6 \u001b[38;5;241m=\u001b[39m \u001b[38;5;124m'\u001b[39m\u001b[38;5;124mA\u001b[39m\u001b[38;5;124m'\u001b[39m\n\u001b[1;32m---> 28\u001b[0m \u001b[38;5;28mprint\u001b[39m(\u001b[38;5;28;43mint\u001b[39;49m\u001b[43m(\u001b[49m\u001b[43mvar6\u001b[49m\u001b[43m)\u001b[49m)\n",
      "\u001b[1;31mValueError\u001b[0m: invalid literal for int() with base 10: 'A'"
     ]
    }
   ],
   "source": [
    "print(\"int to str\")\n",
    "var1 = 3\n",
    "print(str(var1))\n",
    "print(type(var1))\n",
    "\n",
    "print(\"str to int\")\n",
    "var2 = '4'\n",
    "print(int(var2))\n",
    "print(type(var2))\n",
    "\n",
    "print(\"float to str\")\n",
    "var3 = 2.5\n",
    "print(str(var3))\n",
    "print(type(var3))\n",
    "\n",
    "print(\"str to float\")\n",
    "var4 = '2.6'\n",
    "print(float(var4))\n",
    "print(type(var4))\n",
    "\n",
    "print(\"float to int\")\n",
    "var5 = 2.5\n",
    "print(int(var5))\n",
    "print(type(var5))\n",
    "\n",
    "print(\"str to int\")\n",
    "var6 = 'A'\n",
    "print(int(var6))"
   ]
  },
  {
   "cell_type": "raw",
   "id": "16587063",
   "metadata": {},
   "source": [
    "# variable & data type\n",
    "num = 65\n",
    "print(num, type(num))\n",
    "\n",
    "char = 'A'\n",
    "print(char,type(char))"
   ]
  },
  {
   "cell_type": "markdown",
   "id": "0a038dff",
   "metadata": {},
   "source": [
    "### Boolean\n",
    "\n",
    "1. String, tuples, list, dict are false only when these are empty\n",
    "2. For digits - 0 is false any other number is true"
   ]
  },
  {
   "cell_type": "code",
   "execution_count": 4,
   "id": "00f304b4",
   "metadata": {},
   "outputs": [
    {
     "name": "stdout",
     "output_type": "stream",
     "text": [
      "DigitEx1\n",
      "No\n",
      "DigitEx2\n",
      "Yes\n"
     ]
    }
   ],
   "source": [
    "print(\"DigitEx1\")\n",
    "num1 = 0\n",
    "if num1:\n",
    "    print(\"Yes\")\n",
    "else:\n",
    "    print(\"No\")\n",
    "\n",
    "\n",
    "print(\"DigitEx2\")\n",
    "num1 = 10\n",
    "if num1:\n",
    "    print(\"Yes\")\n",
    "else:\n",
    "    print(\"No\")"
   ]
  },
  {
   "cell_type": "code",
   "execution_count": 5,
   "id": "4c1a83fc",
   "metadata": {},
   "outputs": [
    {
     "name": "stdout",
     "output_type": "stream",
     "text": [
      "StringEx1\n",
      "no\n",
      "StringEx2\n",
      "yes\n"
     ]
    }
   ],
   "source": [
    "print(\"StringEx1\")\n",
    "str = \"\"\n",
    "if str:\n",
    "    print(\"yes\")\n",
    "else:\n",
    "    print(\"no\")\n",
    "    \n",
    "\n",
    "print(\"StringEx2\")\n",
    "str1 = \"atsfsvs\"\n",
    "if str1:\n",
    "    print(\"yes\")\n",
    "else:\n",
    "    print(\"no\")"
   ]
  },
  {
   "cell_type": "code",
   "execution_count": 6,
   "id": "eefb2c39",
   "metadata": {},
   "outputs": [
    {
     "name": "stdout",
     "output_type": "stream",
     "text": [
      "any function\n",
      "True\n",
      "all function\n",
      "False\n"
     ]
    }
   ],
   "source": [
    "#any function\n",
    "print(\"any function\")\n",
    "item1 = True\n",
    "item2 = False\n",
    "\n",
    "print(any([item1,item2]))\n",
    "\n",
    "#all function\n",
    "print(\"all function\")\n",
    "print(all([item1,item2]))"
   ]
  },
  {
   "cell_type": "markdown",
   "id": "e5d2cc41",
   "metadata": {},
   "source": [
    "#### Complex  numbers"
   ]
  },
  {
   "cell_type": "code",
   "execution_count": 7,
   "id": "caf3c2d0",
   "metadata": {},
   "outputs": [
    {
     "name": "stdout",
     "output_type": "stream",
     "text": [
      "1.0 2.0\n"
     ]
    }
   ],
   "source": [
    "num1 = 1+2j\n",
    "num2 = complex(1,2)\n",
    "\n",
    "print(num2.real, num2.imag)"
   ]
  },
  {
   "cell_type": "markdown",
   "id": "de301f63",
   "metadata": {},
   "source": [
    "## input() function\n",
    "* function used to read an input from  the user\n",
    "* syntax: input_var=input(\"please enter the value\")"
   ]
  },
  {
   "cell_type": "code",
   "execution_count": 8,
   "id": "4070e44c",
   "metadata": {},
   "outputs": [
    {
     "name": "stdout",
     "output_type": "stream",
     "text": [
      "please enter the value \n",
      "\n"
     ]
    }
   ],
   "source": [
    "input_var=input(\"please enter the value \")\n",
    "print(input_var)"
   ]
  },
  {
   "cell_type": "markdown",
   "id": "136e3a33",
   "metadata": {},
   "source": [
    "## print() function\n",
    "* Syntax: print(var_name1, var_name2, ...., [end=\"value1\", sep=\"value2\"])\n",
    "* end - specify the separator between two print statements which is '\\n' by default\n",
    "* sep - specify the separator between multiple variables"
   ]
  },
  {
   "cell_type": "code",
   "execution_count": 9,
   "id": "4f4f8eaf",
   "metadata": {},
   "outputs": [
    {
     "name": "stdout",
     "output_type": "stream",
     "text": [
      "infy 20.127 10\n",
      "infy:20.127:10\n",
      "infy 20.127 10 b=20.13\n",
      "c=      10\n",
      "c=10      \n"
     ]
    }
   ],
   "source": [
    "a=\"infy\"\n",
    "b=20.127\n",
    "c=10\n",
    "print(a,b,c)\n",
    "print(a,b,c,sep=\":\")\n",
    "print(a,b,c,end=\" \")\n",
    "print(\"b=%0.2f\" %b) #as the format is 0.2 value is rounded of two decimal digits\n",
    "print(\"c=%8d\" %c) #right aligned within the reserved 8 spaces\n",
    "print(\"c=%-8d\" %c) #left aligned within the reserved 8 spaces as there is - symbol"
   ]
  },
  {
   "cell_type": "markdown",
   "id": "fe57ef5f",
   "metadata": {},
   "source": [
    "### Buil-in functions"
   ]
  },
  {
   "cell_type": "code",
   "execution_count": 10,
   "id": "d0e24146",
   "metadata": {
    "scrolled": true
   },
   "outputs": [
    {
     "name": "stdout",
     "output_type": "stream",
     "text": [
      "1. abs - used to get absolute value\n",
      "5\n",
      "6\n",
      "2. round - used to round decimal points\n",
      "5.556\n",
      "57.0\n"
     ]
    }
   ],
   "source": [
    "print(\"1. abs - used to get absolute value\")\n",
    "print(abs(-5))\n",
    "print(abs(6))\n",
    "\n",
    "print(\"2. round - used to round decimal points\")\n",
    "print(round(5.555555, 3))\n",
    "print(round(56.55546764168146, 0))"
   ]
  },
  {
   "cell_type": "code",
   "execution_count": 11,
   "id": "b97ac9a6",
   "metadata": {},
   "outputs": [
    {
     "name": "stdout",
     "output_type": "stream",
     "text": [
      "1\n",
      "State.Inactive\n",
      "0\n",
      "2\n"
     ]
    }
   ],
   "source": [
    "#ENUM functions\n",
    "\n",
    "from enum import Enum\n",
    "\n",
    "class State(Enum):\n",
    "    \n",
    "    Inactive = 0\n",
    "    active = 1\n",
    "    \n",
    "print(State.active.value)\n",
    "\n",
    "print(State(0))\n",
    "\n",
    "print(State['Inactive'].value)\n",
    "\n",
    "print(len(State))"
   ]
  },
  {
   "cell_type": "markdown",
   "id": "093b6b73",
   "metadata": {},
   "source": [
    "## Operators\n",
    "* Arithmetic : +,-,/,*,% (Remainder/modulo),// (integer division), ** (square)\n",
    "* Relational operators : == (Equality check), != (Not equal), >, <, >=, <=\n",
    "* Assignment operators : =, += (SHAOf additon), -= (SHAOf substraction), *= (SHAOf multiplication), /= (SHAOf division), %= (SHAOf modulo)\n",
    "* Logical operators : AND (TT = T o.w. false), OR (FF = F o.w. True), NOT (negation)"
   ]
  },
  {
   "cell_type": "markdown",
   "id": "ade32d5b",
   "metadata": {},
   "source": [
    "### OR operator\n",
    "\n",
    "* OR operator returns first value if it is not false o.w. it returns second value\n",
    "\n",
    "### AND operator\n",
    "\n",
    "* AND operator returns first value if it false o.w. it returns second value"
   ]
  },
  {
   "cell_type": "markdown",
   "id": "ecdd0164",
   "metadata": {},
   "source": [
    "### Bitwise operators\n",
    "\n",
    "1. | &\tBitwise AND\tResult bit 1,if both operand bits are 1;otherwise results bit 0.\tx & y\n",
    "2. | |\tBitwise OR\tResult bit 1,if any of the operand bit is 1; otherwise results bit 0.\tx | y\n",
    "3. | ~\tBitwise NOT\tinverts individual bits\t~x\n",
    "4. | ^\tBitwise XOR\tResults bit 1,if any of the operand bit is 1 but not both, otherwise results bit 0. x ^ y\n",
    "5. | >>\tBitwise right shift\tThe left operand’s value is moved toward right by the number of bits specified by the right operand. x>>\n",
    "6. | <<\tBitwise left shift\tThe left operand’s value is moved toward left by the number of bits specified by the right operand. x<<"
   ]
  },
  {
   "cell_type": "markdown",
   "id": "19e9d824",
   "metadata": {},
   "source": [
    "### is and in operator"
   ]
  },
  {
   "cell_type": "code",
   "execution_count": 12,
   "id": "8cf55857",
   "metadata": {},
   "outputs": [
    {
     "name": "stdout",
     "output_type": "stream",
     "text": [
      "False\n",
      "True\n"
     ]
    },
    {
     "name": "stderr",
     "output_type": "stream",
     "text": [
      "<>:3: SyntaxWarning: \"is not\" with a literal. Did you mean \"!=\"?\n",
      "<>:3: SyntaxWarning: \"is not\" with a literal. Did you mean \"!=\"?\n",
      "C:\\Users\\Shrinath\\AppData\\Local\\Temp\\ipykernel_13412\\2488642201.py:3: SyntaxWarning: \"is not\" with a literal. Did you mean \"!=\"?\n",
      "  print(x is not '5')\n"
     ]
    }
   ],
   "source": [
    "x = '5'\n",
    "\n",
    "print(x is not '5')\n",
    "\n",
    "x = [1,2,3]\n",
    "\n",
    "print(2 in x)"
   ]
  },
  {
   "cell_type": "markdown",
   "id": "6a6b3d1c",
   "metadata": {},
   "source": [
    "## Type conversion\n",
    "* Explicit conversion - datatype(var_name)"
   ]
  },
  {
   "cell_type": "code",
   "execution_count": 13,
   "id": "215a387a",
   "metadata": {},
   "outputs": [
    {
     "name": "stdout",
     "output_type": "stream",
     "text": [
      "10.0\n"
     ]
    }
   ],
   "source": [
    "num = 10\n",
    "num_convert = float(num)\n",
    "print(num_convert)"
   ]
  },
  {
   "cell_type": "markdown",
   "id": "d4eb9f86",
   "metadata": {},
   "source": [
    "## Comment"
   ]
  },
  {
   "cell_type": "code",
   "execution_count": 14,
   "id": "790d2cd3",
   "metadata": {},
   "outputs": [],
   "source": [
    "# used for single line comment... starts with #"
   ]
  },
  {
   "cell_type": "code",
   "execution_count": 15,
   "id": "4074fd6f",
   "metadata": {},
   "outputs": [
    {
     "name": "stdout",
     "output_type": "stream",
     "text": [
      "Mathematics\n"
     ]
    }
   ],
   "source": [
    "# Write Python code here\n",
    "\n",
    "\"\"\" Multi-line comment used\n",
    "print(\"Python Comments\") \"\"\"\n",
    "\n",
    "print(\"Mathematics\")\n"
   ]
  },
  {
   "cell_type": "code",
   "execution_count": 16,
   "id": "0e7fbe46",
   "metadata": {},
   "outputs": [
    {
     "name": "stdout",
     "output_type": "stream",
     "text": [
      "Multi-line comments\n"
     ]
    }
   ],
   "source": [
    "''' Multi-line comments used \n",
    "for documentation purpose '''\n",
    "\n",
    "print('Multi-line comments')"
   ]
  },
  {
   "cell_type": "markdown",
   "id": "b3e31d8e",
   "metadata": {},
   "source": [
    "## Control structures"
   ]
  },
  {
   "cell_type": "code",
   "execution_count": 17,
   "id": "a73c8935",
   "metadata": {},
   "outputs": [
    {
     "name": "stdout",
     "output_type": "stream",
     "text": [
      "positive integer\n"
     ]
    }
   ],
   "source": [
    "## selection statements\n",
    "# if statement\n",
    "a=10\n",
    "if(a>0):\n",
    "    print(\"positive integer\")\n"
   ]
  },
  {
   "cell_type": "code",
   "execution_count": 18,
   "id": "8134789f",
   "metadata": {},
   "outputs": [
    {
     "name": "stdout",
     "output_type": "stream",
     "text": [
      "positive integer\n"
     ]
    }
   ],
   "source": [
    "# if else statement\n",
    "a = 10\n",
    "if(a>0):\n",
    "    print(\"positive integer\")\n",
    "else:\n",
    "    print(\"Negative integer\")"
   ]
  },
  {
   "cell_type": "code",
   "execution_count": 19,
   "id": "b262007d",
   "metadata": {},
   "outputs": [
    {
     "name": "stdout",
     "output_type": "stream",
     "text": [
      "positive integer\n"
     ]
    }
   ],
   "source": [
    "# else if statement\n",
    "a = 10\n",
    "if(a>0):\n",
    "    print(\"positive integer\")\n",
    "elif(a<0):\n",
    "    print(\"negative integer\")\n",
    "else:\n",
    "    print(\"integer is 0\")"
   ]
  },
  {
   "cell_type": "code",
   "execution_count": 20,
   "id": "a307a907",
   "metadata": {},
   "outputs": [
    {
     "name": "stdout",
     "output_type": "stream",
     "text": [
      "c is greater\n"
     ]
    }
   ],
   "source": [
    "# Nested if statement\n",
    "a = 10\n",
    "b = 20\n",
    "c = 30\n",
    "\n",
    "if(a>b):\n",
    "    if(a>c):\n",
    "        print(\"a is greater\")\n",
    "    else:\n",
    "        print(\"c is greater\")\n",
    "elif(b>c):\n",
    "    print(\"b is greater\")\n",
    "else:\n",
    "    print(\"c is greater\")"
   ]
  },
  {
   "cell_type": "code",
   "execution_count": 3,
   "id": "728126ed",
   "metadata": {},
   "outputs": [
    {
     "name": "stdout",
     "output_type": "stream",
     "text": [
      "89\n",
      "Invalid\n"
     ]
    }
   ],
   "source": [
    "#practice\n",
    "num = input()\n",
    "if (int(num)%3==0 and int(num)%5==0): #if number is multiple of 3 & 5, display \"Zoom\"\n",
    "    print(\"Zoom\")\n",
    "elif (int(num)%5==0): #if number is multiple of 5, display \"Zap\"\n",
    "    print(\"Zap\")\n",
    "elif (int(num)%3==0 ): #if number is multiple of 3, diplay \"Zip\"\n",
    "    print(\"Zip\")\n",
    "else:\n",
    "    print(\"Invalid\")\n"
   ]
  },
  {
   "cell_type": "code",
   "execution_count": 22,
   "id": "cefc3868",
   "metadata": {},
   "outputs": [
    {
     "name": "stdout",
     "output_type": "stream",
     "text": [
      "the current number is:  1\n",
      "the current number is:  2\n",
      "the current number is:  3\n",
      "the current number is:  4\n",
      "the current number is:  5\n"
     ]
    }
   ],
   "source": [
    "## Looping statements\n",
    "#While loop\n",
    "'''\n",
    "While loop is used to execute a piece of code as long as test condition is true\n",
    "'''\n",
    "\n",
    "num = 5\n",
    "count = 1\n",
    "while count <= num:\n",
    "    print(\"the current number is: \", count)\n",
    "    count+=1"
   ]
  },
  {
   "cell_type": "code",
   "execution_count": 23,
   "id": "53cb6f4a",
   "metadata": {},
   "outputs": [
    {
     "name": "stdout",
     "output_type": "stream",
     "text": [
      "The current number is  1\n",
      "The current number is  2\n",
      "The current number is  3\n",
      "The current number is  4\n",
      "The current number is  5\n"
     ]
    }
   ],
   "source": [
    "## for loop\n",
    "'''\n",
    "Allows the loop to run over a specific sequence of values\n",
    "'''\n",
    "\n",
    "for number in 1,2,3,4,5:\n",
    "    print(\"The current number is \", number)"
   ]
  },
  {
   "cell_type": "code",
   "execution_count": 24,
   "id": "8535b6a7",
   "metadata": {},
   "outputs": [
    {
     "name": "stdout",
     "output_type": "stream",
     "text": [
      "The current number is:  1\n",
      "The current number is:  3\n",
      "The current number is:  5\n",
      "The current number is:  7\n",
      "The current number is:  9\n"
     ]
    }
   ],
   "source": [
    "## Another variation\n",
    "start=1\n",
    "end=10\n",
    "step=2\n",
    "\n",
    "for number in range(start, end, step):\n",
    "    print(\"The current number is: \", number)"
   ]
  },
  {
   "cell_type": "code",
   "execution_count": 25,
   "id": "a213a8a3",
   "metadata": {},
   "outputs": [
    {
     "name": "stdout",
     "output_type": "stream",
     "text": [
      "The current number is  1\n",
      "The current number is  2\n",
      "The current number is  3\n",
      "The current number is  4\n",
      "---------------------------------------------\n",
      "The current number is  1\n",
      "The current number is  3\n",
      "The current number is  5\n",
      "---------------------------------------------\n",
      "The current number is  5\n",
      "The current number is  4\n",
      "The current number is  3\n",
      "The current number is  2\n",
      "The current number is  1\n"
     ]
    }
   ],
   "source": [
    "## Sample code\n",
    "for number in range(1,5): #start & end\n",
    "    print(\"The current number is \", number)\n",
    "    \n",
    "print(\"---------------------------------------------\")\n",
    "\n",
    "for number in range(1,7,2): #step\n",
    "    print(\"The current number is \", number)\n",
    "    \n",
    "print(\"---------------------------------------------\")\n",
    "\n",
    "for number in range(5,0,-1): #reverse order\n",
    "    print(\"The current number is \", number)"
   ]
  },
  {
   "cell_type": "code",
   "execution_count": 26,
   "id": "55a9f0d1",
   "metadata": {},
   "outputs": [
    {
     "name": "stdout",
     "output_type": "stream",
     "text": [
      "Security check of passenger:  1  -- baggage 1 baggage cleared\n",
      "Security check of passenger:  1  -- baggage 2 baggage cleared\n",
      "Security check of passenger:  2  -- baggage 1 baggage cleared\n",
      "Security check of passenger:  2  -- baggage 2 baggage cleared\n",
      "Security check of passenger:  3  -- baggage 1 baggage cleared\n",
      "Security check of passenger:  3  -- baggage 2 baggage cleared\n",
      "Security check of passenger:  4  -- baggage 1 baggage cleared\n",
      "Security check of passenger:  4  -- baggage 2 baggage cleared\n",
      "Security check of passenger:  5  -- baggage 1 baggage cleared\n",
      "Security check of passenger:  5  -- baggage 2 baggage cleared\n"
     ]
    }
   ],
   "source": [
    "## Nested for loop\n",
    "Num_Of_Passengers = 5\n",
    "Num_Of_Baggage = 2\n",
    "Security_Check = True\n",
    "for passenger_count in range(1, Num_Of_Passengers+1):\n",
    "    for baggage_count in range(1, Num_Of_Baggage+1):\n",
    "        if(Security_Check==True):\n",
    "            print(\"Security check of passenger: \", passenger_count, \" -- baggage\", baggage_count, \"baggage cleared\")\n",
    "        else:\n",
    "            print(\"Security check of passenger: \", passenger_count, \" -- baggage\", baggage_count, \"baggage not cleared\")"
   ]
  },
  {
   "cell_type": "code",
   "execution_count": 27,
   "id": "3e6762b9",
   "metadata": {},
   "outputs": [
    {
     "name": "stdout",
     "output_type": "stream",
     "text": [
      "Security check of passenger:  1  -- baggage 1 baggage cleared\n",
      "Security check of passenger:  1  -- baggage 2 baggage cleared\n",
      "Security check of passenger:  2  -- baggage 1 baggage cleared\n",
      "Security check of passenger:  2  -- baggage 2 baggage cleared\n",
      "Security check of passenger:  3  -- baggage 1 baggage cleared\n",
      "Security check of passenger:  3  -- baggage 2 baggage cleared\n",
      "Security check of passenger:  4  -- baggage 1 baggage cleared\n",
      "Security check of passenger:  4  -- baggage 2 baggage cleared\n",
      "Security check of passenger:  5  -- baggage 1 baggage cleared\n",
      "Security check of passenger:  5  -- baggage 2 baggage cleared\n"
     ]
    }
   ],
   "source": [
    "## Nested while loop\n",
    "Num_Of_Passengers = 5\n",
    "Num_Of_Baggage = 2\n",
    "Security_Check = True\n",
    "for passenger_count in range(1, Num_Of_Passengers+1):\n",
    "    baggage_count = 1\n",
    "    while (baggage_count <= Num_Of_Baggage):\n",
    "        if(Security_Check==True):\n",
    "            print(\"Security check of passenger: \", passenger_count, \" -- baggage\", baggage_count, \"baggage cleared\")\n",
    "        else:\n",
    "            print(\"Security check of passenger: \", passenger_count, \" -- baggage\", baggage_count, \"baggage not cleared\")\n",
    "        baggage_count+=1"
   ]
  },
  {
   "cell_type": "code",
   "execution_count": 28,
   "id": "e1577a55",
   "metadata": {
    "scrolled": true
   },
   "outputs": [
    {
     "name": "stdout",
     "output_type": "stream",
     "text": [
      "Enter the number \n"
     ]
    },
    {
     "ename": "ValueError",
     "evalue": "invalid literal for int() with base 10: ''",
     "output_type": "error",
     "traceback": [
      "\u001b[1;31m---------------------------------------------------------------------------\u001b[0m",
      "\u001b[1;31mValueError\u001b[0m                                Traceback (most recent call last)",
      "Input \u001b[1;32mIn [28]\u001b[0m, in \u001b[0;36m<cell line: 2>\u001b[1;34m()\u001b[0m\n\u001b[0;32m      1\u001b[0m \u001b[38;5;66;03m# Sum of digits in a number\u001b[39;00m\n\u001b[1;32m----> 2\u001b[0m num \u001b[38;5;241m=\u001b[39m \u001b[38;5;28;43mint\u001b[39;49m\u001b[43m(\u001b[49m\u001b[38;5;28;43minput\u001b[39;49m\u001b[43m(\u001b[49m\u001b[38;5;124;43m\"\u001b[39;49m\u001b[38;5;124;43mEnter the number \u001b[39;49m\u001b[38;5;124;43m\"\u001b[39;49m\u001b[43m)\u001b[49m\u001b[43m)\u001b[49m\n\u001b[0;32m      3\u001b[0m total \u001b[38;5;241m=\u001b[39m \u001b[38;5;241m0\u001b[39m\n\u001b[0;32m      4\u001b[0m \u001b[38;5;28;01mwhile\u001b[39;00m num \u001b[38;5;241m>\u001b[39m \u001b[38;5;241m0\u001b[39m:\n",
      "\u001b[1;31mValueError\u001b[0m: invalid literal for int() with base 10: ''"
     ]
    }
   ],
   "source": [
    "# Sum of digits in a number\n",
    "num = int(input(\"Enter the number \"))\n",
    "total = 0\n",
    "while num > 0:\n",
    "    x = num%10\n",
    "    total = total + x\n",
    "    num=num//10\n",
    "print(total)"
   ]
  },
  {
   "cell_type": "code",
   "execution_count": 29,
   "id": "4afed5b0",
   "metadata": {},
   "outputs": [
    {
     "name": "stdout",
     "output_type": "stream",
     "text": [
      "Proceed with normal security check\n",
      "Check the person\n",
      "Check for cabin baggage\n",
      "Proceed with normal security check\n",
      "Check the person\n",
      "Check for cabin baggage\n",
      "No check required\n",
      "Proceed with normal security check\n",
      "Check the person\n",
      "Check for cabin baggage\n",
      "No check required\n",
      "Declare emergency in the airport\n"
     ]
    }
   ],
   "source": [
    "## Looping control statements\n",
    "# break statement : To stop a loop or break it\n",
    "# continue statement : to skip the remaining statement in loop and continue with current with next iteration\n",
    "for passenger in (\"A\",\"A\",\"FC\",\"C\",\"FA\",\"SP\",\"A\",\"A\"):\n",
    "    if(passenger==\"FC\" or passenger==\"FA\"):\n",
    "        print(\"No check required\")\n",
    "        continue\n",
    "    if(passenger==\"SP\"):\n",
    "        print(\"Declare emergency in the airport\")\n",
    "        break\n",
    "    if(passenger==\"A\" or passenger==\"C\"):\n",
    "        print(\"Proceed with normal security check\")\n",
    "    \n",
    "    print(\"Check the person\")\n",
    "    print(\"Check for cabin baggage\")"
   ]
  },
  {
   "cell_type": "code",
   "execution_count": 30,
   "id": "45eb2397",
   "metadata": {},
   "outputs": [
    {
     "name": "stdout",
     "output_type": "stream",
     "text": [
      "1\n",
      "3\n",
      "5\n",
      "7\n",
      "9\n"
     ]
    }
   ],
   "source": [
    "'''\n",
    "pass statement : Null statement used to create empty blocks. It results in no-operation and \n",
    "\n",
    "the control will move to the next statement\n",
    "'''\n",
    "\n",
    "num = 10\n",
    "count = 0\n",
    "\n",
    "while(count <= num):\n",
    "    if(count%2 ==0):\n",
    "        pass\n",
    "    else:\n",
    "        print(count)\n",
    "    count+=1"
   ]
  },
  {
   "cell_type": "markdown",
   "id": "4ff0b155",
   "metadata": {},
   "source": [
    "### To check whether the given year is leap year or not"
   ]
  },
  {
   "cell_type": "code",
   "execution_count": 31,
   "id": "19246b00",
   "metadata": {},
   "outputs": [
    {
     "name": "stdout",
     "output_type": "stream",
     "text": [
      "Enter the year: \n"
     ]
    },
    {
     "ename": "ValueError",
     "evalue": "invalid literal for int() with base 10: ''",
     "output_type": "error",
     "traceback": [
      "\u001b[1;31m---------------------------------------------------------------------------\u001b[0m",
      "\u001b[1;31mValueError\u001b[0m                                Traceback (most recent call last)",
      "Input \u001b[1;32mIn [31]\u001b[0m, in \u001b[0;36m<cell line: 1>\u001b[1;34m()\u001b[0m\n\u001b[1;32m----> 1\u001b[0m year \u001b[38;5;241m=\u001b[39m \u001b[38;5;28;43mint\u001b[39;49m\u001b[43m(\u001b[49m\u001b[38;5;28;43minput\u001b[39;49m\u001b[43m(\u001b[49m\u001b[38;5;124;43m\"\u001b[39;49m\u001b[38;5;124;43mEnter the year: \u001b[39;49m\u001b[38;5;124;43m\"\u001b[39;49m\u001b[43m)\u001b[49m\u001b[43m)\u001b[49m\n\u001b[0;32m      2\u001b[0m \u001b[38;5;28;01mif\u001b[39;00m(year\u001b[38;5;241m%\u001b[39m\u001b[38;5;241m4\u001b[39m\u001b[38;5;241m==\u001b[39m\u001b[38;5;241m0\u001b[39m):\n\u001b[0;32m      3\u001b[0m     \u001b[38;5;28mprint\u001b[39m(\u001b[38;5;124m\"\u001b[39m\u001b[38;5;124mYear is leap year\u001b[39m\u001b[38;5;124m\"\u001b[39m)\n",
      "\u001b[1;31mValueError\u001b[0m: invalid literal for int() with base 10: ''"
     ]
    }
   ],
   "source": [
    "year = int(input(\"Enter the year: \"))\n",
    "if(year%4==0):\n",
    "    print(\"Year is leap year\")\n",
    "else:\n",
    "    print(\"Year is not leap year\")"
   ]
  },
  {
   "cell_type": "markdown",
   "id": "d153b57b",
   "metadata": {},
   "source": [
    "### To find & display the max of 3 given numbers"
   ]
  },
  {
   "cell_type": "code",
   "execution_count": 32,
   "id": "b29fb375",
   "metadata": {},
   "outputs": [
    {
     "name": "stdout",
     "output_type": "stream",
     "text": [
      "Enter the number: \n"
     ]
    },
    {
     "ename": "ValueError",
     "evalue": "invalid literal for int() with base 10: ''",
     "output_type": "error",
     "traceback": [
      "\u001b[1;31m---------------------------------------------------------------------------\u001b[0m",
      "\u001b[1;31mValueError\u001b[0m                                Traceback (most recent call last)",
      "Input \u001b[1;32mIn [32]\u001b[0m, in \u001b[0;36m<cell line: 1>\u001b[1;34m()\u001b[0m\n\u001b[1;32m----> 1\u001b[0m num1 \u001b[38;5;241m=\u001b[39m \u001b[38;5;28;43mint\u001b[39;49m\u001b[43m(\u001b[49m\u001b[38;5;28;43minput\u001b[39;49m\u001b[43m(\u001b[49m\u001b[38;5;124;43m\"\u001b[39;49m\u001b[38;5;124;43mEnter the number: \u001b[39;49m\u001b[38;5;124;43m\"\u001b[39;49m\u001b[43m)\u001b[49m\u001b[43m)\u001b[49m\n\u001b[0;32m      2\u001b[0m num2 \u001b[38;5;241m=\u001b[39m \u001b[38;5;28mint\u001b[39m(\u001b[38;5;28minput\u001b[39m(\u001b[38;5;124m\"\u001b[39m\u001b[38;5;124mEnter the number: \u001b[39m\u001b[38;5;124m\"\u001b[39m))\n\u001b[0;32m      3\u001b[0m num3 \u001b[38;5;241m=\u001b[39m \u001b[38;5;28mint\u001b[39m(\u001b[38;5;28minput\u001b[39m(\u001b[38;5;124m\"\u001b[39m\u001b[38;5;124mEnter the number: \u001b[39m\u001b[38;5;124m\"\u001b[39m))\n",
      "\u001b[1;31mValueError\u001b[0m: invalid literal for int() with base 10: ''"
     ]
    }
   ],
   "source": [
    "num1 = int(input(\"Enter the number: \"))\n",
    "num2 = int(input(\"Enter the number: \"))\n",
    "num3 = int(input(\"Enter the number: \"))\n",
    "if(num1>num2):\n",
    "    if(num1>num3):\n",
    "        print(num1, \" is maximum number\")\n",
    "    else:\n",
    "        print(num3, \" is maximum number\")\n",
    "elif(num2>num3):\n",
    "    print(num2, \" is maximum number\")\n",
    "else:\n",
    "    print(num3, \"is maximum number\")"
   ]
  },
  {
   "cell_type": "markdown",
   "id": "a24ba144",
   "metadata": {},
   "source": [
    "### To check given number is prime or not"
   ]
  },
  {
   "cell_type": "code",
   "execution_count": 33,
   "id": "390a4f5e",
   "metadata": {},
   "outputs": [
    {
     "name": "stdout",
     "output_type": "stream",
     "text": [
      "Enter the number \n"
     ]
    },
    {
     "ename": "ValueError",
     "evalue": "invalid literal for int() with base 10: ''",
     "output_type": "error",
     "traceback": [
      "\u001b[1;31m---------------------------------------------------------------------------\u001b[0m",
      "\u001b[1;31mValueError\u001b[0m                                Traceback (most recent call last)",
      "Input \u001b[1;32mIn [33]\u001b[0m, in \u001b[0;36m<cell line: 1>\u001b[1;34m()\u001b[0m\n\u001b[1;32m----> 1\u001b[0m num \u001b[38;5;241m=\u001b[39m \u001b[38;5;28;43mint\u001b[39;49m\u001b[43m(\u001b[49m\u001b[38;5;28;43minput\u001b[39;49m\u001b[43m(\u001b[49m\u001b[38;5;124;43m\"\u001b[39;49m\u001b[38;5;124;43mEnter the number \u001b[39;49m\u001b[38;5;124;43m\"\u001b[39;49m\u001b[43m)\u001b[49m\u001b[43m)\u001b[49m\n\u001b[0;32m      2\u001b[0m \u001b[38;5;28;01mif\u001b[39;00m num \u001b[38;5;241m>\u001b[39m \u001b[38;5;241m1\u001b[39m:\n\u001b[0;32m      3\u001b[0m     \u001b[38;5;28;01mfor\u001b[39;00m n \u001b[38;5;129;01min\u001b[39;00m \u001b[38;5;28mrange\u001b[39m (\u001b[38;5;241m2\u001b[39m,num):\n",
      "\u001b[1;31mValueError\u001b[0m: invalid literal for int() with base 10: ''"
     ]
    }
   ],
   "source": [
    "num = int(input(\"Enter the number \"))\n",
    "if num > 1:\n",
    "    for n in range (2,num):\n",
    "        if(num%n)==0:\n",
    "            print(num, \"is not prime\")\n",
    "            break\n",
    "    else:\n",
    "          print(num, \"is prime\")\n",
    "else:\n",
    "    print(num, \"is not prime\")\n",
    "                "
   ]
  },
  {
   "cell_type": "markdown",
   "id": "5cdad8eb",
   "metadata": {},
   "source": [
    "### First n fibonnaci numbers"
   ]
  },
  {
   "cell_type": "code",
   "execution_count": 34,
   "id": "457620bf",
   "metadata": {},
   "outputs": [
    {
     "name": "stdout",
     "output_type": "stream",
     "text": [
      "Enter the number \n"
     ]
    },
    {
     "ename": "ValueError",
     "evalue": "invalid literal for int() with base 10: ''",
     "output_type": "error",
     "traceback": [
      "\u001b[1;31m---------------------------------------------------------------------------\u001b[0m",
      "\u001b[1;31mValueError\u001b[0m                                Traceback (most recent call last)",
      "Input \u001b[1;32mIn [34]\u001b[0m, in \u001b[0;36m<cell line: 1>\u001b[1;34m()\u001b[0m\n\u001b[1;32m----> 1\u001b[0m n \u001b[38;5;241m=\u001b[39m \u001b[38;5;28;43mint\u001b[39;49m\u001b[43m(\u001b[49m\u001b[38;5;28;43minput\u001b[39;49m\u001b[43m(\u001b[49m\u001b[38;5;124;43m\"\u001b[39;49m\u001b[38;5;124;43mEnter the number \u001b[39;49m\u001b[38;5;124;43m\"\u001b[39;49m\u001b[43m)\u001b[49m\u001b[43m)\u001b[49m\n\u001b[0;32m      2\u001b[0m n1 \u001b[38;5;241m=\u001b[39m \u001b[38;5;241m0\u001b[39m\n\u001b[0;32m      3\u001b[0m n2 \u001b[38;5;241m=\u001b[39m \u001b[38;5;241m1\u001b[39m\n",
      "\u001b[1;31mValueError\u001b[0m: invalid literal for int() with base 10: ''"
     ]
    }
   ],
   "source": [
    "n = int(input(\"Enter the number \"))\n",
    "n1 = 0\n",
    "n2 = 1\n",
    "if n < 0:\n",
    "    print(\"Invalid input\")\n",
    "elif n == n1:\n",
    "    print(n1)\n",
    "elif n == n2:\n",
    "    print(n2)\n",
    "else: \n",
    "    for i in range(2,n):\n",
    "        num = n1 + n2\n",
    "        n1 = n2\n",
    "        n2 = num\n",
    "        print(n2)\n",
    "    "
   ]
  },
  {
   "cell_type": "markdown",
   "id": "40c7b33e",
   "metadata": {},
   "source": [
    "### Salary hike by job level"
   ]
  },
  {
   "cell_type": "code",
   "execution_count": 35,
   "id": "52cf8aaf",
   "metadata": {},
   "outputs": [
    {
     "name": "stdout",
     "output_type": "stream",
     "text": [
      "42800.0\n"
     ]
    }
   ],
   "source": [
    "current_salary = 40000\n",
    "job_level = 4\n",
    "if(job_level == 3):\n",
    "    new_salary = current_salary + (0.15*current_salary)\n",
    "elif(job_level==4):\n",
    "    new_salary = current_salary + (0.07*current_salary)\n",
    "elif(job_level==5):\n",
    "    new_salary = current_salary + (0.05*current_salary)\n",
    "print(new_salary)"
   ]
  },
  {
   "cell_type": "markdown",
   "id": "8c288870",
   "metadata": {},
   "source": [
    "## Functions\n",
    "* Set of instructions to perform a specific task\n",
    "* Syntax: \n",
    "          def function_name([arg1,....,argn]):\n",
    "              #statements\n",
    "              [return value]\n",
    "          variable_name = function_name([val1,...,valn])\n",
    "* values in square bracket are optional\n",
    "* different values uses returned from a function:\n",
    "1. def func(arg1):          \n",
    "       ....                 Returned value is not assigned to any variable.\n",
    "       ....                 Hence the return value from the function invocation is lost\n",
    "       return result        \n",
    "   func(arg1)   \n",
    "   \n",
    "2. def func(arg1):          \n",
    "       ....                 Returned value is assigned to a variable.\n",
    "       ....                 Hence this can be used in the rest of the program.\n",
    "       return result        \n",
    "   res=func(arg1) \n",
    "\n",
    "3. def func(arg1):          \n",
    "       ....                 Returned value is directly printed.\n",
    "       ....                 \n",
    "       return result        \n",
    "   print(func(arg1))   \n",
    "   \n",
    "4. def func(arg1):          \n",
    "       ....                 If returned value from a fucntion is boolena, then the function\n",
    "       ....                 invocation can be written directly in a conditional statement (if, while, etc)\n",
    "       return result        \n",
    "   if(func(arg1)):\n",
    "      ....."
   ]
  },
  {
   "cell_type": "markdown",
   "id": "4bd8d5c1",
   "metadata": {},
   "source": [
    "### Function for finding square of number n"
   ]
  },
  {
   "cell_type": "code",
   "execution_count": 36,
   "id": "bce1387f",
   "metadata": {},
   "outputs": [],
   "source": [
    "def square(n):\n",
    "    square = n*n\n",
    "    return square "
   ]
  },
  {
   "cell_type": "code",
   "execution_count": 37,
   "id": "6141936b",
   "metadata": {},
   "outputs": [
    {
     "name": "stdout",
     "output_type": "stream",
     "text": [
      "16\n"
     ]
    }
   ],
   "source": [
    "sq_of_4 = square(4)\n",
    "print(sq_of_4)"
   ]
  },
  {
   "cell_type": "markdown",
   "id": "05deca57",
   "metadata": {},
   "source": [
    "### Function to display the sum of n numbers"
   ]
  },
  {
   "cell_type": "code",
   "execution_count": 38,
   "id": "0a66b3fa",
   "metadata": {},
   "outputs": [],
   "source": [
    "def sum_first(n):\n",
    "    sum = 0\n",
    "    for i in range(1,n+1):\n",
    "        sum += i\n",
    "    return sum\n"
   ]
  },
  {
   "cell_type": "code",
   "execution_count": 39,
   "id": "e8a75319",
   "metadata": {},
   "outputs": [
    {
     "data": {
      "text/plain": [
       "55"
      ]
     },
     "execution_count": 39,
     "metadata": {},
     "output_type": "execute_result"
    }
   ],
   "source": [
    "sum_first(10)"
   ]
  },
  {
   "cell_type": "markdown",
   "id": "6104e144",
   "metadata": {},
   "source": [
    "## Arguments passing\n",
    "1. Pass by value - If the argument passed is immutable --- int, float, string, tuple\n",
    "2. Pass by reference - If the argument passed is mutable --- list, dictionary, set"
   ]
  },
  {
   "cell_type": "code",
   "execution_count": 40,
   "id": "58baa475",
   "metadata": {},
   "outputs": [
    {
     "name": "stdout",
     "output_type": "stream",
     "text": [
      "Before function call, num = 10\n",
      "In function, num = 30\n",
      "after function call, num = 10\n"
     ]
    }
   ],
   "source": [
    "def change_val(arg):\n",
    "    arg += 20\n",
    "    print('In function, num =',arg)\n",
    "\n",
    "num = 10\n",
    "print('Before function call, num =', num)\n",
    "change_val(num)\n",
    "print('after function call, num =', num)"
   ]
  },
  {
   "cell_type": "markdown",
   "id": "450b4c2a",
   "metadata": {},
   "source": [
    "Here, we can see that `int` is immutable data type. the actual value does not change after function call. \n",
    "It remains as it is."
   ]
  },
  {
   "cell_type": "code",
   "execution_count": 41,
   "id": "dec9853a",
   "metadata": {},
   "outputs": [
    {
     "name": "stdout",
     "output_type": "stream",
     "text": [
      "Before function call, num = [10]\n",
      "In function, num = [10, 20]\n",
      "after function call, num = [10, 20]\n"
     ]
    }
   ],
   "source": [
    "def change_val(arg):\n",
    "    arg += [20]\n",
    "    print('In function, num =',arg)\n",
    "\n",
    "num = [10]\n",
    "print('Before function call, num =', num)\n",
    "change_val(num)\n",
    "print('after function call, num =', num)"
   ]
  },
  {
   "cell_type": "markdown",
   "id": "3312b242",
   "metadata": {},
   "source": [
    "Here, we can see that `list` is mutable data type. the actual value changes after function call. "
   ]
  },
  {
   "cell_type": "markdown",
   "id": "6240af38",
   "metadata": {},
   "source": [
    "## Types of argumets\n",
    "1. **Positional** <br>\n",
    "\n",
    "    def func(arg1,arg2):                 \n",
    "        ....             Default of way of specifying arguments. In this, the order, count & type of \n",
    "        ....             actual arguments should exactly match that of the formal arguments. \n",
    "        return result                      \n",
    "   res = func(val1,val2)              \n",
    "\n",
    "2. **Keyword** <br>\n",
    "    \n",
    "    def func(arg1,arg2):\n",
    "         ....                 Allows flexibilty in the order of passing the actual arguments\n",
    "         ....                 by monitoring the arguments name.\n",
    "         return result\n",
    "    res = func(arg1=val1,arg2=val2)\n",
    "\n",
    "3. **Default**\n",
    "    \n",
    "    def func(arg1,arg2=default_value):\n",
    "        ....                 Allows to specify default value for an argument in the function signature. It is used only when\n",
    "        ....                 no value is passed for that argument else it works normally. In python default arguments should be \n",
    "        return result        last in the order.\n",
    "    res = func(val1)\n",
    "\n",
    "4. **variable argument count**\n",
    "   \n",
    "   def func(arg1,arg2,*arg3):\n",
    "       ....                  Allows a function to have variable number of arguments. In python, any argument name starting\n",
    "       ....                  with * is considered to be a varying length argument. It should be last in the order. It works\n",
    "       return result         by copying all values beyond that position into a tuple.\n",
    "       \n",
    "   res = func(val1,val2,**val3**,**val4**,**val5**)\n"
   ]
  },
  {
   "cell_type": "code",
   "execution_count": 1,
   "id": "b135b35c",
   "metadata": {},
   "outputs": [
    {
     "name": "stdout",
     "output_type": "stream",
     "text": [
      "code-1: positional arguments\n",
      "flight number FN789\n",
      "Seating capacity 200\n",
      "-------------------------------------------------------------------\n",
      "code-2: Keyword arguments\n",
      "flight number FN789\n",
      "Seating capacity 200\n",
      "-------------------------------------------------------------------\n",
      "code-2: default arguments\n",
      "flight number FN234\n",
      "flight_make Boeing\n",
      "Seating capacity 150\n",
      "-----------------------------------------------------------\n",
      "code-4: variable argument count\n",
      "passenger name Jack\n",
      "Total baggage weight in kg is  25\n",
      "passenger name Jack\n",
      "Total baggage weight in kg is  12\n"
     ]
    }
   ],
   "source": [
    "def display1(flight_number, seating_capacity):\n",
    "    print(\"flight number\", flight_number)\n",
    "    print(\"Seating capacity\", seating_capacity)\n",
    " \n",
    "print(\"code-1: positional arguments\")\n",
    "display1(\"FN789\",200)\n",
    "#display(\"300,\"FN123\") ------Given an error since the order of arguments is not same\n",
    "\n",
    "def display2(flight_number, seating_capacity):\n",
    "    print(\"flight number\", flight_number)\n",
    "    print(\"Seating capacity\", seating_capacity)\n",
    "\n",
    "print(\"-------------------------------------------------------------------\")\n",
    "print(\"code-2: Keyword arguments\")\n",
    "display2(flight_number=\"FN789\",seating_capacity=200)\n",
    "\n",
    "def display3(flight_number,flight_make=\"Boeing\", seating_capacity=150):\n",
    "    print(\"flight number\", flight_number)\n",
    "    print(\"flight_make\", flight_make)\n",
    "    print(\"Seating capacity\", seating_capacity)\n",
    "\n",
    "print(\"-------------------------------------------------------------------\")\n",
    "print(\"code-2: default arguments\")\n",
    "#display3(\"FN789\",\"Eagle\") ---------Gives an error default argument is present\n",
    "display3(\"FN234\")\n",
    "\n",
    "def display4(passenger_name, *baggage_tuple):\n",
    "    print(\"passenger name\",passenger_name)\n",
    "    total_wt=0\n",
    "    for baggage_wt in baggage_tuple:\n",
    "        total_wt += baggage_wt\n",
    "    print(\"Total baggage weight in kg is \", total_wt)\n",
    "\n",
    "print(\"-----------------------------------------------------------\")\n",
    "print(\"code-4: variable argument count\")\n",
    "display4(\"Jack\",12,8,5)\n",
    "display4(\"Jack\",5,7)"
   ]
  },
  {
   "cell_type": "markdown",
   "id": "8323bf6c",
   "metadata": {},
   "source": [
    "## Variables and scope\n",
    "* Local variable - Variables created inside the function and accessed only inside that function.\n",
    "* Global variable -  Variables created outside the function and they can read anywhere in the program.\n",
    "* Python doees not allow modification of global variable inside a function directly. So global variable is taken as new local variable"
   ]
  },
  {
   "cell_type": "code",
   "execution_count": 43,
   "id": "5a96d2b3",
   "metadata": {},
   "outputs": [
    {
     "name": "stdout",
     "output_type": "stream",
     "text": [
      "This airline allows baggage limit till  30  kgs\n",
      "Pay the extra baggage charge of  500  rupees\n",
      "This airline now allows baggage limit till  45  kgs\n",
      "Pay the extra baggage charge of  500  rupees\n"
     ]
    }
   ],
   "source": [
    "wt_limit = 30\n",
    "\n",
    "def baggage_check(baggage_wt):\n",
    "    extra_baggage_charge = 0\n",
    "    if not(baggage_wt>=0 and baggage_wt<-wt_limit):\n",
    "        extra_baggage=baggage_wt-wt_limit\n",
    "        extra_baggage_charge=extra_baggage*100\n",
    "    return extra_baggage_charge\n",
    "\n",
    "def update_baggage_limit(new_wt_limit):\n",
    "    wt_limit=new_wt_limit\n",
    "    print(\"This airline now allows baggage limit till \",wt_limit,\" kgs\")\n",
    "    \n",
    "print(\"This airline allows baggage limit till \",wt_limit,\" kgs\")\n",
    "print(\"Pay the extra baggage charge of \",baggage_check(35),\" rupees\")\n",
    "update_baggage_limit(45)\n",
    "print(\"Pay the extra baggage charge of \",baggage_check(35),\" rupees\")"
   ]
  },
  {
   "cell_type": "markdown",
   "id": "c4854583",
   "metadata": {},
   "source": [
    "### Nested functions\n",
    "\n",
    "**If the same variable used in nested functions then put \"nonlocal\" before the variable name in next function**"
   ]
  },
  {
   "cell_type": "code",
   "execution_count": 44,
   "id": "db4c9ef4",
   "metadata": {},
   "outputs": [
    {
     "name": "stdout",
     "output_type": "stream",
     "text": [
      "2\n"
     ]
    }
   ],
   "source": [
    "def count():\n",
    "    count = 0\n",
    "    \n",
    "    def increment():\n",
    "        nonlocal count \n",
    "        count += 2\n",
    "        print(count)\n",
    "        \n",
    "    increment()\n",
    "    \n",
    "count()"
   ]
  },
  {
   "cell_type": "markdown",
   "id": "af4b4983",
   "metadata": {},
   "source": [
    "### Function for factorial"
   ]
  },
  {
   "cell_type": "code",
   "execution_count": 45,
   "id": "0747da41",
   "metadata": {},
   "outputs": [
    {
     "name": "stdout",
     "output_type": "stream",
     "text": [
      "120\n"
     ]
    }
   ],
   "source": [
    "def factorial(n):\n",
    "    fact=1\n",
    "    for i in range(1,n+1):\n",
    "            fact = fact*i\n",
    "    return fact\n",
    "f=factorial(5)\n",
    "print(f)       "
   ]
  },
  {
   "cell_type": "markdown",
   "id": "29ee0ebd",
   "metadata": {},
   "source": [
    "### palindrome function"
   ]
  },
  {
   "cell_type": "code",
   "execution_count": 46,
   "id": "edb14842",
   "metadata": {},
   "outputs": [
    {
     "name": "stdout",
     "output_type": "stream",
     "text": [
      "yes\n"
     ]
    }
   ],
   "source": [
    "def is_palindrome(str):\n",
    "    str_reverse = str[::-1]\n",
    "    if (str_reverse==str):\n",
    "        print(\"yes\")\n",
    "    else:\n",
    "        print(\"no\")\n",
    "is_palindrome(\"131\")\n"
   ]
  },
  {
   "cell_type": "code",
   "execution_count": 47,
   "id": "5867ace2",
   "metadata": {},
   "outputs": [
    {
     "name": "stdout",
     "output_type": "stream",
     "text": [
      "Yes\n"
     ]
    }
   ],
   "source": [
    "def isPalindrome(str):\n",
    "    return s == s[::-1]\n",
    "\n",
    "s = \"malayalam\"\n",
    "ans = isPalindrome(s)\n",
    "\n",
    "if ans:\n",
    "    print(\"Yes\")\n",
    "else:\n",
    "    print(\"No\")\n",
    "\n"
   ]
  },
  {
   "cell_type": "markdown",
   "id": "48fce86b",
   "metadata": {},
   "source": [
    "### Amicable numbers"
   ]
  },
  {
   "cell_type": "code",
   "execution_count": 48,
   "id": "edf0b168",
   "metadata": {},
   "outputs": [
    {
     "name": "stdout",
     "output_type": "stream",
     "text": [
      "284\n"
     ]
    }
   ],
   "source": [
    "n = 220\n",
    "sum = 0\n",
    "for i in range (1,n):\n",
    "    if n%i==0:\n",
    "        sum += i\n",
    "print(sum)"
   ]
  },
  {
   "cell_type": "code",
   "execution_count": 49,
   "id": "18713e3e",
   "metadata": {},
   "outputs": [
    {
     "name": "stdout",
     "output_type": "stream",
     "text": [
      "284\n",
      "220\n",
      "yes\n"
     ]
    }
   ],
   "source": [
    "def is_amicable(num1,num2):\n",
    "    sum1=0\n",
    "    sum2=0\n",
    "    for i in range(1,num1):\n",
    "        if num1%i==0:\n",
    "            sum1+=i\n",
    "    print(sum1)\n",
    "    for i in range(1,num2):\n",
    "        if num2%i==0:\n",
    "            sum2+=i\n",
    "    print(sum2)\n",
    "    if (num1==sum2 and num2==sum1):\n",
    "        print(\"yes\")\n",
    "    else:\n",
    "        print(\"no\")\n",
    "is_amicable(220,284)   "
   ]
  },
  {
   "cell_type": "markdown",
   "id": "fe3f630b",
   "metadata": {},
   "source": [
    "### Right shift program - Binary operation"
   ]
  },
  {
   "cell_type": "code",
   "execution_count": 50,
   "id": "2ca6e2df",
   "metadata": {},
   "outputs": [
    {
     "name": "stdout",
     "output_type": "stream",
     "text": [
      "15\n"
     ]
    }
   ],
   "source": [
    "def right_shift(num,n):\n",
    "    after_shift_num=num>>n\n",
    "    return after_shift_num\n",
    "res=right_shift(60,2)\n",
    "print(res)"
   ]
  },
  {
   "cell_type": "markdown",
   "id": "cef77d67",
   "metadata": {},
   "source": [
    "### Strong number program"
   ]
  },
  {
   "cell_type": "code",
   "execution_count": 51,
   "id": "d2a20aaf",
   "metadata": {},
   "outputs": [
    {
     "name": "stdout",
     "output_type": "stream",
     "text": [
      "145\n",
      "yes\n"
     ]
    }
   ],
   "source": [
    "def strong_num(n):\n",
    "    fact_total=0\n",
    "    while n > 0:\n",
    "        x = n%10\n",
    "        fact=1\n",
    "        for i in range(1,x+1):\n",
    "            fact = fact*i\n",
    "        fact_total += fact\n",
    "        n=n//10\n",
    "    return fact_total\n",
    "\n",
    "n=145\n",
    "res=strong_num(n)\n",
    "print(res)\n",
    "if(res==n):\n",
    "    print(\"yes\")\n",
    "else:\n",
    "    print(\"no\")\n",
    "\n"
   ]
  },
  {
   "cell_type": "code",
   "execution_count": 52,
   "id": "de74b33e",
   "metadata": {},
   "outputs": [
    {
     "name": "stdout",
     "output_type": "stream",
     "text": [
      "145\n"
     ]
    }
   ],
   "source": [
    "n=145\n",
    "fact_total=0\n",
    "while n>0:\n",
    "    x = n%10\n",
    "    fact=1\n",
    "    for i in range(1,x+1):\n",
    "        fact = fact*i\n",
    "    fact_total += fact\n",
    "    n=n//10\n",
    "print(fact_total)"
   ]
  },
  {
   "cell_type": "markdown",
   "id": "e916a960",
   "metadata": {},
   "source": [
    "## Collections\n",
    "### 1. List \n",
    "* To store group of elements\n",
    "* square bracket ex. x=[1,2,3,4,5]\n",
    "* index starts from 0\n",
    "* indexing - x[0],x[1],etc\n",
    "* it is mutable\n"
   ]
  },
  {
   "cell_type": "code",
   "execution_count": 3,
   "id": "b36f90af",
   "metadata": {},
   "outputs": [
    {
     "name": "stdout",
     "output_type": "stream",
     "text": [
      "['Mark', 5, 'Jack', 9]\n",
      "[None, None, None, None, None]\n"
     ]
    },
    {
     "data": {
      "text/plain": [
       "5"
      ]
     },
     "execution_count": 3,
     "metadata": {},
     "output_type": "execute_result"
    }
   ],
   "source": [
    "# Creating a list\n",
    "list1 = [] #Empty list\n",
    "list2 = [\"Mark\",5,\"Jack\",9] #store both homogeneous & heterogeneous elements\n",
    "print(list2)\n",
    "list3 = [None]*5 #list with known size and unknown elements\n",
    "print(list3)\n",
    "len(list3)"
   ]
  },
  {
   "cell_type": "code",
   "execution_count": 4,
   "id": "6b719467",
   "metadata": {},
   "outputs": [
    {
     "name": "stdout",
     "output_type": "stream",
     "text": [
      "Jack\n",
      "['Mark', 7, 'Jack', 9]\n",
      "['Mark', 7, 'Jack', 9, 'Lex']\n",
      "['Mark', 7, 'Jack', 9, 'Lex', 8]\n"
     ]
    }
   ],
   "source": [
    "##### indexing in list\n",
    "\n",
    "print(list2[2])\n",
    "\n",
    "#change elements - mutable\n",
    "\n",
    "list2[1] = 7\n",
    "print(list2)\n",
    "\n",
    "#Adding an element to the end of the list\n",
    "\n",
    "list2.append(\"Lex\")\n",
    "print(list2)\n",
    "\n",
    "#concatenating two lists\n",
    "\n",
    "list4= [8]\n",
    "list2+=list4\n",
    "print(list2)"
   ]
  },
  {
   "cell_type": "code",
   "execution_count": 55,
   "id": "a7664b61",
   "metadata": {},
   "outputs": [
    {
     "name": "stdout",
     "output_type": "stream",
     "text": [
      "Iterating the list using range()\n",
      "1\n",
      "2\n",
      "3\n",
      "4\n",
      "5\n",
      "Iterating the list using keyword in\n",
      "1\n",
      "2\n",
      "3\n",
      "4\n",
      "5\n"
     ]
    }
   ],
   "source": [
    "#To access elements in a list using loop\n",
    "\n",
    "list = [1,2,3,4,5]\n",
    "\n",
    "print(\"Iterating the list using range()\")\n",
    "for index in range(0,len(list)):\n",
    "    print(list[index])\n",
    "\n",
    "print(\"Iterating the list using keyword in\")\n",
    "for val in list:\n",
    "    print(val)"
   ]
  },
  {
   "cell_type": "code",
   "execution_count": 56,
   "id": "b22bfc7a",
   "metadata": {},
   "outputs": [
    {
     "name": "stdout",
     "output_type": "stream",
     "text": [
      "present\n"
     ]
    }
   ],
   "source": [
    "#To find the element is present in the list or not\n",
    "\n",
    "list = [1,2,3,4.5]\n",
    "\n",
    "val = 2\n",
    "if val in list:\n",
    "    print(\"present\")\n",
    "else:\n",
    "    print(\"absent\")"
   ]
  },
  {
   "cell_type": "markdown",
   "id": "9eeca659",
   "metadata": {},
   "source": [
    "### List Slicing\n",
    "* Syntax: List_Name[initial: end : IndexJump]"
   ]
  },
  {
   "cell_type": "code",
   "execution_count": 57,
   "id": "1485545a",
   "metadata": {
    "scrolled": false
   },
   "outputs": [
    {
     "name": "stdout",
     "output_type": "stream",
     "text": [
      "full list - positive index\n",
      "[1, 2, 3, 4, 5]\n",
      "full list - negative index\n",
      "[1, 2, 3, 4, 5]\n",
      "first 3 elements\n",
      "[1, 2, 3]\n",
      "reverse list\n",
      "[5, 4, 3, 2, 1]\n"
     ]
    }
   ],
   "source": [
    "list = [1,2,3,4,5]\n",
    "\n",
    "#Display full list using positive index\n",
    "print(\"full list - positive index\")\n",
    "print(list[::])\n",
    "\n",
    "#Display full list using negative index\n",
    "print(\"full list - negative index\")\n",
    "print(list[-5::1]) #Negative index starts from -1 (last value) and ends at -n (first value)\n",
    "\n",
    "#Display first 3 elements\n",
    "print(\"first 3 elements\")\n",
    "print(list[0:3])\n",
    "\n",
    "#Display reverse list\n",
    "print(\"reverse list\")\n",
    "print(list[::-1])"
   ]
  },
  {
   "cell_type": "markdown",
   "id": "9a68f388",
   "metadata": {},
   "source": [
    "### Count of adjacent occurrences"
   ]
  },
  {
   "cell_type": "code",
   "execution_count": 58,
   "id": "85d8b304",
   "metadata": {},
   "outputs": [],
   "source": [
    "\n",
    "def count(list):\n",
    "    count = 0\n",
    "    for i in range(0,len(list)):\n",
    "        if(list[i-1]==list[i]):\n",
    "            count += 1\n",
    "        else:\n",
    "            count\n",
    "    print(count)\n",
    "    \n",
    "\n"
   ]
  },
  {
   "cell_type": "code",
   "execution_count": 59,
   "id": "86fff2a6",
   "metadata": {},
   "outputs": [
    {
     "name": "stdout",
     "output_type": "stream",
     "text": [
      "3\n"
     ]
    }
   ],
   "source": [
    "count([1,1,5,100,-20,-20,6,0,0])"
   ]
  },
  {
   "cell_type": "code",
   "execution_count": 60,
   "id": "c198dddf",
   "metadata": {},
   "outputs": [
    {
     "name": "stdout",
     "output_type": "stream",
     "text": [
      "0\n"
     ]
    }
   ],
   "source": [
    "count([10,20,30,40,50])"
   ]
  },
  {
   "cell_type": "code",
   "execution_count": 61,
   "id": "3dac64d2",
   "metadata": {},
   "outputs": [
    {
     "name": "stdout",
     "output_type": "stream",
     "text": [
      "2\n"
     ]
    }
   ],
   "source": [
    "count([1,2,2,3,4,4,10])"
   ]
  },
  {
   "cell_type": "markdown",
   "id": "4035c747",
   "metadata": {},
   "source": [
    "#### List Comprehension\n",
    "List comprehension offers a shorter syntax when you want to create a new list based on the values of an existing list.\n",
    "\n",
    "newlist = [expression for item in iterable if condition == True]"
   ]
  },
  {
   "cell_type": "code",
   "execution_count": 62,
   "id": "44c9ad7c",
   "metadata": {},
   "outputs": [
    {
     "name": "stdout",
     "output_type": "stream",
     "text": [
      "['apple', 'banana', 'mango']\n"
     ]
    }
   ],
   "source": [
    "fruits = [\"apple\", \"banana\", \"cherry\", \"kiwi\", \"mango\"]\n",
    "\n",
    "newlist = [x for x in fruits if \"a\" in x]\n",
    "\n",
    "\n",
    "print(newlist)"
   ]
  },
  {
   "cell_type": "markdown",
   "id": "8dfc70c0",
   "metadata": {},
   "source": [
    "### 2. Tuple\n",
    "* Values in tuple cannnot be changed - immutable\n",
    "* Elements can be homogeneous or heterogeneous\n",
    "* Round brackets ex. tuple = (\"A\",\"B\",\"C\")"
   ]
  },
  {
   "cell_type": "code",
   "execution_count": 63,
   "id": "964d0745",
   "metadata": {},
   "outputs": [
    {
     "name": "stdout",
     "output_type": "stream",
     "text": [
      "<class 'tuple'>\n",
      "('A',)\n",
      "<class 'tuple'>\n",
      "A\n",
      "<class 'str'>\n",
      "0\n",
      "['A', 'B', 'C']\n",
      "('A', 'C', 'B', 'E', 'F')\n"
     ]
    }
   ],
   "source": [
    "#Creating a tuple\n",
    "tuple3 = (\"A\",\"C\",\"B\")\n",
    "print(tuple)\n",
    "\n",
    "#Tuple with single element\n",
    "tuple1 = (\"A\",) # , comma is necessary for creating tuple o.w. it will be considered as string\n",
    "tuple2 = (\"A\")\n",
    "print(tuple1)\n",
    "print(type(tuple1))\n",
    "print(tuple2)\n",
    "print(type(tuple2))\n",
    "\n",
    "#to find index of value in tuple\n",
    "print(tuple3.index(\"A\"))\n",
    "\n",
    "#to sort the tuple and create new one\n",
    "print(sorted(tuple3))\n",
    "\n",
    "#to add tuples\n",
    "tuple4 = tuple3 + (\"E\",\"F\")\n",
    "print(tuple4)"
   ]
  },
  {
   "cell_type": "code",
   "execution_count": 64,
   "id": "d90a2e06",
   "metadata": {},
   "outputs": [],
   "source": [
    "#tuple is immutable\n",
    "#tuple[0] = \"\" ## It will give an error - not support item assignment"
   ]
  },
  {
   "cell_type": "markdown",
   "id": "1ab8893f",
   "metadata": {},
   "source": [
    "### 3. Strings\n",
    "* Values can be alphabetical, numerical, alphanumeric\n",
    "* Enclosed in single or double inverted quotes ex. 'Alex', \"Alex\"\n",
    "* Immutable\n",
    "* indexing starts from 0"
   ]
  },
  {
   "cell_type": "code",
   "execution_count": 65,
   "id": "926ec103",
   "metadata": {},
   "outputs": [
    {
     "name": "stdout",
     "output_type": "stream",
     "text": [
      "Length of string:  10\n",
      "FirstLast\n",
      "Iterating the string using keyword in\n",
      "A\n",
      "A\n",
      "S\n",
      "S\n",
      "1\n",
      "2\n",
      "3\n",
      "4\n",
      "P\n",
      "Q\n",
      "Searching for a character in string\n",
      "Present\n",
      "234P\n",
      "234P\n",
      "Let's\n",
      "\n",
      "Enjoy \n",
      "\n",
      "D\n",
      "\n",
      "Party!!!\n",
      "\n",
      "\n",
      "Name\"Name\n"
     ]
    }
   ],
   "source": [
    "#creating a string\n",
    "string = \"AASS1234PQ\"\n",
    "\n",
    "#Length of string\n",
    "print(\"Length of string: \",len(string))\n",
    "\n",
    "#Concatenating two strings\n",
    "name1 = \"First\"\n",
    "name2 = \"Last\"\n",
    "name = name1 + name2\n",
    "print(name)\n",
    "\n",
    "print(\"Iterating the string using keyword in\")\n",
    "for value in string:\n",
    "    print(value)\n",
    "    \n",
    "print(\"Searching for a character in string\")\n",
    "if \"P\" in string:\n",
    "    print(\"Present\")\n",
    "else:\n",
    "    print(\"absent\")\n",
    "\n",
    "#Slicing of string\n",
    "print(string[5:9])\n",
    "print(string[-5:-1])\n",
    "\n",
    "#multiline string\n",
    "\n",
    "print(\"\"\"Let's\n",
    "\n",
    "Enjoy \n",
    "\n",
    "D\n",
    "\n",
    "Party!!!\n",
    "\n",
    "\"\"\")\n",
    "\n",
    "# Escape character\n",
    "print(\"Name\\\"Name\")"
   ]
  },
  {
   "cell_type": "markdown",
   "id": "9e99ac20",
   "metadata": {},
   "source": [
    "##### .format() method"
   ]
  },
  {
   "cell_type": "code",
   "execution_count": 66,
   "id": "3d98dde5",
   "metadata": {},
   "outputs": [
    {
     "data": {
      "text/plain": [
       "'My name is Shri'"
      ]
     },
     "execution_count": 66,
     "metadata": {},
     "output_type": "execute_result"
    }
   ],
   "source": [
    "str123 = 'My name is {}'\n",
    "str123.format('Shri')"
   ]
  },
  {
   "cell_type": "code",
   "execution_count": 67,
   "id": "4b0e7ab3",
   "metadata": {
    "scrolled": true
   },
   "outputs": [
    {
     "data": {
      "text/plain": [
       "'My Nose is Long'"
      ]
     },
     "execution_count": 67,
     "metadata": {},
     "output_type": "execute_result"
    }
   ],
   "source": [
    "str234 = 'My {} is {}'\n",
    "str234.format('Nose','Long')"
   ]
  },
  {
   "cell_type": "code",
   "execution_count": 68,
   "id": "a04e9237",
   "metadata": {},
   "outputs": [
    {
     "data": {
      "text/plain": [
       "'Scissor Rock Paper'"
      ]
     },
     "execution_count": 68,
     "metadata": {},
     "output_type": "execute_result"
    }
   ],
   "source": [
    "str345 = '{2} {0} {1}'\n",
    "str345.format('Rock','Paper','Scissor')"
   ]
  },
  {
   "cell_type": "code",
   "execution_count": 69,
   "id": "97c521f9",
   "metadata": {},
   "outputs": [
    {
     "data": {
      "text/plain": [
       "'The quick brown fox'"
      ]
     },
     "execution_count": 69,
     "metadata": {},
     "output_type": "execute_result"
    }
   ],
   "source": [
    "str456 = 'The {q} {b} {f}'\n",
    "str456.format(b='brown',f='fox',q='quick')"
   ]
  },
  {
   "cell_type": "code",
   "execution_count": 70,
   "id": "21880c5e",
   "metadata": {
    "scrolled": true
   },
   "outputs": [
    {
     "name": "stdout",
     "output_type": "stream",
     "text": [
      "The result was 0.26973684210526316\n",
      "The result is 0.3\n",
      "The result is        0.3\n"
     ]
    }
   ],
   "source": [
    "## float Value precision \n",
    "## (value:width.precision f)\n",
    "\n",
    "res = 123/456\n",
    "print(\"The result was {r}\".format(r=res))\n",
    "\n",
    "print(\"The result is {r:1.1f}\".format(r=res)) #precision for number of decimal places\n",
    "\n",
    "print(\"The result is {r:10.1f}\".format(r=res)) #width for number of white spaces"
   ]
  },
  {
   "cell_type": "code",
   "execution_count": 71,
   "id": "8eab0d10",
   "metadata": {
    "scrolled": true
   },
   "outputs": [
    {
     "name": "stdout",
     "output_type": "stream",
     "text": [
      "Fruit    | Quantity \n",
      "Apples   |       3.0\n",
      "Oranges  |        10\n"
     ]
    }
   ],
   "source": [
    "print('{0:8} | {1:9}'.format('Fruit', 'Quantity'))\n",
    "print('{0:8} | {1:9}'.format('Apples', 3.))\n",
    "print('{0:8} | {1:9}'.format('Oranges', 10))"
   ]
  },
  {
   "cell_type": "code",
   "execution_count": 72,
   "id": "58ded182",
   "metadata": {},
   "outputs": [
    {
     "name": "stdout",
     "output_type": "stream",
     "text": [
      "Left     |  Center  |    Right\n",
      "11       |    22    |       33\n"
     ]
    }
   ],
   "source": [
    "print('{0:<8} | {1:^8} | {2:>8}'.format('Left','Center','Right'))\n",
    "print('{0:<8} | {1:^8} | {2:>8}'.format(11,22,33))"
   ]
  },
  {
   "cell_type": "code",
   "execution_count": 73,
   "id": "96ae25b8",
   "metadata": {
    "scrolled": true
   },
   "outputs": [
    {
     "name": "stdout",
     "output_type": "stream",
     "text": [
      "Left==== | -Center- | ...Right\n",
      "11====== | ---22--- | ......33\n"
     ]
    }
   ],
   "source": [
    "print('{0:=<8} | {1:-^8} | {2:.>8}'.format('Left','Center','Right'))\n",
    "print('{0:=<8} | {1:-^8} | {2:.>8}'.format(11,22,33))"
   ]
  },
  {
   "cell_type": "markdown",
   "id": "e89c2215",
   "metadata": {},
   "source": [
    "| Format codes |\tDescription             |\n",
    "|---|---|\n",
    "|        d\t   |   for integers             | \n",
    "|        f\t   | for floating point numbers |\n",
    "b\t| for binary numbers\n",
    "o\t| for octal numbers\n",
    "x\t| for octal hexadecimal numbers\n",
    "s\t| for string\n",
    "e\t| for floating point in exponent format\n"
   ]
  },
  {
   "cell_type": "code",
   "execution_count": 10,
   "id": "3407b76e",
   "metadata": {},
   "outputs": [
    {
     "name": "stdout",
     "output_type": "stream",
     "text": [
      "Floating point 345.79\n",
      "sam has 31 red balls and 12 blue balls\n",
      "In binary 4 is 100\n",
      "In octal 14 is 16\n",
      "In octal 14 is e\n",
      "My name is Geeta\n"
     ]
    }
   ],
   "source": [
    "print(\"Floating point {0:1.2f}\".format(345.7916732))\n",
    "\n",
    "print(\"sam has {1:d} red balls and {0:d} blue balls\".format(12,31))\n",
    "\n",
    "print(\"In binary 4 is {0:b}\".format(4))\n",
    "\n",
    "print(\"In octal 14 is {0:o}\".format(14))\n",
    "\n",
    "print(\"In octal 14 is {0:x}\".format(14))\n",
    "\n",
    "print(\"My name is {0:s}\".format(\"Geeta\"))"
   ]
  },
  {
   "cell_type": "markdown",
   "id": "add2526a",
   "metadata": {},
   "source": [
    "##### f-string method"
   ]
  },
  {
   "cell_type": "code",
   "execution_count": 11,
   "id": "8c9eb25c",
   "metadata": {},
   "outputs": [
    {
     "name": "stdout",
     "output_type": "stream",
     "text": [
      "My name is Raghav\n"
     ]
    }
   ],
   "source": [
    "name = 'Raghav'\n",
    "print(f'My name is {name}')"
   ]
  },
  {
   "cell_type": "code",
   "execution_count": 2,
   "id": "484391e0",
   "metadata": {},
   "outputs": [
    {
     "name": "stdout",
     "output_type": "stream",
     "text": [
      "1. count - Count of given set of characters\n",
      "2\n",
      "--------------------------------------------------------------\n",
      "2. replace - Return a new string by replacing a set of characters with another set of characters, It does not modify original\n",
      "RAghAv\n",
      "--------------------------------------------------------------\n",
      "3. find - First index position of specific set of characters\n",
      "1\n",
      "--------------------------------------------------------------\n",
      "4. startswith - Check if string starts with a specific set of characters\n",
      "True\n",
      "--------------------------------------------------------------\n",
      "5. endswith - Check if string ends with a specific set of characters\n",
      "True\n",
      "--------------------------------------------------------------\n",
      "6. isdigit - Check if all the characters in the string are numbers\n",
      "False\n",
      "--------------------------------------------------------------\n",
      "7. upper - convert string into upper characters\n",
      "RAGHAV\n",
      "--------------------------------------------------------------\n",
      "8. lower - convert string into lower characters\n",
      "raghav\n",
      "--------------------------------------------------------------\n",
      "9. split - Splits string according to delimiter and returns the list of substring. Space is default delimiter\n",
      "['R', 'gh', 'v']\n",
      "--------------------------------------------------------------\n",
      "10. Casteling -- First letter of each word to capital\n",
      "Raghav Krishna\n",
      "--------------------------------------------------------------\n",
      "11. islower - to check lowercase\n",
      "True\n",
      "--------------------------------------------------------------\n",
      "12. isupper - to check uppercase\n",
      "False\n",
      "--------------------------------------------------------------\n",
      "13. isalpha - to check string contains only characters and is not empty\n",
      "True\n",
      "--------------------------------------------------------------\n",
      "14. isalnum - to check string contains only characters or digits and is not empty\n",
      "True\n",
      "--------------------------------------------------------------\n",
      "15. isdecimal - to check string contains only digits and is not empty\n",
      "False\n",
      "--------------------------------------------------------------\n",
      "16. strip - to replace whitespace from string\n",
      "18\n",
      "raghav krishna\n",
      "14\n",
      "--------------------------------------------------------------\n",
      "17. join - to append new letters to string\n",
      "raghav_krishna\n"
     ]
    }
   ],
   "source": [
    "name = \"Raghav\"\n",
    "print(\"1. count - Count of given set of characters\")\n",
    "print(name.count(\"a\"))\n",
    "print(\"--------------------------------------------------------------\")\n",
    "print(\"2. replace - Return a new string by replacing a set of characters with another set of characters, It does not modify original\")\n",
    "print(name.replace(\"a\",\"A\"))\n",
    "print(\"--------------------------------------------------------------\")\n",
    "print(\"3. find - First index position of specific set of characters\")\n",
    "print(name.find(\"a\"))\n",
    "print(\"--------------------------------------------------------------\")\n",
    "print(\"4. startswith - Check if string starts with a specific set of characters\")\n",
    "print(name.startswith(\"Ra\"))\n",
    "print(\"--------------------------------------------------------------\")\n",
    "print(\"5. endswith - Check if string ends with a specific set of characters\")\n",
    "print(name.endswith(\"av\"))\n",
    "print(\"--------------------------------------------------------------\")\n",
    "print(\"6. isdigit - Check if all the characters in the string are numbers\")\n",
    "print(name.isdigit())\n",
    "print(\"--------------------------------------------------------------\")\n",
    "print(\"7. upper - convert string into upper characters\")\n",
    "print(name.upper())\n",
    "print(\"--------------------------------------------------------------\")\n",
    "print(\"8. lower - convert string into lower characters\")\n",
    "print(name.lower())\n",
    "print(\"--------------------------------------------------------------\")\n",
    "print(\"9. split - Splits string according to delimiter and returns the list of substring. Space is default delimiter\")\n",
    "print(name.split(\"a\"))\n",
    "print(\"--------------------------------------------------------------\")\n",
    "print(\"10. Casteling -- First letter of each word to capital\")\n",
    "print(\"ragHav kriSHNa\".title())\n",
    "print(\"--------------------------------------------------------------\")\n",
    "print(\"11. islower - to check lowercase\")\n",
    "print(\"raghav\".islower())\n",
    "print(\"--------------------------------------------------------------\")\n",
    "print(\"12. isupper - to check uppercase\")\n",
    "print(\"raghav\".isupper())\n",
    "print(\"--------------------------------------------------------------\")\n",
    "print(\"13. isalpha - to check string contains only characters and is not empty\")\n",
    "print(\"raghav\".isalpha())\n",
    "print(\"--------------------------------------------------------------\")\n",
    "print(\"14. isalnum - to check string contains only characters or digits and is not empty\")\n",
    "print(\"raghav1\".isalnum())\n",
    "print(\"--------------------------------------------------------------\")\n",
    "print(\"15. isdecimal - to check string contains only digits and is not empty\")\n",
    "print(\"raghav\".isdecimal())\n",
    "print(\"--------------------------------------------------------------\")\n",
    "print(\"16. strip - to replace whitespace from string\")\n",
    "name = \"  raghav krishna  \"\n",
    "print(len(name))\n",
    "new = name.strip()\n",
    "print(new)\n",
    "print(len(new))\n",
    "print(\"--------------------------------------------------------------\")\n",
    "print(\"17. join - to append new letters to string\")\n",
    "str = (\"raghav\",\"krishna\")\n",
    "print(\"_\".join(str))"
   ]
  },
  {
   "cell_type": "markdown",
   "id": "c95b3394",
   "metadata": {},
   "source": [
    "### Example"
   ]
  },
  {
   "cell_type": "code",
   "execution_count": 76,
   "id": "ad83ab04",
   "metadata": {},
   "outputs": [
    {
     "ename": "TypeError",
     "evalue": "'tuple' object is not callable",
     "output_type": "error",
     "traceback": [
      "\u001b[1;31m---------------------------------------------------------------------------\u001b[0m",
      "\u001b[1;31mTypeError\u001b[0m                                 Traceback (most recent call last)",
      "Input \u001b[1;32mIn [76]\u001b[0m, in \u001b[0;36m<cell line: 6>\u001b[1;34m()\u001b[0m\n\u001b[0;32m      7\u001b[0m     num \u001b[38;5;241m=\u001b[39m \u001b[38;5;241m101\u001b[39m\n\u001b[0;32m      8\u001b[0m     number \u001b[38;5;241m=\u001b[39m num \u001b[38;5;241m+\u001b[39m i\n\u001b[1;32m----> 9\u001b[0m     ticket_number\u001b[38;5;241m.\u001b[39mappend(airline \u001b[38;5;241m+\u001b[39m\u001b[38;5;124m\"\u001b[39m\u001b[38;5;124m:\u001b[39m\u001b[38;5;124m\"\u001b[39m\u001b[38;5;241m+\u001b[39m src[\u001b[38;5;241m0\u001b[39m:\u001b[38;5;241m3\u001b[39m]\u001b[38;5;241m+\u001b[39m\u001b[38;5;124m\"\u001b[39m\u001b[38;5;124m:\u001b[39m\u001b[38;5;124m\"\u001b[39m \u001b[38;5;241m+\u001b[39m dest[\u001b[38;5;241m0\u001b[39m:\u001b[38;5;241m3\u001b[39m]\u001b[38;5;241m+\u001b[39m\u001b[38;5;124m\"\u001b[39m\u001b[38;5;124m:\u001b[39m\u001b[38;5;124m\"\u001b[39m \u001b[38;5;241m+\u001b[39m \u001b[38;5;28;43mstr\u001b[39;49m\u001b[43m(\u001b[49m\u001b[43mnumber\u001b[49m\u001b[43m)\u001b[49m)\n\u001b[0;32m     10\u001b[0m \u001b[38;5;28mprint\u001b[39m(ticket_number)\n",
      "\u001b[1;31mTypeError\u001b[0m: 'tuple' object is not callable"
     ]
    }
   ],
   "source": [
    "airline = \"AL1\"\n",
    "src = \"Satara\"\n",
    "dest = \"Delhi\"\n",
    "number = 101\n",
    "ticket_number = []\n",
    "for i in range(5):\n",
    "    num = 101\n",
    "    number = num + i\n",
    "    ticket_number.append(airline +\":\"+ src[0:3]+\":\" + dest[0:3]+\":\" + str(number))\n",
    "print(ticket_number)"
   ]
  },
  {
   "cell_type": "markdown",
   "id": "32dd3f92",
   "metadata": {},
   "source": [
    "### 4. Set\n",
    "* unordered group of values with no duplicate entries\n",
    "* created by using keyword set or {}\n",
    "* used to eliminate duplicate values in the list"
   ]
  },
  {
   "cell_type": "code",
   "execution_count": 77,
   "id": "a007eeb8",
   "metadata": {},
   "outputs": [
    {
     "name": "stdout",
     "output_type": "stream",
     "text": [
      "{500, 520, 345, 634, 600, 200}\n",
      "Duplicate values eliminated\n",
      "[500, 520, 600, 345, 520, 634, 600, 500, 200, 200]\n",
      "Eliminating duplicate values from a list\n",
      "{520, 200, 500, 600, 345, 634}\n",
      "{2, 3, 4, 5, 6}\n",
      "{0, 1, 7, 8, 9}\n",
      "{0, 1, 2, 3, 4, 5, 6, 7, 8, 9}\n"
     ]
    }
   ],
   "source": [
    "#creating set\n",
    "set1 = {500,520,600,345,520,634,600,500,200,200}\n",
    "print(set1)\n",
    "print(\"Duplicate values eliminated\")\n",
    "\n",
    "#Define a list\n",
    "list = [500,520,600,345,520,634,600,500,200,200]\n",
    "print(list)\n",
    "print(\"Eliminating duplicate values from a list\")\n",
    "unique_val = set(list)\n",
    "print(unique_val)\n",
    "\n",
    "#common elements in sets\n",
    "setA = {0,1,2,3,4,5,6,7,8,9}\n",
    "setB = {2,3,4,5,6}\n",
    "setC = setA & setB\n",
    "print(setC)\n",
    "\n",
    "#Elements that are only in set A\n",
    "setD = setA - setB\n",
    "print(setD)\n",
    "\n",
    "#Merges (union) of elements of set A and set B\n",
    "setE = setA | setB\n",
    "print(setE)\n"
   ]
  },
  {
   "cell_type": "code",
   "execution_count": 78,
   "id": "6a508679",
   "metadata": {},
   "outputs": [
    {
     "name": "stdout",
     "output_type": "stream",
     "text": [
      "False\n",
      "False\n",
      "True\n",
      "True\n"
     ]
    }
   ],
   "source": [
    "#subset\n",
    "output1 = setA < setB\n",
    "print(output1)\n",
    "\n",
    "output2 = setA.issubset(setB)\n",
    "print(output2)\n",
    "\n",
    "#superset\n",
    "output3 = setA > setB\n",
    "print(output3)\n",
    "\n",
    "output4 = setA.issuperset(setB)\n",
    "print(output4)"
   ]
  },
  {
   "cell_type": "code",
   "execution_count": 79,
   "id": "c96ee799",
   "metadata": {},
   "outputs": [
    {
     "name": "stdout",
     "output_type": "stream",
     "text": [
      "{'A', 'B', 4, 6}\n"
     ]
    },
    {
     "ename": "TypeError",
     "evalue": "'list' object is not callable",
     "output_type": "error",
     "traceback": [
      "\u001b[1;31m---------------------------------------------------------------------------\u001b[0m",
      "\u001b[1;31mTypeError\u001b[0m                                 Traceback (most recent call last)",
      "Input \u001b[1;32mIn [79]\u001b[0m, in \u001b[0;36m<cell line: 5>\u001b[1;34m()\u001b[0m\n\u001b[0;32m      2\u001b[0m my_set \u001b[38;5;241m=\u001b[39m {\u001b[38;5;124m\"\u001b[39m\u001b[38;5;124mA\u001b[39m\u001b[38;5;124m\"\u001b[39m,\u001b[38;5;124m\"\u001b[39m\u001b[38;5;124mB\u001b[39m\u001b[38;5;124m\"\u001b[39m,\u001b[38;5;241m4\u001b[39m,\u001b[38;5;241m6\u001b[39m}\n\u001b[0;32m      3\u001b[0m \u001b[38;5;28mprint\u001b[39m(my_set)\n\u001b[1;32m----> 5\u001b[0m my_list \u001b[38;5;241m=\u001b[39m \u001b[38;5;28;43mlist\u001b[39;49m\u001b[43m(\u001b[49m\u001b[43mmy_set\u001b[49m\u001b[43m)\u001b[49m\n\u001b[0;32m      6\u001b[0m \u001b[38;5;28mprint\u001b[39m(my_list)\n",
      "\u001b[1;31mTypeError\u001b[0m: 'list' object is not callable"
     ]
    }
   ],
   "source": [
    "#set to list\n",
    "my_set = {\"A\",\"B\",4,6}\n",
    "print(my_set)\n",
    "\n",
    "my_list = list(my_set)\n",
    "print(my_list)"
   ]
  },
  {
   "cell_type": "markdown",
   "id": "dcc0fe0e",
   "metadata": {},
   "source": [
    "### 5. Dictionary\n",
    "* To store an unordered collection of key-value pairs\n",
    "* Key should be unique and can be of any data type\n",
    "* mutable"
   ]
  },
  {
   "cell_type": "code",
   "execution_count": 80,
   "id": "3cb8dcbf",
   "metadata": {},
   "outputs": [
    {
     "name": "stdout",
     "output_type": "stream",
     "text": [
      "{1: 'Apple', 2: 'Banana', 3: 'Cat', 4: 'Dog'}\n",
      "Apple\n",
      "1 , Apple\n",
      "2 , Banana\n",
      "3 , Cat\n",
      "4 , Dog\n"
     ]
    }
   ],
   "source": [
    "#Creating a dictionary \n",
    "dict = {1:\"Apple\",2:\"Banana\",3:\"Cat\",4:\"Dog\"}\n",
    "print(dict)\n",
    "\n",
    "#Accessing the elements\n",
    "print(dict[1])\n",
    "\n",
    "#Iterating through the dictionary\n",
    "for key,value in dict.items():\n",
    "    print(key,\",\",value)"
   ]
  },
  {
   "cell_type": "markdown",
   "id": "a9a75f53",
   "metadata": {},
   "source": [
    "#### Defaultdict \n",
    "Defaultdict is a container like dictionaries present in the module collections. Defaultdict is a sub-class of the dictionary class that returns a dictionary-like object. The functionality of both dictionaries and defaultdict are almost same except for the fact that defaultdict never raises a KeyError. It provides a default value for the key that does not exists.\n",
    "\n",
    "Syntax: defaultdict(default_factory)\n",
    "\n",
    "Parameters:  \n",
    "\n",
    "* default_factory: A function returning the default value for the dictionary defined. If this argument is absent then the dictionary raises a KeyError."
   ]
  },
  {
   "cell_type": "code",
   "execution_count": 1,
   "id": "fa55166d",
   "metadata": {},
   "outputs": [
    {
     "name": "stdout",
     "output_type": "stream",
     "text": [
      "1\n",
      "2\n",
      "Not Present\n"
     ]
    }
   ],
   "source": [
    "# Python program to demonstrate \n",
    "# defaultdict \n",
    "  \n",
    "  \n",
    "from collections import defaultdict \n",
    "  \n",
    "  \n",
    "# Function to return a default \n",
    "# values for keys that is not \n",
    "# present \n",
    "def def_value(): \n",
    "    return \"Not Present\"\n",
    "      \n",
    "# Defining the dict \n",
    "d = defaultdict(def_value) \n",
    "d[\"a\"] = 1\n",
    "d[\"b\"] = 2\n",
    "  \n",
    "print(d[\"a\"]) \n",
    "print(d[\"b\"]) \n",
    "print(d[\"c\"]) "
   ]
  },
  {
   "cell_type": "markdown",
   "id": "89dbecca",
   "metadata": {},
   "source": [
    "#### Counter\n",
    "\n",
    "Counter is a sub-class that is used to count hashable objects. It implicitly creates a hash table of an iterable when invoked."
   ]
  },
  {
   "cell_type": "code",
   "execution_count": 4,
   "id": "101131c2",
   "metadata": {},
   "outputs": [
    {
     "name": "stdout",
     "output_type": "stream",
     "text": [
      "g g e e e e k k s s f o r Counter({'e': 4, 'g': 2, 'k': 2, 's': 2, 'f': 1, 'o': 1, 'r': 1})\n"
     ]
    }
   ],
   "source": [
    "# import counter class from collections module\n",
    "from collections import Counter\n",
    " \n",
    "# Creation of a Counter Class object using \n",
    "# string as an iterable data container\n",
    "x = Counter(\"geeksforgeeks\")\n",
    "\n",
    "# printing the elements of counter object\n",
    "for i in x.elements():\n",
    "    print ( i, end = \" \")\n",
    "    \n",
    "    \n",
    "print(x)"
   ]
  },
  {
   "cell_type": "markdown",
   "id": "b88ec0ce",
   "metadata": {},
   "source": [
    "### ALL and ANY fn\n",
    "\n",
    "Python has an all function, which takes a list and returns True precisely when every\n",
    "element is truthy, and an any function, which returns True when at least one element\n",
    "is truthy:"
   ]
  },
  {
   "cell_type": "code",
   "execution_count": 5,
   "id": "ba4f81a4",
   "metadata": {
    "scrolled": true
   },
   "outputs": [
    {
     "name": "stdout",
     "output_type": "stream",
     "text": [
      "True\n",
      "False\n",
      "True\n",
      "True\n",
      "False\n"
     ]
    }
   ],
   "source": [
    "print(all([True, 1, { 3 }])) # True\n",
    "print(all([True, 1, {}])) # False, {} is falsy\n",
    "print(any([True, 1, {}])) # True, True is truthy\n",
    "print(all([])) # True, no falsy elements in the list\n",
    "print(any([])) # False, no truthy elements in the list"
   ]
  },
  {
   "cell_type": "markdown",
   "id": "2582ad4f",
   "metadata": {},
   "source": [
    "### Proper divisors list"
   ]
  },
  {
   "cell_type": "code",
   "execution_count": 81,
   "id": "fbfaeb13",
   "metadata": {},
   "outputs": [
    {
     "data": {
      "text/plain": [
       "[1, 2, 4, 5, 10, 20, 25, 50]"
      ]
     },
     "execution_count": 81,
     "metadata": {},
     "output_type": "execute_result"
    }
   ],
   "source": [
    "def proper_divisors(num):\n",
    "    divisors=[]\n",
    "    for i in range(1,num):\n",
    "        if num%i==0:\n",
    "            divisors.append(i)\n",
    "    return divisors\n",
    "\n",
    "proper_divisors(100)"
   ]
  },
  {
   "cell_type": "markdown",
   "id": "9b67afd2",
   "metadata": {},
   "source": [
    "### Fibonnacci number list"
   ]
  },
  {
   "cell_type": "code",
   "execution_count": 82,
   "id": "4a734760",
   "metadata": {},
   "outputs": [],
   "source": [
    "def fibonnaci(n):\n",
    "    list_fib = []\n",
    "    n1 = 0\n",
    "    n2 = 1\n",
    "    if n1 < 0:\n",
    "        print(\"Invalid input\")\n",
    "    elif n == n1:\n",
    "        list_fib.append(n1)\n",
    "    elif n == n2:\n",
    "        list_fib.append(n2)\n",
    "    else: \n",
    "        for i in range(2,n):\n",
    "            num = n1 + n2\n",
    "            n1 = n2\n",
    "            n2 = num\n",
    "            list_fib.append(n2)        \n",
    "        print(list_fib)"
   ]
  },
  {
   "cell_type": "code",
   "execution_count": 83,
   "id": "d37fa638",
   "metadata": {},
   "outputs": [
    {
     "name": "stdout",
     "output_type": "stream",
     "text": [
      "[1, 2, 3, 5, 8, 13, 21, 34]\n"
     ]
    }
   ],
   "source": [
    "fibonnaci(10)"
   ]
  },
  {
   "cell_type": "markdown",
   "id": "7f47af48",
   "metadata": {},
   "source": [
    "### Next 15 leap years starting from a given year"
   ]
  },
  {
   "cell_type": "code",
   "execution_count": 84,
   "id": "ccd6c7f0",
   "metadata": {},
   "outputs": [
    {
     "name": "stdout",
     "output_type": "stream",
     "text": [
      "[2008, 2012, 2016, 2020, 2024, 2028, 2032, 2036, 2040, 2044, 2048, 2052, 2056, 2060, 2064]\n"
     ]
    }
   ],
   "source": [
    "def leap_year(year):\n",
    "    leapyears = []\n",
    "    for i in range(1,16):\n",
    "        year += 4\n",
    "        leapyears.append(year)\n",
    "    print(leapyears)\n",
    "    \n",
    "leap_year(2004)"
   ]
  },
  {
   "cell_type": "markdown",
   "id": "76d1beed",
   "metadata": {},
   "source": [
    "### Run length encoding string"
   ]
  },
  {
   "cell_type": "code",
   "execution_count": 85,
   "id": "161a1fb7",
   "metadata": {},
   "outputs": [
    {
     "ename": "TypeError",
     "evalue": "'tuple' object is not callable",
     "output_type": "error",
     "traceback": [
      "\u001b[1;31m---------------------------------------------------------------------------\u001b[0m",
      "\u001b[1;31mTypeError\u001b[0m                                 Traceback (most recent call last)",
      "Input \u001b[1;32mIn [85]\u001b[0m, in \u001b[0;36m<cell line: 21>\u001b[1;34m()\u001b[0m\n\u001b[0;32m     19\u001b[0m         encoding \u001b[38;5;241m+\u001b[39m\u001b[38;5;241m=\u001b[39m \u001b[38;5;28mstr\u001b[39m(count) \u001b[38;5;241m+\u001b[39m prev_char\n\u001b[0;32m     20\u001b[0m         \u001b[38;5;28;01mreturn\u001b[39;00m encoding\n\u001b[1;32m---> 21\u001b[0m \u001b[43mencode\u001b[49m\u001b[43m(\u001b[49m\u001b[38;5;124;43m'\u001b[39;49m\u001b[38;5;124;43mAAAADDDDFFFGGXX\u001b[39;49m\u001b[38;5;124;43m'\u001b[39;49m\u001b[43m)\u001b[49m\n",
      "Input \u001b[1;32mIn [85]\u001b[0m, in \u001b[0;36mencode\u001b[1;34m(message)\u001b[0m\n\u001b[0;32m     11\u001b[0m \u001b[38;5;28;01mif\u001b[39;00m char \u001b[38;5;241m!=\u001b[39m prev_char:\n\u001b[0;32m     12\u001b[0m     \u001b[38;5;28;01mif\u001b[39;00m prev_char:\n\u001b[1;32m---> 13\u001b[0m         encoding \u001b[38;5;241m+\u001b[39m\u001b[38;5;241m=\u001b[39m \u001b[38;5;28;43mstr\u001b[39;49m\u001b[43m(\u001b[49m\u001b[43mcount\u001b[49m\u001b[43m)\u001b[49m \u001b[38;5;241m+\u001b[39m prev_char\n\u001b[0;32m     14\u001b[0m     count \u001b[38;5;241m=\u001b[39m \u001b[38;5;241m1\u001b[39m\n\u001b[0;32m     15\u001b[0m     prev_char \u001b[38;5;241m=\u001b[39m char\n",
      "\u001b[1;31mTypeError\u001b[0m: 'tuple' object is not callable"
     ]
    }
   ],
   "source": [
    "# rle-encode.py\n",
    "\n",
    "def encode(message):\n",
    "    encoding = ''\n",
    "    prev_char = ''\n",
    "    count = 1\n",
    "\n",
    "    if not message: return ''\n",
    "\n",
    "    for char in message:\n",
    "        if char != prev_char:\n",
    "            if prev_char:\n",
    "                encoding += str(count) + prev_char\n",
    "            count = 1\n",
    "            prev_char = char\n",
    "        else:\n",
    "            count += 1\n",
    "    else:\n",
    "        encoding += str(count) + prev_char\n",
    "        return encoding\n",
    "encode('AAAADDDDFFFGGXX')"
   ]
  },
  {
   "cell_type": "markdown",
   "id": "6695fa3a",
   "metadata": {},
   "source": [
    "### English-Sweedish glossary"
   ]
  },
  {
   "cell_type": "code",
   "execution_count": 86,
   "id": "6113c2e1",
   "metadata": {},
   "outputs": [
    {
     "name": "stdout",
     "output_type": "stream",
     "text": [
      "\n"
     ]
    }
   ],
   "source": [
    "glossary = {\"merry\":\"god\",\"christmas\":\"jul\",\"and\":\"och\",\"happy\":\"gott\",\"new\":\"nytt\",\"year\":\"ar\"}\n",
    "def translate(b_dict,*list_words):\n",
    "    sweedish = \"\"\n",
    "    for words in b_dict:\n",
    "        if words == list_words:\n",
    "            sweedish = sweedish + \" \" + b_dict[words]\n",
    "    print(sweedish)\n",
    "         \n",
    "translate(glossary,\"merry\",\"christmas\")"
   ]
  },
  {
   "cell_type": "markdown",
   "id": "a591612f",
   "metadata": {},
   "source": [
    "## Modules & Packages\n",
    "* In python, the code organization and reusability is managed through modules and packages.\n",
    "* A module is python file with a /py extension.\n",
    "* A package is a folder which contains a file whose name is __init__.py\n",
    "* A package can store many python modules/files in it.\n",
    "* The import statement is used to load a library module into the program memory.\n",
    "* if the module is under the folder then we have to create empty file in that folder like \\_\\_init_\\_\\.py\n",
    "* Ways to import packages -\n",
    "1. from packagename import modulename\n",
    "2. import packagename.modulename\n",
    "* Packages naming conflict\n",
    "Consider a scenario where two modules have the same name which are present in different package and both of them have the same\n",
    "function 'add' \\\n",
    "Flights -> Manage.py -> add() \\\n",
    "Employees -> Manage.py -> add() \\\n",
    "To avoid naming conflicts during import, we can use one of the below techniques:\n",
    "1. import Flights.Manage \\\n",
    "   import Employees.manage \\\n",
    "   Flights.Manage.add() \\\n",
    "   Employees.Manage.add() \n",
    "\n",
    "2. from Flights import Manage as FManage \\\n",
    "   from Employees import Manage as Emanage \\\n",
    "   Fmanage.add() \\\n",
    "   Emanage.add() \n",
    "\n",
    "3. from Flights.Manage import add as add1 \\\n",
    "   from Employees.Manage import add as add2 \\\n",
    "   add1() \\\n",
    "   add2()  \n",
    "   \n",
    "### **Some built-in modules in python -**\n",
    "1. math for math utilities\n",
    "2. re for regular expressions\n",
    "3. json to work with json\n",
    "4. datetime to work with dates\n",
    "5. sqlite3 to work with sqlite\n",
    "6. os to work with OS utilities\n",
    "7. random for random number generations\n",
    "8. statistics for statistics utilities\n",
    "9. request to perform HTTP network requests \n",
    "10. http to create HTTP servers\n",
    "11. urllib to manage urls"
   ]
  },
  {
   "cell_type": "markdown",
   "id": "933cd9ec",
   "metadata": {},
   "source": [
    "#### 1. Random module\n",
    "* helps in generating random numbers\n",
    "* The code below generates random numbers between x and y-1 (both inclusive) using the randrange function of the random module."
   ]
  },
  {
   "cell_type": "code",
   "execution_count": 87,
   "id": "94a72b43",
   "metadata": {},
   "outputs": [
    {
     "name": "stdout",
     "output_type": "stream",
     "text": [
      "15\n"
     ]
    }
   ],
   "source": [
    "import random\n",
    "x=10\n",
    "y=20\n",
    "print(random.randrange(x,y))"
   ]
  },
  {
   "cell_type": "markdown",
   "id": "65e74a21",
   "metadata": {},
   "source": [
    "#### 2. Math module"
   ]
  },
  {
   "cell_type": "code",
   "execution_count": 88,
   "id": "7fbb854f",
   "metadata": {},
   "outputs": [
    {
     "name": "stdout",
     "output_type": "stream",
     "text": [
      "The smallest integer greater than or equal to , 234.01 : 235\n",
      "The largest integer smaller than or equal to , 234.01 : 234\n",
      "The factorial of , 6 : 720\n",
      "The absolute value of  -27.01 : 27.01\n"
     ]
    }
   ],
   "source": [
    "import math\n",
    "num1 = 234.01\n",
    "num2 = 6\n",
    "num3 = -27.01\n",
    "\n",
    "print(\"The smallest integer greater than or equal to ,\",num1,\":\",math.ceil(num1))\n",
    "print(\"The largest integer smaller than or equal to ,\",num1,\":\",math.floor(num1))\n",
    "print(\"The factorial of ,\", num2, \":\", math.factorial(num2))\n",
    "print(\"The absolute value of \", num3,\":\",math.fabs(num3))"
   ]
  },
  {
   "cell_type": "markdown",
   "id": "22bbcb7f",
   "metadata": {},
   "source": [
    "#### 3. String functions"
   ]
  },
  {
   "cell_type": "code",
   "execution_count": 89,
   "id": "1e214fb7",
   "metadata": {},
   "outputs": [],
   "source": [
    "## .format method\n",
    "\n",
    "num_of_papers = 10\n",
    "cost_printing_per_paper = 3\n",
    "Total_cost = num_of_papers*cost_printing_per_paper\n",
    "\n",
    "template = \"\"\"\"Number of papers used are {} and cost of printing per paper is {} So money required to print is {}\"\"\""
   ]
  },
  {
   "cell_type": "code",
   "execution_count": 90,
   "id": "e1a88e2f",
   "metadata": {},
   "outputs": [
    {
     "data": {
      "text/plain": [
       "'\"Number of papers used are 10 and cost of printing per paper is 3 So money required to print is 30'"
      ]
     },
     "execution_count": 90,
     "metadata": {},
     "output_type": "execute_result"
    }
   ],
   "source": [
    "template.format(num_of_papers, cost_printing_per_paper, Total_cost)"
   ]
  },
  {
   "cell_type": "markdown",
   "id": "906eee50",
   "metadata": {},
   "source": [
    "#### 4. List functions"
   ]
  },
  {
   "cell_type": "code",
   "execution_count": 18,
   "id": "107d319d",
   "metadata": {},
   "outputs": [
    {
     "name": "stdout",
     "output_type": "stream",
     "text": [
      "1. append - Add element to end of list\n",
      "[10, 20, 30, 40, 50, 60]\n",
      "2. index - Index position of the element, multiple occurrence of element returns the index of first occurrence,\n",
      " Throws ValueError if element is not present\n",
      "0\n",
      "3. insert - Insert an element at given position\n",
      "[10, 20, 25, 30, 40, 50, 60]\n",
      "4. remove - Remove the first occurring element in list\n",
      "[10, 20, 25, 40, 50, 60]\n",
      "5. pop - removes and returns the element at given index position from  the list\n",
      "40\n",
      "6. sort - Sort the list in ascending order\n",
      "[10, 20, 25, 50, 60]\n",
      "list in descending order  [60, 50, 25, 20, 10]\n",
      "sort function sorts the capital letter words first and then small letters\n",
      "You can do as below to sort the list by ignoring case\n",
      "['Afvdfdf', 'asrf', 'bfbeb', 'fvdfvf', 'GDsfrgeeeeeeeee']\n",
      "7. reverse - reverses the list\n",
      "[10, 20, 25, 50, 60]\n",
      "8. extend - to add a list to list\n",
      "[10, 20, 25, 50, 60, 5, 6]\n",
      "Or you can do like this\n",
      "[10, 20, 25, 50, 60, 5, 6, 10, 10]\n",
      "9. to insert multiple items in list\n",
      "[10, 'fvsdfvs', 'fddfvf', 20, 25, 50, 60, 5, 6, 10, 10]\n",
      "10. to make copy of list\n",
      "['Afvdfdf', 'asrf', 'bfbeb', 'fvdfvf', 'GDsfrgeeeeeeeee']\n",
      "11. sorted -- used to sort the list without changing original list\n",
      "['gfv', 'Ghs', 'TEaf', 'vfd']\n",
      "['vfd', 'gfv', 'Ghs', 'TEaf']\n"
     ]
    }
   ],
   "source": [
    "num_list = [10,20,30,40,50]\n",
    "\n",
    "print(\"1. append - Add element to end of list\")\n",
    "num_list.append(60)\n",
    "print(num_list)\n",
    "print(\"2. index - Index position of the element, multiple occurrence of element returns the index of first occurrence,\\n Throws ValueError if element is not present\")\n",
    "print(num_list.index(10))\n",
    "print(\"3. insert - Insert an element at given position\")\n",
    "num_list.insert(2,25)\n",
    "print(num_list)\n",
    "print(\"4. remove - Remove the first occurring element in list\")\n",
    "num_list.remove(30)\n",
    "print(num_list)\n",
    "print(\"5. pop - removes and returns the element at given index position from  the list\")\n",
    "print(num_list.pop(3))\n",
    "print(\"6. sort - Sort the list in ascending order\")\n",
    "num_list.sort()\n",
    "print(num_list)\n",
    "\n",
    "num_list.sort(reverse=True)\n",
    "print(\"list in descending order \", num_list)\n",
    "print(\"sort function sorts the capital letter words first and then small letters\")\n",
    "\n",
    "print(\"You can do as below to sort the list by ignoring case\")\n",
    "list1 = ['asrf','Afvdfdf','fvdfvf',\"bfbeb\",\"GDsfrgeeeeeeeee\"]\n",
    "list1.sort(key=str.lower)\n",
    "print(list1)\n",
    "\n",
    "print(\"7. reverse - reverses the list\")\n",
    "num_list.reverse()\n",
    "print(num_list)\n",
    "print(\"8. extend - to add a list to list\")\n",
    "num_list.extend([5,6])\n",
    "print(num_list)\n",
    "\n",
    "print(\"Or you can do like this\")\n",
    "num_list += [10,10]\n",
    "print(num_list)\n",
    "\n",
    "print(\"9. to insert multiple items in list\")\n",
    "num_list[1:1] = ['fvsdfvs','fddfvf']\n",
    "print(num_list)\n",
    "\n",
    "print(\"10. to make copy of list\")\n",
    "copy_list = list1[:]\n",
    "print(copy_list)\n",
    "\n",
    "print(\"11. sorted -- used to sort the list without changing original list\")\n",
    "list2 = ['vfd','gfv','Ghs','TEaf']\n",
    "print(sorted(list2,key=str.lower))\n",
    "print(list2)"
   ]
  },
  {
   "cell_type": "markdown",
   "id": "6849ecef",
   "metadata": {},
   "source": [
    "#### 5. Dictionary functions"
   ]
  },
  {
   "cell_type": "code",
   "execution_count": 92,
   "id": "0b731260",
   "metadata": {},
   "outputs": [
    {
     "name": "stdout",
     "output_type": "stream",
     "text": [
      "1. get() - Return the value of given key. if it is not found then returns none\n",
      "Raghav\n",
      "2. update - updates the dictionary with the given key-value pairs,\n",
      " if key-value pairs is already existing it will be overwritten o.w. it will be addes to dictionary\n",
      "{'Pilot': 'Kumar', 'Co-pilot': 'Henry', 'Head-Strewardess': 'Malini', 'Stewardess': 'Mala', 'Flight Attendant': 'Jane'}\n",
      "3. pop() - to show the value of key given and return the output by deleting it\n",
      "Kumar\n",
      "{'Co-pilot': 'Henry', 'Head-Strewardess': 'Malini', 'Stewardess': 'Mala', 'Flight Attendant': 'Jane'}\n",
      "4. popitem() - show the key-value pair deleted\n",
      "('Flight Attendant', 'Jane')\n",
      "If we don't specify key in pop or popitem then it will delete and return last item\n",
      "5. Keys and values in dict\n"
     ]
    },
    {
     "ename": "TypeError",
     "evalue": "'list' object is not callable",
     "output_type": "error",
     "traceback": [
      "\u001b[1;31m---------------------------------------------------------------------------\u001b[0m",
      "\u001b[1;31mTypeError\u001b[0m                                 Traceback (most recent call last)",
      "Input \u001b[1;32mIn [92]\u001b[0m, in \u001b[0;36m<cell line: 20>\u001b[1;34m()\u001b[0m\n\u001b[0;32m     17\u001b[0m \u001b[38;5;28mprint\u001b[39m(\u001b[38;5;124m\"\u001b[39m\u001b[38;5;124mIf we don\u001b[39m\u001b[38;5;124m'\u001b[39m\u001b[38;5;124mt specify key in pop or popitem then it will delete and return last item\u001b[39m\u001b[38;5;124m\"\u001b[39m)\n\u001b[0;32m     19\u001b[0m \u001b[38;5;28mprint\u001b[39m(\u001b[38;5;124m\"\u001b[39m\u001b[38;5;124m5. Keys and values in dict\u001b[39m\u001b[38;5;124m\"\u001b[39m)\n\u001b[1;32m---> 20\u001b[0m \u001b[38;5;28mprint\u001b[39m(\u001b[38;5;28;43mlist\u001b[39;49m\u001b[43m(\u001b[49m\u001b[43mcrew_details\u001b[49m\u001b[38;5;241;43m.\u001b[39;49m\u001b[43mitems\u001b[49m\u001b[43m(\u001b[49m\u001b[43m)\u001b[49m\u001b[43m)\u001b[49m)\n\u001b[0;32m     21\u001b[0m \u001b[38;5;28mprint\u001b[39m(\u001b[38;5;28mlist\u001b[39m(crew_details\u001b[38;5;241m.\u001b[39mkeys()))\n\u001b[0;32m     22\u001b[0m \u001b[38;5;28mprint\u001b[39m(\u001b[38;5;28mlist\u001b[39m(crew_details\u001b[38;5;241m.\u001b[39mvalues()))\n",
      "\u001b[1;31mTypeError\u001b[0m: 'list' object is not callable"
     ]
    }
   ],
   "source": [
    "crew_details = {\"Pilot\":\"Kumar\",\"Co-pilot\":\"Raghav\",\"Head-Strewardess\":\"Malini\",\"Stewardess\":\"Mala\"}\n",
    "\n",
    "print(\"1. get() - Return the value of given key. if it is not found then returns none\")\n",
    "print(crew_details.get(\"Co-pilot\"))\n",
    "\n",
    "print(\"2. update - updates the dictionary with the given key-value pairs,\\n if key-value pairs is already existing it will be overwritten o.w. it will be addes to dictionary\" )\n",
    "crew_details.update({\"Flight Attendant\":\"Jane\",\"Co-pilot\":\"Henry\"})\n",
    "print(crew_details)\n",
    "\n",
    "print(\"3. pop() - to show the value of key given and return the output by deleting it\")\n",
    "print(crew_details.pop(\"Pilot\"))\n",
    "print(crew_details)\n",
    "\n",
    "print(\"4. popitem() - show the key-value pair deleted\")\n",
    "print(crew_details.popitem())\n",
    "\n",
    "print(\"If we don't specify key in pop or popitem then it will delete and return last item\")\n",
    "\n",
    "print(\"5. Keys and values in dict\")\n",
    "print(list(crew_details.items()))\n",
    "print(list(crew_details.keys()))\n",
    "print(list(crew_details.values()))\n",
    "\n",
    "print(\"6. del - to delete items\")\n",
    "del crew_details['Stewardess']\n",
    "print(crew_details)\n",
    "\n",
    "print(\"7. copy() - copy the dict\")\n",
    "crew_details_copy = crew_details.copy()\n",
    "print(crew_details_copy)"
   ]
  },
  {
   "cell_type": "markdown",
   "id": "11240a37",
   "metadata": {},
   "source": [
    "#### 6. Regular expressions\n",
    "* Used to check and extract relevant portions of a string based on a pattern and modify if required\n",
    "* Python has a module named as re for regular expressions\n",
    "* Two commonly used methods in re module are:\n",
    "1. search - used to find a pattern\n",
    "2. sub - used to perform a substitution"
   ]
  },
  {
   "cell_type": "code",
   "execution_count": 93,
   "id": "002bdb5e",
   "metadata": {},
   "outputs": [
    {
     "name": "stdout",
     "output_type": "stream",
     "text": [
      "pattern found\n"
     ]
    }
   ],
   "source": [
    "import re\n",
    "if(re.search(r\"Air\",\"Airline\")!=None):\n",
    "    print(\"pattern found\")\n",
    "else:\n",
    "    print(\"pattern not found\")"
   ]
  },
  {
   "cell_type": "code",
   "execution_count": 94,
   "id": "ce512bd4",
   "metadata": {},
   "outputs": [
    {
     "name": "stdout",
     "output_type": "stream",
     "text": [
      "Flight Savana Airlines a2134\n",
      "Plane Savana Airlines a2134\n"
     ]
    }
   ],
   "source": [
    "flight_details = \"Flight Savana Airlines a2134\"\n",
    "print(flight_details)\n",
    "print(re.sub(r\"Flight\",r\"Plane\",flight_details))"
   ]
  },
  {
   "cell_type": "markdown",
   "id": "5d5b1bc7",
   "metadata": {},
   "source": [
    "##### Regular expressions - Metacharacters and uses"
   ]
  },
  {
   "cell_type": "markdown",
   "id": "1458078f",
   "metadata": {},
   "source": [
    "**1** \\\n",
    "Metacharacter - . \\\n",
    "Usage - Used to match one occurrence of any character \\\n",
    "Requirement - To search the pattern having two characters in between A and l in the given string \"Aopline\" \\\n",
    "Remarks - \".\" stands for any character if any two characters are there between A and l, then the pattern has matched"
   ]
  },
  {
   "cell_type": "code",
   "execution_count": 95,
   "id": "5d9dd7d1",
   "metadata": {},
   "outputs": [
    {
     "name": "stdout",
     "output_type": "stream",
     "text": [
      "Pattern found\n"
     ]
    }
   ],
   "source": [
    "#Solution\n",
    "if(re.search(r\"A..l\",\"Aopline\")!=None):\n",
    "    print(\"Pattern found\")\n",
    "else:\n",
    "    print(\"Pattern not found\")"
   ]
  },
  {
   "cell_type": "markdown",
   "id": "fe3140f0",
   "metadata": {},
   "source": [
    "**2** \\\n",
    "Metacharacter - \\d \\\n",
    "Usage - Used to match one occurrence of any digit from 0-9 \\\n",
    "Requirement - To search a digit between two characters A and l in the given string \"A2line\" \\\n",
    "Remarks - \"\\d\" checks for digit. if any digit found between A and l, then the pattern has matched"
   ]
  },
  {
   "cell_type": "code",
   "execution_count": 96,
   "id": "256cf968",
   "metadata": {},
   "outputs": [
    {
     "name": "stdout",
     "output_type": "stream",
     "text": [
      "Pattern found\n"
     ]
    }
   ],
   "source": [
    "#Solution\n",
    "if(re.search(r\"A\\dl\",\"A2line\")!=None):\n",
    "    print(\"Pattern found\")\n",
    "else:\n",
    "    print(\"Pattern not found\")"
   ]
  },
  {
   "cell_type": "markdown",
   "id": "8a91c212",
   "metadata": {},
   "source": [
    "**3** \\\n",
    "Metacharacter - * \\\n",
    "Usage - Used to match zero or more occurrence of previous character \\\n",
    "Requirement - To check if a number is found 0 or n times after A in the given string \\\n",
    "Remarks - \"*\" checks if a number found 0 or n times after A"
   ]
  },
  {
   "cell_type": "code",
   "execution_count": 97,
   "id": "909739f9",
   "metadata": {},
   "outputs": [
    {
     "name": "stdout",
     "output_type": "stream",
     "text": [
      "Pattern found\n"
     ]
    }
   ],
   "source": [
    "#Solution\n",
    "if(re.search(r\"A\\d*\",\"A2234line\")!=None):\n",
    "    print(\"Pattern found\")\n",
    "else:\n",
    "    print(\"Pattern not found\")"
   ]
  },
  {
   "cell_type": "markdown",
   "id": "5f59c8a7",
   "metadata": {},
   "source": [
    "**4** \\\n",
    "Metacharacter - + \\\n",
    "Usage - Used to match one or more occurrence of previous character \\\n",
    "Requirement - To check if a number is found 1 or n times after A in the given string \\\n",
    "Remarks - \"+\" checks if a number found 1 or n times after A"
   ]
  },
  {
   "cell_type": "code",
   "execution_count": 98,
   "id": "081c4af1",
   "metadata": {},
   "outputs": [
    {
     "name": "stdout",
     "output_type": "stream",
     "text": [
      "Pattern found\n"
     ]
    }
   ],
   "source": [
    "#Solution\n",
    "if(re.search(r\"A\\d+\",\"A2234line\")!=None):\n",
    "    print(\"Pattern found\")\n",
    "else:\n",
    "    print(\"Pattern not found\")"
   ]
  },
  {
   "cell_type": "markdown",
   "id": "c0b8b2fc",
   "metadata": {},
   "source": [
    "**5** \\\n",
    "Metacharacter - ? \\\n",
    "Usage - Used to match zero or one occurrence of previous character \\\n",
    "Requirement - To check if a number is found 0 or 1 time after A in the given string \\\n",
    "Remarks - \"?\" checks if a number found 0 or 1 times after A"
   ]
  },
  {
   "cell_type": "code",
   "execution_count": 99,
   "id": "4f2706fe",
   "metadata": {},
   "outputs": [
    {
     "name": "stdout",
     "output_type": "stream",
     "text": [
      "Pattern found\n"
     ]
    }
   ],
   "source": [
    "#Solution\n",
    "if(re.search(r\"A\\d?\",\"A2234line\")!=None):\n",
    "    print(\"Pattern found\")\n",
    "else:\n",
    "    print(\"Pattern not found\")"
   ]
  },
  {
   "cell_type": "markdown",
   "id": "bab9c8c6",
   "metadata": {},
   "source": [
    "**6** \\\n",
    "Metacharacter - {n} \\\n",
    "Usage - Used to match exactly n occurrence of previous character \\\n",
    "Requirement - To check if a 3 digits present after A in the given string \\\n",
    "Remarks - \"{n}\" checks if preceding character appears exactly n times"
   ]
  },
  {
   "cell_type": "code",
   "execution_count": 100,
   "id": "907e9a6c",
   "metadata": {},
   "outputs": [
    {
     "name": "stdout",
     "output_type": "stream",
     "text": [
      "Pattern found\n"
     ]
    }
   ],
   "source": [
    "#Solution\n",
    "if(re.search(r\"A\\d{3}i\",\"A224irline\")!=None):\n",
    "    print(\"Pattern found\")\n",
    "else:\n",
    "    print(\"Pattern not found\")"
   ]
  },
  {
   "cell_type": "markdown",
   "id": "f46bed6b",
   "metadata": {},
   "source": [
    "**7** \\\n",
    "Metacharacter - [] \\\n",
    "Usage - Used to match one occurrence of any character present within square bracket\\\n",
    "Requirement - To search for a number between 3 and 6 between A and i in given string \\\n",
    "Remarks - \"[]\" does a single character substitution we can specify a sequence of values if any value found pattern is matched"
   ]
  },
  {
   "cell_type": "code",
   "execution_count": 101,
   "id": "e8a877b8",
   "metadata": {},
   "outputs": [
    {
     "name": "stdout",
     "output_type": "stream",
     "text": [
      "Pattern found\n"
     ]
    }
   ],
   "source": [
    "#Solution\n",
    "if(re.search(r\"A[3-6]i\",\"A4irline\")!=None):\n",
    "    print(\"Pattern found\")\n",
    "else:\n",
    "    print(\"Pattern not found\")"
   ]
  },
  {
   "cell_type": "markdown",
   "id": "c7315db1",
   "metadata": {},
   "source": [
    "**8** \\\n",
    "Metacharacter - ^ \\\n",
    "Usage - Used to match a pattern at the beginning of string \\\n",
    "Requirement - To check if the given string is starting with A \\\n",
    "Remarks - \"^\" checks if a pattern is at the beginning of the string"
   ]
  },
  {
   "cell_type": "code",
   "execution_count": 102,
   "id": "5668a718",
   "metadata": {},
   "outputs": [
    {
     "name": "stdout",
     "output_type": "stream",
     "text": [
      "Pattern found\n"
     ]
    }
   ],
   "source": [
    "#Solution\n",
    "if(re.search(r\"^A\",\"A4irline\")!=None):\n",
    "    print(\"Pattern found\")\n",
    "else:\n",
    "    print(\"Pattern not found\")"
   ]
  },
  {
   "cell_type": "markdown",
   "id": "b4b89984",
   "metadata": {},
   "source": [
    "**9** \\\n",
    "Metacharacter - $ \\\n",
    "Usage - Used to match a pattern at the end of string \\\n",
    "Requirement - To check if the given string is end with e \\\n",
    "Remarks - \"^\" checks if a pattern is at the ending of the string"
   ]
  },
  {
   "cell_type": "code",
   "execution_count": 103,
   "id": "59600c3c",
   "metadata": {},
   "outputs": [
    {
     "name": "stdout",
     "output_type": "stream",
     "text": [
      "Pattern found\n"
     ]
    }
   ],
   "source": [
    "#Solution\n",
    "if(re.search(r\"e$\",\"A4irline\")!=None):\n",
    "    print(\"Pattern found\")\n",
    "else:\n",
    "    print(\"Pattern not found\")"
   ]
  },
  {
   "cell_type": "markdown",
   "id": "ce47934b",
   "metadata": {},
   "source": [
    "**10** \\\n",
    "Metacharacter - \\w \\\n",
    "Usage - Used to match a word character which includes alphabets (a-zA-Z), digits(0-9) and '_' \\\n",
    "Requirement - To check whether the last character is alphanumeric or not \\\n",
    "Remarks - \"\\w\" checks for a-z,A-Z,0-9,'_'"
   ]
  },
  {
   "cell_type": "code",
   "execution_count": 104,
   "id": "646fdb0c",
   "metadata": {},
   "outputs": [
    {
     "name": "stdout",
     "output_type": "stream",
     "text": [
      "Pattern found\n"
     ]
    }
   ],
   "source": [
    "#Solution\n",
    "if(re.search(r\"\\w$\",\"A4irline\")!=None):\n",
    "    print(\"Pattern found\")\n",
    "else:\n",
    "    print(\"Pattern not found\")"
   ]
  },
  {
   "cell_type": "markdown",
   "id": "ad7660b8",
   "metadata": {},
   "source": [
    "**11** \\\n",
    "Metacharacter - \\s \\\n",
    "Usage - Used to match a single space or sequence of spaces including \\t and \\n \\\n",
    "Requirement - To check for the space after \"Air\" in given string \\\n",
    "Remarks - \"\\s\" indicates a space"
   ]
  },
  {
   "cell_type": "code",
   "execution_count": 105,
   "id": "0e1ddd65",
   "metadata": {},
   "outputs": [
    {
     "name": "stdout",
     "output_type": "stream",
     "text": [
      "Pattern not found\n"
     ]
    }
   ],
   "source": [
    "#Solution\n",
    "if(re.search(r\"Air\\s\",\"Airline\")!=None):\n",
    "    print(\"Pattern found\")\n",
    "else:\n",
    "    print(\"Pattern not found\")"
   ]
  },
  {
   "cell_type": "markdown",
   "id": "6bf930d8",
   "metadata": {},
   "source": [
    "**12** \\\n",
    "Metacharacter - | \\\n",
    "Usage - Used to match any pattern which is on either side of it \\\n",
    "Requirement - To search for the pattern \"Hell\" or \"Fell\" in the given string \\\n",
    "Remarks - \"|\" acts like 'or' operator"
   ]
  },
  {
   "cell_type": "code",
   "execution_count": 106,
   "id": "13597c29",
   "metadata": {},
   "outputs": [
    {
     "name": "stdout",
     "output_type": "stream",
     "text": [
      "Pattern found\n"
     ]
    }
   ],
   "source": [
    "#Solution\n",
    "if(re.search(r\"Hell|Fell\",\"Fellow\")!=None):\n",
    "    print(\"Pattern found\")\n",
    "else:\n",
    "    print(\"Pattern not found\")"
   ]
  },
  {
   "cell_type": "markdown",
   "id": "1c7f6dcb",
   "metadata": {},
   "source": [
    "### Lambda functions\n",
    "* A lambda function is a small anonymous function.\n",
    "* A lambda function can take any number of arguments, but can only have one expression.\n",
    "\n",
    "**Syntax:**\n",
    "\n",
    "lambda arguments: function"
   ]
  },
  {
   "cell_type": "code",
   "execution_count": 107,
   "id": "a882aeac",
   "metadata": {},
   "outputs": [
    {
     "name": "stdout",
     "output_type": "stream",
     "text": [
      "25\n"
     ]
    }
   ],
   "source": [
    "x = lambda x : x**2\n",
    "\n",
    "print(x(5))"
   ]
  },
  {
   "cell_type": "markdown",
   "id": "5df33fd5",
   "metadata": {},
   "source": [
    "### map() function\n",
    "\n",
    "* used to map a list to a function and get output as a list"
   ]
  },
  {
   "cell_type": "code",
   "execution_count": 108,
   "id": "e96422c6",
   "metadata": {},
   "outputs": [
    {
     "ename": "TypeError",
     "evalue": "'list' object is not callable",
     "output_type": "error",
     "traceback": [
      "\u001b[1;31m---------------------------------------------------------------------------\u001b[0m",
      "\u001b[1;31mTypeError\u001b[0m                                 Traceback (most recent call last)",
      "Input \u001b[1;32mIn [108]\u001b[0m, in \u001b[0;36m<cell line: 8>\u001b[1;34m()\u001b[0m\n\u001b[0;32m      4\u001b[0m     \u001b[38;5;28;01mreturn\u001b[39;00m number \u001b[38;5;241m*\u001b[39m\u001b[38;5;241m*\u001b[39m \u001b[38;5;241m2\u001b[39m\n\u001b[0;32m      6\u001b[0m result \u001b[38;5;241m=\u001b[39m \u001b[38;5;28mmap\u001b[39m(square, l1)\n\u001b[1;32m----> 8\u001b[0m \u001b[38;5;28mprint\u001b[39m(\u001b[38;5;28;43mlist\u001b[39;49m\u001b[43m(\u001b[49m\u001b[43mresult\u001b[49m\u001b[43m)\u001b[49m)\n",
      "\u001b[1;31mTypeError\u001b[0m: 'list' object is not callable"
     ]
    }
   ],
   "source": [
    "l1 = [2,4,8]\n",
    "\n",
    "def square(number):\n",
    "    return number ** 2\n",
    "\n",
    "result = map(square, l1)\n",
    "\n",
    "print(list(result))"
   ]
  },
  {
   "cell_type": "markdown",
   "id": "047abc39",
   "metadata": {},
   "source": [
    "### filter() function\n",
    "\n",
    "* used to filter the elements in list using function"
   ]
  },
  {
   "cell_type": "code",
   "execution_count": 3,
   "id": "80999851",
   "metadata": {},
   "outputs": [
    {
     "data": {
      "text/plain": [
       "[2, 10]"
      ]
     },
     "execution_count": 3,
     "metadata": {},
     "output_type": "execute_result"
    }
   ],
   "source": [
    "l2 = [2,5,10]\n",
    "\n",
    "def iseven(num):\n",
    "    return num % 2 == 0\n",
    "\n",
    "list(filter(iseven, l2))\n"
   ]
  },
  {
   "cell_type": "markdown",
   "id": "b3d051f2",
   "metadata": {},
   "source": [
    "### reduce() fn\n",
    "\n",
    "* used to reduce the code"
   ]
  },
  {
   "cell_type": "code",
   "execution_count": 110,
   "id": "1bcab295",
   "metadata": {},
   "outputs": [
    {
     "name": "stdout",
     "output_type": "stream",
     "text": [
      "200\n"
     ]
    }
   ],
   "source": [
    "from functools import reduce\n",
    "\n",
    "d1 = [(\"food\",120),\n",
    "     (\"vfs\",80)]\n",
    "\n",
    "result = reduce(lambda a,b : a[1]+b[1],d1)\n",
    "\n",
    "print(result)"
   ]
  },
  {
   "cell_type": "markdown",
   "id": "6bba659c",
   "metadata": {},
   "source": [
    "### Recursion"
   ]
  },
  {
   "cell_type": "code",
   "execution_count": 111,
   "id": "2ac2eac9",
   "metadata": {},
   "outputs": [
    {
     "name": "stdout",
     "output_type": "stream",
     "text": [
      "362880\n"
     ]
    }
   ],
   "source": [
    "def factorial(num):\n",
    "    if num == 1 : return 1\n",
    "    return num * factorial(num-1)\n",
    "\n",
    "print(factorial(9))"
   ]
  },
  {
   "cell_type": "markdown",
   "id": "5c356f4a",
   "metadata": {},
   "source": [
    "### Decorators\n",
    "\n",
    "* Decorators allow us to wrap another function in order to extend the behaviour of the wrapped function, without permanently modifying it.\n",
    "\n",
    "\n",
    "### Docstrings\n",
    "\n",
    "* used for commenting\n",
    "\n",
    "ex: \n",
    "1. \"\"\" comment \"\"\" -- single line comment\n",
    "2. \"\"\" \\\n",
    "            comment \n",
    "            comment \n",
    "   \"\"\"\" -- multiline comment"
   ]
  },
  {
   "cell_type": "markdown",
   "id": "13f3046c",
   "metadata": {},
   "source": [
    "### Annotations \n",
    "\n",
    "1. Annotations for simple parameters : The argument name is followed by ‘:’ which is then followed by the expression. Annotation syntax is shown below.\n",
    "**def foobar(a: expression, b: expression = 5):**\n",
    "\n",
    "2. Annotations for excess parameters : Excess parameters for e.g. *args and *\\*kwargs, allow arbitrary number of arguments to be passed in a function call. Annotation syntax of such parameters is shown below.\n",
    "**def foobar(*args: expression, *kwargs: expression):**\n",
    "\n",
    "3. Annotations for nested parameters : Nested parameters are useful feature of python 2x where a tuple is passed in a function call and automatic unpacking takes place. This feature is removed in python 3x and manual unpacking should be done. Annotation is done after the variable and not after the tuple as shown below.\n",
    "**def foobar((a: expression, b: expression), (c: expression, d: expression)):**\n",
    "\n",
    "4. Annotations for return type : Annotating return type is slightly different from annotating function arguments. The ‘->’ is followed by expression which is further followed by ‘:’. Annotation syntax of return type is shown below.\n",
    "**def foobar(a: expression)->expression:**"
   ]
  },
  {
   "cell_type": "markdown",
   "id": "eb548ec5",
   "metadata": {},
   "source": [
    "### List compression"
   ]
  },
  {
   "cell_type": "code",
   "execution_count": 112,
   "id": "f60865e9",
   "metadata": {},
   "outputs": [
    {
     "name": "stdout",
     "output_type": "stream",
     "text": [
      "[1, 4, 9, 16]\n"
     ]
    }
   ],
   "source": [
    "num = [1,2,3,4]\n",
    "\n",
    "res = [n**2 for n in num]\n",
    "\n",
    "print(res)"
   ]
  },
  {
   "cell_type": "markdown",
   "id": "75b7172a",
   "metadata": {},
   "source": [
    "### File Handling in Python\n",
    "* File can be accessed from a python for reading the data from a file and writting the data into a file.\n",
    "\n",
    "#### Opening a file in python\n",
    "* open() function returns a file object using which other file operations like reading, writting and closing the file are done.\n",
    "* Syntax: file_object = open(file_name_path, [, access_mode])\n",
    "  Where, file_name_path - Path of the file to be opened\n",
    "  access+mode - Mode in which the file has to be opened which is optional, if not specified default value will be read.\n",
    "  file_object - Object returned by open method which is used for further file operations\n",
    " \n",
    "* **Access_mode:**\n",
    "1. r - Specified file is opened in read mode, if the file exists. O.w. if the file does not exist it will throw an error.\n",
    "2. w - Specified file is opened in write mode, if the file exists.then the content in the file is truncated o.w. if the file does not exist it will create a new file and open it for writting.\n",
    "3. a - Specified file is opened in write mode, if the file exists.then the content in the file is preserved. o.w. if the file does not exist it will create a new file and open it for appending.\n",
    "\n",
    "* Ex: file = open(\"data.txt\",\"r\")\n",
    "\n",
    "#### Closing a file\n",
    "* close() function closes a file\n",
    "* Syntax: file_object.close()\n",
    "* Ex: file.close()\n",
    "\n",
    "#### Reading a single line:\n",
    "* Python provides readline() function to read the single line from the file at a time. \n",
    "* When the end of file reached it returns an empty string.\n",
    "* Syntax: var_name = file_object.readline()\n",
    "* Example:"
   ]
  },
  {
   "cell_type": "code",
   "execution_count": 113,
   "id": "8f983053",
   "metadata": {},
   "outputs": [
    {
     "name": "stdout",
     "output_type": "stream",
     "text": [
      "this is first line \n",
      " you are reading a second line \n",
      " now you are reading the third line "
     ]
    }
   ],
   "source": [
    "file = open(\"data.txt\",\"w\") #file created\n",
    "file.write(\"this is first line \\nyou are reading a second line \\nnow you are reading the third line\") #data inserted\n",
    "file = open(\"data.txt\",\"r\") #file in read mode only\n",
    "line1 = file.readline() #data readed line by line\n",
    "print(line1,end=' ')\n",
    "line2 = file.readline()\n",
    "print(line2,end=' ')\n",
    "line3 = file.readline()\n",
    "print(line3,end=' ')\n",
    "file.close() # file closed"
   ]
  },
  {
   "cell_type": "markdown",
   "id": "cd813570",
   "metadata": {},
   "source": [
    "#### reading the content of a file into a string:\n",
    "* Python provides read(size) function to read the specified size(number) of characters from the file as a string into a variable.\n",
    "* if not specified then entire content of file is read as string into a variable.\n",
    "* Syntax: var_name = file_object.read(size)\n"
   ]
  },
  {
   "cell_type": "code",
   "execution_count": 114,
   "id": "db8c41cc",
   "metadata": {},
   "outputs": [
    {
     "name": "stdout",
     "output_type": "stream",
     "text": [
      "----------------Output with specified size----------------\n",
      "this is fi\n",
      "----------------Output without specifying size---------------------\n",
      "this is first line \n",
      "you are reading a second line \n",
      "now you are reading the third line\n"
     ]
    }
   ],
   "source": [
    "print(\"----------------Output with specified size----------------\")\n",
    "file = open(\"data.txt\",\"r\")\n",
    "data = file.read(10)\n",
    "print(data)\n",
    "file.close()\n",
    "\n",
    "print(\"----------------Output without specifying size---------------------\")\n",
    "file = open(\"data.txt\",\"r\")\n",
    "data = file.read()\n",
    "print(data)\n",
    "file.close()"
   ]
  },
  {
   "cell_type": "markdown",
   "id": "d7f521c7",
   "metadata": {},
   "source": [
    "#### Iterating through file object read the content line by line:"
   ]
  },
  {
   "cell_type": "code",
   "execution_count": 115,
   "id": "8600b7c8",
   "metadata": {},
   "outputs": [
    {
     "name": "stdout",
     "output_type": "stream",
     "text": [
      "this is first line \n",
      " you are reading a second line \n",
      " now you are reading the third line "
     ]
    }
   ],
   "source": [
    "file = open(\"data.txt\",\"r\")\n",
    "for line in file:\n",
    "    print(line,end = ' ')\n",
    "file.close()"
   ]
  },
  {
   "cell_type": "markdown",
   "id": "4f937479",
   "metadata": {},
   "source": [
    "#### Writting into file\n",
    "* Python provides write(data) function to write the given data which is a string into the file and it returns the number of characters written into file.\n",
    "* Syntax: var=file_object.write(data)\n",
    "  Where, data is the content which is a string to be written into file\n",
    "  var is variate assigned with number characters written into the file\n",
    "* example:"
   ]
  },
  {
   "cell_type": "code",
   "execution_count": 116,
   "id": "199c46d9",
   "metadata": {},
   "outputs": [
    {
     "name": "stdout",
     "output_type": "stream",
     "text": [
      "before writting:\n",
      "this is first line \n",
      "you are reading a second line \n",
      "now you are reading the third line\n",
      "num: 28\n",
      "num1: 29\n",
      "after writting:\n",
      "this new first line written\n",
      "this new second line written\n",
      "\n"
     ]
    }
   ],
   "source": [
    "file1 = open(\"data.txt\",\"r\")\n",
    "data = file1.read()\n",
    "print(\"before writting:\")\n",
    "print(data)\n",
    "file1.close()\n",
    "\n",
    "file1 = open(\"data.txt\",\"w\")\n",
    "num = file1.write(\"this new first line written\\n\")\n",
    "num1 = file1.write(\"this new second line written\\n\")\n",
    "print(\"num:\",num)\n",
    "print(\"num1:\",num1)\n",
    "file1.close()\n",
    "\n",
    "file1 = open(\"data.txt\",\"r\")\n",
    "data = file1.read()\n",
    "print(\"after writting:\")\n",
    "print(data)\n",
    "file1.close()"
   ]
  },
  {
   "cell_type": "markdown",
   "id": "ab4a7d46",
   "metadata": {},
   "source": [
    "#### Getting the current position of the file object pointer\n",
    "* Python provides tell() method to get current position which is pointed by the object within the file.\n",
    "* Syntax: file_object.tell()\n",
    "* Example:"
   ]
  },
  {
   "cell_type": "code",
   "execution_count": 117,
   "id": "26a2de5f",
   "metadata": {},
   "outputs": [
    {
     "name": "stdout",
     "output_type": "stream",
     "text": [
      "0\n",
      "this new first line written\n",
      "\n",
      "29\n",
      "this new second line written\n",
      "\n"
     ]
    }
   ],
   "source": [
    "fhr = open(\"data.txt\",\"r\")\n",
    "cur_pos = fhr.tell()\n",
    "print(cur_pos)\n",
    "data = fhr.readline()\n",
    "print(data)\n",
    "\n",
    "cur_pos = fhr.tell()\n",
    "print(cur_pos)\n",
    "data = fhr.readline()\n",
    "print(data)\n",
    "\n",
    "fhr.close()"
   ]
  },
  {
   "cell_type": "markdown",
   "id": "35ee6b6c",
   "metadata": {},
   "source": [
    "#### Navigating the file object pointer\n",
    "* Python provides seek() function to navigate the file object pointer to the required position specified\n",
    "* Syntax: file_object.seek(offset,[whence])\n",
    "  where,\n",
    "  file_object indicates the file object pointer to be navigated.\n",
    "  offset indicates which position the file object pointer is to be navigated\n",
    "  if offset is,\n",
    "  * positive navigation is done in forward direction\n",
    "  * negative navigation is done in backward direction\n",
    "  whence represent reference point for navigating the file object pointer. whence is optional, if not specified value is 0\n",
    "  * If whence value is =\n",
    "  1. 0, navigation will take the reference of beginning of file (absolute positioning)\n",
    "  2. 1, navigation will take the reference of current position (relative positioning) of the file object pointer\n",
    "  3. 2, navigation will take the reference of end of file (relative positioning)\n",
    "* If you are working with is a text file, then the access of the file should be 'rb+' (which open files for reading and writting in binary format) o.w. relative positioning will misbehave.  "
   ]
  },
  {
   "cell_type": "code",
   "execution_count": 118,
   "id": "796c39ad",
   "metadata": {},
   "outputs": [
    {
     "name": "stdout",
     "output_type": "stream",
     "text": [
      "0\n",
      "12\n",
      "15\n",
      "56\n"
     ]
    }
   ],
   "source": [
    "fhr = open(\"data.txt\",\"rb+\")\n",
    "print(fhr.tell())\n",
    "fhr.seek(12) #navigates to 12th position from beginning of the file\n",
    "print(fhr.tell())\n",
    "fhr.seek(3,1) #navigates to 3rd position from current position of the file object position\n",
    "print(fhr.tell())\n",
    "fhr.seek(-3,2) #navigates to 3rd position from end of the file in backward direction\n",
    "print(fhr.tell())\n",
    "fhr.close()"
   ]
  },
  {
   "cell_type": "markdown",
   "id": "841b4194",
   "metadata": {},
   "source": [
    "#### File object attributes\n",
    "* file_object closed: closed attribute returns true if the file is closed else it will return false\n",
    "* file_object mode: mode attribute returns mode in which the file has been opened\n",
    "* file_object name: name attribute returns the name of the file opened"
   ]
  },
  {
   "cell_type": "code",
   "execution_count": 119,
   "id": "13682080",
   "metadata": {},
   "outputs": [
    {
     "name": "stdout",
     "output_type": "stream",
     "text": [
      "file name: data.txt\n",
      "access mode: rb+\n",
      "closed:  False\n",
      "after closing the file closed: True\n"
     ]
    }
   ],
   "source": [
    "fhr = open(\"data.txt\",\"rb+\")\n",
    "print(\"file name:\",fhr.name)\n",
    "print(\"access mode:\", fhr.mode)\n",
    "print(\"closed: \",fhr.closed)\n",
    "fhr.close()\n",
    "print(\"after closing the file closed:\",fhr.closed)"
   ]
  },
  {
   "cell_type": "markdown",
   "id": "ac7b1c04",
   "metadata": {},
   "source": [
    "### Exception handling\n",
    "* Sometimes the program may misbehave or terminate/crash due to some unexpected events during the execution of program. These unexpected events is called as **exceptions** and the process of handling them to avoid misbehavior or crashing the program is called as **exception handling**.\n",
    "* In python we can create try and except block of code to handle exceptions\n",
    "* If any exception occurs in the try block it will jump to except block of code.\n",
    "* Once the except block is executed, the code continues to execute other statements outside except block."
   ]
  },
  {
   "cell_type": "code",
   "execution_count": 120,
   "id": "cbdd5aa9",
   "metadata": {},
   "outputs": [
    {
     "name": "stdout",
     "output_type": "stream",
     "text": [
      "some error occurred\n",
      "Returning back from function\n"
     ]
    }
   ],
   "source": [
    "def calculate_expd(list_of_expd):\n",
    "    total=0\n",
    "    try:\n",
    "        for expenditure in list_of_expd:\n",
    "            total+=expenditure\n",
    "        print(total)\n",
    "    except:\n",
    "        print(\"some error occurred\")\n",
    "    print(\"Returning back from function\")\n",
    "    \n",
    "list_of_values = [100,200,300,\"400\",500]\n",
    "calculate_expd(list_of_values)"
   ]
  },
  {
   "cell_type": "markdown",
   "id": "89702640",
   "metadata": {},
   "source": [
    "#### Built-in exception in python\n",
    "1. ZeroDivisionError - When a value is divided by 0 \\\n",
    "Ex: num_list=[]\\\n",
    "    total = 0\\\n",
    "    avg = total/len(num_list)\n",
    "\n",
    "2. TypeError - When we try to do an operation with incompatible data types\\\n",
    "Ex: total=10\\\n",
    "    total+=\"20\"\n",
    "    \n",
    "3. NameError - When we try to access a variable which is not defined\\\n",
    "Ex: avg=total/10 where total is not defined\n",
    "\n",
    "4. IndexError - When we try to access an index value which is out of range\\\n",
    "Ex: num_list = [1,2,3,4]\\\n",
    "    value = num_list[4]\n",
    "   \n",
    "5. ValueError - When we use a valid data type for an argument of a built-in function but passes an invalid value for it\\\n",
    "Ex. #string is a valid data type for int() but the value \"A\" is invalid as \"A\" can't be converted into int. \\\n",
    "    value = \"A\"\\\n",
    "    num = int(value)"
   ]
  },
  {
   "cell_type": "markdown",
   "id": "c9685e80",
   "metadata": {},
   "source": [
    "Python allows us to handle different exceptions that can occur separately. i.e. you can have different action or message for every unique exception that occurs."
   ]
  },
  {
   "cell_type": "code",
   "execution_count": 121,
   "id": "18232a38",
   "metadata": {},
   "outputs": [
    {
     "name": "stdout",
     "output_type": "stream",
     "text": [
      "Wrong data type\n"
     ]
    }
   ],
   "source": [
    "def calculate_expd1(list_of_expd):\n",
    "    total=0\n",
    "    try:\n",
    "        for expenditure in list_of_expd:\n",
    "            total+=expenditure\n",
    "        print(\"Toal: \",total)\n",
    "        avg = total/num_values\n",
    "        print(\"Average: \",avg)\n",
    "    except ZeroDivisionError:\n",
    "        print(\"Devide by zero error\")\n",
    "    except TypeError:\n",
    "        print(\"Wrong data type\")\n",
    "    except:\n",
    "        print(\"some error occurred\")\n",
    "    \n",
    "list_of_values = [100,200,300,\"400\",500]\n",
    "num_values = 0\n",
    "calculate_expd1(list_of_values)"
   ]
  },
  {
   "cell_type": "markdown",
   "id": "0c875e6f",
   "metadata": {},
   "source": [
    "* Note:\n",
    "1. Default block is the one without any type mentioned\n",
    "2. If an error occurs and the matching except block is found, then that is executed.\n",
    "3. If an error occurs and the matching except block is not found, it executes the except block.\n",
    "4. If an error occurs and the matching except block is not found and if the default except block is also not found, the code crashes.\n",
    "5. The default except block, if present should be the last except block, o.w. it will result in a runtime error."
   ]
  },
  {
   "cell_type": "markdown",
   "id": "9a1f3b32",
   "metadata": {},
   "source": [
    "#### Exception handling inside a funtion\n",
    "* If an exception occurs inside a function and if the exception is not caught inside it, then the exception is transferred to the function call. \n",
    "* We have another opportunity to catch it, if we write function call inside another try and except block "
   ]
  },
  {
   "cell_type": "code",
   "execution_count": 122,
   "id": "9161739f",
   "metadata": {},
   "outputs": [
    {
     "name": "stdout",
     "output_type": "stream",
     "text": [
      "Total:  1500\n",
      "some error occurred\n"
     ]
    }
   ],
   "source": [
    "def calculate_sum(list_of_expd):\n",
    "    total=0\n",
    "    try:\n",
    "        for expenditure in list_of_expd:\n",
    "            total+=expenditure\n",
    "        print(\"Total: \",total)\n",
    "        avg=total/no_values\n",
    "        print(\"Average:\",avg)\n",
    "    except ZeroDivisionError:\n",
    "        print(\"Divide by zero error\")\n",
    "    except TypeError:\n",
    "        print(\"Wrong data type\")\n",
    "\n",
    "try:\n",
    "    list_of_values = [100,200,300,400,500]\n",
    "    num_values = len(list_of_values)\n",
    "    calculate_sum(list_of_values)\n",
    "except TypeError:\n",
    "    print(\"Name error occurred\")\n",
    "except:\n",
    "    print(\"some error occurred\")"
   ]
  },
  {
   "cell_type": "markdown",
   "id": "5e52afa7",
   "metadata": {},
   "source": [
    "#### finally\n",
    "* Sometimes in programming we need to execute some code irrespective of whether the primary program logic itself proceed or fails to do its job. \n",
    "* In python we can achieve this using finally block. A finally block of statement is an optional part of the try-except statements. \n",
    "* A code written inside the finally block will **ALWAYS** be executed\n",
    "* finally block is majorly used to close the database connections in the programs which involves database connectivity"
   ]
  },
  {
   "cell_type": "code",
   "execution_count": 123,
   "id": "2177fa2b",
   "metadata": {},
   "outputs": [
    {
     "name": "stdout",
     "output_type": "stream",
     "text": [
      "Value error occurred\n",
      "Take the card out of the ATM\n"
     ]
    }
   ],
   "source": [
    "balance = 1000\n",
    "amount = \"3000s\"\n",
    "\n",
    "def take_card():\n",
    "    print(\"Take the card out of the ATM\")\n",
    "try:\n",
    "    if balance>=int(amount):\n",
    "        print(\"withdraw\")\n",
    "    else:\n",
    "        print(\"Invalid amount\")\n",
    "except TypeError:\n",
    "    print(\"Type error occurred\")\n",
    "except ValueError:\n",
    "    print(\"Value error occurred\")\n",
    "except:\n",
    "    print(\"Some error occurred\")\n",
    "finally:\n",
    "    take_card()"
   ]
  },
  {
   "cell_type": "markdown",
   "id": "8253bf91",
   "metadata": {},
   "source": [
    "## Usefule operators in python"
   ]
  },
  {
   "cell_type": "code",
   "execution_count": 1,
   "id": "9588aba9",
   "metadata": {},
   "outputs": [
    {
     "name": "stdout",
     "output_type": "stream",
     "text": [
      "0\n",
      "2\n",
      "4\n",
      "6\n",
      "8\n",
      "10\n"
     ]
    }
   ],
   "source": [
    "# range function\n",
    "\n",
    "for i in range(0,11,2):\n",
    "    print(i)"
   ]
  },
  {
   "cell_type": "code",
   "execution_count": 2,
   "id": "f249c072",
   "metadata": {},
   "outputs": [
    {
     "name": "stdout",
     "output_type": "stream",
     "text": [
      "(0, 'a')\n",
      "(1, 'b')\n",
      "(2, 'c')\n",
      "(3, 'd')\n",
      "(4, 'e')\n"
     ]
    }
   ],
   "source": [
    "#enumerate function - used for getting output with index\n",
    "\n",
    "for i in enumerate('abcde'):\n",
    "    print(i)"
   ]
  },
  {
   "cell_type": "code",
   "execution_count": 3,
   "id": "0cae1664",
   "metadata": {},
   "outputs": [
    {
     "name": "stdout",
     "output_type": "stream",
     "text": [
      "0\n",
      "a\n",
      "\n",
      "\n",
      "1\n",
      "b\n",
      "\n",
      "\n",
      "2\n",
      "c\n",
      "\n",
      "\n",
      "3\n",
      "d\n",
      "\n",
      "\n",
      "4\n",
      "e\n",
      "\n",
      "\n"
     ]
    }
   ],
   "source": [
    "for (index,value) in enumerate('abcde'):\n",
    "    print(index)\n",
    "    print(value)\n",
    "    print('\\n')"
   ]
  },
  {
   "cell_type": "code",
   "execution_count": 4,
   "id": "5c28b62d",
   "metadata": {},
   "outputs": [
    {
     "name": "stdout",
     "output_type": "stream",
     "text": [
      "(1, 'a')\n",
      "(2, 'b')\n",
      "(3, 'c')\n"
     ]
    }
   ],
   "source": [
    "#zip function - used to loop for two lists \n",
    "list1 = [1,2,3]\n",
    "list2 = ['a','b','c']\n",
    "\n",
    "for item in zip(list1,list2):\n",
    "    print(item)"
   ]
  },
  {
   "cell_type": "code",
   "execution_count": 5,
   "id": "cc3fe43f",
   "metadata": {},
   "outputs": [
    {
     "data": {
      "text/plain": [
       "True"
      ]
     },
     "execution_count": 5,
     "metadata": {},
     "output_type": "execute_result"
    }
   ],
   "source": [
    "#in operator - used to check value present or not\n",
    "\n",
    "x = 2\n",
    "\n",
    "x in [1,2,3]"
   ]
  },
  {
   "cell_type": "markdown",
   "id": "e8cf7510",
   "metadata": {},
   "source": [
    "#### List comprehension"
   ]
  },
  {
   "cell_type": "code",
   "execution_count": 6,
   "id": "2e06d95d",
   "metadata": {},
   "outputs": [
    {
     "name": "stdout",
     "output_type": "stream",
     "text": [
      "['w', 'o', 'r', 'd']\n"
     ]
    }
   ],
   "source": [
    "# my_list = [item/item_operation for item in object]\n",
    "\n",
    "my_list = [x for x in 'word']\n",
    "print(my_list)"
   ]
  },
  {
   "cell_type": "code",
   "execution_count": 8,
   "id": "c8c11540",
   "metadata": {},
   "outputs": [
    {
     "data": {
      "text/plain": [
       "[4, 5, 6, 8, 10, 12, 12, 15, 18]"
      ]
     },
     "execution_count": 8,
     "metadata": {},
     "output_type": "execute_result"
    }
   ],
   "source": [
    "#nested loop\n",
    "my_list = [x*y for x in [1,2,3] for y in [4,5,6]]\n",
    "my_list"
   ]
  },
  {
   "cell_type": "code",
   "execution_count": null,
   "id": "0ddb06bd",
   "metadata": {},
   "outputs": [],
   "source": []
  },
  {
   "cell_type": "code",
   "execution_count": null,
   "id": "7e91bc3f",
   "metadata": {},
   "outputs": [],
   "source": []
  },
  {
   "cell_type": "code",
   "execution_count": null,
   "id": "d5b5fd87",
   "metadata": {},
   "outputs": [],
   "source": []
  },
  {
   "cell_type": "code",
   "execution_count": null,
   "id": "8b8d0468",
   "metadata": {},
   "outputs": [],
   "source": []
  },
  {
   "cell_type": "code",
   "execution_count": null,
   "id": "6963e480",
   "metadata": {},
   "outputs": [],
   "source": []
  },
  {
   "cell_type": "code",
   "execution_count": null,
   "id": "8fb57db7",
   "metadata": {},
   "outputs": [],
   "source": []
  },
  {
   "cell_type": "code",
   "execution_count": null,
   "id": "8b3f3a42",
   "metadata": {},
   "outputs": [],
   "source": []
  },
  {
   "cell_type": "code",
   "execution_count": null,
   "id": "c4b3ca84",
   "metadata": {},
   "outputs": [],
   "source": []
  },
  {
   "cell_type": "code",
   "execution_count": null,
   "id": "d39b5ee6",
   "metadata": {},
   "outputs": [],
   "source": []
  },
  {
   "cell_type": "code",
   "execution_count": null,
   "id": "d8fd175d",
   "metadata": {},
   "outputs": [],
   "source": []
  },
  {
   "cell_type": "code",
   "execution_count": null,
   "id": "7830f32b",
   "metadata": {},
   "outputs": [],
   "source": []
  },
  {
   "cell_type": "code",
   "execution_count": null,
   "id": "571d5ec3",
   "metadata": {},
   "outputs": [],
   "source": []
  },
  {
   "cell_type": "code",
   "execution_count": null,
   "id": "519d9527",
   "metadata": {},
   "outputs": [],
   "source": []
  },
  {
   "cell_type": "code",
   "execution_count": null,
   "id": "6a167ac5",
   "metadata": {},
   "outputs": [],
   "source": []
  },
  {
   "cell_type": "code",
   "execution_count": null,
   "id": "b26e8975",
   "metadata": {},
   "outputs": [],
   "source": []
  },
  {
   "cell_type": "code",
   "execution_count": null,
   "id": "364ccc45",
   "metadata": {},
   "outputs": [],
   "source": []
  },
  {
   "cell_type": "code",
   "execution_count": null,
   "id": "f2922578",
   "metadata": {},
   "outputs": [],
   "source": []
  },
  {
   "cell_type": "code",
   "execution_count": null,
   "id": "f3f836ae",
   "metadata": {},
   "outputs": [],
   "source": []
  },
  {
   "cell_type": "code",
   "execution_count": null,
   "id": "181ad516",
   "metadata": {},
   "outputs": [],
   "source": []
  }
 ],
 "metadata": {
  "kernelspec": {
   "display_name": "Python 3 (ipykernel)",
   "language": "python",
   "name": "python3"
  },
  "language_info": {
   "codemirror_mode": {
    "name": "ipython",
    "version": 3
   },
   "file_extension": ".py",
   "mimetype": "text/x-python",
   "name": "python",
   "nbconvert_exporter": "python",
   "pygments_lexer": "ipython3",
   "version": "3.9.12"
  }
 },
 "nbformat": 4,
 "nbformat_minor": 5
}
