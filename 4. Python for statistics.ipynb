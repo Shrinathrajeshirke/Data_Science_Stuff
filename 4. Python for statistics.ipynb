{
 "cells": [
  {
   "cell_type": "markdown",
   "id": "f5494519",
   "metadata": {},
   "source": [
    "### Combination"
   ]
  },
  {
   "cell_type": "code",
   "execution_count": 1,
   "id": "84f0c12b",
   "metadata": {},
   "outputs": [
    {
     "data": {
      "text/plain": [
       "6"
      ]
     },
     "execution_count": 1,
     "metadata": {},
     "output_type": "execute_result"
    }
   ],
   "source": [
    "from scipy.special import comb\n",
    "comb(4,2,exact=True) #if exact is False, then floating point precision used, o.w. exact long integer is computed"
   ]
  },
  {
   "cell_type": "markdown",
   "id": "1a419c15",
   "metadata": {},
   "source": [
    "### Permutation\n",
    "* computed using the **product of factorial (r) and command comb (n,r)** in python (from scipy library)."
   ]
  },
  {
   "cell_type": "code",
   "execution_count": 2,
   "id": "a62f676e",
   "metadata": {},
   "outputs": [
    {
     "data": {
      "text/plain": [
       "6"
      ]
     },
     "execution_count": 2,
     "metadata": {},
     "output_type": "execute_result"
    }
   ],
   "source": [
    "import math;\n",
    "comb(3,2,exact=True)*math.factorial(2)"
   ]
  },
  {
   "cell_type": "markdown",
   "id": "cb34569d",
   "metadata": {},
   "source": [
    "## Measures of Central Tendancy\n",
    "\n",
    "### Arithmetic mean"
   ]
  },
  {
   "cell_type": "code",
   "execution_count": 3,
   "id": "77fba259",
   "metadata": {},
   "outputs": [
    {
     "name": "stdout",
     "output_type": "stream",
     "text": [
      "mean:  5\n"
     ]
    }
   ],
   "source": [
    "import statistics\n",
    "data1 = [1,2,5,6,9,7]\n",
    "mean = statistics.mean(data1)\n",
    "print(\"mean: \", mean)"
   ]
  },
  {
   "cell_type": "markdown",
   "id": "be345c78",
   "metadata": {},
   "source": [
    "### Weighted mean"
   ]
  },
  {
   "cell_type": "code",
   "execution_count": 5,
   "id": "64be264a",
   "metadata": {},
   "outputs": [
    {
     "name": "stdout",
     "output_type": "stream",
     "text": [
      "arithmetic mean:  3.0\n",
      "arithmetic mean:  3.0\n",
      "weighted mean:  56.1\n"
     ]
    }
   ],
   "source": [
    "import numpy as np\n",
    "print(\"arithmetic mean: \",np.mean([1,2,3,4,5]))\n",
    "print(\"arithmetic mean: \",np.average([1,2,3,4,5]))\n",
    "print(\"weighted mean: \",np.average([40,63], weights=[30,70]))"
   ]
  },
  {
   "cell_type": "markdown",
   "id": "d15b4095",
   "metadata": {},
   "source": [
    "### Geometric mean"
   ]
  },
  {
   "cell_type": "code",
   "execution_count": 2,
   "id": "b6d06a2b",
   "metadata": {},
   "outputs": [
    {
     "name": "stdout",
     "output_type": "stream",
     "text": [
      "1.183096\n"
     ]
    }
   ],
   "source": [
    "from scipy import stats\n",
    "print(round(stats.gmean([1.2,1.2,1.15]),6))"
   ]
  },
  {
   "cell_type": "markdown",
   "id": "dbf0fe4d",
   "metadata": {},
   "source": [
    "### Harmonic mean"
   ]
  },
  {
   "cell_type": "code",
   "execution_count": 6,
   "id": "1c636454",
   "metadata": {},
   "outputs": [
    {
     "name": "stdout",
     "output_type": "stream",
     "text": [
      "102.8571\n"
     ]
    }
   ],
   "source": [
    "from scipy import stats\n",
    "print(round(stats.hmean([80,100,150]),4))"
   ]
  },
  {
   "cell_type": "markdown",
   "id": "4fa157a3",
   "metadata": {},
   "source": [
    "### Median"
   ]
  },
  {
   "cell_type": "code",
   "execution_count": 7,
   "id": "d9251842",
   "metadata": {},
   "outputs": [
    {
     "name": "stdout",
     "output_type": "stream",
     "text": [
      "7800.0\n"
     ]
    }
   ],
   "source": [
    "print(np.median([7800,8000,7500,7300,7000,6500,90000,8000,7800]))"
   ]
  },
  {
   "cell_type": "markdown",
   "id": "a2ceee8a",
   "metadata": {},
   "source": [
    "### Mode"
   ]
  },
  {
   "cell_type": "code",
   "execution_count": 4,
   "id": "97705560",
   "metadata": {},
   "outputs": [
    {
     "name": "stdout",
     "output_type": "stream",
     "text": [
      "ModeResult(mode=array([4]), count=array([3]))\n"
     ]
    }
   ],
   "source": [
    "print(stats.mode([1,2,2,3,4,4,4]))"
   ]
  },
  {
   "cell_type": "code",
   "execution_count": 9,
   "id": "b3420871",
   "metadata": {
    "scrolled": true
   },
   "outputs": [
    {
     "name": "stdout",
     "output_type": "stream",
     "text": [
      "3\n",
      "7800\n",
      "3\n"
     ]
    }
   ],
   "source": [
    "import statistics as st\n",
    "print(st.mean([1,2,3,4,5]))\n",
    "print(st.median([7800,8000,7500,7700,7890,15000,7526]))\n",
    "print(st.mode([1,2,3,6,5,8,5,2,3,3,3]))"
   ]
  },
  {
   "cell_type": "markdown",
   "id": "17f9f69d",
   "metadata": {},
   "source": [
    "## Measures of Dispersion\n",
    "\n",
    "### Range"
   ]
  },
  {
   "cell_type": "code",
   "execution_count": 10,
   "id": "53a4cce6",
   "metadata": {},
   "outputs": [
    {
     "name": "stdout",
     "output_type": "stream",
     "text": [
      "5\n",
      "1\n",
      "range:  4\n"
     ]
    }
   ],
   "source": [
    "def getrange(numbers):\n",
    "    print(max(numbers))\n",
    "    print(min(numbers))\n",
    "    return max(numbers) - min(numbers)\n",
    "range=getrange([1,2,3,5])\n",
    "print(\"range: \",range)"
   ]
  },
  {
   "cell_type": "markdown",
   "id": "b15662ce",
   "metadata": {},
   "source": [
    "### Variance"
   ]
  },
  {
   "cell_type": "code",
   "execution_count": 11,
   "id": "e4b48d4d",
   "metadata": {},
   "outputs": [
    {
     "name": "stdout",
     "output_type": "stream",
     "text": [
      "51.5\n",
      "41.2\n"
     ]
    }
   ],
   "source": [
    "import statistics as st\n",
    "print(st.variance([5,2,17,8,18])) #sample variance of data\n",
    "print(st.pvariance([5,2,17,8,18])) #population variance of data"
   ]
  },
  {
   "cell_type": "markdown",
   "id": "60fdffa8",
   "metadata": {},
   "source": [
    "### Standard deviation"
   ]
  },
  {
   "cell_type": "code",
   "execution_count": 12,
   "id": "b3975d8f",
   "metadata": {},
   "outputs": [
    {
     "name": "stdout",
     "output_type": "stream",
     "text": [
      "7.176350047203662\n",
      "6.418722614352485\n"
     ]
    }
   ],
   "source": [
    "import statistics as st\n",
    "print(st.stdev([5,2,17,8,18])) #sample standard deviation of data\n",
    "print(st.pstdev([5,2,17,8,18])) #population standard deviation of data"
   ]
  },
  {
   "cell_type": "markdown",
   "id": "392b46d1",
   "metadata": {},
   "source": [
    "### Percentile"
   ]
  },
  {
   "cell_type": "code",
   "execution_count": 14,
   "id": "532a08f6",
   "metadata": {},
   "outputs": [
    {
     "data": {
      "text/plain": [
       "14.100000000000001"
      ]
     },
     "execution_count": 14,
     "metadata": {},
     "output_type": "execute_result"
    }
   ],
   "source": [
    "x = [8,12,4,11,15,10,8,7,4,11,6,6,8,7,4,9,16,6,14,6]\n",
    "np.percentile(x,90)"
   ]
  },
  {
   "cell_type": "markdown",
   "id": "a0790502",
   "metadata": {},
   "source": [
    "### Quantile"
   ]
  },
  {
   "cell_type": "code",
   "execution_count": 23,
   "id": "1149390c",
   "metadata": {},
   "outputs": [
    {
     "data": {
      "text/plain": [
       "array([ 6.,  8., 11.])"
      ]
     },
     "execution_count": 23,
     "metadata": {},
     "output_type": "execute_result"
    }
   ],
   "source": [
    "from scipy.stats.mstats import mquantiles\n",
    "x = [8,12,4,11,15,10,8,7,4,11,6,6,8,7,4,9,16,6,14,6]\n",
    "mquantiles(x,prob=[0.25,0.5,0.75])"
   ]
  },
  {
   "cell_type": "markdown",
   "id": "a0720f0c",
   "metadata": {},
   "source": [
    "### Interquartile range"
   ]
  },
  {
   "cell_type": "code",
   "execution_count": 25,
   "id": "997e76f8",
   "metadata": {},
   "outputs": [
    {
     "data": {
      "text/plain": [
       "5.0"
      ]
     },
     "execution_count": 25,
     "metadata": {},
     "output_type": "execute_result"
    }
   ],
   "source": [
    "from scipy.stats import iqr\n",
    "x=[8,12,4,11,15,10,8,7,4,11,6,6,8,7,4,9,16,6,14,6]\n",
    "iqr(x)"
   ]
  },
  {
   "cell_type": "markdown",
   "id": "abc03f1d",
   "metadata": {},
   "source": [
    "### Skewness"
   ]
  },
  {
   "cell_type": "code",
   "execution_count": 26,
   "id": "77857043",
   "metadata": {},
   "outputs": [
    {
     "data": {
      "text/plain": [
       "0.156161031915818"
      ]
     },
     "execution_count": 26,
     "metadata": {},
     "output_type": "execute_result"
    }
   ],
   "source": [
    "from scipy.stats import skew\n",
    "skew([11730,5461,6655,7484,10242,8547,5521,13207,7598,9421,11563,6995,10531,11525,7770])"
   ]
  },
  {
   "cell_type": "code",
   "execution_count": 28,
   "id": "11105364",
   "metadata": {},
   "outputs": [
    {
     "data": {
      "text/plain": [
       "-1.1674603005702573"
      ]
     },
     "execution_count": 28,
     "metadata": {},
     "output_type": "execute_result"
    }
   ],
   "source": [
    "from scipy.stats import kurtosis\n",
    "kurtosis([11730,5461,6655,7484,10242,8547,5521,13207,7598,9421,11563,6995,10531,11525,7770])"
   ]
  },
  {
   "cell_type": "code",
   "execution_count": null,
   "id": "affbde6e",
   "metadata": {},
   "outputs": [],
   "source": []
  }
 ],
 "metadata": {
  "kernelspec": {
   "display_name": "Python 3 (ipykernel)",
   "language": "python",
   "name": "python3"
  },
  "language_info": {
   "codemirror_mode": {
    "name": "ipython",
    "version": 3
   },
   "file_extension": ".py",
   "mimetype": "text/x-python",
   "name": "python",
   "nbconvert_exporter": "python",
   "pygments_lexer": "ipython3",
   "version": "3.9.12"
  }
 },
 "nbformat": 4,
 "nbformat_minor": 5
}
